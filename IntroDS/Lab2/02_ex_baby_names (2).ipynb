{
  "cells": [
    {
      "cell_type": "markdown",
      "metadata": {
        "id": "pv_rICLepgLB"
      },
      "source": [
        "# US Baby Name"
      ]
    },
    {
      "cell_type": "markdown",
      "metadata": {
        "id": "0VtMmm3spgLF"
      },
      "source": [
        "## GIỚI THIỆU\n",
        "Dữ Liệu `US_BaBy_Names.csv` chứa thông tin của các em bé sinh từ 2004 - 2014 tại Mỹ. Dựa vào tập dữ liệu trên, bạn hãy thực hiện các bài tập sau:"
      ]
    },
    {
      "cell_type": "markdown",
      "metadata": {
        "id": "hKIeAQT-pgLG"
      },
      "source": [
        "## TÌM HIỂU DỮ LIỆU"
      ]
    },
    {
      "cell_type": "markdown",
      "metadata": {
        "id": "KWZEN2IfpgLH"
      },
      "source": [
        "### 01. Đọc dữ liệu"
      ]
    },
    {
      "cell_type": "code",
      "execution_count": 2,
      "metadata": {
        "colab": {
          "base_uri": "https://localhost:8080/"
        },
        "id": "STnAHxCqpptn",
        "outputId": "da58e1e6-00da-4597-a095-a9efa68f95ad"
      },
      "outputs": [],
      "source": [
        "import pandas as pd\n",
        "# from google.colab import drive\n",
        "# drive.mount('/content/drive')\n",
        "data_babe = pd.read_csv(\"US_Baby_Names.csv\")"
      ]
    },
    {
      "cell_type": "markdown",
      "metadata": {
        "id": "ND5rqtXkpgLH"
      },
      "source": [
        "### 02. Hiển thị 10 dòng dữ liệu bất kỳ"
      ]
    },
    {
      "cell_type": "code",
      "execution_count": 3,
      "metadata": {
        "colab": {
          "base_uri": "https://localhost:8080/",
          "height": 363
        },
        "id": "_u5RJWG6qFqL",
        "outputId": "eb13aea1-458d-4a7b-9e0c-ca1e797941ba"
      },
      "outputs": [
        {
          "data": {
            "text/html": [
              "<div>\n",
              "<style scoped>\n",
              "    .dataframe tbody tr th:only-of-type {\n",
              "        vertical-align: middle;\n",
              "    }\n",
              "\n",
              "    .dataframe tbody tr th {\n",
              "        vertical-align: top;\n",
              "    }\n",
              "\n",
              "    .dataframe thead th {\n",
              "        text-align: right;\n",
              "    }\n",
              "</style>\n",
              "<table border=\"1\" class=\"dataframe\">\n",
              "  <thead>\n",
              "    <tr style=\"text-align: right;\">\n",
              "      <th></th>\n",
              "      <th>Unnamed: 0</th>\n",
              "      <th>Id</th>\n",
              "      <th>Name</th>\n",
              "      <th>Year</th>\n",
              "      <th>Gender</th>\n",
              "      <th>State</th>\n",
              "      <th>Count</th>\n",
              "    </tr>\n",
              "  </thead>\n",
              "  <tbody>\n",
              "    <tr>\n",
              "      <th>913292</th>\n",
              "      <td>5076896</td>\n",
              "      <td>5076897</td>\n",
              "      <td>Azel</td>\n",
              "      <td>2014</td>\n",
              "      <td>M</td>\n",
              "      <td>TX</td>\n",
              "      <td>5</td>\n",
              "    </tr>\n",
              "    <tr>\n",
              "      <th>612887</th>\n",
              "      <td>3467899</td>\n",
              "      <td>3467900</td>\n",
              "      <td>Andy</td>\n",
              "      <td>2007</td>\n",
              "      <td>M</td>\n",
              "      <td>NJ</td>\n",
              "      <td>48</td>\n",
              "    </tr>\n",
              "    <tr>\n",
              "      <th>511802</th>\n",
              "      <td>2815525</td>\n",
              "      <td>2815526</td>\n",
              "      <td>Norah</td>\n",
              "      <td>2014</td>\n",
              "      <td>F</td>\n",
              "      <td>MO</td>\n",
              "      <td>66</td>\n",
              "    </tr>\n",
              "    <tr>\n",
              "      <th>876122</th>\n",
              "      <td>4928157</td>\n",
              "      <td>4928158</td>\n",
              "      <td>Dalia</td>\n",
              "      <td>2012</td>\n",
              "      <td>F</td>\n",
              "      <td>TX</td>\n",
              "      <td>17</td>\n",
              "    </tr>\n",
              "    <tr>\n",
              "      <th>254244</th>\n",
              "      <td>1317472</td>\n",
              "      <td>1317473</td>\n",
              "      <td>Trent</td>\n",
              "      <td>2008</td>\n",
              "      <td>M</td>\n",
              "      <td>GA</td>\n",
              "      <td>26</td>\n",
              "    </tr>\n",
              "    <tr>\n",
              "      <th>657335</th>\n",
              "      <td>3733316</td>\n",
              "      <td>3733317</td>\n",
              "      <td>Jayline</td>\n",
              "      <td>2008</td>\n",
              "      <td>F</td>\n",
              "      <td>NY</td>\n",
              "      <td>8</td>\n",
              "    </tr>\n",
              "    <tr>\n",
              "      <th>521261</th>\n",
              "      <td>2871942</td>\n",
              "      <td>2871943</td>\n",
              "      <td>Izaiah</td>\n",
              "      <td>2013</td>\n",
              "      <td>M</td>\n",
              "      <td>MO</td>\n",
              "      <td>16</td>\n",
              "    </tr>\n",
              "    <tr>\n",
              "      <th>440448</th>\n",
              "      <td>2413393</td>\n",
              "      <td>2413394</td>\n",
              "      <td>Alonzo</td>\n",
              "      <td>2008</td>\n",
              "      <td>M</td>\n",
              "      <td>MD</td>\n",
              "      <td>11</td>\n",
              "    </tr>\n",
              "    <tr>\n",
              "      <th>128714</th>\n",
              "      <td>699891</td>\n",
              "      <td>699892</td>\n",
              "      <td>Rami</td>\n",
              "      <td>2011</td>\n",
              "      <td>M</td>\n",
              "      <td>CA</td>\n",
              "      <td>15</td>\n",
              "    </tr>\n",
              "    <tr>\n",
              "      <th>299838</th>\n",
              "      <td>1629625</td>\n",
              "      <td>1629626</td>\n",
              "      <td>Ivy</td>\n",
              "      <td>2007</td>\n",
              "      <td>F</td>\n",
              "      <td>IL</td>\n",
              "      <td>38</td>\n",
              "    </tr>\n",
              "  </tbody>\n",
              "</table>\n",
              "</div>"
            ],
            "text/plain": [
              "        Unnamed: 0       Id     Name  Year Gender State  Count\n",
              "913292     5076896  5076897     Azel  2014      M    TX      5\n",
              "612887     3467899  3467900     Andy  2007      M    NJ     48\n",
              "511802     2815525  2815526    Norah  2014      F    MO     66\n",
              "876122     4928157  4928158    Dalia  2012      F    TX     17\n",
              "254244     1317472  1317473    Trent  2008      M    GA     26\n",
              "657335     3733316  3733317  Jayline  2008      F    NY      8\n",
              "521261     2871942  2871943   Izaiah  2013      M    MO     16\n",
              "440448     2413393  2413394   Alonzo  2008      M    MD     11\n",
              "128714      699891   699892     Rami  2011      M    CA     15\n",
              "299838     1629625  1629626      Ivy  2007      F    IL     38"
            ]
          },
          "execution_count": 3,
          "metadata": {},
          "output_type": "execute_result"
        }
      ],
      "source": [
        "data_babe.sample(10)"
      ]
    },
    {
      "cell_type": "markdown",
      "metadata": {
        "id": "IleOv3mHpgLI"
      },
      "source": [
        "### 03. Cho biết kích thước dữ liệu"
      ]
    },
    {
      "cell_type": "code",
      "execution_count": 4,
      "metadata": {
        "colab": {
          "base_uri": "https://localhost:8080/"
        },
        "id": "LkN3jPJEqJnC",
        "outputId": "c48365d6-939d-45d6-8f11-ddad5fb40227"
      },
      "outputs": [
        {
          "data": {
            "text/plain": [
              "(1016395, 7)"
            ]
          },
          "execution_count": 4,
          "metadata": {},
          "output_type": "execute_result"
        }
      ],
      "source": [
        "data_babe.shape"
      ]
    },
    {
      "cell_type": "markdown",
      "metadata": {
        "id": "GSae5FF7pgLJ"
      },
      "source": [
        "### 04. Xóa 2 cột 'Unnamed: 0' and 'Id'"
      ]
    },
    {
      "cell_type": "code",
      "execution_count": 5,
      "metadata": {
        "id": "7-D6ZiszqzIs"
      },
      "outputs": [],
      "source": [
        "data_babe = data_babe.drop('Unnamed: 0', axis = 1 )"
      ]
    },
    {
      "cell_type": "code",
      "execution_count": 6,
      "metadata": {
        "id": "wjD00nhgs99O"
      },
      "outputs": [],
      "source": [
        "data_babe = data_babe.drop('Id', axis = 1 )"
      ]
    },
    {
      "cell_type": "code",
      "execution_count": 7,
      "metadata": {
        "colab": {
          "base_uri": "https://localhost:8080/",
          "height": 206
        },
        "id": "59HnoAVOtLEO",
        "outputId": "9ba2bb36-1659-44d5-e78a-09195661fb75"
      },
      "outputs": [
        {
          "data": {
            "text/html": [
              "<div>\n",
              "<style scoped>\n",
              "    .dataframe tbody tr th:only-of-type {\n",
              "        vertical-align: middle;\n",
              "    }\n",
              "\n",
              "    .dataframe tbody tr th {\n",
              "        vertical-align: top;\n",
              "    }\n",
              "\n",
              "    .dataframe thead th {\n",
              "        text-align: right;\n",
              "    }\n",
              "</style>\n",
              "<table border=\"1\" class=\"dataframe\">\n",
              "  <thead>\n",
              "    <tr style=\"text-align: right;\">\n",
              "      <th></th>\n",
              "      <th>Name</th>\n",
              "      <th>Year</th>\n",
              "      <th>Gender</th>\n",
              "      <th>State</th>\n",
              "      <th>Count</th>\n",
              "    </tr>\n",
              "  </thead>\n",
              "  <tbody>\n",
              "    <tr>\n",
              "      <th>0</th>\n",
              "      <td>Emma</td>\n",
              "      <td>2004</td>\n",
              "      <td>F</td>\n",
              "      <td>AK</td>\n",
              "      <td>62</td>\n",
              "    </tr>\n",
              "    <tr>\n",
              "      <th>1</th>\n",
              "      <td>Madison</td>\n",
              "      <td>2004</td>\n",
              "      <td>F</td>\n",
              "      <td>AK</td>\n",
              "      <td>48</td>\n",
              "    </tr>\n",
              "    <tr>\n",
              "      <th>2</th>\n",
              "      <td>Hannah</td>\n",
              "      <td>2004</td>\n",
              "      <td>F</td>\n",
              "      <td>AK</td>\n",
              "      <td>46</td>\n",
              "    </tr>\n",
              "    <tr>\n",
              "      <th>3</th>\n",
              "      <td>Grace</td>\n",
              "      <td>2004</td>\n",
              "      <td>F</td>\n",
              "      <td>AK</td>\n",
              "      <td>44</td>\n",
              "    </tr>\n",
              "    <tr>\n",
              "      <th>4</th>\n",
              "      <td>Emily</td>\n",
              "      <td>2004</td>\n",
              "      <td>F</td>\n",
              "      <td>AK</td>\n",
              "      <td>41</td>\n",
              "    </tr>\n",
              "  </tbody>\n",
              "</table>\n",
              "</div>"
            ],
            "text/plain": [
              "      Name  Year Gender State  Count\n",
              "0     Emma  2004      F    AK     62\n",
              "1  Madison  2004      F    AK     48\n",
              "2   Hannah  2004      F    AK     46\n",
              "3    Grace  2004      F    AK     44\n",
              "4    Emily  2004      F    AK     41"
            ]
          },
          "execution_count": 7,
          "metadata": {},
          "output_type": "execute_result"
        }
      ],
      "source": [
        "data_babe.head()"
      ]
    },
    {
      "cell_type": "markdown",
      "metadata": {
        "id": "2JRo0Gl9pgLK"
      },
      "source": [
        "### 05. Cho biết số lượng bé trai, bé gái?"
      ]
    },
    {
      "cell_type": "code",
      "execution_count": 8,
      "metadata": {
        "colab": {
          "base_uri": "https://localhost:8080/"
        },
        "id": "KS1Is8tetOnM",
        "outputId": "61e21f4f-f01a-4e91-e19d-a5f3e295c53d"
      },
      "outputs": [
        {
          "data": {
            "text/plain": [
              "558846"
            ]
          },
          "execution_count": 8,
          "metadata": {},
          "output_type": "execute_result"
        }
      ],
      "source": [
        "# So luong be gai\n",
        "data_babe[data_babe['Gender'] == 'F'].count().Name\n"
      ]
    },
    {
      "cell_type": "code",
      "execution_count": 9,
      "metadata": {
        "colab": {
          "base_uri": "https://localhost:8080/"
        },
        "id": "wNTDe4-9t7fn",
        "outputId": "adc62fa5-b7ad-43c0-aaa1-e719792a4d5f"
      },
      "outputs": [
        {
          "data": {
            "text/plain": [
              "457549"
            ]
          },
          "execution_count": 9,
          "metadata": {},
          "output_type": "execute_result"
        }
      ],
      "source": [
        "# So luong be trai\n",
        "data_babe[data_babe['Gender'] == 'M'].count().Name"
      ]
    },
    {
      "cell_type": "markdown",
      "metadata": {
        "id": "edw8SGOVpgLL"
      },
      "source": [
        "### 06. Trong bộ dữ liệu có bao nhiêu tên khác nhau?"
      ]
    },
    {
      "cell_type": "code",
      "execution_count": 10,
      "metadata": {
        "colab": {
          "base_uri": "https://localhost:8080/"
        },
        "id": "AZ7IXdHZuVxf",
        "outputId": "a980620b-f525-4ea1-a8b0-8cb1db7516f8"
      },
      "outputs": [
        {
          "data": {
            "text/plain": [
              "17632"
            ]
          },
          "execution_count": 10,
          "metadata": {},
          "output_type": "execute_result"
        }
      ],
      "source": [
        "len(data_babe.Name.drop_duplicates())"
      ]
    },
    {
      "cell_type": "markdown",
      "metadata": {
        "id": "pFqAkHw5pgLM"
      },
      "source": [
        "### 07. Tên nào xuất hiện ít nhất?"
      ]
    },
    {
      "cell_type": "code",
      "execution_count": 11,
      "metadata": {
        "colab": {
          "base_uri": "https://localhost:8080/"
        },
        "id": "SgIohq5quy4D",
        "outputId": "be470912-671e-40b0-dc76-f2cd23f320ba"
      },
      "outputs": [
        {
          "data": {
            "text/plain": [
              "Coalton      1\n",
              "Mohamadou    1\n",
              "Dominga      1\n",
              "Zailee       1\n",
              "Zailynn      1\n",
              "            ..\n",
              "Yoali        1\n",
              "Mikela       1\n",
              "Meeya        1\n",
              "Mar          1\n",
              "Moorea       1\n",
              "Name: Name, Length: 3682, dtype: int64"
            ]
          },
          "execution_count": 11,
          "metadata": {},
          "output_type": "execute_result"
        }
      ],
      "source": [
        "values_min = data_babe.Name.value_counts().sort_values(ascending=True)\n",
        "values_min[values_min == values_min[0]]"
      ]
    },
    {
      "cell_type": "markdown",
      "metadata": {
        "id": "EkAgnOwppgLM"
      },
      "source": [
        "### 08. Top 10 tên được sử dụng nhiều nhất?"
      ]
    },
    {
      "cell_type": "code",
      "execution_count": 12,
      "metadata": {
        "colab": {
          "base_uri": "https://localhost:8080/"
        },
        "id": "qH7TbiBgwxJp",
        "outputId": "ca375691-9fb6-4b3b-a1f6-a6cf3b7385db"
      },
      "outputs": [
        {
          "data": {
            "text/plain": [
              "Riley     1112\n",
              "Avery     1080\n",
              "Jordan    1073\n",
              "Peyton    1064\n",
              "Hayden    1049\n",
              "Taylor    1033\n",
              "Jayden    1031\n",
              "Alexis     984\n",
              "Payton     971\n",
              "Dakota     962\n",
              "Name: Name, dtype: int64"
            ]
          },
          "execution_count": 12,
          "metadata": {},
          "output_type": "execute_result"
        }
      ],
      "source": [
        "values_max = data_babe.Name.value_counts().sort_values(ascending=False)\n",
        "values_max[:10]"
      ]
    },
    {
      "cell_type": "markdown",
      "metadata": {
        "id": "dFyY0iZLpgLN"
      },
      "source": [
        "## TRỰC QUAN DỮ LIỆU"
      ]
    },
    {
      "cell_type": "code",
      "execution_count": 13,
      "metadata": {
        "id": "fdWw6uczxaUy"
      },
      "outputs": [],
      "source": [
        "import matplotlib.pyplot as plt"
      ]
    },
    {
      "cell_type": "markdown",
      "metadata": {
        "id": "n5f-zoxrpgLN"
      },
      "source": [
        "### 09. Vẽ đồ thị top 10 tên xuất hiện nhiều nhất năm 2014"
      ]
    },
    {
      "cell_type": "code",
      "execution_count": 14,
      "metadata": {
        "id": "ujhCR8t2xBRF"
      },
      "outputs": [],
      "source": [
        "data_top10_2014 = data_babe[data_babe['Year'] == 2014]"
      ]
    },
    {
      "cell_type": "code",
      "execution_count": 15,
      "metadata": {
        "colab": {
          "base_uri": "https://localhost:8080/",
          "height": 423
        },
        "id": "63jM_eeUyLnE",
        "outputId": "4bf5140e-3bf4-4f50-d80f-0e60a4c1fc6e"
      },
      "outputs": [
        {
          "data": {
            "text/html": [
              "<div>\n",
              "<style scoped>\n",
              "    .dataframe tbody tr th:only-of-type {\n",
              "        vertical-align: middle;\n",
              "    }\n",
              "\n",
              "    .dataframe tbody tr th {\n",
              "        vertical-align: top;\n",
              "    }\n",
              "\n",
              "    .dataframe thead th {\n",
              "        text-align: right;\n",
              "    }\n",
              "</style>\n",
              "<table border=\"1\" class=\"dataframe\">\n",
              "  <thead>\n",
              "    <tr style=\"text-align: right;\">\n",
              "      <th></th>\n",
              "      <th>Name</th>\n",
              "      <th>Year</th>\n",
              "      <th>Gender</th>\n",
              "      <th>State</th>\n",
              "      <th>Count</th>\n",
              "    </tr>\n",
              "  </thead>\n",
              "  <tbody>\n",
              "    <tr>\n",
              "      <th>2173</th>\n",
              "      <td>Emma</td>\n",
              "      <td>2014</td>\n",
              "      <td>F</td>\n",
              "      <td>AK</td>\n",
              "      <td>50</td>\n",
              "    </tr>\n",
              "    <tr>\n",
              "      <th>2174</th>\n",
              "      <td>Olivia</td>\n",
              "      <td>2014</td>\n",
              "      <td>F</td>\n",
              "      <td>AK</td>\n",
              "      <td>47</td>\n",
              "    </tr>\n",
              "    <tr>\n",
              "      <th>2175</th>\n",
              "      <td>Sophia</td>\n",
              "      <td>2014</td>\n",
              "      <td>F</td>\n",
              "      <td>AK</td>\n",
              "      <td>43</td>\n",
              "    </tr>\n",
              "    <tr>\n",
              "      <th>2176</th>\n",
              "      <td>Aurora</td>\n",
              "      <td>2014</td>\n",
              "      <td>F</td>\n",
              "      <td>AK</td>\n",
              "      <td>35</td>\n",
              "    </tr>\n",
              "    <tr>\n",
              "      <th>2177</th>\n",
              "      <td>Isabella</td>\n",
              "      <td>2014</td>\n",
              "      <td>F</td>\n",
              "      <td>AK</td>\n",
              "      <td>33</td>\n",
              "    </tr>\n",
              "    <tr>\n",
              "      <th>...</th>\n",
              "      <td>...</td>\n",
              "      <td>...</td>\n",
              "      <td>...</td>\n",
              "      <td>...</td>\n",
              "      <td>...</td>\n",
              "    </tr>\n",
              "    <tr>\n",
              "      <th>1016390</th>\n",
              "      <td>Seth</td>\n",
              "      <td>2014</td>\n",
              "      <td>M</td>\n",
              "      <td>WY</td>\n",
              "      <td>5</td>\n",
              "    </tr>\n",
              "    <tr>\n",
              "      <th>1016391</th>\n",
              "      <td>Spencer</td>\n",
              "      <td>2014</td>\n",
              "      <td>M</td>\n",
              "      <td>WY</td>\n",
              "      <td>5</td>\n",
              "    </tr>\n",
              "    <tr>\n",
              "      <th>1016392</th>\n",
              "      <td>Tyce</td>\n",
              "      <td>2014</td>\n",
              "      <td>M</td>\n",
              "      <td>WY</td>\n",
              "      <td>5</td>\n",
              "    </tr>\n",
              "    <tr>\n",
              "      <th>1016393</th>\n",
              "      <td>Victor</td>\n",
              "      <td>2014</td>\n",
              "      <td>M</td>\n",
              "      <td>WY</td>\n",
              "      <td>5</td>\n",
              "    </tr>\n",
              "    <tr>\n",
              "      <th>1016394</th>\n",
              "      <td>Waylon</td>\n",
              "      <td>2014</td>\n",
              "      <td>M</td>\n",
              "      <td>WY</td>\n",
              "      <td>5</td>\n",
              "    </tr>\n",
              "  </tbody>\n",
              "</table>\n",
              "<p>94148 rows × 5 columns</p>\n",
              "</div>"
            ],
            "text/plain": [
              "             Name  Year Gender State  Count\n",
              "2173         Emma  2014      F    AK     50\n",
              "2174       Olivia  2014      F    AK     47\n",
              "2175       Sophia  2014      F    AK     43\n",
              "2176       Aurora  2014      F    AK     35\n",
              "2177     Isabella  2014      F    AK     33\n",
              "...           ...   ...    ...   ...    ...\n",
              "1016390      Seth  2014      M    WY      5\n",
              "1016391   Spencer  2014      M    WY      5\n",
              "1016392      Tyce  2014      M    WY      5\n",
              "1016393    Victor  2014      M    WY      5\n",
              "1016394    Waylon  2014      M    WY      5\n",
              "\n",
              "[94148 rows x 5 columns]"
            ]
          },
          "execution_count": 15,
          "metadata": {},
          "output_type": "execute_result"
        }
      ],
      "source": [
        "data_top10_2014"
      ]
    },
    {
      "cell_type": "code",
      "execution_count": 81,
      "metadata": {},
      "outputs": [
        {
          "data": {
            "text/plain": [
              "Name\n",
              "Emma         20799\n",
              "Olivia       19674\n",
              "Noah         19198\n",
              "Sophia       18495\n",
              "Liam         18347\n",
              "             ...  \n",
              "Joanthony        5\n",
              "Solyana          5\n",
              "Joesph           5\n",
              "Soloman          5\n",
              "Hiyab            5\n",
              "Name: Count, Length: 9585, dtype: int64"
            ]
          },
          "execution_count": 81,
          "metadata": {},
          "output_type": "execute_result"
        }
      ],
      "source": [
        "data_top10_2014.groupby(['Name'])['Count'].sum().sort_values(ascending=False)\n",
        "# .sort_values(\"Count\", ascending=False).head(20)\n",
        "# data_top10_2014.groupby(['Name'])['Count'].sum()\n"
      ]
    },
    {
      "cell_type": "code",
      "execution_count": 92,
      "metadata": {
        "id": "b3O1sVVrx63v"
      },
      "outputs": [],
      "source": [
        "data_top10_2014_clean = data_top10_2014.groupby(['Name'])['Count'].sum().sort_values(ascending=False)[:10]"
      ]
    },
    {
      "cell_type": "code",
      "execution_count": 93,
      "metadata": {
        "colab": {
          "base_uri": "https://localhost:8080/"
        },
        "id": "nb9nS0RrzLLs",
        "outputId": "dae44d28-ff7e-4db5-823d-41c520281349"
      },
      "outputs": [
        {
          "data": {
            "text/plain": [
              "Name\n",
              "Emma        20799\n",
              "Olivia      19674\n",
              "Noah        19198\n",
              "Sophia      18495\n",
              "Liam        18347\n",
              "Mason       17117\n",
              "Isabella    16950\n",
              "Jacob       16712\n",
              "William     16687\n",
              "Ethan       15619\n",
              "Name: Count, dtype: int64"
            ]
          },
          "execution_count": 93,
          "metadata": {},
          "output_type": "execute_result"
        }
      ],
      "source": [
        "data_top10_2014_clean"
      ]
    },
    {
      "cell_type": "code",
      "execution_count": 94,
      "metadata": {
        "colab": {
          "base_uri": "https://localhost:8080/"
        },
        "id": "YdVf2Eg5yiGD",
        "outputId": "36e58bb8-2f72-4a34-b9bd-e05f5d752ab3"
      },
      "outputs": [
        {
          "data": {
            "text/plain": [
              "array([20799, 19674, 19198, 18495, 18347, 17117, 16950, 16712, 16687,\n",
              "       15619], dtype=int64)"
            ]
          },
          "execution_count": 94,
          "metadata": {},
          "output_type": "execute_result"
        }
      ],
      "source": [
        "data_top10_2014_clean.values"
      ]
    },
    {
      "cell_type": "code",
      "execution_count": 95,
      "metadata": {
        "colab": {
          "base_uri": "https://localhost:8080/",
          "height": 53
        },
        "id": "_Z-Kjk303iUb",
        "outputId": "8ba986cc-5bca-445a-e407-d078db35a902"
      },
      "outputs": [
        {
          "data": {
            "text/plain": [
              "<Figure size 2160x5760 with 0 Axes>"
            ]
          },
          "execution_count": 95,
          "metadata": {},
          "output_type": "execute_result"
        },
        {
          "data": {
            "text/plain": [
              "<Figure size 2160x5760 with 0 Axes>"
            ]
          },
          "metadata": {},
          "output_type": "display_data"
        }
      ],
      "source": [
        "plt.figure(figsize = (30, 80))\n"
      ]
    },
    {
      "cell_type": "code",
      "execution_count": 96,
      "metadata": {
        "colab": {
          "base_uri": "https://localhost:8080/",
          "height": 313
        },
        "id": "UuZaeiwRyd2C",
        "outputId": "4699c626-50ad-4594-cb8d-0b33b67fc7d2"
      },
      "outputs": [
        {
          "data": {
            "text/plain": [
              "Text(0.5, 1.0, 'So luong top 10 nguoi xuat hien nhieu nhat')"
            ]
          },
          "execution_count": 96,
          "metadata": {},
          "output_type": "execute_result"
        },
        {
          "data": {
            "image/png": "[encoded data removed]",
            "text/plain": [
              "<Figure size 432x288 with 1 Axes>"
            ]
          },
          "metadata": {
            "needs_background": "light"
          },
          "output_type": "display_data"
        }
      ],
      "source": [
        "plt.bar(data_top10_2014_clean.index,data_top10_2014_clean.values, color ='maroon' )\n",
        "plt.xlabel(\"Name\")\n",
        "plt.ylabel(\"Quantity\")\n",
        "plt.title(\"So luong top 10 nguoi xuat hien nhieu nhat\")"
      ]
    },
    {
      "cell_type": "markdown",
      "metadata": {
        "id": "XWDy51tJpgLO"
      },
      "source": [
        "### 10. Vẽ đồ thị thể hiện tỷ lệ nam nữ qua các năm 2004-2014"
      ]
    },
    {
      "cell_type": "code",
      "execution_count": 97,
      "metadata": {
        "id": "FdbtUEkRy3Ob"
      },
      "outputs": [
        {
          "data": {
            "text/plain": [
              "Year  Gender\n",
              "2004  F         1523496\n",
              "      M         1770488\n",
              "2005  F         1528165\n",
              "      M         1777150\n",
              "2006  F         1564886\n",
              "      M         1822851\n",
              "2007  F         1576648\n",
              "      M         1835769\n",
              "2008  F         1544411\n",
              "      M         1795907\n",
              "2009  F         1493172\n",
              "      M         1738944\n",
              "2010  F         1439346\n",
              "      M         1677202\n",
              "2011  F         1422539\n",
              "      M         1656606\n",
              "2012  F         1422020\n",
              "      M         1651838\n",
              "2013  F         1419351\n",
              "      M         1647092\n",
              "2014  F         1446259\n",
              "      M         1667352\n",
              "Name: Count, dtype: int64"
            ]
          },
          "execution_count": 97,
          "metadata": {},
          "output_type": "execute_result"
        }
      ],
      "source": [
        "## khoang tg\n",
        "data_rate = data_babe.groupby(['Year', 'Gender'])['Count'].sum()\n",
        "# data_rate = data_rate.reset_index(name='Count')\n",
        "data_rate"
      ]
    },
    {
      "cell_type": "markdown",
      "metadata": {
        "id": "-P5673nlAvWV"
      },
      "source": []
    },
    {
      "cell_type": "code",
      "execution_count": 98,
      "metadata": {
        "id": "NdOkYjIt5fEh"
      },
      "outputs": [],
      "source": [
        "data_rate = data_rate.reset_index()"
      ]
    },
    {
      "cell_type": "code",
      "execution_count": 117,
      "metadata": {
        "colab": {
          "base_uri": "https://localhost:8080/"
        },
        "id": "QuYonXBg8Uyl",
        "outputId": "15600e50-58c0-4844-ea68-9376bad19d99"
      },
      "outputs": [
        {
          "data": {
            "text/plain": [
              "array([1523496, 1528165, 1564886, 1576648, 1544411, 1493172, 1439346,\n",
              "       1422539, 1422020, 1419351, 1446259], dtype=int64)"
            ]
          },
          "execution_count": 117,
          "metadata": {},
          "output_type": "execute_result"
        }
      ],
      "source": [
        "data_rate[data_rate['Gender'] == 'F']['Count'].values"
      ]
    },
    {
      "cell_type": "code",
      "execution_count": 118,
      "metadata": {
        "colab": {
          "base_uri": "https://localhost:8080/",
          "height": 283
        },
        "id": "Tm8nfCFT5odx",
        "outputId": "f60196f3-96b6-4fe8-bbe0-8014aa2e1169"
      },
      "outputs": [
        {
          "name": "stderr",
          "output_type": "stream",
          "text": [
            "No artists with labels found to put in legend.  Note that artists whose label start with an underscore are ignored when legend() is called with no argument.\n"
          ]
        },
        {
          "data": {
            "text/plain": [
              "<matplotlib.legend.Legend at 0x26f5e3f25f0>"
            ]
          },
          "execution_count": 118,
          "metadata": {},
          "output_type": "execute_result"
        },
        {
          "data": {
            "image/png": "[encoded data removed]",
            "text/plain": [
              "<Figure size 432x288 with 1 Axes>"
            ]
          },
          "metadata": {
            "needs_background": "light"
          },
          "output_type": "display_data"
        }
      ],
      "source": [
        "x = list(range(2004, 2015))\n",
        "rate =  data_rate[data_rate['Gender'] == 'M']['Count'].values/data_rate[data_rate['Gender'] == 'F']['Count'].values\n",
        "# plt.plot()\n",
        "plt.plot(x, rate)\n",
        "plt.title('Bieu do ti le nam nu')\n",
        "plt.xlabel('So luong')\n",
        "plt.ylabel('Year')\n",
        "plt.legend()"
      ]
    }
  ],
  "metadata": {
    "colab": {
      "provenance": []
    },
    "kernelspec": {
      "display_name": "Python 3",
      "language": "python",
      "name": "python3"
    },
    "language_info": {
      "codemirror_mode": {
        "name": "ipython",
        "version": 3
      },
      "file_extension": ".py",
      "mimetype": "text/x-python",
      "name": "python",
      "nbconvert_exporter": "python",
      "pygments_lexer": "ipython3",
      "version": "3.10.4"
    },
    "vscode": {
      "interpreter": {
        "hash": "3bc1a11519d29b3ed6f08646f3ece60640217e649724c6bcfd38e1173c1a1bce"
      }
    }
  },
  "nbformat": 4,
  "nbformat_minor": 0
}
