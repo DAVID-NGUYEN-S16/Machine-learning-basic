{
 "cells": [
  {
   "attachments": {},
   "cell_type": "markdown",
   "id": "6cd69d89",
   "metadata": {},
   "source": [
    "### NGUYEN VAN NAM\n",
    "### 21017711"
   ]
  },
  {
   "cell_type": "markdown",
   "id": "88465fb2",
   "metadata": {},
   "source": [
    "# Bài 1\n",
    "Viết chương trình Python để lấy số lượng trận động đất mạnh hơn 4,5 độ richter được Khảo sát Địa chất Hoa Kỳ (USGS) phát hiện trên toàn thế giới theo giờ, ngày và tháng qua.\n",
    "\n",
    "Link: https://earthquake.usgs.gov/earthquakes/feed/v1.0/csv.php/summary\n",
    "\n",
    "Lưu ý: Chọn đúng link cần dùng"
   ]
  },
  {
   "cell_type": "code",
   "execution_count": 4,
   "id": "4a983871",
   "metadata": {},
   "outputs": [],
   "source": [
    "from bs4 import BeautifulSoup\n",
    "import requests\n",
    "import pandas as pd"
   ]
  },
  {
   "cell_type": "code",
   "execution_count": 44,
   "id": "d405d68e",
   "metadata": {},
   "outputs": [],
   "source": [
    "url = \"https://earthquake.usgs.gov/earthquakes/feed/v1.0/csv.php/summary\"\n",
    "response = requests.get(url)\n",
    "html = response.text\n",
    "soup = BeautifulSoup(html, 'lxml')"
   ]
  },
  {
   "cell_type": "code",
   "execution_count": 45,
   "id": "552b06fa",
   "metadata": {},
   "outputs": [
    {
     "data": {
      "text/plain": [
       "['/earthquakes/feed/v1.0/summary/4.5_hour.csv',\n",
       " '/earthquakes/feed/v1.0/summary/4.5_day.csv',\n",
       " '/earthquakes/feed/v1.0/summary/4.5_month.csv']"
      ]
     },
     "execution_count": 45,
     "metadata": {},
     "output_type": "execute_result"
    }
   ],
   "source": [
    "# Lấy tất cả các thẻ <a> có chứa href\n",
    "a_tags = soup.find_all('a', href=True)\n",
    "rows_hour = None\n",
    "rows_day = None\n",
    "rows_month = None\n",
    "\n",
    "# Lọc các href có chứa chuỗi '4.5'\n",
    "m45_links = [a['href'] for a in a_tags if '4.5' in a['href'] and 'week' not in a['href']]\n",
    "m45_links"
   ]
  },
  {
   "cell_type": "code",
   "execution_count": 53,
   "id": "879e0b00",
   "metadata": {},
   "outputs": [
    {
     "name": "stdout",
     "output_type": "stream",
     "text": [
      "Số trận động đất mạnh hơn 4,5 độ richter được USGS phát hiện trên toàn thế giới trong 1h qua là: 0\n",
      "Số trận động đất mạnh hơn 4,5 độ richter được USGS phát hiện trên toàn thế giới trong ngày qua là: 11\n",
      "Số trận động đất mạnh hơn 4,5 độ richter được USGS phát hiện trên toàn thế giới trong tháng là: 409\n"
     ]
    }
   ],
   "source": [
    "\n",
    "for path in m45_links:\n",
    "    url_sub = f\"https://earthquake.usgs.gov/{path}\"\n",
    "    # print(url_sub)\n",
    "    response_sub = requests.get(url_sub)\n",
    "    # print(len(response_sub.text))\n",
    "    with open(\"temp.csv\", \"w\", encoding=\"utf-8\") as f:\n",
    "        f.write(response_sub.content.decode())\n",
    "    df = pd.read_csv(\"temp.csv\")\n",
    "    count = df.shape[0]\n",
    "    # print(count)\n",
    "    # print(count)\n",
    "    if 'hour' in path:\n",
    "        rows_hour = count\n",
    "    if 'day' in path:\n",
    "        rows_day = count\n",
    "    if 'month' in path:\n",
    "        rows_month = count\n",
    "print(\"Số trận động đất mạnh hơn 4,5 độ richter được USGS phát hiện trên toàn thế giới trong 1h qua là:\", (rows_hour))\n",
    "print(\"Số trận động đất mạnh hơn 4,5 độ richter được USGS phát hiện trên toàn thế giới trong ngày qua là:\", (rows_day))\n",
    "print(\"Số trận động đất mạnh hơn 4,5 độ richter được USGS phát hiện trên toàn thế giới trong tháng là:\", (rows_month))\n"
   ]
  },
  {
   "cell_type": "code",
   "execution_count": 6,
   "id": "9ceb8beb",
   "metadata": {},
   "outputs": [
    {
     "name": "stdout",
     "output_type": "stream",
     "text": [
      "Số trận động đất mạnh hơn 4,5 độ richter được USGS phát hiện trên toàn thế giới trong 1h qua là: 0\n",
      "Số trận động đất mạnh hơn 4,5 độ richter được USGS phát hiện trên toàn thế giới trong ngày qua là: 11\n",
      "Số trận động đất mạnh hơn 4,5 độ richter được USGS phát hiện trên toàn thế giới trong tháng là: 409\n"
     ]
    }
   ],
   "source": [
    "import csv\n",
    "import requests\n",
    "\n",
    "earthquakes_hour = None\n",
    "rows_hour = None\n",
    "\n",
    "earthquakes_day = None\n",
    "rows_day = None\n",
    "\n",
    "earthquakes_month = None\n",
    "rows_month = None\n",
    "\n",
    "\n",
    "print(\"Số trận động đất mạnh hơn 4,5 độ richter được USGS phát hiện trên toàn thế giới trong 1h qua là:\", len(rows_hour))\n",
    "print(\"Số trận động đất mạnh hơn 4,5 độ richter được USGS phát hiện trên toàn thế giới trong ngày qua là:\", len(rows_day))\n",
    "print(\"Số trận động đất mạnh hơn 4,5 độ richter được USGS phát hiện trên toàn thế giới trong tháng là:\", len(rows_month))\n"
   ]
  },
  {
   "cell_type": "markdown",
   "id": "2ca433ff",
   "metadata": {},
   "source": [
    "# Bài 2\n",
    "\n",
    "Viết chương trình Python để trích xuất thẻ h1 từ trang wikipedia của trường.\n",
    "\n",
    "Link: https://en.wikipedia.org/wiki/Industrial_University_of_Ho_Chi_Minh_City"
   ]
  },
  {
   "cell_type": "code",
   "execution_count": 12,
   "id": "e2188a82",
   "metadata": {},
   "outputs": [
    {
     "data": {
      "text/plain": [
       "[<h1 class=\"firstHeading mw-first-heading\" id=\"firstHeading\"><span class=\"mw-page-title-main\">Industrial University of Ho Chi Minh City</span></h1>]"
      ]
     },
     "execution_count": 12,
     "metadata": {},
     "output_type": "execute_result"
    }
   ],
   "source": [
    "import requests\n",
    "from bs4 import BeautifulSoup\n",
    "\n",
    "url = 'https://en.wikipedia.org/wiki/Industrial_University_of_Ho_Chi_Minh_City'\n",
    "html = requests.get(url).content\n",
    "\n",
    "soup = BeautifulSoup(html, 'html.parser')\n",
    "h1_tags = soup.find_all('h1')\n",
    "\n",
    "h1_tags"
   ]
  },
  {
   "cell_type": "code",
   "execution_count": 7,
   "id": "3c566be5",
   "metadata": {},
   "outputs": [
    {
     "name": "stdout",
     "output_type": "stream",
     "text": [
      "<h1 class=\"firstHeading mw-first-heading\" id=\"firstHeading\"><span class=\"mw-page-title-main\">Industrial University of Ho Chi Minh City</span></h1>\n"
     ]
    }
   ],
   "source": [
    "from urllib.request import urlopen\n",
    "from bs4 import BeautifulSoup\n",
    "html = None\n",
    "bsh = None\n",
    "print(bsh.h1)"
   ]
  },
  {
   "cell_type": "markdown",
   "id": "24bad8bd",
   "metadata": {},
   "source": [
    "# Bài 3\n",
    "Viết chương trình Python để trích xuất và hiển thị tất cả các liên kết hình ảnh từ Wikipedia của trường. Đếm số lượng."
   ]
  },
  {
   "cell_type": "code",
   "execution_count": 54,
   "id": "2a1a14ee",
   "metadata": {},
   "outputs": [
    {
     "name": "stdout",
     "output_type": "stream",
     "text": [
      "/static/images/icons/wikipedia.png\n",
      "/static/images/mobile/copyright/wikipedia-wordmark-en.svg\n",
      "/static/images/mobile/copyright/wikipedia-tagline-en.svg\n",
      "//upload.wikimedia.org/wikipedia/commons/thumb/b/bf/Logo_IUH.png/220px-Logo_IUH.png\n",
      "//upload.wikimedia.org/wikipedia/commons/thumb/0/0f/University_of_Industry_School%2C_Ho_Chi_Minh_City.jpg/220px-University_of_Industry_School%2C_Ho_Chi_Minh_City.jpg\n",
      "//upload.wikimedia.org/wikipedia/commons/thumb/6/6d/The_university_main_gate_industry_Ho_Chi_Minh_City.JPG/220px-The_university_main_gate_industry_Ho_Chi_Minh_City.JPG\n",
      "//upload.wikimedia.org/wikipedia/en/thumb/8/8a/OOjs_UI_icon_edit-ltr-progressive.svg/10px-OOjs_UI_icon_edit-ltr-progressive.svg.png\n",
      "//en.wikipedia.org/wiki/Special:CentralAutoLogin/start?type=1x1\n",
      "/static/images/footer/wikimedia-button.png\n",
      "/static/images/footer/poweredby_mediawiki_88x31.png\n",
      "Có tổng cộng 10 các liên kết hình ảnh.\n"
     ]
    }
   ],
   "source": [
    "from urllib.request import urlopen\n",
    "from bs4 import BeautifulSoup\n",
    "import re\n",
    "\n",
    "html = urlopen('https://en.wikipedia.org/wiki/Industrial_University_of_Ho_Chi_Minh_City')\n",
    "bs = BeautifulSoup(html, None)\n",
    "images = bs.find_all('img')\n",
    "count = 0\n",
    "for image in images: \n",
    "    print(image['src'])\n",
    "    count+=1\n",
    "print('Có tổng cộng {} các liên kết hình ảnh.'.format(count))"
   ]
  },
  {
   "cell_type": "markdown",
   "id": "2140be64",
   "metadata": {},
   "source": [
    "# Bài 4\n",
    "\n",
    "Viết chương trình Python để kiểm tra xem một trang có chứa tiêu đề hay không."
   ]
  },
  {
   "cell_type": "code",
   "execution_count": 56,
   "id": "15fc48f3",
   "metadata": {},
   "outputs": [
    {
     "name": "stdout",
     "output_type": "stream",
     "text": [
      "Khoa Công nghệ thông tin– Trường Đại học Công nghiệp TP. Hồ Chí Minh\n",
      "Coursera | Degrees, Certificates, & Free Online Courses\n",
      "Official Manchester United Website\n"
     ]
    }
   ],
   "source": [
    "# Bài 4 Thầy sửa đề kêu lấy tittle thôi\n",
    "\n",
    "from selenium import webdriver\n",
    "from selenium.webdriver.common.keys import Keys\n",
    "from time import sleep\n",
    "from selenium.webdriver.chrome.service import Service\n",
    "from selenium.webdriver.chrome.options import Options\n",
    "from selenium.webdriver.common.by import By\n",
    "from webdriver_manager.chrome import ChromeDriverManager\n",
    "drivers = webdriver.Chrome()\n",
    "def getTitle(link):\n",
    "    sleep(2)\n",
    "    drivers.get(link)\n",
    "    tieu_de = drivers.title\n",
    "    return tieu_de\n",
    "\n",
    "\n",
    "print(getTitle(\"https://fit.iuh.edu.vn/home.html\"))\n",
    "print(getTitle(\"https://www.coursera.org/\"))\n",
    "print(getTitle(\"https://www.manutd.com/\"))"
   ]
  },
  {
   "cell_type": "code",
   "execution_count": 9,
   "id": "0750710d",
   "metadata": {},
   "outputs": [
    {
     "name": "stdout",
     "output_type": "stream",
     "text": [
      "None\n",
      "<h1 class=\"cds-119 css-i3qo6r cds-121\">Learn without limits</h1>\n",
      "<h1 class=\"screenreader\">Home Page</h1>\n"
     ]
    }
   ],
   "source": [
    "from urllib.request import urlopen\n",
    "from urllib.error import HTTPError\n",
    "from bs4 import BeautifulSoup\n",
    "def getTitle(url):\n",
    "    try:\n",
    "        html = urlopen(url)\n",
    "    except HTTPError as e:\n",
    "        return None\n",
    "    try:\n",
    "        bsObj = BeautifulSoup(None, None)\n",
    "        title = None\n",
    "    except AttributeError as e:\n",
    "        return None\n",
    "    return title\n",
    "    \n",
    "    title = getTitle(url)\n",
    "    if title == None:\n",
    "      return \"Title could not be found\"\n",
    "    else:\n",
    "      return title\n",
    "\n",
    "print(getTitle(\"https://fit.iuh.edu.vn/home.html\"))\n",
    "print(getTitle(\"https://www.coursera.org/\"))\n",
    "print(getTitle(\"https://www.manutd.com/\"))"
   ]
  },
  {
   "cell_type": "markdown",
   "id": "2b09a6cc",
   "metadata": {},
   "source": [
    "# Bài 5\n",
    "\n",
    "Viết chương trình Python để liệt kê tất cả tên ngôn ngữ và số lượng bài báo liên quan theo thứ tự chúng xuất hiện trong wikipedia.org.\n",
    "\n",
    "Link: https://www.wikipedia.org"
   ]
  },
  {
   "cell_type": "code",
   "execution_count": 58,
   "id": "a5403519",
   "metadata": {},
   "outputs": [
    {
     "name": "stdout",
     "output_type": "stream",
     "text": [
      "English\n",
      "6 638 000+ articles\n",
      "\n",
      "Русский\n",
      "1 905 000+ статей\n",
      "\n",
      "Español\n",
      "1 851 000+ artículos\n",
      "\n",
      "日本語\n",
      "1 368 000+ 記事\n",
      "\n",
      "Deutsch\n",
      "2 788 000+ Artikel\n",
      "\n",
      "Français\n",
      "2 510 000+ articles\n",
      "\n",
      "Italiano\n",
      "1 805 000+ voci\n",
      "\n",
      "中文\n",
      "1 344 000+ 条目 / 條目\n",
      "\n",
      "فارسی\n",
      "957 000+ مقاله\n",
      "\n",
      "Português\n",
      "1 103 000+ artigos\n",
      "\n"
     ]
    }
   ],
   "source": [
    "import requests\n",
    "from bs4 import BeautifulSoup\n",
    "\n",
    "url = 'https://www.wikipedia.org'\n",
    "html = requests.get(url).content\n",
    "bs = BeautifulSoup(html, 'html.parser')\n",
    "nameList = bs.find_all('div', class_='central-featured-lang')\n",
    "\n",
    "for name in nameList:\n",
    "    hoten = name.find('strong').text\n",
    "    quantity = name.find('small').text\n",
    "    print(f'{hoten}\\n{quantity}\\n')"
   ]
  },
  {
   "cell_type": "code",
   "execution_count": 10,
   "id": "73cb390e",
   "metadata": {},
   "outputs": [
    {
     "name": "stdout",
     "output_type": "stream",
     "text": [
      "\n",
      "English\n",
      "6 638 000+ articles\n",
      "\n",
      "\n",
      "Русский\n",
      "1 905 000+ статей\n",
      "\n",
      "\n",
      "Español\n",
      "1 851 000+ artículos\n",
      "\n",
      "\n",
      "日本語\n",
      "1 368 000+ 記事\n",
      "\n",
      "\n",
      "Deutsch\n",
      "2 788 000+ Artikel\n",
      "\n",
      "\n",
      "Français\n",
      "2 510 000+ articles\n",
      "\n",
      "\n",
      "Italiano\n",
      "1 805 000+ voci\n",
      "\n",
      "\n",
      "中文\n",
      "1 344 000+ 条目 / 條目\n",
      "\n",
      "\n",
      "فارسی\n",
      "957 000+ مقاله\n",
      "\n",
      "\n",
      "Português\n",
      "1 103 000+ artigos\n",
      "\n"
     ]
    }
   ],
   "source": [
    "from urllib.request import urlopen\n",
    "from bs4 import BeautifulSoup\n",
    "html = urlopen('https://www.wikipedia.org')\n",
    "bs = BeautifulSoup(html, None)\n",
    "nameList = bs.findAll(None, None)\n",
    "for name in nameList:\n",
    "  print(None)\n"
   ]
  },
  {
   "cell_type": "markdown",
   "id": "8392128e",
   "metadata": {},
   "source": [
    "# - Hết - \n",
    "\n",
    "Chúc các bạn may mắn"
   ]
  },
  {
   "cell_type": "code",
   "execution_count": null,
   "id": "60c78444",
   "metadata": {},
   "outputs": [],
   "source": []
  }
 ],
 "metadata": {
  "kernelspec": {
   "display_name": "Python 3 (ipykernel)",
   "language": "python",
   "name": "python3"
  },
  "language_info": {
   "codemirror_mode": {
    "name": "ipython",
    "version": 3
   },
   "file_extension": ".py",
   "mimetype": "text/x-python",
   "name": "python",
   "nbconvert_exporter": "python",
   "pygments_lexer": "ipython3",
   "version": "3.10.4"
  }
 },
 "nbformat": 4,
 "nbformat_minor": 5
}
