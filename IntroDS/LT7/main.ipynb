{
 "cells": [
  {
   "attachments": {},
   "cell_type": "markdown",
   "metadata": {},
   "source": [
    "# Bai 1"
   ]
  },
  {
   "cell_type": "code",
   "execution_count": 3,
   "metadata": {},
   "outputs": [],
   "source": [
    "import urllib.request\n",
    "import urllib.parse\n",
    "import requests\n",
    "from bs4 import BeautifulSoup\n",
    "import time\n",
    "import os"
   ]
  },
  {
   "cell_type": "code",
   "execution_count": 4,
   "metadata": {},
   "outputs": [
    {
     "data": {
      "text/plain": [
       "b'\\r\\n<style>\\r\\n    .box-zoom a {\\r\\n        font-size: 11px;\\r\\n        padding: 2px 5px;\\r\\n        margin-top: 15px !important;\\r\\n        width: 100%;\\r\\n    }\\r\\n\\r\\n        .box-zoom a:hover {\\r\\n            background-color: #f36a5a !important;\\r\\n            border-color: red !important;\\r\\n        }\\r\\n\\r\\n    .box-zoom i {\\r\\n        font-size: 11px !important;\\r\\n    }\\r\\n</style>\\r\\n    <div class=\"table-responsive\">\\r\\n        <table class=\"fl-table table table-bordered text-center no-footer dtr-inline\" width=\"100%\" role=\"grid\">\\r\\n            <thead>\\r\\n                <tr role=\"row\">\\r\\n                    <th>Ca h\\xe1\\xbb\\x8dc</th>\\r\\n                    <th>Th\\xe1\\xbb\\xa9 2<br>03/04/2023</th>\\r\\n                    <th>Th\\xe1\\xbb\\xa9 3<br>04/04/2023</th>\\r\\n                    <th>Th\\xe1\\xbb\\xa9 4<br>05/04/2023</th>\\r\\n                    <th>Th\\xe1\\xbb\\xa9 5<br>06/04/2023</th>\\r\\n                    <th>Th\\xe1\\xbb\\xa9 6<br>07/04/2023</th>\\r\\n                    <th>Th\\xe1\\xbb\\xa9 7<br>08/04/2023</th>\\r\\n                    <th>Ch\\xe1\\xbb\\xa7 nh\\xe1\\xba\\xadt<br>09/04/2023</th>\\r\\n                </tr>\\r\\n            </thead>\\r\\n            <tbody>\\r\\n                <tr role=\"row\">\\r\\n                    <td><b>S\\xc3\\xa1ng</b></td>\\r\\n                            <td>\\r\\n                                        <div class=\"content color-lichhoc text-left\" data-bg=\"1478429\" style=text-align:left>\\r\\n\\r\\n\\r\\n                                            <b><a href=\"/sinh-vien/page-lhp.html?g=7cxLVZITqIWNIxyjpz7yOva2-UeIoaSgUP-ptPXXd1w\" target=\"_blank\">Nh\\xe1\\xbb\\xafng v\\xe1\\xba\\xa5n \\xc4\\x91\\xe1\\xbb\\x81 x&#227; h\\xe1\\xbb\\x99i v&#224; \\xc4\\x91\\xe1\\xba\\xa1o \\xc4\\x91\\xe1\\xbb\\xa9c ngh\\xe1\\xbb\\x81 nghi\\xe1\\xbb\\x87p</a></b>\\r\\n\\r\\n                                            <p>DHHTTT17B - 420300334702</p>\\r\\n\\r\\n                                            <p>\\r\\n                                                Ti\\xe1\\xba\\xbft: 4 - 6<br />\\r\\n                                                <span> Ph\\xc3\\xb2ng: X13.02</span>\\r\\n                                            </p>\\r\\n\\r\\n\\r\\n                                            <p>GV: Ph\\xe1\\xba\\xa1m Th&#225;i Khanh</p>\\r\\n\\r\\n\\r\\n\\r\\n                                        </div>\\r\\n                            </td>\\r\\n                            <td></td>\\r\\n                            <td></td>\\r\\n                            <td></td>\\r\\n                            <td></td>\\r\\n                            <td></td>\\r\\n                            <td>\\r\\n                                        <div class=\"content color-lichhoc text-left\" data-bg=\"1610420\" style=text-align:left>\\r\\n\\r\\n\\r\\n                                            <b><a href=\"/sinh-vien/page-lhp.html?g=ky5k4Pmyf693wdzGrxkoxMNiO4qIdOFsT_exOSm4nsI\" target=\"_blank\">Ki\\xe1\\xba\\xbfn tr&#250;c h\\xc6\\xb0\\xe1\\xbb\\x9bng d\\xe1\\xbb\\x8bch v\\xe1\\xbb\\xa5 v&#224; \\xc4\\x90i\\xe1\\xbb\\x87n to&#225;n \\xc4\\x91&#225;m m&#226;y</a></b>\\r\\n\\r\\n                                            <p>DHKHDL17A - 420301410801</p>\\r\\n\\r\\n                                            <p>\\r\\n                                                Ti\\xe1\\xba\\xbft: 4 - 6<br />\\r\\n                                                <span> Ph\\xc3\\xb2ng: A1.01B</span>\\r\\n                                            </p>\\r\\n\\r\\n\\r\\n                                            <p>GV: Nguy\\xe1\\xbb\\x85n Ch&#237; Ki&#234;n</p>\\r\\n\\r\\n\\r\\n\\r\\n                                        </div>\\r\\n                            </td>\\r\\n                </tr>\\r\\n                <tr role=\"row\">\\r\\n                    <td><b>Chi\\xe1\\xbb\\x81u</b></td>\\r\\n                            <td>\\r\\n                                        <div class=\"content color-lichhoc text-left\" style=text-align:left>\\r\\n\\r\\n                                            <b><a href=\"/sinh-vien/page-lhp.html?g=ky5k4Pmyf693wdzGrxkoxNRChBWz3dJAuVQLPUn79PE\" target=\"_blank\">\\xc4\\x90\\xe1\\xba\\xa1i s\\xe1\\xbb\\x91 tuy\\xe1\\xba\\xbfn t&#237;nh t&#237;nh to&#225;n</a></b>\\r\\n\\r\\n                                            <p>DHKHDL17A - 420301406401</p>\\r\\n\\r\\n                                            <p>\\r\\n                                                Ti\\xe1\\xba\\xbft: 7 - 7<br />\\r\\n                                                <span> Ph\\xc3\\xb2ng: X12.09</span>\\r\\n                                            </p>\\r\\n\\r\\n\\r\\n                                            <p>GV: Tr\\xe1\\xbb\\x8bnh Thanh S\\xc6\\xa1n</p>\\r\\n\\r\\n\\r\\n\\r\\n                                        </div>\\r\\n                                        <div class=\"content color-lichhoc text-left\" style=text-align:left>\\r\\n\\r\\n                                            <b><a href=\"/sinh-vien/page-lhp.html?g=-PvwroS5LRFwVHJT_Y62bpqSODZa8rkWSJ0j-zOMp10\" target=\"_blank\">Ph\\xc6\\xb0\\xc6\\xa1ng ph&#225;p lu\\xe1\\xba\\xadn nghi&#234;n c\\xe1\\xbb\\xa9u khoa h\\xe1\\xbb\\x8dc</a></b>\\r\\n\\r\\n                                            <p>DHKHDL17A - 420300319873</p>\\r\\n\\r\\n                                            <p>\\r\\n                                                Ti\\xe1\\xba\\xbft: 11 - 12<br />\\r\\n                                                <span> Ph\\xc3\\xb2ng: A1.02</span>\\r\\n                                            </p>\\r\\n\\r\\n\\r\\n                                            <p>GV: V\\xc4\\x83n H\\xe1\\xbb\\x93ng Thi\\xe1\\xbb\\x87n</p>\\r\\n\\r\\n\\r\\n\\r\\n                                        </div>\\r\\n                            </td>\\r\\n                            <td></td>\\r\\n                            <td></td>\\r\\n                            <td>\\r\\n                                        <div class=\"content color-lichhoc text-left\" style=text-align:left>\\r\\n\\r\\n                                            <b><a href=\"/sinh-vien/page-lhp.html?g=ky5k4Pmyf693wdzGrxkoxFMILIj32Bnug5-kDrG1Df4\" target=\"_blank\">M\\xe1\\xba\\xa1ng m&#225;y t&#237;nh</a></b>\\r\\n\\r\\n                                            <p>DHKHDL17A - 420300105806</p>\\r\\n\\r\\n                                            <p>\\r\\n                                                Ti\\xe1\\xba\\xbft: 10 - 12<br />\\r\\n                                                <span> Ph\\xc3\\xb2ng: A4.08</span>\\r\\n                                            </p>\\r\\n\\r\\n\\r\\n                                            <p>GV: Tr\\xe1\\xba\\xa7n Th\\xe1\\xbb\\x8b Minh Khoa</p>\\r\\n\\r\\n\\r\\n\\r\\n                                        </div>\\r\\n                            </td>\\r\\n                            <td></td>\\r\\n                            <td>\\r\\n                                        <div class=\"content color-lichhoc text-left\" style=text-align:left>\\r\\n\\r\\n                                            <b><a href=\"/sinh-vien/page-lhp.html?g=ky5k4Pmyf693wdzGrxkoxNRChBWz3dJAuVQLPUn79PE\" target=\"_blank\">\\xc4\\x90\\xe1\\xba\\xa1i s\\xe1\\xbb\\x91 tuy\\xe1\\xba\\xbfn t&#237;nh t&#237;nh to&#225;n</a></b>\\r\\n\\r\\n                                            <p>DHKHDL17A - 420301406401</p>\\r\\n\\r\\n                                            <p>\\r\\n                                                Ti\\xe1\\xba\\xbft: 7 - 9<br />\\r\\n                                                <span> Ph\\xc3\\xb2ng: H7.01</span>\\r\\n                                            </p>\\r\\n\\r\\n\\r\\n                                            <p>GV: Tr\\xe1\\xbb\\x8bnh Thanh S\\xc6\\xa1n</p>\\r\\n\\r\\n\\r\\n\\r\\n                                        </div>\\r\\n                                        <div class=\"content color-lichhoc text-left\" style=text-align:left>\\r\\n\\r\\n                                            <b><a href=\"/sinh-vien/page-lhp.html?g=ky5k4Pmyf693wdzGrxkoxHRmWRXH9Co6RqWdf_2lXyU\" target=\"_blank\">X&#225;c su\\xe1\\xba\\xa5t trong Khoa h\\xe1\\xbb\\x8dc D\\xe1\\xbb\\xaf li\\xe1\\xbb\\x87u</a></b>\\r\\n\\r\\n                                            <p>DHKHDL17A - 420301406101</p>\\r\\n\\r\\n                                            <p>\\r\\n                                                Ti\\xe1\\xba\\xbft: 10 - 12<br />\\r\\n                                                <span> Ph\\xc3\\xb2ng: H4.2.2</span>\\r\\n                                            </p>\\r\\n\\r\\n\\r\\n                                            <p>GV: L&#234; Ph&#250;c L\\xe1\\xbb\\xaf</p>\\r\\n\\r\\n\\r\\n\\r\\n                                        </div>\\r\\n                            </td>\\r\\n                            <td></td>\\r\\n                </tr>\\r\\n                <tr role=\"row\">\\r\\n                    <td><b>T\\xe1\\xbb\\x91i</b></td>\\r\\n                            <td></td>\\r\\n                            <td></td>\\r\\n                            <td></td>\\r\\n                            <td></td>\\r\\n                            <td></td>\\r\\n                            <td></td>\\r\\n                            <td></td>\\r\\n                </tr>\\r\\n            </tbody>\\r\\n        </table>\\r\\n    </div>\\r\\n    <div class=\"tableGC\">\\r\\n        <ul>\\r\\n            <li>\\r\\n                <span class=\"colorSTLichHoc\"></span>L\\xe1\\xbb\\x8bch h\\xe1\\xbb\\x8dc\\r\\n            </li>\\r\\n            <li>\\r\\n                <span class=\"colorSTLichHoc\" style=\"background-color:#92d6ff;border-color: #1da1f2\"></span><label lang=\"lichtheotuan-lichhoconline\">L\\xe1\\xbb\\x8bch h\\xe1\\xbb\\x8dc tr\\xe1\\xbb\\xb1c tuy\\xe1\\xba\\xbfn</label>\\r\\n            </li>\\r\\n            <li>\\r\\n                <span class=\"colorSTLichThi\"></span>L\\xe1\\xbb\\x8bch thi\\r\\n            </li>\\r\\n            <li>\\r\\n                <span class=\"colorSTTamNgung\"></span>L\\xe1\\xbb\\x8bch t\\xe1\\xba\\xa1m ng\\xc6\\xb0ng\\r\\n            </li>\\r\\n        </ul>\\r\\n    </div>\\r\\n\\r\\n<input id=\"firstDatePrevOffWeek\" name=\"firstDatePrevOffWeek\" type=\"hidden\" value=\"27/03/2023\" />\\r\\n<input id=\"firstDateOffWeek\" name=\"firstDateOffWeek\" type=\"hidden\" value=\"03/04/2023\" />\\r\\n<input id=\"firstDateNextOffWeek\" name=\"firstDateNextOffWeek\" type=\"hidden\" value=\"10/04/2023\" />\\r\\n\\r\\n<script type=\"text/javascript\">\\r\\n    function joinZoom(e) {\\r\\n        var joinZoomUrl = $(e).attr(\\'data-joinZoomUrl\\');\\r\\n        var joinZoomUrl2 = $(e).attr(\\'data-joinZoomUrl2\\'); // using https\\r\\n        var idLichHoc = $(e).attr(\\'data-idLichHoc\\');\\r\\n\\r\\n        if (joinZoomUrl!=null && joinZoomUrl != \\'\\') {\\r\\n            $.ajax({\\r\\n                type: \"POST\",\\r\\n                url: \"/SinhVien/JoinZoomClass\",\\r\\n                data: {\\r\\n                    param: { IDLichHoc: idLichHoc}, joinUrl : joinZoomUrl\\r\\n                },\\r\\n                beforeSend: function () {\\r\\n                    loadingZoom();\\r\\n                },\\r\\n                success: function (data) {\\r\\n                    removeLoading();\\r\\n                    if (data != null && data.Code === \"00\") {\\r\\n                        if (data.IsUsingIFrame) {\\r\\n                            window.open(joinZoomUrl2, \\'_blank\\');\\r\\n                        } else {\\r\\n                            window.open(joinZoomUrl, \\'_blank\\');\\r\\n                        }\\r\\n                    } else {\\r\\n                        showPopUpMessage(data.Message);\\r\\n                    }\\r\\n                },\\r\\n                fail: function (err) {\\r\\n                    removeLoading();\\r\\n                }\\r\\n            });\\r\\n        } else {\\r\\n            showPopUpMessage(\\'Ph\\xc3\\xb2ng h\\xe1\\xbb\\x8dc ch\\xc6\\xb0a \\xc4\\x91\\xc6\\xb0\\xe1\\xbb\\xa3c kh\\xe1\\xbb\\x9fi t\\xe1\\xba\\xa1o\\');\\r\\n        }\\r\\n    }\\r\\n    function loadingZoom() {\\r\\n        var html = \\'<div id=\"loadingMask\" class=\"k-loading-mask\" style=\"width: 100%;height: 100%;top: 0px;left: 0px;z-index: 100000;display: block;background-color: #607d8b2b;\"><i class=\"fa fa-spinner fa-pulse fa-3x fa-fw\" style=\"position:absolute;top:10px;left:50%;color:#397FAE;margin-top:20%;margin-left:-45px;font-size:90px;\"></i></div>\\';\\r\\n        $(html).appendTo(document.body);\\r\\n    }\\r\\n    function removeLoading() {\\r\\n        $( \"#loadingMask\" ).remove();\\r\\n    }\\r\\n    function showPopUpMessage(message) {\\r\\n        $(\\'<div id=\"boxes\" style=\"height: inherit !important;\"><div id=\"dialog\" class=\"window\" style=\"height: inherit !important;position: fixed; width:350px; top: 50%; left: 50%; transform: translate(-50%, -50%); display: block;padding-bottom: 15px;\"><div class=\"content\"></div><div class=\"text-center\"><button onclick=\"closePopup()\" class=\"btn btn-sm btn-save\">\\xc4\\x90\\xc3\\xb3ng</button></div></div><div id=\"mask\" style=\"width: 100%; height: 100vh; display: block; opacity: 0.9;\"></div></div>\\').appendTo(document.body);\\r\\n        $(\\'#boxes .content\\').html(\\'<b>\\' + message + \\'</b>\\');\\r\\n    }\\r\\n</script>'"
      ]
     },
     "execution_count": 4,
     "metadata": {},
     "output_type": "execute_result"
    }
   ],
   "source": [
    "\n",
    "\n",
    "url = \"https://sv.iuh.edu.vn/SinhVienTraCuu/GetDanhSachLichTheoTuan\"\n",
    "\n",
    "payload = {\n",
    "    'k': 'JJKCYq3ZGwh66sI2wLLxzrYsplZE08si-6NqTXZEMTE',\n",
    "    'pNgayHienTai': '1680614547452',\n",
    "    'pLoaiLich': '0'\n",
    "}\n",
    "headers = {\n",
    "  'Accept': 'text/html, */*; q=0.01',\n",
    "  'Accept-Language': 'en-US,en;q=0.9,vi;q=0.8',\n",
    "  'Connection': 'keep-alive',\n",
    "  'Content-Type': 'application/x-www-form-urlencoded; charset=UTF-8',\n",
    "  'Cookie': 'ASP.NET_SessionId=s24w4sqrmanmpupmxwm4j0yi',\n",
    "  'Origin': 'https://sv.iuh.edu.vn',\n",
    "  'Referer': 'https://sv.iuh.edu.vn/tra-cuu/lich-hoc-theo-tuan.html?k=JJKCYq3ZGwh66sI2wLLxzrYsplZE08si-6NqTXZEMTE',\n",
    "  'Sec-Fetch-Dest': 'empty',\n",
    "  'Sec-Fetch-Mode': 'cors',\n",
    "  'Sec-Fetch-Site': 'same-origin',\n",
    "  'User-Agent': 'Mozilla/5.0 (Windows NT 10.0; Win64; x64) AppleWebKit/537.36 (KHTML, like Gecko) Chrome/111.0.0.0 Safari/537.36',\n",
    "  'X-Requested-With': 'XMLHttpRequest',\n",
    "  'sec-ch-ua': '\"Google Chrome\";v=\"111\", \"Not(A:Brand\";v=\"8\", \"Chromium\";v=\"111\"',\n",
    "  'sec-ch-ua-mobile': '?0',\n",
    "  'sec-ch-ua-platform': '\"Windows\"'\n",
    "}\n",
    "\n",
    "data = urllib.parse.urlencode(payload).encode(\"utf-8\")\n",
    "req = urllib.request.Request(url=url, data=data, headers=headers)\n",
    "response = urllib.request.urlopen(req)\n",
    "content = response.read()\n",
    "content"
   ]
  },
  {
   "cell_type": "code",
   "execution_count": 20,
   "metadata": {},
   "outputs": [],
   "source": [
    "soup = BeautifulSoup(content, 'html.parser')"
   ]
  },
  {
   "attachments": {},
   "cell_type": "markdown",
   "metadata": {},
   "source": [
    "## Set up datetime"
   ]
  },
  {
   "cell_type": "code",
   "execution_count": 30,
   "metadata": {},
   "outputs": [],
   "source": [
    "Datetime = []\n",
    "Time = []\n",
    "course = []\n",
    "classs = []"
   ]
  },
  {
   "cell_type": "code",
   "execution_count": 31,
   "metadata": {},
   "outputs": [],
   "source": [
    "import re"
   ]
  },
  {
   "cell_type": "code",
   "execution_count": 82,
   "metadata": {},
   "outputs": [
    {
     "data": {
      "text/plain": [
       "['03/04/2023',\n",
       " '04/04/2023',\n",
       " '05/04/2023',\n",
       " '06/04/2023',\n",
       " '07/04/2023',\n",
       " '08/04/2023',\n",
       " '09/04/2023']"
      ]
     },
     "execution_count": 82,
     "metadata": {},
     "output_type": "execute_result"
    }
   ],
   "source": [
    "pattern = re.compile(r'\\d{2}/\\d{2}/\\d{4}')\n",
    "Datetime = soup.find_all(string=pattern)\n",
    "Datetime"
   ]
  },
  {
   "cell_type": "code",
   "execution_count": 40,
   "metadata": {},
   "outputs": [
    {
     "data": {
      "text/plain": [
       "<tbody>\n",
       "<tr role=\"row\">\n",
       "<td><b>Sáng</b></td>\n",
       "<td>\n",
       "<div class=\"content color-lichhoc text-left\" data-bg=\"1478429\" style=\"text-align:left\">\n",
       "<b><a href=\"/sinh-vien/page-lhp.html?g=7cxLVZITqIWNIxyjpz7yOva2-UeIoaSgUP-ptPXXd1w\" target=\"_blank\">Những vấn đề xã hội và đạo đức nghề nghiệp</a></b>\n",
       "<p>DHHTTT17B - 420300334702</p>\n",
       "<p>\n",
       "                                                Tiết: 4 - 6<br>\n",
       "<span> Phòng: X13.02</span>\n",
       "</br></p>\n",
       "<p>GV: Phạm Thái Khanh</p>\n",
       "</div>\n",
       "</td>\n",
       "<td></td>\n",
       "<td></td>\n",
       "<td></td>\n",
       "<td></td>\n",
       "<td></td>\n",
       "<td>\n",
       "<div class=\"content color-lichhoc text-left\" data-bg=\"1610420\" style=\"text-align:left\">\n",
       "<b><a href=\"/sinh-vien/page-lhp.html?g=ky5k4Pmyf693wdzGrxkoxMNiO4qIdOFsT_exOSm4nsI\" target=\"_blank\">Kiến trúc hướng dịch vụ và Điện toán đám mây</a></b>\n",
       "<p>DHKHDL17A - 420301410801</p>\n",
       "<p>\n",
       "                                                Tiết: 4 - 6<br>\n",
       "<span> Phòng: A1.01B</span>\n",
       "</br></p>\n",
       "<p>GV: Nguyễn Chí Kiên</p>\n",
       "</div>\n",
       "</td>\n",
       "</tr>\n",
       "<tr role=\"row\">\n",
       "<td><b>Chiều</b></td>\n",
       "<td>\n",
       "<div class=\"content color-lichhoc text-left\" style=\"text-align:left\">\n",
       "<b><a href=\"/sinh-vien/page-lhp.html?g=ky5k4Pmyf693wdzGrxkoxNRChBWz3dJAuVQLPUn79PE\" target=\"_blank\">Đại số tuyến tính tính toán</a></b>\n",
       "<p>DHKHDL17A - 420301406401</p>\n",
       "<p>\n",
       "                                                Tiết: 7 - 7<br>\n",
       "<span> Phòng: X12.09</span>\n",
       "</br></p>\n",
       "<p>GV: Trịnh Thanh Sơn</p>\n",
       "</div>\n",
       "<div class=\"content color-lichhoc text-left\" style=\"text-align:left\">\n",
       "<b><a href=\"/sinh-vien/page-lhp.html?g=-PvwroS5LRFwVHJT_Y62bpqSODZa8rkWSJ0j-zOMp10\" target=\"_blank\">Phương pháp luận nghiên cứu khoa học</a></b>\n",
       "<p>DHKHDL17A - 420300319873</p>\n",
       "<p>\n",
       "                                                Tiết: 11 - 12<br>\n",
       "<span> Phòng: A1.02</span>\n",
       "</br></p>\n",
       "<p>GV: Văn Hồng Thiện</p>\n",
       "</div>\n",
       "</td>\n",
       "<td></td>\n",
       "<td></td>\n",
       "<td>\n",
       "<div class=\"content color-lichhoc text-left\" style=\"text-align:left\">\n",
       "<b><a href=\"/sinh-vien/page-lhp.html?g=ky5k4Pmyf693wdzGrxkoxFMILIj32Bnug5-kDrG1Df4\" target=\"_blank\">Mạng máy tính</a></b>\n",
       "<p>DHKHDL17A - 420300105806</p>\n",
       "<p>\n",
       "                                                Tiết: 10 - 12<br>\n",
       "<span> Phòng: A4.08</span>\n",
       "</br></p>\n",
       "<p>GV: Trần Thị Minh Khoa</p>\n",
       "</div>\n",
       "</td>\n",
       "<td></td>\n",
       "<td>\n",
       "<div class=\"content color-lichhoc text-left\" style=\"text-align:left\">\n",
       "<b><a href=\"/sinh-vien/page-lhp.html?g=ky5k4Pmyf693wdzGrxkoxNRChBWz3dJAuVQLPUn79PE\" target=\"_blank\">Đại số tuyến tính tính toán</a></b>\n",
       "<p>DHKHDL17A - 420301406401</p>\n",
       "<p>\n",
       "                                                Tiết: 7 - 9<br>\n",
       "<span> Phòng: H7.01</span>\n",
       "</br></p>\n",
       "<p>GV: Trịnh Thanh Sơn</p>\n",
       "</div>\n",
       "<div class=\"content color-lichhoc text-left\" style=\"text-align:left\">\n",
       "<b><a href=\"/sinh-vien/page-lhp.html?g=ky5k4Pmyf693wdzGrxkoxHRmWRXH9Co6RqWdf_2lXyU\" target=\"_blank\">Xác suất trong Khoa học Dữ liệu</a></b>\n",
       "<p>DHKHDL17A - 420301406101</p>\n",
       "<p>\n",
       "                                                Tiết: 10 - 12<br>\n",
       "<span> Phòng: H4.2.2</span>\n",
       "</br></p>\n",
       "<p>GV: Lê Phúc Lữ</p>\n",
       "</div>\n",
       "</td>\n",
       "<td></td>\n",
       "</tr>\n",
       "<tr role=\"row\">\n",
       "<td><b>Tối</b></td>\n",
       "<td></td>\n",
       "<td></td>\n",
       "<td></td>\n",
       "<td></td>\n",
       "<td></td>\n",
       "<td></td>\n",
       "<td></td>\n",
       "</tr>\n",
       "</tbody>"
      ]
     },
     "execution_count": 40,
     "metadata": {},
     "output_type": "execute_result"
    }
   ],
   "source": [
    "board_scourse = soup.find_all('tbody')[0]\n",
    "board_scourse"
   ]
  },
  {
   "cell_type": "code",
   "execution_count": 46,
   "metadata": {},
   "outputs": [],
   "source": [
    "lessons = board_scourse.find_all('tr')\n"
   ]
  },
  {
   "attachments": {},
   "cell_type": "markdown",
   "metadata": {},
   "source": [
    "+ Ngày tháng\n",
    "+ Thời gian\n",
    "+ Môn học\n",
    "+ Phòng học"
   ]
  },
  {
   "cell_type": "code",
   "execution_count": 70,
   "metadata": {},
   "outputs": [],
   "source": [
    "times = []\n",
    "courses = []\n",
    "classs = []"
   ]
  },
  {
   "cell_type": "code",
   "execution_count": 78,
   "metadata": {},
   "outputs": [],
   "source": [
    "import pandas as pd"
   ]
  },
  {
   "cell_type": "code",
   "execution_count": 79,
   "metadata": {},
   "outputs": [
    {
     "data": {
      "text/html": [
       "<div>\n",
       "<style scoped>\n",
       "    .dataframe tbody tr th:only-of-type {\n",
       "        vertical-align: middle;\n",
       "    }\n",
       "\n",
       "    .dataframe tbody tr th {\n",
       "        vertical-align: top;\n",
       "    }\n",
       "\n",
       "    .dataframe thead th {\n",
       "        text-align: right;\n",
       "    }\n",
       "</style>\n",
       "<table border=\"1\" class=\"dataframe\">\n",
       "  <thead>\n",
       "    <tr style=\"text-align: right;\">\n",
       "      <th></th>\n",
       "      <th>Môn học</th>\n",
       "      <th>Ngày tháng</th>\n",
       "      <th>Thời gian</th>\n",
       "      <th>Phòng học</th>\n",
       "    </tr>\n",
       "  </thead>\n",
       "  <tbody>\n",
       "  </tbody>\n",
       "</table>\n",
       "</div>"
      ],
      "text/plain": [
       "Empty DataFrame\n",
       "Columns: [Môn học, Ngày tháng, Thời gian, Phòng học]\n",
       "Index: []"
      ]
     },
     "execution_count": 79,
     "metadata": {},
     "output_type": "execute_result"
    }
   ],
   "source": [
    "df  = pd.DataFrame(columns=[\"Môn học\", \"Ngày tháng\", \"Thời gian\", \"Phòng học\"])\n",
    "df"
   ]
  },
  {
   "cell_type": "code",
   "execution_count": 89,
   "metadata": {},
   "outputs": [
    {
     "name": "stdout",
     "output_type": "stream",
     "text": [
      "YES\n",
      "YES\n",
      "YES\n",
      "YES\n",
      "YES\n"
     ]
    }
   ],
   "source": [
    "id = 0;\n",
    "for lesson in lessons:\n",
    "    id_day = -1\n",
    "    for study in lesson.find_all('td')[1:]:\n",
    "        id_day+=1\n",
    "        if study.text != \"\":\n",
    "            print(\"YES\")\n",
    "        for mon in study.find_all('div'):\n",
    "            class_ = (mon.find('span'))\n",
    "            course_ = (mon.find('b'))\n",
    "            p_tags = mon.find_all('p')[1]\n",
    "            pattern = r'Tiết:\\s*\\d+\\s*-\\s*\\d+'\n",
    "            time = re.search(pattern, str(p_tags)).group(0)\n",
    "            # print(class_.text, course_.text, time)\n",
    "            df.loc[id] = [course_.text, Datetime[id_day],time,  class_.text]\n",
    "            id+=1"
   ]
  },
  {
   "cell_type": "code",
   "execution_count": 90,
   "metadata": {},
   "outputs": [
    {
     "data": {
      "text/html": [
       "<div>\n",
       "<style scoped>\n",
       "    .dataframe tbody tr th:only-of-type {\n",
       "        vertical-align: middle;\n",
       "    }\n",
       "\n",
       "    .dataframe tbody tr th {\n",
       "        vertical-align: top;\n",
       "    }\n",
       "\n",
       "    .dataframe thead th {\n",
       "        text-align: right;\n",
       "    }\n",
       "</style>\n",
       "<table border=\"1\" class=\"dataframe\">\n",
       "  <thead>\n",
       "    <tr style=\"text-align: right;\">\n",
       "      <th></th>\n",
       "      <th>Môn học</th>\n",
       "      <th>Ngày tháng</th>\n",
       "      <th>Thời gian</th>\n",
       "      <th>Phòng học</th>\n",
       "    </tr>\n",
       "  </thead>\n",
       "  <tbody>\n",
       "    <tr>\n",
       "      <th>0</th>\n",
       "      <td>Những vấn đề xã hội và đạo đức nghề nghiệp</td>\n",
       "      <td>03/04/2023</td>\n",
       "      <td>Tiết: 4 - 6</td>\n",
       "      <td>Phòng: X13.02</td>\n",
       "    </tr>\n",
       "    <tr>\n",
       "      <th>1</th>\n",
       "      <td>Kiến trúc hướng dịch vụ và Điện toán đám mây</td>\n",
       "      <td>09/04/2023</td>\n",
       "      <td>Tiết: 4 - 6</td>\n",
       "      <td>Phòng: A1.01B</td>\n",
       "    </tr>\n",
       "    <tr>\n",
       "      <th>2</th>\n",
       "      <td>Đại số tuyến tính tính toán</td>\n",
       "      <td>03/04/2023</td>\n",
       "      <td>Tiết: 7 - 7</td>\n",
       "      <td>Phòng: X12.09</td>\n",
       "    </tr>\n",
       "    <tr>\n",
       "      <th>3</th>\n",
       "      <td>Phương pháp luận nghiên cứu khoa học</td>\n",
       "      <td>03/04/2023</td>\n",
       "      <td>Tiết: 11 - 12</td>\n",
       "      <td>Phòng: A1.02</td>\n",
       "    </tr>\n",
       "    <tr>\n",
       "      <th>4</th>\n",
       "      <td>Mạng máy tính</td>\n",
       "      <td>06/04/2023</td>\n",
       "      <td>Tiết: 10 - 12</td>\n",
       "      <td>Phòng: A4.08</td>\n",
       "    </tr>\n",
       "    <tr>\n",
       "      <th>5</th>\n",
       "      <td>Đại số tuyến tính tính toán</td>\n",
       "      <td>08/04/2023</td>\n",
       "      <td>Tiết: 7 - 9</td>\n",
       "      <td>Phòng: H7.01</td>\n",
       "    </tr>\n",
       "    <tr>\n",
       "      <th>6</th>\n",
       "      <td>Xác suất trong Khoa học Dữ liệu</td>\n",
       "      <td>08/04/2023</td>\n",
       "      <td>Tiết: 10 - 12</td>\n",
       "      <td>Phòng: H4.2.2</td>\n",
       "    </tr>\n",
       "  </tbody>\n",
       "</table>\n",
       "</div>"
      ],
      "text/plain": [
       "                                        Môn học  Ngày tháng      Thời gian   \n",
       "0    Những vấn đề xã hội và đạo đức nghề nghiệp  03/04/2023    Tiết: 4 - 6  \\\n",
       "1  Kiến trúc hướng dịch vụ và Điện toán đám mây  09/04/2023    Tiết: 4 - 6   \n",
       "2                   Đại số tuyến tính tính toán  03/04/2023    Tiết: 7 - 7   \n",
       "3          Phương pháp luận nghiên cứu khoa học  03/04/2023  Tiết: 11 - 12   \n",
       "4                                 Mạng máy tính  06/04/2023  Tiết: 10 - 12   \n",
       "5                   Đại số tuyến tính tính toán  08/04/2023    Tiết: 7 - 9   \n",
       "6               Xác suất trong Khoa học Dữ liệu  08/04/2023  Tiết: 10 - 12   \n",
       "\n",
       "        Phòng học  \n",
       "0   Phòng: X13.02  \n",
       "1   Phòng: A1.01B  \n",
       "2   Phòng: X12.09  \n",
       "3    Phòng: A1.02  \n",
       "4    Phòng: A4.08  \n",
       "5    Phòng: H7.01  \n",
       "6   Phòng: H4.2.2  "
      ]
     },
     "execution_count": 90,
     "metadata": {},
     "output_type": "execute_result"
    }
   ],
   "source": [
    "df"
   ]
  },
  {
   "cell_type": "code",
   "execution_count": 91,
   "metadata": {},
   "outputs": [],
   "source": [
    "df.to_csv('TKB.txt')"
   ]
  },
  {
   "cell_type": "code",
   "execution_count": null,
   "metadata": {},
   "outputs": [],
   "source": []
  },
  {
   "attachments": {},
   "cell_type": "markdown",
   "metadata": {},
   "source": [
    "# Bai 2"
   ]
  },
  {
   "cell_type": "code",
   "execution_count": 108,
   "metadata": {},
   "outputs": [],
   "source": [
    "from selenium.webdriver.common.by import By\n",
    "from selenium import webdriver\n",
    "\n",
    "# Khởi tạo trình duyệt\n",
    "driver = webdriver.Chrome()\n",
    "\n",
    "# Mở trang web\n",
    "driver.get('https://sv.iuh.edu.vn/tra-cuu/lich-hoc-theo-tuan.html?k=JJKCYq3ZGwh66sI2wLLxzrYsplZE08si-6NqTXZEMTE')\n"
   ]
  },
  {
   "cell_type": "code",
   "execution_count": 109,
   "metadata": {},
   "outputs": [],
   "source": [
    "datetimes = []\n",
    "Time = []\n",
    "course = []\n",
    "classs = []"
   ]
  },
  {
   "cell_type": "code",
   "execution_count": 117,
   "metadata": {},
   "outputs": [
    {
     "data": {
      "text/plain": [
       "['03/04/2023',\n",
       " '04/04/2023',\n",
       " '05/04/2023',\n",
       " '06/04/2023',\n",
       " '07/04/2023',\n",
       " '08/04/2023',\n",
       " '09/04/2023']"
      ]
     },
     "execution_count": 117,
     "metadata": {},
     "output_type": "execute_result"
    }
   ],
   "source": [
    "time = driver.find_elements(By.XPATH, \"//*[@id='viewLichTheoTuan']/div[1]/table/thead/tr/th\")[1:]\n",
    "datetimes = [i.text.split('\\n')[1] for i in time]\n",
    "datetimes"
   ]
  },
  {
   "cell_type": "code",
   "execution_count": 111,
   "metadata": {},
   "outputs": [
    {
     "data": {
      "text/html": [
       "<div>\n",
       "<style scoped>\n",
       "    .dataframe tbody tr th:only-of-type {\n",
       "        vertical-align: middle;\n",
       "    }\n",
       "\n",
       "    .dataframe tbody tr th {\n",
       "        vertical-align: top;\n",
       "    }\n",
       "\n",
       "    .dataframe thead th {\n",
       "        text-align: right;\n",
       "    }\n",
       "</style>\n",
       "<table border=\"1\" class=\"dataframe\">\n",
       "  <thead>\n",
       "    <tr style=\"text-align: right;\">\n",
       "      <th></th>\n",
       "      <th>Môn học</th>\n",
       "      <th>Ngày tháng</th>\n",
       "      <th>Thời gian</th>\n",
       "      <th>Phòng học</th>\n",
       "    </tr>\n",
       "  </thead>\n",
       "  <tbody>\n",
       "  </tbody>\n",
       "</table>\n",
       "</div>"
      ],
      "text/plain": [
       "Empty DataFrame\n",
       "Columns: [Môn học, Ngày tháng, Thời gian, Phòng học]\n",
       "Index: []"
      ]
     },
     "execution_count": 111,
     "metadata": {},
     "output_type": "execute_result"
    }
   ],
   "source": [
    "df_sl  = pd.DataFrame(columns=[\"Môn học\", \"Ngày tháng\", \"Thời gian\", \"Phòng học\"])\n",
    "df_sl"
   ]
  },
  {
   "cell_type": "code",
   "execution_count": 112,
   "metadata": {},
   "outputs": [],
   "source": [
    "# id = 0;\n",
    "# for lesson in driver.find_elements(By.XPATH, \"//*[@id='viewLichTheoTuan']/div[1]/table/tbody/tr\"):\n",
    "#     id_day = -1\n",
    "#     b = 0\n",
    "#     for study in lesson.find_all('td')[1:]:\n",
    "#         id_day+=1\n",
    "#         if study.text != \"\":\n",
    "#             print(\"YES\")\n",
    "#         for mon in study.find_all('div'):\n",
    "#             class_ = (mon.find('span'))\n",
    "#             course_ = (mon.find('b'))\n",
    "#             p_tags = mon.find_all('p')[1]\n",
    "#             pattern = r'Tiết:\\s*\\d+\\s*-\\s*\\d+'\n",
    "#             time = re.search(pattern, str(p_tags)).group(0)\n",
    "#             # print(class_.text, course_.text, time)\n",
    "#             df.loc[id] = [course_.text, Datetime[id_day],time,  class_.text]\n",
    "#             id+=1"
   ]
  },
  {
   "cell_type": "code",
   "execution_count": 121,
   "metadata": {},
   "outputs": [
    {
     "name": "stdout",
     "output_type": "stream",
     "text": [
      "0\n",
      "6\n",
      "0\n",
      "0\n",
      "3\n",
      "5\n",
      "5\n"
     ]
    }
   ],
   "source": [
    "id = 0\n",
    "for lesson in driver.find_elements(By.XPATH, \"//*[@id='viewLichTheoTuan']/div[1]/table/tbody/tr\"):\n",
    "    id_day = -1\n",
    "    b = 0\n",
    "    for study in lesson.find_elements(By.TAG_NAME, 'td')[1:]:\n",
    "        id_day += 1\n",
    "        if study.text != \"\":\n",
    "            # print(\"YES\")\n",
    "            for mon in study.find_elements(By.TAG_NAME, 'div'):\n",
    "                class_ = mon.find_element(By.TAG_NAME, 'span')\n",
    "                course_ = mon.find_element(By.TAG_NAME, 'b')\n",
    "                p_tags = mon.find_elements(By.TAG_NAME, 'p')[1]\n",
    "                pattern = r'Tiết:\\s*\\d+\\s*-\\s*\\d+'\n",
    "                time = re.search(pattern, p_tags.get_attribute('textContent')).group(0)\n",
    "                # print(class_.get_attribute('textContent'), course_.get_attribute('textContent'), time)\n",
    "                # print(Datetime[id_day])\n",
    "                print(id_day)\n",
    "                df_sl.loc[id] = [course_.get_attribute('textContent'), datetimes[id_day], time, class_.get_attribute('textContent')]\n",
    "                id += 1\n",
    "\n",
    "# driver.quit()"
   ]
  },
  {
   "cell_type": "code",
   "execution_count": 122,
   "metadata": {},
   "outputs": [
    {
     "data": {
      "text/html": [
       "<div>\n",
       "<style scoped>\n",
       "    .dataframe tbody tr th:only-of-type {\n",
       "        vertical-align: middle;\n",
       "    }\n",
       "\n",
       "    .dataframe tbody tr th {\n",
       "        vertical-align: top;\n",
       "    }\n",
       "\n",
       "    .dataframe thead th {\n",
       "        text-align: right;\n",
       "    }\n",
       "</style>\n",
       "<table border=\"1\" class=\"dataframe\">\n",
       "  <thead>\n",
       "    <tr style=\"text-align: right;\">\n",
       "      <th></th>\n",
       "      <th>Môn học</th>\n",
       "      <th>Ngày tháng</th>\n",
       "      <th>Thời gian</th>\n",
       "      <th>Phòng học</th>\n",
       "    </tr>\n",
       "  </thead>\n",
       "  <tbody>\n",
       "    <tr>\n",
       "      <th>0</th>\n",
       "      <td>Những vấn đề xã hội và đạo đức nghề nghiệp</td>\n",
       "      <td>03/04/2023</td>\n",
       "      <td>Tiết: 4 - 6</td>\n",
       "      <td>Phòng: X13.02</td>\n",
       "    </tr>\n",
       "    <tr>\n",
       "      <th>1</th>\n",
       "      <td>Kiến trúc hướng dịch vụ và Điện toán đám mây</td>\n",
       "      <td>09/04/2023</td>\n",
       "      <td>Tiết: 4 - 6</td>\n",
       "      <td>Phòng: A1.01B</td>\n",
       "    </tr>\n",
       "    <tr>\n",
       "      <th>2</th>\n",
       "      <td>Đại số tuyến tính tính toán</td>\n",
       "      <td>03/04/2023</td>\n",
       "      <td>Tiết: 7 - 7</td>\n",
       "      <td>Phòng: X12.09</td>\n",
       "    </tr>\n",
       "    <tr>\n",
       "      <th>3</th>\n",
       "      <td>Phương pháp luận nghiên cứu khoa học</td>\n",
       "      <td>03/04/2023</td>\n",
       "      <td>Tiết: 11 - 12</td>\n",
       "      <td>Phòng: A1.02</td>\n",
       "    </tr>\n",
       "    <tr>\n",
       "      <th>4</th>\n",
       "      <td>Mạng máy tính</td>\n",
       "      <td>06/04/2023</td>\n",
       "      <td>Tiết: 10 - 12</td>\n",
       "      <td>Phòng: A4.08</td>\n",
       "    </tr>\n",
       "    <tr>\n",
       "      <th>5</th>\n",
       "      <td>Đại số tuyến tính tính toán</td>\n",
       "      <td>08/04/2023</td>\n",
       "      <td>Tiết: 7 - 9</td>\n",
       "      <td>Phòng: H7.01</td>\n",
       "    </tr>\n",
       "    <tr>\n",
       "      <th>6</th>\n",
       "      <td>Xác suất trong Khoa học Dữ liệu</td>\n",
       "      <td>08/04/2023</td>\n",
       "      <td>Tiết: 10 - 12</td>\n",
       "      <td>Phòng: H4.2.2</td>\n",
       "    </tr>\n",
       "  </tbody>\n",
       "</table>\n",
       "</div>"
      ],
      "text/plain": [
       "                                        Môn học  Ngày tháng      Thời gian   \n",
       "0    Những vấn đề xã hội và đạo đức nghề nghiệp  03/04/2023    Tiết: 4 - 6  \\\n",
       "1  Kiến trúc hướng dịch vụ và Điện toán đám mây  09/04/2023    Tiết: 4 - 6   \n",
       "2                   Đại số tuyến tính tính toán  03/04/2023    Tiết: 7 - 7   \n",
       "3          Phương pháp luận nghiên cứu khoa học  03/04/2023  Tiết: 11 - 12   \n",
       "4                                 Mạng máy tính  06/04/2023  Tiết: 10 - 12   \n",
       "5                   Đại số tuyến tính tính toán  08/04/2023    Tiết: 7 - 9   \n",
       "6               Xác suất trong Khoa học Dữ liệu  08/04/2023  Tiết: 10 - 12   \n",
       "\n",
       "        Phòng học  \n",
       "0   Phòng: X13.02  \n",
       "1   Phòng: A1.01B  \n",
       "2   Phòng: X12.09  \n",
       "3    Phòng: A1.02  \n",
       "4    Phòng: A4.08  \n",
       "5    Phòng: H7.01  \n",
       "6   Phòng: H4.2.2  "
      ]
     },
     "execution_count": 122,
     "metadata": {},
     "output_type": "execute_result"
    }
   ],
   "source": [
    "df_sl"
   ]
  },
  {
   "cell_type": "code",
   "execution_count": null,
   "metadata": {},
   "outputs": [],
   "source": []
  }
 ],
 "metadata": {
  "kernelspec": {
   "display_name": "Python 3",
   "language": "python",
   "name": "python3"
  },
  "language_info": {
   "codemirror_mode": {
    "name": "ipython",
    "version": 3
   },
   "file_extension": ".py",
   "mimetype": "text/x-python",
   "name": "python",
   "nbconvert_exporter": "python",
   "pygments_lexer": "ipython3",
   "version": "3.10.4"
  },
  "orig_nbformat": 4
 },
 "nbformat": 4,
 "nbformat_minor": 2
}
