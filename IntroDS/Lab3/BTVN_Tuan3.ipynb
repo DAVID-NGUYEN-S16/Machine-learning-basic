{
  "cells": [
    {
      "attachments": {},
      "cell_type": "markdown",
      "metadata": {},
      "source": [
        "+ Nguyen Van Nam\n",
        "+ 21017711"
      ]
    },
    {
      "cell_type": "markdown",
      "metadata": {
        "id": "JVUwIkj6rfbm"
      },
      "source": [
        "**Bài 1:** Viết một hàm 'check_num' kiểm tra 1 chuỗi ký tự có số hay không?. Nếu không, thêm '123' vào đuôi.\n",
        "\n",
        "    check_num('Nam Luu') ---> 'Nam Luu123'\n",
        "\n",
        "    check_num('CR7') ---> 'CR7'\n"
      ]
    },
    {
      "cell_type": "code",
      "execution_count": 8,
      "metadata": {
        "id": "oPfyAjpZrc38"
      },
      "outputs": [
        {
          "name": "stdout",
          "output_type": "stream",
          "text": [
            "Nam Luu123\n",
            "CR7\n"
          ]
        }
      ],
      "source": [
        "# CODE Ở ĐÂY\n",
        "import re\n",
        "def check_num(s):\n",
        "    if re.search(r'\\d', s):\n",
        "        return s\n",
        "    return s+'123'\n",
        "print(check_num('Nam Luu'))\n",
        "print(check_num('CR7'))"
      ]
    },
    {
      "cell_type": "markdown",
      "metadata": {
        "id": "4em4lFFXs03M"
      },
      "source": [
        "**Bài 2:** Cho một hợp chất hóa học (ví dụ: C6F5COOH). Viết hàm 'tach_phan_tu' chiết xuất và đếm số lượng phân tử cho từng nguyên tố đơn trong hợp chất.\n",
        "\n",
        "    tach_phan_tu('C6F5COOH') ---> {'C': 7, 'F': 5, 'H': 1, 'O': 2}\n",
        "    tach_phan_tu('C6H11NO2') ---> {'C': 6, 'H': 11, 'N': 1, 'O': 2}\n",
        "    tach_phan_tu('CH3CH2CH2CH2OH') ---> {'C': 4, 'H': 10, 'O': 1}\n",
        "    tach_phan_tu('AlGaInP') ---> {'Al': 1, 'Ga': 1, 'In': 1, 'P': 1}\n",
        "    tach_phan_tu('Al3F14Na5') ---> {'Al': 3, 'F': 14, 'Na': 5}\n"
      ]
    },
    {
      "cell_type": "code",
      "execution_count": 75,
      "metadata": {},
      "outputs": [
        {
          "name": "stdout",
          "output_type": "stream",
          "text": [
            "{'C': 7, 'F': 5, 'O': 2, 'H': 1}\n",
            "{'C': 6, 'H': 11, 'N': 1, 'O': 2}\n",
            "{'C': 4, 'H': 10, 'O': 1}\n",
            "{'Al': 1, 'Ga': 1, 'In': 1, 'P': 1}\n",
            "{'Al': 3, 'F': 14, 'Na': 5}\n"
          ]
        }
      ],
      "source": [
        "def tach_phan_tu(s):\n",
        "    s = re.findall(r'[A-Z]{1}[a-z0-9]*', s)\n",
        "    dic = {}\n",
        "    for st in s:\n",
        "        ls = re.findall(r'[0-9]*[0-9]\\b', st)\n",
        "        if len(ls) >= 1:\n",
        "            key = re.findall(f'^[A-Z][A-Za-z]*', st)\n",
        "            if dic.get(key[0]) == None : \n",
        "                dic.update({key[0]:int(ls[0])})\n",
        "            else : dic[key[0]]+=int(ls[0])\n",
        "        else :\n",
        "            # dic.update({st:1})\n",
        "            if dic.get(st) == None : dic.update({st:1})\n",
        "            else : dic[st]+=1\n",
        "    return dic\n",
        "\n",
        "print( tach_phan_tu('C6F5COOH') )\n",
        "print( tach_phan_tu('C6H11NO2') )\n",
        "print( tach_phan_tu('CH3CH2CH2CH2OH') )\n",
        "print( tach_phan_tu('AlGaInP') )\n",
        "print( tach_phan_tu('Al3F14Na5') )\n",
        "\n",
        "\n"
      ]
    },
    {
      "cell_type": "code",
      "execution_count": null,
      "metadata": {},
      "outputs": [],
      "source": [
        "# [1, 2, 3, 5]\n",
        "# 0 1 2 3 4\n",
        "# arr[0]'\n",
        "dc = {}\n",
        "dc.update({\"8\": 0})\n",
        "# print(dc['8'])\n",
        "\n",
        "dc[\"nsbvs\"] = 0\n",
        "dc['nsbvs']+=10\n",
        "# print(dc)\n",
        "dc.get('ss')\n"
      ]
    },
    {
      "cell_type": "code",
      "execution_count": null,
      "metadata": {},
      "outputs": [],
      "source": []
    }
  ],
  "metadata": {
    "colab": {
      "provenance": []
    },
    "kernelspec": {
      "display_name": "Python 3",
      "language": "python",
      "name": "python3"
    },
    "language_info": {
      "codemirror_mode": {
        "name": "ipython",
        "version": 3
      },
      "file_extension": ".py",
      "mimetype": "text/x-python",
      "name": "python",
      "nbconvert_exporter": "python",
      "pygments_lexer": "ipython3",
      "version": "3.10.4"
    },
    "vscode": {
      "interpreter": {
        "hash": "3bc1a11519d29b3ed6f08646f3ece60640217e649724c6bcfd38e1173c1a1bce"
      }
    }
  },
  "nbformat": 4,
  "nbformat_minor": 0
}
