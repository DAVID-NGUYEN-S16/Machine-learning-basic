{
  "cells": [
    {
      "cell_type": "markdown",
      "metadata": {
        "id": "NcGPGVc59-gh"
      },
      "source": [
        "# **Bài tập Regex**\n",
        "\n",
        "### Yêu cầu: Phải dùng Regex"
      ]
    },
    {
      "cell_type": "markdown",
      "metadata": {
        "id": "JVUwIkj6rfbm"
      },
      "source": [
        "**Bài 1:** Viết một hàm 'check_num' kiểm tra 1 chuỗi ký tự có số hay không?. Nếu không, thêm '123' vào đuôi.\n",
        "\n",
        "    check_num('Nam Luu') ---> 'Nam Luu123'\n",
        "\n",
        "    check_num('CR7') ---> 'CR7'\n"
      ]
    },
    {
      "cell_type": "code",
      "execution_count": 1,
      "metadata": {
        "id": "oPfyAjpZrc38"
      },
      "outputs": [
        {
          "name": "stdout",
          "output_type": "stream",
          "text": [
            "Nam Luu123\n",
            "CR7\n"
          ]
        }
      ],
      "source": [
        "# CODE Ở ĐÂY\n",
        "\n",
        "# CODE Ở ĐÂY\n",
        "import re\n",
        "def check_num(s):\n",
        "    if re.search(r'\\d', s):\n",
        "        return s\n",
        "    return s+'123'\n",
        "print(check_num('Nam Luu'))\n",
        "print(check_num('CR7'))"
      ]
    },
    {
      "cell_type": "markdown",
      "metadata": {
        "id": "4em4lFFXs03M"
      },
      "source": [
        "**Bài 2:** Cho một hợp chất hóa học (ví dụ: C6F5COOH). Viết hàm 'tach_phan_tu' chiết xuất và đếm số lượng phân tử cho từng nguyên tố đơn trong hợp chất.\n",
        "\n",
        "    tach_phan_tu('C6F5COOH') ---> {'C': 7, 'F': 5, 'H': 1, 'O': 2}\n",
        "    tach_phan_tu('C6H11NO2') ---> {'C': 6, 'H': 11, 'N': 1, 'O': 2}\n",
        "    tach_phan_tu('CH3CH2CH2CH2OH') ---> {'C': 4, 'H': 10, 'O': 1}\n",
        "    tach_phan_tu('AlGaInP') ---> {'Al': 1, 'Ga': 1, 'In': 1, 'P': 1}\n",
        "    tach_phan_tu('Al3F14Na5') ---> {'Al': 3, 'F': 14, 'Na': 5}\n"
      ]
    },
    {
      "cell_type": "code",
      "execution_count": 2,
      "metadata": {
        "id": "Yak7NTlD7Bgq"
      },
      "outputs": [
        {
          "name": "stdout",
          "output_type": "stream",
          "text": [
            "{'C': 7, 'F': 5, 'O': 2, 'H': 1}\n",
            "{'C': 6, 'H': 11, 'N': 1, 'O': 2}\n",
            "{'C': 4, 'H': 10, 'O': 1}\n",
            "{'Al': 1, 'Ga': 1, 'In': 1, 'P': 1}\n",
            "{'Al': 3, 'F': 14, 'Na': 5}\n"
          ]
        }
      ],
      "source": [
        "# CODE Ở ĐÂY\n",
        "def tach_phan_tu(s):\n",
        "    s = re.findall(r'[A-Z]{1}[a-z0-9]*', s)\n",
        "    dic = {}\n",
        "    for st in s:\n",
        "        ls = re.findall(r'[0-9]*[0-9]\\b', st)\n",
        "        if len(ls) >= 1:\n",
        "            key = re.findall(f'^[A-Z][A-Za-z]*', st)\n",
        "            if dic.get(key[0]) == None : \n",
        "                dic.update({key[0]:int(ls[0])})\n",
        "            else : dic[key[0]]+=int(ls[0])\n",
        "        else :\n",
        "            # dic.update({st:1})\n",
        "            if dic.get(st) == None : dic.update({st:1})\n",
        "            else : dic[st]+=1\n",
        "    return dic\n",
        "\n",
        "print( tach_phan_tu('C6F5COOH') )\n",
        "print( tach_phan_tu('C6H11NO2') )\n",
        "print( tach_phan_tu('CH3CH2CH2CH2OH') )\n",
        "print( tach_phan_tu('AlGaInP') )\n",
        "print( tach_phan_tu('Al3F14Na5') )\n",
        "\n",
        "\n"
      ]
    },
    {
      "cell_type": "markdown",
      "metadata": {
        "id": "zraacraz4bZM"
      },
      "source": [
        "**Bài 3:** Từ một list, chỉ giữ lại những phần tử bắt đầu bằng một số hoặc một chữ cái sau dấu '>'.\n",
        "\n",
        "    [<#$#$$, '<**&&^^', '>Slovenia', '>Belgium', '>Spain', '>Kazakhstan', '>[15]', '>1964'] ---> ['>Slovenia', '>Belgium', '>Spain', '>Kazakhstan', '>1964'] \n"
      ]
    },
    {
      "cell_type": "code",
      "execution_count": 19,
      "metadata": {
        "id": "x5EVPPQF4b7s"
      },
      "outputs": [
        {
          "data": {
            "text/plain": [
              "['>Slovenia', '>Belgium', '>Spain', '>Kazakhstan', '>1964']"
            ]
          },
          "execution_count": 19,
          "metadata": {},
          "output_type": "execute_result"
        }
      ],
      "source": [
        "# CODE Ở ĐÂY\n",
        "ls = ['<#$#$$', '<**&&^^', '>Slovenia', '>Belgium', '>Spain', '>Kazakhstan', '>[15]', '>1964']\n",
        "[s for s in ls if re.findall(r'^>[a-zA-Z0-9]{1}', s)]\n",
        "     "
      ]
    },
    {
      "cell_type": "markdown",
      "metadata": {
        "id": "ebIIhX4h32A1"
      },
      "source": [
        "**Bài 4:** Viết một hàm để trích xuất toàn bộ địa chỉ email trong một đoạn/câu văn.\n",
        "\n",
        "    'The advancements in biomarine studies franky@google.com with the investments necessary and Davos sinatra123@yahoo.com Then The New Yorker article on wind farms...' ---> ['franky@google.com', 'sinatra123@yahoo.com']\n",
        "\n"
      ]
    },
    {
      "cell_type": "code",
      "execution_count": 45,
      "metadata": {
        "id": "rv_RoxJHs0mk"
      },
      "outputs": [
        {
          "data": {
            "text/plain": [
              "['franky@google.com', 'sinatra123@yahoo.com']"
            ]
          },
          "execution_count": 45,
          "metadata": {},
          "output_type": "execute_result"
        }
      ],
      "source": [
        "# CODE Ở ĐÂY\n",
        "s = 'The advancements in biomarine studies franky@google.com with the investments necessary and Davos sinatra123@yahoo.com Then The New Yorker article on wind farms...'\n",
        "re.findall(r'\\b[a-zA-Z0-9._-]+@[a-zA-Z0-9.-_]+\\.[a-z|A-Z]{2,}\\b', s)\n"
      ]
    },
    {
      "cell_type": "code",
      "execution_count": null,
      "metadata": {},
      "outputs": [],
      "source": []
    },
    {
      "cell_type": "markdown",
      "metadata": {
        "id": "prgNtlNE5s4D"
      },
      "source": [
        "**Bài 5:** Tìm các từ có chính xác 8 chữ cái bằng regex.\n",
        "\n",
        "    Input: List of strings\n",
        "    Output: List of 8-letter strings\n",
        "\n"
      ]
    },
    {
      "cell_type": "code",
      "execution_count": 139,
      "metadata": {
        "id": "eysMK-Xr5scl"
      },
      "outputs": [
        {
          "data": {
            "text/plain": [
              "['oooooooo', 'qwertyui', 'ytgfdsvc']"
            ]
          },
          "execution_count": 139,
          "metadata": {},
          "output_type": "execute_result"
        }
      ],
      "source": [
        "# CODE Ở ĐÂY\n",
        "ls = 'namnnn oooooooo qwertyui fvygbhjnkml ytgfdsvc'\n",
        "re.findall(r'\\b[a-zA-Z]{8}\\b',ls)"
      ]
    },
    {
      "cell_type": "markdown",
      "metadata": {
        "id": "15mPuddk6Yd6"
      },
      "source": [
        "**Bài 6:** Bạn được cung cấp giá cổ phiếu cho các mã tài chính liên quan. Viết hàm để trích xuất các mã được đề cập trong báo cáo.\n",
        "\n",
        "    'Some of the prices were as following TSLA:749.50, ORCL: 50.50, GE: 10.90, MSFT: 170.50, BIDU: 121.40. As the macroeconomic developments continue we will update the prices. ' ---> ['TSLA:749.50', 'ORCL: 50.50', 'GE: 10.90', 'MSFT: 170.50', 'BIDU: 121.40']"
      ]
    },
    {
      "cell_type": "code",
      "execution_count": 54,
      "metadata": {
        "id": "Dx7NsdoUrtC1"
      },
      "outputs": [
        {
          "data": {
            "text/plain": [
              "['TSLA:749.50', 'ORCL: 50.50', 'GE: 10.90', 'MSFT: 170.50', 'BIDU: 121.40']"
            ]
          },
          "execution_count": 54,
          "metadata": {},
          "output_type": "execute_result"
        }
      ],
      "source": [
        "s = 'Some of the prices were as following TSLA:749.50, ORCL: 50.50, GE: 10.90, MSFT: 170.50, BIDU: 121.40. As the macroeconomic developments continue we will update the prices. '\n",
        "re.findall(r'\\b[A-Z]+:[ ]*\\d+\\.\\d+\\b', s)"
      ]
    },
    {
      "cell_type": "markdown",
      "metadata": {
        "id": "BKxR_Chm7EXQ"
      },
      "source": [
        "**Bài 7:** Tìm các thẻ html có nhiều hơn 4 chữ cái.\n",
        "\n",
        "*Lưu ý:* Các thẻ html có thể được tìm thấy bên trong các ký tự <> và các thẻ html đóng có thể được tìm thấy ở cùng định dạng sau ký tự /. </>\n",
        "\n"
      ]
    },
    {
      "cell_type": "code",
      "execution_count": 72,
      "metadata": {
        "id": "RKH8kN6q8olh"
      },
      "outputs": [
        {
          "name": "stdout",
          "output_type": "stream",
          "text": [
            "['<title>', '</title>']\n"
          ]
        }
      ],
      "source": [
        "# CODE Ở ĐÂY\n",
        "\n",
        "html = \"<html><head><title>Page Title</title></head><body><h1>This is a Heading</h1><p>This is a paragraph.</p></body></html>\"\n",
        "\n",
        "tags = re.findall(r'</[a-zA-Z]{5,}>|<[a-zA-Z]{5,}>', html)\n",
        "\n",
        "print(tags)"
      ]
    },
    {
      "cell_type": "markdown",
      "metadata": {
        "id": "lbbsEdPa8rLB"
      },
      "source": [
        "Bài 8: Viết hàm để xóa các số 0 đứng đầu khỏi địa chỉ IP.\n",
        "\n",
        "    \"216.08.094.196\" ---> \"216.8.94.196\"\n"
      ]
    },
    {
      "cell_type": "code",
      "execution_count": 83,
      "metadata": {
        "id": "28359Wcv81e_"
      },
      "outputs": [
        {
          "data": {
            "text/plain": [
              "'216.8.94.196'"
            ]
          },
          "execution_count": 83,
          "metadata": {},
          "output_type": "execute_result"
        }
      ],
      "source": [
        "# CODE Ở ĐÂY\n",
        "s = '216.08.094.196'\n",
        "ls =  re.findall(r'[1-9]+[0-9]*', s)\n",
        "\n",
        "s = '.'.join(ls)\n",
        "s\n",
        "    "
      ]
    },
    {
      "cell_type": "markdown",
      "metadata": {
        "id": "oJJSEe8i83Ha"
      },
      "source": [
        "Bài 9: Viết hàm để trích xuất năm, tháng và ngày từ một url.\n",
        "\n",
        "    \"https://www.washingtonpost.com/news/football-insider/wp/2016/09/02/odell-beckhams-fame-rests-on-one-stupid-little-ball-josh-norman-tells-author/\" ---> '2016/09/02'\n"
      ]
    },
    {
      "cell_type": "code",
      "execution_count": 123,
      "metadata": {
        "id": "TxfOrXps80xB"
      },
      "outputs": [
        {
          "data": {
            "text/plain": [
              "['2019/09/02']"
            ]
          },
          "execution_count": 123,
          "metadata": {},
          "output_type": "execute_result"
        }
      ],
      "source": [
        "# CODE Ở ĐÂY\n",
        "s =   \"https://www.washingtonpost.com/news/football-insider/wp/2016/00/02/odell-beckhams2019/09/02/-fame-rests-on-one-stupid-little-ball-josh-norman-tells-author/\" \n",
        "def extractdata(s):\n",
        "    date = re.findall(r'[0-9]+/[0-9][0-9]/[0-9]{2}',s)\n",
        "    return [d for d in date if '00' not in d]\n",
        "extractdata(s)            \n"
      ]
    },
    {
      "cell_type": "markdown",
      "metadata": {
        "id": "wzp7xaNK9hMI"
      },
      "source": [
        "**Bài 10:** Viết hàm để chuyển đổi một ngày có định dạng yyyy-mm-dd sang định dạng dd-mm-yyyy.\n",
        "\n",
        "    \"2026-01-02\" ---> \"02-01-2026\""
      ]
    },
    {
      "cell_type": "code",
      "execution_count": 128,
      "metadata": {
        "id": "xh2s72sB98QP"
      },
      "outputs": [
        {
          "name": "stdout",
          "output_type": "stream",
          "text": [
            "['02-09-2019']\n"
          ]
        }
      ],
      "source": [
        "# CODE Ở ĐÂY\n",
        "ls =  extractdata(s)  \n",
        "for i in range(len(ls)):\n",
        "    l = re.split(\"[-/]\", ls[i])\n",
        "    l.reverse()\n",
        "    # print(l)\n",
        "    ls[i] = '-'.join(l)\n",
        "print(ls)"
      ]
    },
    {
      "cell_type": "code",
      "execution_count": null,
      "metadata": {
        "id": "WM2hDnaa99ao"
      },
      "outputs": [],
      "source": []
    }
  ],
  "metadata": {
    "colab": {
      "provenance": []
    },
    "kernelspec": {
      "display_name": "Python 3",
      "name": "python3"
    },
    "language_info": {
      "codemirror_mode": {
        "name": "ipython",
        "version": 3
      },
      "file_extension": ".py",
      "mimetype": "text/x-python",
      "name": "python",
      "nbconvert_exporter": "python",
      "pygments_lexer": "ipython3",
      "version": "3.10.4"
    }
  },
  "nbformat": 4,
  "nbformat_minor": 0
}
