{
 "cells": [
  {
   "cell_type": "markdown",
   "id": "fd9b2c91",
   "metadata": {},
   "source": [
    "### Bài 1"
   ]
  },
  {
   "cell_type": "code",
   "execution_count": 142,
   "id": "2b17c02e",
   "metadata": {},
   "outputs": [
    {
     "name": "stdout",
     "output_type": "stream",
     "text": [
      "School = Riverdale High\n",
      "Grade = 1\n",
      "Student number, Name\n",
      "0, Phoebe\n",
      "1, Rachel\n",
      "\n",
      "Student number, Score\n",
      "0, 3\n",
      "1, 7\n",
      "\n",
      "Grade = 2\n",
      "Student number, Name\n",
      "0, Angela\n",
      "1, Tristan\n",
      "2, Aurora\n",
      "\n",
      "Student number, Score\n",
      "0, 6\n",
      "1, 3\n",
      "2, 9\n",
      "\n",
      "School = Hogwarts\n",
      "Grade = 1\n",
      "Student number, Name\n",
      "0, Ginny\n",
      "1, Luna\n",
      "\n",
      "Student number, Score\n",
      "0, 8\n",
      "1, 7\n",
      "\n",
      "Grade = 2\n",
      "Student number, Name\n",
      "0, Harry\n",
      "1, Hermione\n",
      "\n",
      "Student number, Score\n",
      "0, 5\n",
      "1, 10\n",
      "\n",
      "Grade = 3\n",
      "Student number, Name\n",
      "0, Fred\n",
      "1, George\n",
      "\n",
      "Student number, Score\n",
      "0, 0\n",
      "1, 0\n",
      "\n",
      "\n"
     ]
    }
   ],
   "source": [
    "import re\n",
    "import pandas as pd\n",
    "\n",
    "# read data from file\n",
    "with open('data.txt', 'r') as f:\n",
    "    data = f.read()\n",
    "data+='\\n\\n'\n",
    "print(data)\n"
   ]
  },
  {
   "cell_type": "code",
   "execution_count": 143,
   "id": "7f0d3d83",
   "metadata": {},
   "outputs": [
    {
     "data": {
      "text/plain": [
       "str"
      ]
     },
     "execution_count": 143,
     "metadata": {},
     "output_type": "execute_result"
    }
   ],
   "source": [
    "type(data)"
   ]
  },
  {
   "cell_type": "code",
   "execution_count": 144,
   "id": "0d82933c",
   "metadata": {},
   "outputs": [
    {
     "data": {
      "text/plain": [
       "['',\n",
       " ' Riverdale High\\nGrade = 1\\nStudent number, Name\\n0, Phoebe\\n1, Rachel\\n\\nStudent number, Score\\n0, 3\\n1, 7\\n\\nGrade = 2\\nStudent number, Name\\n0, Angela\\n1, Tristan\\n2, Aurora\\n\\nStudent number, Score\\n0, 6\\n1, 3\\n2, 9\\n\\n',\n",
       " ' Hogwarts\\nGrade = 1\\nStudent number, Name\\n0, Ginny\\n1, Luna\\n\\nStudent number, Score\\n0, 8\\n1, 7\\n\\nGrade = 2\\nStudent number, Name\\n0, Harry\\n1, Hermione\\n\\nStudent number, Score\\n0, 5\\n1, 10\\n\\nGrade = 3\\nStudent number, Name\\n0, Fred\\n1, George\\n\\nStudent number, Score\\n0, 0\\n1, 0\\n\\n']"
      ]
     },
     "execution_count": 144,
     "metadata": {},
     "output_type": "execute_result"
    }
   ],
   "source": [
    "data = re.split('School =', data)\n",
    "data\n"
   ]
  },
  {
   "cell_type": "code",
   "execution_count": 145,
   "id": "8ab1ee78",
   "metadata": {},
   "outputs": [
    {
     "name": "stdout",
     "output_type": "stream",
     "text": [
      " Hogwarts\n",
      "Grade = 1\n",
      "Student number, Name\n",
      "0, Ginny\n",
      "1, Luna\n",
      "\n",
      "Student number, Score\n",
      "0, 8\n",
      "1, 7\n",
      "\n",
      "Grade = 2\n",
      "Student number, Name\n",
      "0, Harry\n",
      "1, Hermione\n",
      "\n",
      "Student number, Score\n",
      "0, 5\n",
      "1, 10\n",
      "\n",
      "Grade = 3\n",
      "Student number, Name\n",
      "0, Fred\n",
      "1, George\n",
      "\n",
      "Student number, Score\n",
      "0, 0\n",
      "1, 0\n",
      "\n",
      "\n"
     ]
    }
   ],
   "source": [
    "print(data[2])"
   ]
  },
  {
   "cell_type": "code",
   "execution_count": 146,
   "id": "4004bf9a",
   "metadata": {},
   "outputs": [
    {
     "data": {
      "text/html": [
       "<div>\n",
       "<style scoped>\n",
       "    .dataframe tbody tr th:only-of-type {\n",
       "        vertical-align: middle;\n",
       "    }\n",
       "\n",
       "    .dataframe tbody tr th {\n",
       "        vertical-align: top;\n",
       "    }\n",
       "\n",
       "    .dataframe thead th {\n",
       "        text-align: right;\n",
       "    }\n",
       "</style>\n",
       "<table border=\"1\" class=\"dataframe\">\n",
       "  <thead>\n",
       "    <tr style=\"text-align: right;\">\n",
       "      <th></th>\n",
       "      <th>School</th>\n",
       "      <th>Grade</th>\n",
       "      <th>Student number</th>\n",
       "      <th>Name</th>\n",
       "      <th>Score</th>\n",
       "    </tr>\n",
       "  </thead>\n",
       "  <tbody>\n",
       "  </tbody>\n",
       "</table>\n",
       "</div>"
      ],
      "text/plain": [
       "Empty DataFrame\n",
       "Columns: [School, Grade, Student number, Name, Score]\n",
       "Index: []"
      ]
     },
     "execution_count": 146,
     "metadata": {},
     "output_type": "execute_result"
    }
   ],
   "source": [
    "meta = pd.DataFrame(columns=[\"School\" ,\"Grade\" ,\"Student number\", \"Name\" ,\"Score\"])\n",
    "meta"
   ]
  },
  {
   "cell_type": "code",
   "execution_count": 147,
   "id": "7519955b",
   "metadata": {},
   "outputs": [],
   "source": [
    "id = 0\n",
    "for text in data:\n",
    "    if text == ' ' or text =='': continue\n",
    "    # print(text)\n",
    "    class_study = re.split('Grade = ', text)\n",
    "    name_school = class_study[0].replace('\\n', '')\n",
    "    \n",
    "    for text_class in class_study[1:]:\n",
    "        # Get class\n",
    "        name = {}\n",
    "        score = {}\n",
    "        cl = re.findall(r'([0-9]+)\\n', text_class)[0]\n",
    "        # print(text_class)\n",
    "\n",
    "        # get name \n",
    "\n",
    "        pair_name = re.findall(r'\\d+,\\s+[a-zA-Z]+', text_class)\n",
    "    #     print(pair_name)\n",
    "    #     break\n",
    "    # break\n",
    "        for match in pair_name:\n",
    "            match = match.split(', ')\n",
    "            name[int(match[0])] = match[1]\n",
    "        # print(name)\n",
    "        # # get scores\n",
    "        \n",
    "        pair_score = re.findall(r'\\d+,\\s+[0-9]+', text_class)\n",
    "\n",
    "        # # In kết quả\n",
    "        for match in pair_score:\n",
    "            # print(match.split(', '))\n",
    "            m = match.split(', ')\n",
    "            score[int(m[0])] = int(m[1])\n",
    "        # print(score)\n",
    "        for id_student in name.keys():\n",
    "            meta.loc[id] = [name_school, cl, id_student, name[id_student],  score[id_student]]\n",
    "            id+=1"
   ]
  },
  {
   "cell_type": "code",
   "execution_count": 148,
   "id": "2c245a28",
   "metadata": {},
   "outputs": [
    {
     "data": {
      "text/plain": [
       "School           Grade  Student number  Name      Score\n",
       " Hogwarts        1      0               Ginny     8        1\n",
       "                        1               Luna      7        1\n",
       "                 2      0               Harry     5        1\n",
       "                        1               Hermione  10       1\n",
       "                 3      0               Fred      0        1\n",
       "                        1               George    0        1\n",
       " Riverdale High  1      0               Phoebe    3        1\n",
       "                        1               Rachel    7        1\n",
       "                 2      0               Angela    6        1\n",
       "                        1               Tristan   3        1\n",
       "                        2               Aurora    9        1\n",
       "dtype: int64"
      ]
     },
     "execution_count": 148,
     "metadata": {},
     "output_type": "execute_result"
    }
   ],
   "source": [
    "meta.groupby([\"School\",\t\"Grade\"\t,\"Student number\"\t,\"Name\", 'Score']).size()"
   ]
  },
  {
   "cell_type": "code",
   "execution_count": null,
   "id": "d5fce19e",
   "metadata": {},
   "outputs": [],
   "source": []
  }
 ],
 "metadata": {
  "kernelspec": {
   "display_name": "Python 3 (ipykernel)",
   "language": "python",
   "name": "python3"
  },
  "language_info": {
   "codemirror_mode": {
    "name": "ipython",
    "version": 3
   },
   "file_extension": ".py",
   "mimetype": "text/x-python",
   "name": "python",
   "nbconvert_exporter": "python",
   "pygments_lexer": "ipython3",
   "version": "3.10.4"
  }
 },
 "nbformat": 4,
 "nbformat_minor": 5
}
