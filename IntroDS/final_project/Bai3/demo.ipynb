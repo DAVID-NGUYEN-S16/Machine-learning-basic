{
 "cells": [
  {
   "cell_type": "code",
   "execution_count": 1,
   "metadata": {},
   "outputs": [],
   "source": [
    "import requests\n",
    "from bs4 import BeautifulSoup\n",
    "import re\n",
    "import pandas as pd\n",
    "url = 'http://quotes.toscrape.com/'"
   ]
  },
  {
   "attachments": {},
   "cell_type": "markdown",
   "metadata": {},
   "source": [
    "# Function"
   ]
  },
  {
   "cell_type": "code",
   "execution_count": 2,
   "metadata": {},
   "outputs": [],
   "source": [
    "def input_file(file, soup):\n",
    "    f = open(file, 'w', encoding='utf-8')\n",
    "    f.write(soup.prettify())\n",
    "    f.close()\n"
   ]
  },
  {
   "cell_type": "code",
   "execution_count": 3,
   "metadata": {},
   "outputs": [],
   "source": [
    "def input_file_2(authors, links, birthdates, texts):\n",
    "    # f = open(file, 'a+')\n",
    "    data = pd.DataFrame(columns=['Tacgia', 'Link', 'Namsinh', 'Quote'])\n",
    "    \n",
    "    for i in range(len(links)):\n",
    "        data.loc[i] = [authors[i],str(links[i]), str(birthdates[i]),  str(texts[i])]\n",
    "    data.to_csv(r'D:\\IntroDS\\final_project\\Bai3\\Quotes.csv')\n",
    "def tacgiaLink(results, authors,texts,birthdates, links):\n",
    "    for result in results:\n",
    "        author = result.find('small', class_='author')\n",
    "        authors.append(author.text)\n",
    "        text = result.find('span', class_='text')\n",
    "        texts.append(text.text)\n",
    "        link = result.find_all('a',{'href' : re.compile(\"/author/.+\")})\n",
    "        url_sub = 'http://quotes.toscrape.com/'\n",
    "        url_sub = url_sub+str(link[0]['href'])\n",
    "        links.append(url_sub)\n",
    "        page_sub = requests.get(url_sub)\n",
    "        soup_sub = BeautifulSoup(page_sub.text, 'html.parser')\n",
    "        birthdate = soup_sub.find('span', class_='author-born-date')\n",
    "        if birthdate is None:\n",
    "            birthdates.append('Unknown')\n",
    "        else:\n",
    "            birthdates.append(birthdate.text)\n",
    "        print(str(author.text) + '\\t' + str(url_sub) + '\\t' + str(birthdate.text) + '\\t' + str(text.text))\n",
    "    return authors,texts,birthdates, links\n",
    "    "
   ]
  },
  {
   "attachments": {},
   "cell_type": "markdown",
   "metadata": {},
   "source": [
    "# Cau 3.1.1"
   ]
  },
  {
   "cell_type": "code",
   "execution_count": 4,
   "metadata": {},
   "outputs": [],
   "source": [
    "html = requests.get(url)\n",
    "soup = BeautifulSoup(html.text, 'html.parser')\n",
    "input_file('kq.txt', soup)\n"
   ]
  },
  {
   "attachments": {},
   "cell_type": "markdown",
   "metadata": {},
   "source": [
    "Trang web này được gọi là \"Quotes to Scrape\".\n",
    "Trang web có một tiêu đề, một thanh điều hướng trên đầu trang và phần thân của trang được chia thành hai cột. Cột bên trái chứa danh sách trích dẫn và cột bên phải có một hình ảnh và mô tả về trang web. Cuối trang web là chân trang chứa thông tin về tác giả và liên kết đến trang login. Cấu trúc của trang web được viết bằng ngôn ngữ đánh dấu siêu văn bản HTML và được định dạng bằng CSS."
   ]
  },
  {
   "attachments": {},
   "cell_type": "markdown",
   "metadata": {},
   "source": [
    "# Cau 3.1.2"
   ]
  },
  {
   "attachments": {},
   "cell_type": "markdown",
   "metadata": {},
   "source": [
    "* a"
   ]
  },
  {
   "cell_type": "code",
   "execution_count": 5,
   "metadata": {},
   "outputs": [
    {
     "name": "stdout",
     "output_type": "stream",
     "text": [
      "[<div class=\"quote\" itemscope=\"\" itemtype=\"http://schema.org/CreativeWork\">\n",
      "<span class=\"text\" itemprop=\"text\">“The world as we have created it is a process of our thinking. It cannot be changed without changing our thinking.”</span>\n",
      "<span>by <small class=\"author\" itemprop=\"author\">Albert Einstein</small>\n",
      "<a href=\"/author/Albert-Einstein\">(about)</a>\n",
      "</span>\n",
      "<div class=\"tags\">\n",
      "            Tags:\n",
      "            <meta class=\"keywords\" content=\"change,deep-thoughts,thinking,world\" itemprop=\"keywords\"/>\n",
      "<a class=\"tag\" href=\"/tag/change/page/1/\">change</a>\n",
      "<a class=\"tag\" href=\"/tag/deep-thoughts/page/1/\">deep-thoughts</a>\n",
      "<a class=\"tag\" href=\"/tag/thinking/page/1/\">thinking</a>\n",
      "<a class=\"tag\" href=\"/tag/world/page/1/\">world</a>\n",
      "</div>\n",
      "</div>, <div class=\"quote\" itemscope=\"\" itemtype=\"http://schema.org/CreativeWork\">\n",
      "<span class=\"text\" itemprop=\"text\">“It is our choices, Harry, that show what we truly are, far more than our abilities.”</span>\n",
      "<span>by <small class=\"author\" itemprop=\"author\">J.K. Rowling</small>\n",
      "<a href=\"/author/J-K-Rowling\">(about)</a>\n",
      "</span>\n",
      "<div class=\"tags\">\n",
      "            Tags:\n",
      "            <meta class=\"keywords\" content=\"abilities,choices\" itemprop=\"keywords\"/>\n",
      "<a class=\"tag\" href=\"/tag/abilities/page/1/\">abilities</a>\n",
      "<a class=\"tag\" href=\"/tag/choices/page/1/\">choices</a>\n",
      "</div>\n",
      "</div>, <div class=\"quote\" itemscope=\"\" itemtype=\"http://schema.org/CreativeWork\">\n",
      "<span class=\"text\" itemprop=\"text\">“There are only two ways to live your life. One is as though nothing is a miracle. The other is as though everything is a miracle.”</span>\n",
      "<span>by <small class=\"author\" itemprop=\"author\">Albert Einstein</small>\n",
      "<a href=\"/author/Albert-Einstein\">(about)</a>\n",
      "</span>\n",
      "<div class=\"tags\">\n",
      "            Tags:\n",
      "            <meta class=\"keywords\" content=\"inspirational,life,live,miracle,miracles\" itemprop=\"keywords\"/>\n",
      "<a class=\"tag\" href=\"/tag/inspirational/page/1/\">inspirational</a>\n",
      "<a class=\"tag\" href=\"/tag/life/page/1/\">life</a>\n",
      "<a class=\"tag\" href=\"/tag/live/page/1/\">live</a>\n",
      "<a class=\"tag\" href=\"/tag/miracle/page/1/\">miracle</a>\n",
      "<a class=\"tag\" href=\"/tag/miracles/page/1/\">miracles</a>\n",
      "</div>\n",
      "</div>, <div class=\"quote\" itemscope=\"\" itemtype=\"http://schema.org/CreativeWork\">\n",
      "<span class=\"text\" itemprop=\"text\">“The person, be it gentleman or lady, who has not pleasure in a good novel, must be intolerably stupid.”</span>\n",
      "<span>by <small class=\"author\" itemprop=\"author\">Jane Austen</small>\n",
      "<a href=\"/author/Jane-Austen\">(about)</a>\n",
      "</span>\n",
      "<div class=\"tags\">\n",
      "            Tags:\n",
      "            <meta class=\"keywords\" content=\"aliteracy,books,classic,humor\" itemprop=\"keywords\"/>\n",
      "<a class=\"tag\" href=\"/tag/aliteracy/page/1/\">aliteracy</a>\n",
      "<a class=\"tag\" href=\"/tag/books/page/1/\">books</a>\n",
      "<a class=\"tag\" href=\"/tag/classic/page/1/\">classic</a>\n",
      "<a class=\"tag\" href=\"/tag/humor/page/1/\">humor</a>\n",
      "</div>\n",
      "</div>, <div class=\"quote\" itemscope=\"\" itemtype=\"http://schema.org/CreativeWork\">\n",
      "<span class=\"text\" itemprop=\"text\">“Imperfection is beauty, madness is genius and it's better to be absolutely ridiculous than absolutely boring.”</span>\n",
      "<span>by <small class=\"author\" itemprop=\"author\">Marilyn Monroe</small>\n",
      "<a href=\"/author/Marilyn-Monroe\">(about)</a>\n",
      "</span>\n",
      "<div class=\"tags\">\n",
      "            Tags:\n",
      "            <meta class=\"keywords\" content=\"be-yourself,inspirational\" itemprop=\"keywords\"/>\n",
      "<a class=\"tag\" href=\"/tag/be-yourself/page/1/\">be-yourself</a>\n",
      "<a class=\"tag\" href=\"/tag/inspirational/page/1/\">inspirational</a>\n",
      "</div>\n",
      "</div>, <div class=\"quote\" itemscope=\"\" itemtype=\"http://schema.org/CreativeWork\">\n",
      "<span class=\"text\" itemprop=\"text\">“Try not to become a man of success. Rather become a man of value.”</span>\n",
      "<span>by <small class=\"author\" itemprop=\"author\">Albert Einstein</small>\n",
      "<a href=\"/author/Albert-Einstein\">(about)</a>\n",
      "</span>\n",
      "<div class=\"tags\">\n",
      "            Tags:\n",
      "            <meta class=\"keywords\" content=\"adulthood,success,value\" itemprop=\"keywords\"/>\n",
      "<a class=\"tag\" href=\"/tag/adulthood/page/1/\">adulthood</a>\n",
      "<a class=\"tag\" href=\"/tag/success/page/1/\">success</a>\n",
      "<a class=\"tag\" href=\"/tag/value/page/1/\">value</a>\n",
      "</div>\n",
      "</div>, <div class=\"quote\" itemscope=\"\" itemtype=\"http://schema.org/CreativeWork\">\n",
      "<span class=\"text\" itemprop=\"text\">“It is better to be hated for what you are than to be loved for what you are not.”</span>\n",
      "<span>by <small class=\"author\" itemprop=\"author\">André Gide</small>\n",
      "<a href=\"/author/Andre-Gide\">(about)</a>\n",
      "</span>\n",
      "<div class=\"tags\">\n",
      "            Tags:\n",
      "            <meta class=\"keywords\" content=\"life,love\" itemprop=\"keywords\"/>\n",
      "<a class=\"tag\" href=\"/tag/life/page/1/\">life</a>\n",
      "<a class=\"tag\" href=\"/tag/love/page/1/\">love</a>\n",
      "</div>\n",
      "</div>, <div class=\"quote\" itemscope=\"\" itemtype=\"http://schema.org/CreativeWork\">\n",
      "<span class=\"text\" itemprop=\"text\">“I have not failed. I've just found 10,000 ways that won't work.”</span>\n",
      "<span>by <small class=\"author\" itemprop=\"author\">Thomas A. Edison</small>\n",
      "<a href=\"/author/Thomas-A-Edison\">(about)</a>\n",
      "</span>\n",
      "<div class=\"tags\">\n",
      "            Tags:\n",
      "            <meta class=\"keywords\" content=\"edison,failure,inspirational,paraphrased\" itemprop=\"keywords\"/>\n",
      "<a class=\"tag\" href=\"/tag/edison/page/1/\">edison</a>\n",
      "<a class=\"tag\" href=\"/tag/failure/page/1/\">failure</a>\n",
      "<a class=\"tag\" href=\"/tag/inspirational/page/1/\">inspirational</a>\n",
      "<a class=\"tag\" href=\"/tag/paraphrased/page/1/\">paraphrased</a>\n",
      "</div>\n",
      "</div>, <div class=\"quote\" itemscope=\"\" itemtype=\"http://schema.org/CreativeWork\">\n",
      "<span class=\"text\" itemprop=\"text\">“A woman is like a tea bag; you never know how strong it is until it's in hot water.”</span>\n",
      "<span>by <small class=\"author\" itemprop=\"author\">Eleanor Roosevelt</small>\n",
      "<a href=\"/author/Eleanor-Roosevelt\">(about)</a>\n",
      "</span>\n",
      "<div class=\"tags\">\n",
      "            Tags:\n",
      "            <meta class=\"keywords\" content=\"misattributed-eleanor-roosevelt\" itemprop=\"keywords\"/>\n",
      "<a class=\"tag\" href=\"/tag/misattributed-eleanor-roosevelt/page/1/\">misattributed-eleanor-roosevelt</a>\n",
      "</div>\n",
      "</div>, <div class=\"quote\" itemscope=\"\" itemtype=\"http://schema.org/CreativeWork\">\n",
      "<span class=\"text\" itemprop=\"text\">“A day without sunshine is like, you know, night.”</span>\n",
      "<span>by <small class=\"author\" itemprop=\"author\">Steve Martin</small>\n",
      "<a href=\"/author/Steve-Martin\">(about)</a>\n",
      "</span>\n",
      "<div class=\"tags\">\n",
      "            Tags:\n",
      "            <meta class=\"keywords\" content=\"humor,obvious,simile\" itemprop=\"keywords\"/>\n",
      "<a class=\"tag\" href=\"/tag/humor/page/1/\">humor</a>\n",
      "<a class=\"tag\" href=\"/tag/obvious/page/1/\">obvious</a>\n",
      "<a class=\"tag\" href=\"/tag/simile/page/1/\">simile</a>\n",
      "</div>\n",
      "</div>]\n"
     ]
    }
   ],
   "source": [
    "results = soup.find_all('div', class_='quote')\n",
    "print(results)\n",
    "\n"
   ]
  },
  {
   "attachments": {},
   "cell_type": "markdown",
   "metadata": {},
   "source": [
    "* b "
   ]
  },
  {
   "cell_type": "code",
   "execution_count": 6,
   "metadata": {},
   "outputs": [],
   "source": [
    "authors = []\n",
    "for result in results:\n",
    "    author = result.find('small', class_='author')\n",
    "    authors.append(author.text)\n",
    "# for i in range(len(authors)):\n",
    "    # print('Author:',authors[i])\n"
   ]
  },
  {
   "attachments": {},
   "cell_type": "markdown",
   "metadata": {},
   "source": [
    "* c"
   ]
  },
  {
   "cell_type": "code",
   "execution_count": 7,
   "metadata": {},
   "outputs": [
    {
     "name": "stdout",
     "output_type": "stream",
     "text": [
      "Albert Einstein\thttp://quotes.toscrape.com//author/Albert-Einstein\tMarch 14, 1879\t“The world as we have created it is a process of our thinking. It cannot be changed without changing our thinking.”\n",
      "J.K. Rowling\thttp://quotes.toscrape.com//author/J-K-Rowling\tJuly 31, 1965\t“It is our choices, Harry, that show what we truly are, far more than our abilities.”\n",
      "Albert Einstein\thttp://quotes.toscrape.com//author/Albert-Einstein\tMarch 14, 1879\t“There are only two ways to live your life. One is as though nothing is a miracle. The other is as though everything is a miracle.”\n",
      "Jane Austen\thttp://quotes.toscrape.com//author/Jane-Austen\tDecember 16, 1775\t“The person, be it gentleman or lady, who has not pleasure in a good novel, must be intolerably stupid.”\n",
      "Marilyn Monroe\thttp://quotes.toscrape.com//author/Marilyn-Monroe\tJune 01, 1926\t“Imperfection is beauty, madness is genius and it's better to be absolutely ridiculous than absolutely boring.”\n",
      "Albert Einstein\thttp://quotes.toscrape.com//author/Albert-Einstein\tMarch 14, 1879\t“Try not to become a man of success. Rather become a man of value.”\n",
      "André Gide\thttp://quotes.toscrape.com//author/Andre-Gide\tNovember 22, 1869\t“It is better to be hated for what you are than to be loved for what you are not.”\n",
      "Thomas A. Edison\thttp://quotes.toscrape.com//author/Thomas-A-Edison\tFebruary 11, 1847\t“I have not failed. I've just found 10,000 ways that won't work.”\n",
      "Eleanor Roosevelt\thttp://quotes.toscrape.com//author/Eleanor-Roosevelt\tOctober 11, 1884\t“A woman is like a tea bag; you never know how strong it is until it's in hot water.”\n",
      "Steve Martin\thttp://quotes.toscrape.com//author/Steve-Martin\tAugust 14, 1945\t“A day without sunshine is like, you know, night.”\n"
     ]
    },
    {
     "data": {
      "text/plain": [
       "(['Albert Einstein',\n",
       "  'J.K. Rowling',\n",
       "  'Albert Einstein',\n",
       "  'Jane Austen',\n",
       "  'Marilyn Monroe',\n",
       "  'Albert Einstein',\n",
       "  'André Gide',\n",
       "  'Thomas A. Edison',\n",
       "  'Eleanor Roosevelt',\n",
       "  'Steve Martin'],\n",
       " ['“The world as we have created it is a process of our thinking. It cannot be changed without changing our thinking.”',\n",
       "  '“It is our choices, Harry, that show what we truly are, far more than our abilities.”',\n",
       "  '“There are only two ways to live your life. One is as though nothing is a miracle. The other is as though everything is a miracle.”',\n",
       "  '“The person, be it gentleman or lady, who has not pleasure in a good novel, must be intolerably stupid.”',\n",
       "  \"“Imperfection is beauty, madness is genius and it's better to be absolutely ridiculous than absolutely boring.”\",\n",
       "  '“Try not to become a man of success. Rather become a man of value.”',\n",
       "  '“It is better to be hated for what you are than to be loved for what you are not.”',\n",
       "  \"“I have not failed. I've just found 10,000 ways that won't work.”\",\n",
       "  \"“A woman is like a tea bag; you never know how strong it is until it's in hot water.”\",\n",
       "  '“A day without sunshine is like, you know, night.”'],\n",
       " ['March 14, 1879',\n",
       "  'July 31, 1965',\n",
       "  'March 14, 1879',\n",
       "  'December 16, 1775',\n",
       "  'June 01, 1926',\n",
       "  'March 14, 1879',\n",
       "  'November 22, 1869',\n",
       "  'February 11, 1847',\n",
       "  'October 11, 1884',\n",
       "  'August 14, 1945'],\n",
       " ['http://quotes.toscrape.com//author/Albert-Einstein',\n",
       "  'http://quotes.toscrape.com//author/J-K-Rowling',\n",
       "  'http://quotes.toscrape.com//author/Albert-Einstein',\n",
       "  'http://quotes.toscrape.com//author/Jane-Austen',\n",
       "  'http://quotes.toscrape.com//author/Marilyn-Monroe',\n",
       "  'http://quotes.toscrape.com//author/Albert-Einstein',\n",
       "  'http://quotes.toscrape.com//author/Andre-Gide',\n",
       "  'http://quotes.toscrape.com//author/Thomas-A-Edison',\n",
       "  'http://quotes.toscrape.com//author/Eleanor-Roosevelt',\n",
       "  'http://quotes.toscrape.com//author/Steve-Martin'])"
      ]
     },
     "execution_count": 7,
     "metadata": {},
     "output_type": "execute_result"
    }
   ],
   "source": [
    "authors = []\n",
    "texts = []\n",
    "birthdates = []\n",
    "links = []\n",
    "tacgiaLink(results, authors,texts,birthdates, links)"
   ]
  },
  {
   "attachments": {},
   "cell_type": "markdown",
   "metadata": {},
   "source": [
    "* d"
   ]
  },
  {
   "cell_type": "code",
   "execution_count": 8,
   "metadata": {},
   "outputs": [
    {
     "name": "stdout",
     "output_type": "stream",
     "text": [
      "Albert Einstein\thttp://quotes.toscrape.com//author/Albert-Einstein\tMarch 14, 1879\t“The world as we have created it is a process of our thinking. It cannot be changed without changing our thinking.”\n",
      "J.K. Rowling\thttp://quotes.toscrape.com//author/J-K-Rowling\tJuly 31, 1965\t“It is our choices, Harry, that show what we truly are, far more than our abilities.”\n",
      "Albert Einstein\thttp://quotes.toscrape.com//author/Albert-Einstein\tMarch 14, 1879\t“There are only two ways to live your life. One is as though nothing is a miracle. The other is as though everything is a miracle.”\n",
      "Jane Austen\thttp://quotes.toscrape.com//author/Jane-Austen\tDecember 16, 1775\t“The person, be it gentleman or lady, who has not pleasure in a good novel, must be intolerably stupid.”\n",
      "Marilyn Monroe\thttp://quotes.toscrape.com//author/Marilyn-Monroe\tJune 01, 1926\t“Imperfection is beauty, madness is genius and it's better to be absolutely ridiculous than absolutely boring.”\n",
      "Albert Einstein\thttp://quotes.toscrape.com//author/Albert-Einstein\tMarch 14, 1879\t“Try not to become a man of success. Rather become a man of value.”\n",
      "André Gide\thttp://quotes.toscrape.com//author/Andre-Gide\tNovember 22, 1869\t“It is better to be hated for what you are than to be loved for what you are not.”\n",
      "Thomas A. Edison\thttp://quotes.toscrape.com//author/Thomas-A-Edison\tFebruary 11, 1847\t“I have not failed. I've just found 10,000 ways that won't work.”\n",
      "Eleanor Roosevelt\thttp://quotes.toscrape.com//author/Eleanor-Roosevelt\tOctober 11, 1884\t“A woman is like a tea bag; you never know how strong it is until it's in hot water.”\n",
      "Steve Martin\thttp://quotes.toscrape.com//author/Steve-Martin\tAugust 14, 1945\t“A day without sunshine is like, you know, night.”\n",
      "########################1############################\n",
      "Marilyn Monroe\thttp://quotes.toscrape.com//author/Marilyn-Monroe\tJune 01, 1926\t“This life is what you make it. No matter what, you're going to mess up sometimes, it's a universal truth. But the good part is you get to decide how you're going to mess it up. Girls will be your friends - they'll act like it anyway. But just remember, some come, some go. The ones that stay with you through everything - they're your true best friends. Don't let go of them. Also remember, sisters make the best friends in the world. As for lovers, well, they'll come and go too. And baby, I hate to say it, most of them - actually pretty much all of them are going to break your heart, but you can't give up because if you give up, you'll never find your soulmate. You'll never find that half who makes you whole and that goes for everything. Just because you fail once, doesn't mean you're gonna fail at everything. Keep trying, hold on, and always, always, always believe in yourself, because if you don't, then who will, sweetie? So keep your head high, keep your chin up, and most importantly, keep smiling, because life's a beautiful thing and there's so much to smile about.”\n",
      "J.K. Rowling\thttp://quotes.toscrape.com//author/J-K-Rowling\tJuly 31, 1965\t“It takes a great deal of bravery to stand up to our enemies, but just as much to stand up to our friends.”\n",
      "Albert Einstein\thttp://quotes.toscrape.com//author/Albert-Einstein\tMarch 14, 1879\t“If you can't explain it to a six year old, you don't understand it yourself.”\n",
      "Bob Marley\thttp://quotes.toscrape.com//author/Bob-Marley\tFebruary 06, 1945\t“You may not be her first, her last, or her only. She loved before she may love again. But if she loves you now, what else matters? She's not perfect—you aren't either, and the two of you may never be perfect together but if she can make you laugh, cause you to think twice, and admit to being human and making mistakes, hold onto her and give her the most you can. She may not be thinking about you every second of the day, but she will give you a part of her that she knows you can break—her heart. So don't hurt her, don't change her, don't analyze and don't expect more than she can give. Smile when she makes you happy, let her know when she makes you mad, and miss her when she's not there.”\n",
      "Dr. Seuss\thttp://quotes.toscrape.com//author/Dr-Seuss\tMarch 02, 1904\t“I like nonsense, it wakes up the brain cells. Fantasy is a necessary ingredient in living.”\n",
      "Douglas Adams\thttp://quotes.toscrape.com//author/Douglas-Adams\tMarch 11, 1952\t“I may not have gone where I intended to go, but I think I have ended up where I needed to be.”\n",
      "Elie Wiesel\thttp://quotes.toscrape.com//author/Elie-Wiesel\tSeptember 30, 1928\t“The opposite of love is not hate, it's indifference. The opposite of art is not ugliness, it's indifference. The opposite of faith is not heresy, it's indifference. And the opposite of life is not death, it's indifference.”\n",
      "Friedrich Nietzsche\thttp://quotes.toscrape.com//author/Friedrich-Nietzsche\tOctober 15, 1844\t“It is not a lack of love, but a lack of friendship that makes unhappy marriages.”\n",
      "Mark Twain\thttp://quotes.toscrape.com//author/Mark-Twain\tNovember 30, 1835\t“Good friends, good books, and a sleepy conscience: this is the ideal life.”\n",
      "Allen Saunders\thttp://quotes.toscrape.com//author/Allen-Saunders\tApril 24, 1899\t“Life is what happens to us while we are making other plans.”\n",
      "########################2############################\n",
      "Pablo Neruda\thttp://quotes.toscrape.com//author/Pablo-Neruda\tJuly 12, 1904\t“I love you without knowing how, or when, or from where. I love you simply, without problems or pride: I love you in this way because I do not know any other way of loving but this, in which there is no I or you, so intimate that your hand upon my chest is my hand, so intimate that when I fall asleep your eyes close.”\n",
      "Ralph Waldo Emerson\thttp://quotes.toscrape.com//author/Ralph-Waldo-Emerson\tMay 25, 1803\t“For every minute you are angry you lose sixty seconds of happiness.”\n",
      "Mother Teresa\thttp://quotes.toscrape.com//author/Mother-Teresa\tAugust 26, 1910\t“If you judge people, you have no time to love them.”\n",
      "Garrison Keillor\thttp://quotes.toscrape.com//author/Garrison-Keillor\tAugust 07, 1942\t“Anyone who thinks sitting in church can make you a Christian must also think that sitting in a garage can make you a car.”\n",
      "Jim Henson\thttp://quotes.toscrape.com//author/Jim-Henson\tSeptember 24, 1936\t“Beauty is in the eye of the beholder and it may be necessary from time to time to give a stupid or misinformed beholder a black eye.”\n",
      "Dr. Seuss\thttp://quotes.toscrape.com//author/Dr-Seuss\tMarch 02, 1904\t“Today you are You, that is truer than true. There is no one alive who is Youer than You.”\n",
      "Albert Einstein\thttp://quotes.toscrape.com//author/Albert-Einstein\tMarch 14, 1879\t“If you want your children to be intelligent, read them fairy tales. If you want them to be more intelligent, read them more fairy tales.”\n",
      "J.K. Rowling\thttp://quotes.toscrape.com//author/J-K-Rowling\tJuly 31, 1965\t“It is impossible to live without failing at something, unless you live so cautiously that you might as well not have lived at all - in which case, you fail by default.”\n",
      "Albert Einstein\thttp://quotes.toscrape.com//author/Albert-Einstein\tMarch 14, 1879\t“Logic will get you from A to Z; imagination will get you everywhere.”\n",
      "Bob Marley\thttp://quotes.toscrape.com//author/Bob-Marley\tFebruary 06, 1945\t“One good thing about music, when it hits you, you feel no pain.”\n",
      "########################3############################\n",
      "Dr. Seuss\thttp://quotes.toscrape.com//author/Dr-Seuss\tMarch 02, 1904\t“The more that you read, the more things you will know. The more that you learn, the more places you'll go.”\n",
      "J.K. Rowling\thttp://quotes.toscrape.com//author/J-K-Rowling\tJuly 31, 1965\t“Of course it is happening inside your head, Harry, but why on earth should that mean that it is not real?”\n",
      "Bob Marley\thttp://quotes.toscrape.com//author/Bob-Marley\tFebruary 06, 1945\t“The truth is, everyone is going to hurt you. You just got to find the ones worth suffering for.”\n",
      "Mother Teresa\thttp://quotes.toscrape.com//author/Mother-Teresa\tAugust 26, 1910\t“Not all of us can do great things. But we can do small things with great love.”\n",
      "J.K. Rowling\thttp://quotes.toscrape.com//author/J-K-Rowling\tJuly 31, 1965\t“To the well-organized mind, death is but the next great adventure.”\n",
      "Charles M. Schulz\thttp://quotes.toscrape.com//author/Charles-M-Schulz\tNovember 26, 1922\t“All you need is love. But a little chocolate now and then doesn't hurt.”\n",
      "William Nicholson\thttp://quotes.toscrape.com//author/William-Nicholson\tJanuary 12, 1948\t“We read to know we're not alone.”\n",
      "Albert Einstein\thttp://quotes.toscrape.com//author/Albert-Einstein\tMarch 14, 1879\t“Any fool can know. The point is to understand.”\n",
      "Jorge Luis Borges\thttp://quotes.toscrape.com//author/Jorge-Luis-Borges\tAugust 24, 1899\t“I have always imagined that Paradise will be a kind of library.”\n",
      "George Eliot\thttp://quotes.toscrape.com//author/George-Eliot\tNovember 22, 1819\t“It is never too late to be what you might have been.”\n",
      "########################4############################\n",
      "George R.R. Martin\thttp://quotes.toscrape.com//author/George-R-R-Martin\tSeptember 20, 1948\t“A reader lives a thousand lives before he dies, said Jojen. The man who never reads lives only one.”\n",
      "C.S. Lewis\thttp://quotes.toscrape.com//author/C-S-Lewis\tNovember 29, 1898\t“You can never get a cup of tea large enough or a book long enough to suit me.”\n",
      "Marilyn Monroe\thttp://quotes.toscrape.com//author/Marilyn-Monroe\tJune 01, 1926\t“You believe lies so you eventually learn to trust no one but yourself.”\n",
      "Marilyn Monroe\thttp://quotes.toscrape.com//author/Marilyn-Monroe\tJune 01, 1926\t“If you can make a woman laugh, you can make her do anything.”\n",
      "Albert Einstein\thttp://quotes.toscrape.com//author/Albert-Einstein\tMarch 14, 1879\t“Life is like riding a bicycle. To keep your balance, you must keep moving.”\n",
      "Marilyn Monroe\thttp://quotes.toscrape.com//author/Marilyn-Monroe\tJune 01, 1926\t“The real lover is the man who can thrill you by kissing your forehead or smiling into your eyes or just staring into space.”\n",
      "Marilyn Monroe\thttp://quotes.toscrape.com//author/Marilyn-Monroe\tJune 01, 1926\t“A wise girl kisses but doesn't love, listens but doesn't believe, and leaves before she is left.”\n",
      "Martin Luther King Jr.\thttp://quotes.toscrape.com//author/Martin-Luther-King-Jr\tJanuary 15, 1929\t“Only in the darkness can you see the stars.”\n",
      "J.K. Rowling\thttp://quotes.toscrape.com//author/J-K-Rowling\tJuly 31, 1965\t“It matters not what someone is born, but what they grow to be.”\n",
      "James Baldwin\thttp://quotes.toscrape.com//author/James-Baldwin\tAugust 02, 1924\t“Love does not begin and end the way we seem to think it does. Love is a battle, love is a war; love is a growing up.”\n",
      "########################5############################\n",
      "Jane Austen\thttp://quotes.toscrape.com//author/Jane-Austen\tDecember 16, 1775\t“There is nothing I would not do for those who are really my friends. I have no notion of loving people by halves, it is not my nature.”\n",
      "Eleanor Roosevelt\thttp://quotes.toscrape.com//author/Eleanor-Roosevelt\tOctober 11, 1884\t“Do one thing every day that scares you.”\n",
      "Marilyn Monroe\thttp://quotes.toscrape.com//author/Marilyn-Monroe\tJune 01, 1926\t“I am good, but not an angel. I do sin, but I am not the devil. I am just a small girl in a big world trying to find someone to love.”\n",
      "Albert Einstein\thttp://quotes.toscrape.com//author/Albert-Einstein\tMarch 14, 1879\t“If I were not a physicist, I would probably be a musician. I often think in music. I live my daydreams in music. I see my life in terms of music.”\n",
      "Haruki Murakami\thttp://quotes.toscrape.com//author/Haruki-Murakami\tJanuary 12, 1949\t“If you only read the books that everyone else is reading, you can only think what everyone else is thinking.”\n",
      "Alexandre Dumas fils\thttp://quotes.toscrape.com//author/Alexandre-Dumas-fils\tJuly 27, 1824\t“The difference between genius and stupidity is: genius has its limits.”\n",
      "Stephenie Meyer\thttp://quotes.toscrape.com//author/Stephenie-Meyer\tDecember 24, 1973\t“He's like a drug for you, Bella.”\n",
      "Ernest Hemingway\thttp://quotes.toscrape.com//author/Ernest-Hemingway\tJuly 21, 1899\t“There is no friend as loyal as a book.”\n",
      "Helen Keller\thttp://quotes.toscrape.com//author/Helen-Keller\tJune 27, 1880\t“When one door of happiness closes, another opens; but often we look so long at the closed door that we do not see the one which has been opened for us.”\n",
      "George Bernard Shaw\thttp://quotes.toscrape.com//author/George-Bernard-Shaw\tJuly 26, 1856\t“Life isn't about finding yourself. Life is about creating yourself.”\n",
      "########################6############################\n",
      "Charles Bukowski\thttp://quotes.toscrape.com//author/Charles-Bukowski\tAugust 16, 1920\t“That's the problem with drinking, I thought, as I poured myself a drink. If something bad happens you drink in an attempt to forget; if something good happens you drink in order to celebrate; and if nothing happens you drink to make something happen.”\n",
      "Suzanne Collins\thttp://quotes.toscrape.com//author/Suzanne-Collins\tAugust 11, 1962\t“You don’t forget the face of the person who was your last hope.”\n",
      "Suzanne Collins\thttp://quotes.toscrape.com//author/Suzanne-Collins\tAugust 11, 1962\t“Remember, we're madly in love, so it's all right to kiss me anytime you feel like it.”\n",
      "C.S. Lewis\thttp://quotes.toscrape.com//author/C-S-Lewis\tNovember 29, 1898\t“To love at all is to be vulnerable. Love anything and your heart will be wrung and possibly broken. If you want to make sure of keeping it intact you must give it to no one, not even an animal. Wrap it carefully round with hobbies and little luxuries; avoid all entanglements. Lock it up safe in the casket or coffin of your selfishness. But in that casket, safe, dark, motionless, airless, it will change. It will not be broken; it will become unbreakable, impenetrable, irredeemable. To love is to be vulnerable.”\n",
      "J.R.R. Tolkien\thttp://quotes.toscrape.com//author/J-R-R-Tolkien\tJanuary 03, 1892\t“Not all those who wander are lost.”\n",
      "J.K. Rowling\thttp://quotes.toscrape.com//author/J-K-Rowling\tJuly 31, 1965\t“Do not pity the dead, Harry. Pity the living, and, above all those who live without love.”\n",
      "Ernest Hemingway\thttp://quotes.toscrape.com//author/Ernest-Hemingway\tJuly 21, 1899\t“There is nothing to writing. All you do is sit down at a typewriter and bleed.”\n",
      "Ralph Waldo Emerson\thttp://quotes.toscrape.com//author/Ralph-Waldo-Emerson\tMay 25, 1803\t“Finish each day and be done with it. You have done what you could. Some blunders and absurdities no doubt crept in; forget them as soon as you can. Tomorrow is a new day. You shall begin it serenely and with too high a spirit to be encumbered with your old nonsense.”\n",
      "Mark Twain\thttp://quotes.toscrape.com//author/Mark-Twain\tNovember 30, 1835\t“I have never let my schooling interfere with my education.”\n",
      "Dr. Seuss\thttp://quotes.toscrape.com//author/Dr-Seuss\tMarch 02, 1904\t“I have heard there are troubles of more than one kind. Some come from ahead and some come from behind. But I've bought a big bat. I'm all ready you see. Now my troubles are going to have troubles with me!”\n",
      "########################7############################\n",
      "Alfred Tennyson\thttp://quotes.toscrape.com//author/Alfred-Tennyson\tAugust 06, 1809\t“If I had a flower for every time I thought of you...I could walk through my garden forever.”\n",
      "Charles Bukowski\thttp://quotes.toscrape.com//author/Charles-Bukowski\tAugust 16, 1920\t“Some people never go crazy. What truly horrible lives they must lead.”\n",
      "Terry Pratchett\thttp://quotes.toscrape.com//author/Terry-Pratchett\tApril 28, 1948\t“The trouble with having an open mind, of course, is that people will insist on coming along and trying to put things in it.”\n",
      "Dr. Seuss\thttp://quotes.toscrape.com//author/Dr-Seuss\tMarch 02, 1904\t“Think left and think right and think low and think high. Oh, the thinks you can think up if only you try!”\n",
      "J.D. Salinger\thttp://quotes.toscrape.com//author/J-D-Salinger\tJanuary 01, 1919\t“What really knocks me out is a book that, when you're all done reading it, you wish the author that wrote it was a terrific friend of yours and you could call him up on the phone whenever you felt like it. That doesn't happen much, though.”\n",
      "George Carlin\thttp://quotes.toscrape.com//author/George-Carlin\tMay 12, 1937\t“The reason I talk to myself is because I’m the only one whose answers I accept.”\n",
      "John Lennon\thttp://quotes.toscrape.com//author/John-Lennon\tOctober 09, 1940\t“You may say I'm a dreamer, but I'm not the only one. I hope someday you'll join us. And the world will live as one.”\n",
      "W.C. Fields\thttp://quotes.toscrape.com//author/W-C-Fields\tJanuary 29, 1880\t“I am free of all prejudice. I hate everyone equally. ”\n",
      "Ayn Rand\thttp://quotes.toscrape.com//author/Ayn-Rand\tFebruary 02, 1905\t“The question isn't who is going to let me; it's who is going to stop me.”\n",
      "Mark Twain\thttp://quotes.toscrape.com//author/Mark-Twain\tNovember 30, 1835\t“′Classic′ - a book which people praise and don't read.”\n",
      "########################8############################\n",
      "Albert Einstein\thttp://quotes.toscrape.com//author/Albert-Einstein\tMarch 14, 1879\t“Anyone who has never made a mistake has never tried anything new.”\n",
      "Jane Austen\thttp://quotes.toscrape.com//author/Jane-Austen\tDecember 16, 1775\t“A lady's imagination is very rapid; it jumps from admiration to love, from love to matrimony in a moment.”\n",
      "J.K. Rowling\thttp://quotes.toscrape.com//author/J-K-Rowling\tJuly 31, 1965\t“Remember, if the time should come when you have to make a choice between what is right and what is easy, remember what happened to a boy who was good, and kind, and brave, because he strayed across the path of Lord Voldemort. Remember Cedric Diggory.”\n",
      "Jane Austen\thttp://quotes.toscrape.com//author/Jane-Austen\tDecember 16, 1775\t“I declare after all there is no enjoyment like reading! How much sooner one tires of any thing than of a book! -- When I have a house of my own, I shall be miserable if I have not an excellent library.”\n",
      "Jane Austen\thttp://quotes.toscrape.com//author/Jane-Austen\tDecember 16, 1775\t“There are few people whom I really love, and still fewer of whom I think well. The more I see of the world, the more am I dissatisfied with it; and every day confirms my belief of the inconsistency of all human characters, and of the little dependence that can be placed on the appearance of merit or sense.”\n",
      "C.S. Lewis\thttp://quotes.toscrape.com//author/C-S-Lewis\tNovember 29, 1898\t“Some day you will be old enough to start reading fairy tales again.”\n",
      "C.S. Lewis\thttp://quotes.toscrape.com//author/C-S-Lewis\tNovember 29, 1898\t“We are not necessarily doubting that God will do the best for us; we are wondering how painful the best will turn out to be.”\n",
      "Mark Twain\thttp://quotes.toscrape.com//author/Mark-Twain\tNovember 30, 1835\t“The fear of death follows from the fear of life. A man who lives fully is prepared to die at any time.”\n",
      "Mark Twain\thttp://quotes.toscrape.com//author/Mark-Twain\tNovember 30, 1835\t“A lie can travel half way around the world while the truth is putting on its shoes.”\n",
      "C.S. Lewis\thttp://quotes.toscrape.com//author/C-S-Lewis\tNovember 29, 1898\t“I believe in Christianity as I believe that the sun has risen: not only because I see it, but because by it I see everything else.”\n",
      "########################9############################\n",
      "J.K. Rowling\thttp://quotes.toscrape.com//author/J-K-Rowling\tJuly 31, 1965\t“The truth.\" Dumbledore sighed. \"It is a beautiful and terrible thing, and should therefore be treated with great caution.”\n",
      "Jimi Hendrix\thttp://quotes.toscrape.com//author/Jimi-Hendrix\tNovember 27, 1942\t“I'm the one that's got to die when it's time for me to die, so let me live my life the way I want to.”\n",
      "J.M. Barrie\thttp://quotes.toscrape.com//author/J-M-Barrie\tMay 09, 1860\t“To die will be an awfully big adventure.”\n",
      "E.E. Cummings\thttp://quotes.toscrape.com//author/E-E-Cummings\tOctober 14, 1894\t“It takes courage to grow up and become who you really are.”\n",
      "Khaled Hosseini\thttp://quotes.toscrape.com//author/Khaled-Hosseini\tMarch 04, 1965\t“But better to get hurt by the truth than comforted with a lie.”\n",
      "Harper Lee\thttp://quotes.toscrape.com//author/Harper-Lee\tApril 28, 1926\t“You never really understand a person until you consider things from his point of view... Until you climb inside of his skin and walk around in it.”\n",
      "Madeleine L'Engle\thttp://quotes.toscrape.com//author/Madeleine-LEngle\tNovember 29, 1918\t“You have to write the book that wants to be written. And if the book will be too difficult for grown-ups, then you write it for children.”\n",
      "Mark Twain\thttp://quotes.toscrape.com//author/Mark-Twain\tNovember 30, 1835\t“Never tell the truth to people who are not worthy of it.”\n",
      "Dr. Seuss\thttp://quotes.toscrape.com//author/Dr-Seuss\tMarch 02, 1904\t“A person's a person, no matter how small.”\n",
      "George R.R. Martin\thttp://quotes.toscrape.com//author/George-R-R-Martin\tSeptember 20, 1948\t“... a mind needs books as a sword needs a whetstone, if it is to keep its edge.”\n",
      "########################10############################\n"
     ]
    }
   ],
   "source": [
    "authors = []\n",
    "texts = []\n",
    "birthdates = []\n",
    "links = []\n",
    "pape = soup\n",
    "for i in range(1, 10000):\n",
    "    url= 'http://quotes.toscrape.com/page/'+str(i)+'/'\n",
    "    html = requests.get(url)\n",
    "    soup_sub = BeautifulSoup(html.text, 'html.parser')\n",
    "    results = soup_sub.find_all('div', class_='quote')\n",
    "    if len(results) == 0:\n",
    "        input_file_2(authors, links, birthdates, texts)\n",
    "        break\n",
    "    # print(url)\n",
    "    authors,texts,birthdates, links =  tacgiaLink(results, authors,texts,birthdates, links)\n",
    "    print(f'########################{i}############################')\n"
   ]
  },
  {
   "attachments": {},
   "cell_type": "markdown",
   "metadata": {},
   "source": [
    "# 3.2. Khai phá dữ liệu (35 điểm)"
   ]
  },
  {
   "cell_type": "code",
   "execution_count": 9,
   "metadata": {},
   "outputs": [],
   "source": [
    "# include \n",
    "import pandas as pd\n",
    "import numpy as np\n",
    "import matplotlib_inline as plt\n",
    "import plotly.express as px\n",
    "import seaborn as sns\n",
    "from datetime import datetime\n"
   ]
  },
  {
   "cell_type": "code",
   "execution_count": 10,
   "metadata": {},
   "outputs": [
    {
     "data": {
      "text/html": [
       "<div>\n",
       "<style scoped>\n",
       "    .dataframe tbody tr th:only-of-type {\n",
       "        vertical-align: middle;\n",
       "    }\n",
       "\n",
       "    .dataframe tbody tr th {\n",
       "        vertical-align: top;\n",
       "    }\n",
       "\n",
       "    .dataframe thead th {\n",
       "        text-align: right;\n",
       "    }\n",
       "</style>\n",
       "<table border=\"1\" class=\"dataframe\">\n",
       "  <thead>\n",
       "    <tr style=\"text-align: right;\">\n",
       "      <th></th>\n",
       "      <th>Tacgia</th>\n",
       "      <th>Link</th>\n",
       "      <th>Namsinh</th>\n",
       "      <th>Quote</th>\n",
       "    </tr>\n",
       "  </thead>\n",
       "  <tbody>\n",
       "    <tr>\n",
       "      <th>0</th>\n",
       "      <td>Albert Einstein</td>\n",
       "      <td>http://quotes.toscrape.com//author/Albert-Eins...</td>\n",
       "      <td>March 14, 1879</td>\n",
       "      <td>“The world as we have created it is a process ...</td>\n",
       "    </tr>\n",
       "    <tr>\n",
       "      <th>1</th>\n",
       "      <td>J.K. Rowling</td>\n",
       "      <td>http://quotes.toscrape.com//author/J-K-Rowling</td>\n",
       "      <td>July 31, 1965</td>\n",
       "      <td>“It is our choices, Harry, that show what we t...</td>\n",
       "    </tr>\n",
       "    <tr>\n",
       "      <th>2</th>\n",
       "      <td>Albert Einstein</td>\n",
       "      <td>http://quotes.toscrape.com//author/Albert-Eins...</td>\n",
       "      <td>March 14, 1879</td>\n",
       "      <td>“There are only two ways to live your life. On...</td>\n",
       "    </tr>\n",
       "    <tr>\n",
       "      <th>3</th>\n",
       "      <td>Jane Austen</td>\n",
       "      <td>http://quotes.toscrape.com//author/Jane-Austen</td>\n",
       "      <td>December 16, 1775</td>\n",
       "      <td>“The person, be it gentleman or lady, who has ...</td>\n",
       "    </tr>\n",
       "    <tr>\n",
       "      <th>4</th>\n",
       "      <td>Marilyn Monroe</td>\n",
       "      <td>http://quotes.toscrape.com//author/Marilyn-Monroe</td>\n",
       "      <td>June 01, 1926</td>\n",
       "      <td>“Imperfection is beauty, madness is genius and...</td>\n",
       "    </tr>\n",
       "    <tr>\n",
       "      <th>...</th>\n",
       "      <td>...</td>\n",
       "      <td>...</td>\n",
       "      <td>...</td>\n",
       "      <td>...</td>\n",
       "    </tr>\n",
       "    <tr>\n",
       "      <th>95</th>\n",
       "      <td>Harper Lee</td>\n",
       "      <td>http://quotes.toscrape.com//author/Harper-Lee</td>\n",
       "      <td>April 28, 1926</td>\n",
       "      <td>“You never really understand a person until yo...</td>\n",
       "    </tr>\n",
       "    <tr>\n",
       "      <th>96</th>\n",
       "      <td>Madeleine L'Engle</td>\n",
       "      <td>http://quotes.toscrape.com//author/Madeleine-L...</td>\n",
       "      <td>November 29, 1918</td>\n",
       "      <td>“You have to write the book that wants to be w...</td>\n",
       "    </tr>\n",
       "    <tr>\n",
       "      <th>97</th>\n",
       "      <td>Mark Twain</td>\n",
       "      <td>http://quotes.toscrape.com//author/Mark-Twain</td>\n",
       "      <td>November 30, 1835</td>\n",
       "      <td>“Never tell the truth to people who are not wo...</td>\n",
       "    </tr>\n",
       "    <tr>\n",
       "      <th>98</th>\n",
       "      <td>Dr. Seuss</td>\n",
       "      <td>http://quotes.toscrape.com//author/Dr-Seuss</td>\n",
       "      <td>March 02, 1904</td>\n",
       "      <td>“A person's a person, no matter how small.”</td>\n",
       "    </tr>\n",
       "    <tr>\n",
       "      <th>99</th>\n",
       "      <td>George R.R. Martin</td>\n",
       "      <td>http://quotes.toscrape.com//author/George-R-R-...</td>\n",
       "      <td>September 20, 1948</td>\n",
       "      <td>“... a mind needs books as a sword needs a whe...</td>\n",
       "    </tr>\n",
       "  </tbody>\n",
       "</table>\n",
       "<p>100 rows × 4 columns</p>\n",
       "</div>"
      ],
      "text/plain": [
       "                Tacgia                                               Link   \n",
       "0      Albert Einstein  http://quotes.toscrape.com//author/Albert-Eins...  \\\n",
       "1         J.K. Rowling     http://quotes.toscrape.com//author/J-K-Rowling   \n",
       "2      Albert Einstein  http://quotes.toscrape.com//author/Albert-Eins...   \n",
       "3          Jane Austen     http://quotes.toscrape.com//author/Jane-Austen   \n",
       "4       Marilyn Monroe  http://quotes.toscrape.com//author/Marilyn-Monroe   \n",
       "..                 ...                                                ...   \n",
       "95          Harper Lee      http://quotes.toscrape.com//author/Harper-Lee   \n",
       "96   Madeleine L'Engle  http://quotes.toscrape.com//author/Madeleine-L...   \n",
       "97          Mark Twain      http://quotes.toscrape.com//author/Mark-Twain   \n",
       "98           Dr. Seuss        http://quotes.toscrape.com//author/Dr-Seuss   \n",
       "99  George R.R. Martin  http://quotes.toscrape.com//author/George-R-R-...   \n",
       "\n",
       "               Namsinh                                              Quote  \n",
       "0       March 14, 1879  “The world as we have created it is a process ...  \n",
       "1        July 31, 1965  “It is our choices, Harry, that show what we t...  \n",
       "2       March 14, 1879  “There are only two ways to live your life. On...  \n",
       "3    December 16, 1775  “The person, be it gentleman or lady, who has ...  \n",
       "4        June 01, 1926  “Imperfection is beauty, madness is genius and...  \n",
       "..                 ...                                                ...  \n",
       "95      April 28, 1926  “You never really understand a person until yo...  \n",
       "96   November 29, 1918  “You have to write the book that wants to be w...  \n",
       "97   November 30, 1835  “Never tell the truth to people who are not wo...  \n",
       "98      March 02, 1904        “A person's a person, no matter how small.”  \n",
       "99  September 20, 1948  “... a mind needs books as a sword needs a whe...  \n",
       "\n",
       "[100 rows x 4 columns]"
      ]
     },
     "execution_count": 10,
     "metadata": {},
     "output_type": "execute_result"
    }
   ],
   "source": [
    "meta = pd.read_csv(r'Quotes.csv', encoding='utf-8', index_col='Unnamed: 0')\n",
    "meta"
   ]
  },
  {
   "cell_type": "code",
   "execution_count": 11,
   "metadata": {},
   "outputs": [
    {
     "data": {
      "text/html": [
       "<div>\n",
       "<style scoped>\n",
       "    .dataframe tbody tr th:only-of-type {\n",
       "        vertical-align: middle;\n",
       "    }\n",
       "\n",
       "    .dataframe tbody tr th {\n",
       "        vertical-align: top;\n",
       "    }\n",
       "\n",
       "    .dataframe thead th {\n",
       "        text-align: right;\n",
       "    }\n",
       "</style>\n",
       "<table border=\"1\" class=\"dataframe\">\n",
       "  <thead>\n",
       "    <tr style=\"text-align: right;\">\n",
       "      <th></th>\n",
       "      <th>Tacgia</th>\n",
       "      <th>Link</th>\n",
       "      <th>Namsinh</th>\n",
       "      <th>Quote</th>\n",
       "    </tr>\n",
       "  </thead>\n",
       "  <tbody>\n",
       "    <tr>\n",
       "      <th>0</th>\n",
       "      <td>Albert Einstein</td>\n",
       "      <td>http://quotes.toscrape.com//author/Albert-Eins...</td>\n",
       "      <td>1879-03-14</td>\n",
       "      <td>“The world as we have created it is a process ...</td>\n",
       "    </tr>\n",
       "    <tr>\n",
       "      <th>1</th>\n",
       "      <td>J.K. Rowling</td>\n",
       "      <td>http://quotes.toscrape.com//author/J-K-Rowling</td>\n",
       "      <td>1965-07-31</td>\n",
       "      <td>“It is our choices, Harry, that show what we t...</td>\n",
       "    </tr>\n",
       "    <tr>\n",
       "      <th>2</th>\n",
       "      <td>Albert Einstein</td>\n",
       "      <td>http://quotes.toscrape.com//author/Albert-Eins...</td>\n",
       "      <td>1879-03-14</td>\n",
       "      <td>“There are only two ways to live your life. On...</td>\n",
       "    </tr>\n",
       "    <tr>\n",
       "      <th>3</th>\n",
       "      <td>Jane Austen</td>\n",
       "      <td>http://quotes.toscrape.com//author/Jane-Austen</td>\n",
       "      <td>1775-12-16</td>\n",
       "      <td>“The person, be it gentleman or lady, who has ...</td>\n",
       "    </tr>\n",
       "    <tr>\n",
       "      <th>4</th>\n",
       "      <td>Marilyn Monroe</td>\n",
       "      <td>http://quotes.toscrape.com//author/Marilyn-Monroe</td>\n",
       "      <td>1926-06-01</td>\n",
       "      <td>“Imperfection is beauty, madness is genius and...</td>\n",
       "    </tr>\n",
       "    <tr>\n",
       "      <th>...</th>\n",
       "      <td>...</td>\n",
       "      <td>...</td>\n",
       "      <td>...</td>\n",
       "      <td>...</td>\n",
       "    </tr>\n",
       "    <tr>\n",
       "      <th>95</th>\n",
       "      <td>Harper Lee</td>\n",
       "      <td>http://quotes.toscrape.com//author/Harper-Lee</td>\n",
       "      <td>1926-04-28</td>\n",
       "      <td>“You never really understand a person until yo...</td>\n",
       "    </tr>\n",
       "    <tr>\n",
       "      <th>96</th>\n",
       "      <td>Madeleine L'Engle</td>\n",
       "      <td>http://quotes.toscrape.com//author/Madeleine-L...</td>\n",
       "      <td>1918-11-29</td>\n",
       "      <td>“You have to write the book that wants to be w...</td>\n",
       "    </tr>\n",
       "    <tr>\n",
       "      <th>97</th>\n",
       "      <td>Mark Twain</td>\n",
       "      <td>http://quotes.toscrape.com//author/Mark-Twain</td>\n",
       "      <td>1835-11-30</td>\n",
       "      <td>“Never tell the truth to people who are not wo...</td>\n",
       "    </tr>\n",
       "    <tr>\n",
       "      <th>98</th>\n",
       "      <td>Dr. Seuss</td>\n",
       "      <td>http://quotes.toscrape.com//author/Dr-Seuss</td>\n",
       "      <td>1904-03-02</td>\n",
       "      <td>“A person's a person, no matter how small.”</td>\n",
       "    </tr>\n",
       "    <tr>\n",
       "      <th>99</th>\n",
       "      <td>George R.R. Martin</td>\n",
       "      <td>http://quotes.toscrape.com//author/George-R-R-...</td>\n",
       "      <td>1948-09-20</td>\n",
       "      <td>“... a mind needs books as a sword needs a whe...</td>\n",
       "    </tr>\n",
       "  </tbody>\n",
       "</table>\n",
       "<p>100 rows × 4 columns</p>\n",
       "</div>"
      ],
      "text/plain": [
       "                Tacgia                                               Link   \n",
       "0      Albert Einstein  http://quotes.toscrape.com//author/Albert-Eins...  \\\n",
       "1         J.K. Rowling     http://quotes.toscrape.com//author/J-K-Rowling   \n",
       "2      Albert Einstein  http://quotes.toscrape.com//author/Albert-Eins...   \n",
       "3          Jane Austen     http://quotes.toscrape.com//author/Jane-Austen   \n",
       "4       Marilyn Monroe  http://quotes.toscrape.com//author/Marilyn-Monroe   \n",
       "..                 ...                                                ...   \n",
       "95          Harper Lee      http://quotes.toscrape.com//author/Harper-Lee   \n",
       "96   Madeleine L'Engle  http://quotes.toscrape.com//author/Madeleine-L...   \n",
       "97          Mark Twain      http://quotes.toscrape.com//author/Mark-Twain   \n",
       "98           Dr. Seuss        http://quotes.toscrape.com//author/Dr-Seuss   \n",
       "99  George R.R. Martin  http://quotes.toscrape.com//author/George-R-R-...   \n",
       "\n",
       "      Namsinh                                              Quote  \n",
       "0  1879-03-14  “The world as we have created it is a process ...  \n",
       "1  1965-07-31  “It is our choices, Harry, that show what we t...  \n",
       "2  1879-03-14  “There are only two ways to live your life. On...  \n",
       "3  1775-12-16  “The person, be it gentleman or lady, who has ...  \n",
       "4  1926-06-01  “Imperfection is beauty, madness is genius and...  \n",
       "..        ...                                                ...  \n",
       "95 1926-04-28  “You never really understand a person until yo...  \n",
       "96 1918-11-29  “You have to write the book that wants to be w...  \n",
       "97 1835-11-30  “Never tell the truth to people who are not wo...  \n",
       "98 1904-03-02        “A person's a person, no matter how small.”  \n",
       "99 1948-09-20  “... a mind needs books as a sword needs a whe...  \n",
       "\n",
       "[100 rows x 4 columns]"
      ]
     },
     "execution_count": 11,
     "metadata": {},
     "output_type": "execute_result"
    }
   ],
   "source": [
    "# convert Namsinh to date\n",
    "meta.Namsinh = meta.Namsinh.apply(lambda x: datetime.strptime(x, \"%B %d, %Y\").date())\n",
    "meta.Namsinh = meta.Namsinh.apply(lambda x: pd.to_datetime(x))\n",
    "meta['Tacgia'] = meta['Tacgia'].astype(str)\n",
    "meta['Link'] = meta['Link'].astype(str)\n",
    "meta['Quote'] = meta['Quote'].astype(str)\n",
    "meta"
   ]
  },
  {
   "attachments": {},
   "cell_type": "markdown",
   "metadata": {},
   "source": [
    "## 3.2.1. Xử lý dữ liệu- Data Imputation (3 điểm):\n"
   ]
  },
  {
   "cell_type": "code",
   "execution_count": 12,
   "metadata": {},
   "outputs": [
    {
     "data": {
      "text/html": [
       "<div>\n",
       "<style scoped>\n",
       "    .dataframe tbody tr th:only-of-type {\n",
       "        vertical-align: middle;\n",
       "    }\n",
       "\n",
       "    .dataframe tbody tr th {\n",
       "        vertical-align: top;\n",
       "    }\n",
       "\n",
       "    .dataframe thead th {\n",
       "        text-align: right;\n",
       "    }\n",
       "</style>\n",
       "<table border=\"1\" class=\"dataframe\">\n",
       "  <thead>\n",
       "    <tr style=\"text-align: right;\">\n",
       "      <th></th>\n",
       "      <th>Tacgia</th>\n",
       "      <th>Link</th>\n",
       "      <th>Namsinh</th>\n",
       "      <th>Quote</th>\n",
       "      <th>STT</th>\n",
       "    </tr>\n",
       "  </thead>\n",
       "  <tbody>\n",
       "    <tr>\n",
       "      <th>0</th>\n",
       "      <td>Albert Einstein</td>\n",
       "      <td>http://quotes.toscrape.com//author/Albert-Eins...</td>\n",
       "      <td>1879-03-14</td>\n",
       "      <td>“The world as we have created it is a process ...</td>\n",
       "      <td>0</td>\n",
       "    </tr>\n",
       "    <tr>\n",
       "      <th>1</th>\n",
       "      <td>J.K. Rowling</td>\n",
       "      <td>http://quotes.toscrape.com//author/J-K-Rowling</td>\n",
       "      <td>1965-07-31</td>\n",
       "      <td>“It is our choices, Harry, that show what we t...</td>\n",
       "      <td>1</td>\n",
       "    </tr>\n",
       "    <tr>\n",
       "      <th>2</th>\n",
       "      <td>Albert Einstein</td>\n",
       "      <td>http://quotes.toscrape.com//author/Albert-Eins...</td>\n",
       "      <td>1879-03-14</td>\n",
       "      <td>“There are only two ways to live your life. On...</td>\n",
       "      <td>2</td>\n",
       "    </tr>\n",
       "  </tbody>\n",
       "</table>\n",
       "</div>"
      ],
      "text/plain": [
       "            Tacgia                                               Link   \n",
       "0  Albert Einstein  http://quotes.toscrape.com//author/Albert-Eins...  \\\n",
       "1     J.K. Rowling     http://quotes.toscrape.com//author/J-K-Rowling   \n",
       "2  Albert Einstein  http://quotes.toscrape.com//author/Albert-Eins...   \n",
       "\n",
       "     Namsinh                                              Quote  STT  \n",
       "0 1879-03-14  “The world as we have created it is a process ...    0  \n",
       "1 1965-07-31  “It is our choices, Harry, that show what we t...    1  \n",
       "2 1879-03-14  “There are only two ways to live your life. On...    2  "
      ]
     },
     "execution_count": 12,
     "metadata": {},
     "output_type": "execute_result"
    }
   ],
   "source": [
    "# Bạn hãy thêm vào Trường STT và điền tự động dữ liệu của trường này?\n",
    "\n",
    "meta['STT'] = list(range(len(meta)))\n",
    "meta.head(3)"
   ]
  },
  {
   "attachments": {},
   "cell_type": "markdown",
   "metadata": {},
   "source": [
    "**Một số giá trị của dữ liệu Trường ngày sinh chưa có, bạn hãy đề xuất cách điền?**\n",
    "\n",
    "+ ***Cách thứ 1***: em thấy dữ liệu này là tên các người nổi tiếng vì thế thông tin của nó đa số sẽ được publish ở trên mạng. Trường hợp nếu trên mạng không có thì chúng em sẽ lấy strimmed median của ngày sinh đã có\n",
    "+ ***Cách thứ 2***: sử dụng chat GPT api hiện tại để lấy thông tin (10,000 tokens/tháng) \n",
    "\n",
    "--> Nếu gặp tình huống này nhóm em sẽ chọn cách thứ 1"
   ]
  },
  {
   "cell_type": "code",
   "execution_count": 13,
   "metadata": {},
   "outputs": [
    {
     "data": {
      "text/plain": [
       "0"
      ]
     },
     "execution_count": 13,
     "metadata": {},
     "output_type": "execute_result"
    }
   ],
   "source": [
    "# Kiểm tra có ngày sinh nào null ko\n",
    "meta.Namsinh.isnull().sum()"
   ]
  },
  {
   "attachments": {},
   "cell_type": "markdown",
   "metadata": {},
   "source": [
    "**Đề xuất cách điền tuổi của các tác giả?**\n",
    "\n",
    "+ ***Cách thứ 1***: Đối với việc thay thế các dữ liệu thiếu thì có rất nhiều cách để điền điển hình như là mean, \n",
    "median nhưng với 2 tham số này thì rất dễ bị bias vì thế chúng ta có thêm các là lấy strimmed mean, strimmed median\n",
    "thì sẽ giảm bị bias\n",
    "+ ***Cách thứ 2***: em thấy dữ liệu này là tên các người nổi tiếng vì thế thông tin của nó đa số sẽ được publish ở trên\n",
    "mạng. Trường hợp nếu trên mạng không có thì chúng em sẽ lấy strimmed median của các độ tuổi đã có\n",
    "+ ***Cách thứ 3***: sử dụng selenium để lấy tuổi\n",
    "\n",
    "--> Nếu gặp tình huống này nhóm em sẽ chọn cách thứ 3"
   ]
  },
  {
   "cell_type": "code",
   "execution_count": 14,
   "metadata": {},
   "outputs": [],
   "source": [
    "ages = {}"
   ]
  },
  {
   "cell_type": "code",
   "execution_count": 15,
   "metadata": {},
   "outputs": [],
   "source": [
    "for i in meta.Tacgia.unique():\n",
    "    ages[i] = -1"
   ]
  },
  {
   "cell_type": "code",
   "execution_count": 16,
   "metadata": {},
   "outputs": [],
   "source": [
    "from selenium import webdriver\n",
    "from selenium.webdriver.common.by import By\n",
    "from selenium.webdriver.support.ui import WebDriverWait\n",
    "from selenium.webdriver.support import expected_conditions as EC\n",
    "from selenium.webdriver.common.keys import Keys\n",
    "import time\n",
    "from random import randint\n",
    "driver = webdriver.Chrome()"
   ]
  },
  {
   "cell_type": "code",
   "execution_count": 17,
   "metadata": {},
   "outputs": [
    {
     "name": "stdout",
     "output_type": "stream",
     "text": [
      "Albert Einstein --> Done\n",
      "J.K. Rowling --> Done\n",
      "Jane Austen --> Done\n",
      "Marilyn Monroe --> Done\n",
      "André Gide --> Done\n",
      "Thomas A. Edison --> Done\n",
      "Eleanor Roosevelt --> Done\n",
      "Steve Martin --> Done\n",
      "Bob Marley --> Done\n",
      "Dr. Seuss --> Done\n",
      "Douglas Adams --> Done\n",
      "Elie Wiesel --> Done\n",
      "Friedrich Nietzsche --> Done\n",
      "Mark Twain --> Done\n",
      "Allen Saunders --> Done\n",
      "Pablo Neruda --> Done\n",
      "Ralph Waldo Emerson --> Done\n",
      "Mother Teresa --> Done\n",
      "Garrison Keillor --> Done\n",
      "Jim Henson --> Done\n",
      "Charles M. Schulz --> Done\n",
      "William Nicholson --> Done\n",
      "Jorge Luis Borges --> Done\n",
      "George Eliot --> Done\n",
      "George R.R. Martin --> Done\n",
      "C.S. Lewis --> Done\n",
      "Martin Luther King Jr. --> Done\n",
      "James Baldwin --> Done\n",
      "Haruki Murakami --> Done\n",
      "Alexandre Dumas fils --> Done\n",
      "Stephenie Meyer --> Done\n",
      "Ernest Hemingway --> Done\n",
      "Helen Keller --> Done\n",
      "George Bernard Shaw --> Done\n",
      "Charles Bukowski --> Done\n",
      "Suzanne Collins --> Done\n",
      "J.R.R. Tolkien --> Done\n",
      "Alfred Tennyson --> Done\n",
      "Terry Pratchett --> Done\n",
      "J.D. Salinger --> Done\n",
      "George Carlin --> Done\n",
      "John Lennon --> Done\n",
      "W.C. Fields --> Done\n",
      "Ayn Rand --> Done\n",
      "Jimi Hendrix --> Done\n",
      "J.M. Barrie --> Done\n",
      "E.E. Cummings --> Done\n",
      "Khaled Hosseini --> Done\n",
      "Harper Lee --> Done\n",
      "Madeleine L'Engle --> Done\n"
     ]
    }
   ],
   "source": [
    "# Get born  author\n",
    "for i in  range(len(meta)):\n",
    "    if ages[meta.Tacgia[i]] != -1: continue\n",
    "    driver.get('https://www.google.com.vn/?hl=vi')\n",
    "    input_element = driver.find_element(By.XPATH, \"//*[@id='APjFqb']\")\n",
    "    input_element.send_keys(f'how old is author {meta.Tacgia[i]}' + Keys.ENTER)\n",
    "    age = driver.find_element(By.XPATH, '//*[@id=\"rso\"]/div[1]/div/block-component/div/div[1]/div[1]/div/div/div[1]/div/div/div[1]/div/div[1]/div[2]/div/div[1]').text.replace(' tuổi', '')\n",
    "    born = driver.find_element(By.XPATH, '//*[@id=\"rso\"]/div[1]/div/block-component/div/div[1]/div[1]/div/div/div[1]/div/div/div[1]/div/div[1]/div[2]/div/div[2]/div').text.split('–')[0]\n",
    "    \n",
    "    if len(born) <= 4:\n",
    "        \n",
    "        if meta.Namsinh[i].year != int(born):\n",
    "            print(f'{meta.Link[i]}')\n",
    "            age = None\n",
    "        ages[meta.Tacgia[i]] = age\n",
    "    else:\n",
    "        born = driver.find_element(By.XPATH, '//*[@id=\"rso\"]/div[1]/div/block-component/div/div[1]/div[1]/div/div/div[1]/div/div/div[1]/div/div[1]/div[2]/div/div[2]/div').text.split(',')[1]\n",
    "        if meta.Namsinh[i].year != int(born):\n",
    "            print(f'{meta.Link[i]}')\n",
    "            age = None\n",
    "        ages[meta.Tacgia[i]] = age\n",
    "    print(f'{meta.Tacgia[i]} --> Done')\n",
    "    time.sleep(randint(2, 6))\n",
    "driver.quit()"
   ]
  },
  {
   "cell_type": "code",
   "execution_count": 18,
   "metadata": {},
   "outputs": [],
   "source": [
    "meta['Tuoi'] = meta.apply(lambda row: int(ages[row.Tacgia]), axis=1)"
   ]
  },
  {
   "cell_type": "code",
   "execution_count": 19,
   "metadata": {},
   "outputs": [
    {
     "name": "stdout",
     "output_type": "stream",
     "text": [
      "Quantily values of the age NUll: 0\n"
     ]
    }
   ],
   "source": [
    "print(f'Quantily values of the age NUll: {meta.Tuoi.isna().sum()}')"
   ]
  },
  {
   "cell_type": "code",
   "execution_count": 20,
   "metadata": {},
   "outputs": [
    {
     "data": {
      "text/html": [
       "<div>\n",
       "<style scoped>\n",
       "    .dataframe tbody tr th:only-of-type {\n",
       "        vertical-align: middle;\n",
       "    }\n",
       "\n",
       "    .dataframe tbody tr th {\n",
       "        vertical-align: top;\n",
       "    }\n",
       "\n",
       "    .dataframe thead th {\n",
       "        text-align: right;\n",
       "    }\n",
       "</style>\n",
       "<table border=\"1\" class=\"dataframe\">\n",
       "  <thead>\n",
       "    <tr style=\"text-align: right;\">\n",
       "      <th></th>\n",
       "      <th>Tacgia</th>\n",
       "      <th>Link</th>\n",
       "      <th>Namsinh</th>\n",
       "      <th>Quote</th>\n",
       "      <th>STT</th>\n",
       "      <th>Tuoi</th>\n",
       "    </tr>\n",
       "  </thead>\n",
       "  <tbody>\n",
       "    <tr>\n",
       "      <th>0</th>\n",
       "      <td>Albert Einstein</td>\n",
       "      <td>http://quotes.toscrape.com//author/Albert-Eins...</td>\n",
       "      <td>1879-03-14</td>\n",
       "      <td>“The world as we have created it is a process ...</td>\n",
       "      <td>0</td>\n",
       "      <td>76</td>\n",
       "    </tr>\n",
       "    <tr>\n",
       "      <th>1</th>\n",
       "      <td>J.K. Rowling</td>\n",
       "      <td>http://quotes.toscrape.com//author/J-K-Rowling</td>\n",
       "      <td>1965-07-31</td>\n",
       "      <td>“It is our choices, Harry, that show what we t...</td>\n",
       "      <td>1</td>\n",
       "      <td>57</td>\n",
       "    </tr>\n",
       "    <tr>\n",
       "      <th>2</th>\n",
       "      <td>Albert Einstein</td>\n",
       "      <td>http://quotes.toscrape.com//author/Albert-Eins...</td>\n",
       "      <td>1879-03-14</td>\n",
       "      <td>“There are only two ways to live your life. On...</td>\n",
       "      <td>2</td>\n",
       "      <td>76</td>\n",
       "    </tr>\n",
       "    <tr>\n",
       "      <th>3</th>\n",
       "      <td>Jane Austen</td>\n",
       "      <td>http://quotes.toscrape.com//author/Jane-Austen</td>\n",
       "      <td>1775-12-16</td>\n",
       "      <td>“The person, be it gentleman or lady, who has ...</td>\n",
       "      <td>3</td>\n",
       "      <td>41</td>\n",
       "    </tr>\n",
       "    <tr>\n",
       "      <th>4</th>\n",
       "      <td>Marilyn Monroe</td>\n",
       "      <td>http://quotes.toscrape.com//author/Marilyn-Monroe</td>\n",
       "      <td>1926-06-01</td>\n",
       "      <td>“Imperfection is beauty, madness is genius and...</td>\n",
       "      <td>4</td>\n",
       "      <td>36</td>\n",
       "    </tr>\n",
       "  </tbody>\n",
       "</table>\n",
       "</div>"
      ],
      "text/plain": [
       "            Tacgia                                               Link   \n",
       "0  Albert Einstein  http://quotes.toscrape.com//author/Albert-Eins...  \\\n",
       "1     J.K. Rowling     http://quotes.toscrape.com//author/J-K-Rowling   \n",
       "2  Albert Einstein  http://quotes.toscrape.com//author/Albert-Eins...   \n",
       "3      Jane Austen     http://quotes.toscrape.com//author/Jane-Austen   \n",
       "4   Marilyn Monroe  http://quotes.toscrape.com//author/Marilyn-Monroe   \n",
       "\n",
       "     Namsinh                                              Quote  STT  Tuoi  \n",
       "0 1879-03-14  “The world as we have created it is a process ...    0    76  \n",
       "1 1965-07-31  “It is our choices, Harry, that show what we t...    1    57  \n",
       "2 1879-03-14  “There are only two ways to live your life. On...    2    76  \n",
       "3 1775-12-16  “The person, be it gentleman or lady, who has ...    3    41  \n",
       "4 1926-06-01  “Imperfection is beauty, madness is genius and...    4    36  "
      ]
     },
     "execution_count": 20,
     "metadata": {},
     "output_type": "execute_result"
    }
   ],
   "source": [
    "meta.head(5)"
   ]
  },
  {
   "attachments": {},
   "cell_type": "markdown",
   "metadata": {},
   "source": [
    "# 3.2.2. Khám phá dữ liệu- Data Exploration (12 điểm):"
   ]
  },
  {
   "cell_type": "code",
   "execution_count": 21,
   "metadata": {},
   "outputs": [
    {
     "data": {
      "text/html": [
       "<div>\n",
       "<style scoped>\n",
       "    .dataframe tbody tr th:only-of-type {\n",
       "        vertical-align: middle;\n",
       "    }\n",
       "\n",
       "    .dataframe tbody tr th {\n",
       "        vertical-align: top;\n",
       "    }\n",
       "\n",
       "    .dataframe thead th {\n",
       "        text-align: right;\n",
       "    }\n",
       "</style>\n",
       "<table border=\"1\" class=\"dataframe\">\n",
       "  <thead>\n",
       "    <tr style=\"text-align: right;\">\n",
       "      <th></th>\n",
       "      <th>Tacgia</th>\n",
       "      <th>Link</th>\n",
       "      <th>Namsinh</th>\n",
       "      <th>Quote</th>\n",
       "      <th>STT</th>\n",
       "      <th>Tuoi</th>\n",
       "    </tr>\n",
       "  </thead>\n",
       "  <tbody>\n",
       "    <tr>\n",
       "      <th>0</th>\n",
       "      <td>Albert Einstein</td>\n",
       "      <td>http://quotes.toscrape.com//author/Albert-Eins...</td>\n",
       "      <td>1879-03-14</td>\n",
       "      <td>“The world as we have created it is a process ...</td>\n",
       "      <td>0</td>\n",
       "      <td>76</td>\n",
       "    </tr>\n",
       "    <tr>\n",
       "      <th>1</th>\n",
       "      <td>J.K. Rowling</td>\n",
       "      <td>http://quotes.toscrape.com//author/J-K-Rowling</td>\n",
       "      <td>1965-07-31</td>\n",
       "      <td>“It is our choices, Harry, that show what we t...</td>\n",
       "      <td>1</td>\n",
       "      <td>57</td>\n",
       "    </tr>\n",
       "    <tr>\n",
       "      <th>2</th>\n",
       "      <td>Albert Einstein</td>\n",
       "      <td>http://quotes.toscrape.com//author/Albert-Eins...</td>\n",
       "      <td>1879-03-14</td>\n",
       "      <td>“There are only two ways to live your life. On...</td>\n",
       "      <td>2</td>\n",
       "      <td>76</td>\n",
       "    </tr>\n",
       "    <tr>\n",
       "      <th>3</th>\n",
       "      <td>Jane Austen</td>\n",
       "      <td>http://quotes.toscrape.com//author/Jane-Austen</td>\n",
       "      <td>1775-12-16</td>\n",
       "      <td>“The person, be it gentleman or lady, who has ...</td>\n",
       "      <td>3</td>\n",
       "      <td>41</td>\n",
       "    </tr>\n",
       "    <tr>\n",
       "      <th>4</th>\n",
       "      <td>Marilyn Monroe</td>\n",
       "      <td>http://quotes.toscrape.com//author/Marilyn-Monroe</td>\n",
       "      <td>1926-06-01</td>\n",
       "      <td>“Imperfection is beauty, madness is genius and...</td>\n",
       "      <td>4</td>\n",
       "      <td>36</td>\n",
       "    </tr>\n",
       "  </tbody>\n",
       "</table>\n",
       "</div>"
      ],
      "text/plain": [
       "            Tacgia                                               Link   \n",
       "0  Albert Einstein  http://quotes.toscrape.com//author/Albert-Eins...  \\\n",
       "1     J.K. Rowling     http://quotes.toscrape.com//author/J-K-Rowling   \n",
       "2  Albert Einstein  http://quotes.toscrape.com//author/Albert-Eins...   \n",
       "3      Jane Austen     http://quotes.toscrape.com//author/Jane-Austen   \n",
       "4   Marilyn Monroe  http://quotes.toscrape.com//author/Marilyn-Monroe   \n",
       "\n",
       "      Namsinh                                              Quote  STT  Tuoi  \n",
       "0  1879-03-14  “The world as we have created it is a process ...    0    76  \n",
       "1  1965-07-31  “It is our choices, Harry, that show what we t...    1    57  \n",
       "2  1879-03-14  “There are only two ways to live your life. On...    2    76  \n",
       "3  1775-12-16  “The person, be it gentleman or lady, who has ...    3    41  \n",
       "4  1926-06-01  “Imperfection is beauty, madness is genius and...    4    36  "
      ]
     },
     "execution_count": 21,
     "metadata": {},
     "output_type": "execute_result"
    }
   ],
   "source": [
    "# Em có tạo một file data mới sau khi có bổ sung STT và age vào thuận tiện cho việc kiểm tra ạ\n",
    "meta = pd.read_csv(r'D:\\IntroDS\\final_project\\Bai3\\Quotes_has_age.csv', index_col='Unnamed: 0')\n",
    "meta.head(5)"
   ]
  },
  {
   "cell_type": "code",
   "execution_count": 22,
   "metadata": {},
   "outputs": [
    {
     "name": "stdout",
     "output_type": "stream",
     "text": [
      "Data size = (100, 6)\n"
     ]
    }
   ],
   "source": [
    "print(f'Data size = {meta.shape}')"
   ]
  },
  {
   "cell_type": "code",
   "execution_count": 23,
   "metadata": {},
   "outputs": [
    {
     "name": "stdout",
     "output_type": "stream",
     "text": [
      "####Check data type####\n",
      "<class 'pandas.core.frame.DataFrame'>\n",
      "Index: 100 entries, 0 to 99\n",
      "Data columns (total 6 columns):\n",
      " #   Column   Non-Null Count  Dtype \n",
      "---  ------   --------------  ----- \n",
      " 0   Tacgia   100 non-null    object\n",
      " 1   Link     100 non-null    object\n",
      " 2   Namsinh  100 non-null    object\n",
      " 3   Quote    100 non-null    object\n",
      " 4   STT      100 non-null    int64 \n",
      " 5   Tuoi     100 non-null    int64 \n",
      "dtypes: int64(2), object(4)\n",
      "memory usage: 5.5+ KB\n"
     ]
    }
   ],
   "source": [
    "print(\"####Check data type####\")\n",
    "meta.info()"
   ]
  },
  {
   "cell_type": "code",
   "execution_count": 24,
   "metadata": {},
   "outputs": [
    {
     "name": "stdout",
     "output_type": "stream",
     "text": [
      "####Check data describe####\n"
     ]
    },
    {
     "data": {
      "text/html": [
       "<div>\n",
       "<style scoped>\n",
       "    .dataframe tbody tr th:only-of-type {\n",
       "        vertical-align: middle;\n",
       "    }\n",
       "\n",
       "    .dataframe tbody tr th {\n",
       "        vertical-align: top;\n",
       "    }\n",
       "\n",
       "    .dataframe thead th {\n",
       "        text-align: right;\n",
       "    }\n",
       "</style>\n",
       "<table border=\"1\" class=\"dataframe\">\n",
       "  <thead>\n",
       "    <tr style=\"text-align: right;\">\n",
       "      <th></th>\n",
       "      <th>Tuoi</th>\n",
       "    </tr>\n",
       "  </thead>\n",
       "  <tbody>\n",
       "    <tr>\n",
       "      <th>count</th>\n",
       "      <td>100.00000</td>\n",
       "    </tr>\n",
       "    <tr>\n",
       "      <th>mean</th>\n",
       "      <td>66.24000</td>\n",
       "    </tr>\n",
       "    <tr>\n",
       "      <th>std</th>\n",
       "      <td>17.01106</td>\n",
       "    </tr>\n",
       "    <tr>\n",
       "      <th>min</th>\n",
       "      <td>27.00000</td>\n",
       "    </tr>\n",
       "    <tr>\n",
       "      <th>25%</th>\n",
       "      <td>57.00000</td>\n",
       "    </tr>\n",
       "    <tr>\n",
       "      <th>50%</th>\n",
       "      <td>73.00000</td>\n",
       "    </tr>\n",
       "    <tr>\n",
       "      <th>75%</th>\n",
       "      <td>77.25000</td>\n",
       "    </tr>\n",
       "    <tr>\n",
       "      <th>max</th>\n",
       "      <td>94.00000</td>\n",
       "    </tr>\n",
       "  </tbody>\n",
       "</table>\n",
       "</div>"
      ],
      "text/plain": [
       "            Tuoi\n",
       "count  100.00000\n",
       "mean    66.24000\n",
       "std     17.01106\n",
       "min     27.00000\n",
       "25%     57.00000\n",
       "50%     73.00000\n",
       "75%     77.25000\n",
       "max     94.00000"
      ]
     },
     "execution_count": 24,
     "metadata": {},
     "output_type": "execute_result"
    }
   ],
   "source": [
    "print(\"####Check data describe####\")\n",
    "meta[['Tuoi']].describe()"
   ]
  },
  {
   "cell_type": "code",
   "execution_count": 25,
   "metadata": {},
   "outputs": [
    {
     "name": "stdout",
     "output_type": "stream",
     "text": [
      "####Check data null####\n"
     ]
    },
    {
     "data": {
      "text/plain": [
       "Tacgia     0\n",
       "Link       0\n",
       "Namsinh    0\n",
       "Quote      0\n",
       "STT        0\n",
       "Tuoi       0\n",
       "dtype: int64"
      ]
     },
     "execution_count": 25,
     "metadata": {},
     "output_type": "execute_result"
    }
   ],
   "source": [
    "print(\"####Check data null####\")\n",
    "\n",
    "meta.isna().sum()"
   ]
  },
  {
   "attachments": {},
   "cell_type": "markdown",
   "metadata": {},
   "source": [
    "> ### Top 10 người nổi tiếng có số lượng câu nói nhiều nhất và ít nhất"
   ]
  },
  {
   "cell_type": "code",
   "execution_count": 26,
   "metadata": {},
   "outputs": [
    {
     "data": {
      "text/html": [
       "<div>\n",
       "<style scoped>\n",
       "    .dataframe tbody tr th:only-of-type {\n",
       "        vertical-align: middle;\n",
       "    }\n",
       "\n",
       "    .dataframe tbody tr th {\n",
       "        vertical-align: top;\n",
       "    }\n",
       "\n",
       "    .dataframe thead th {\n",
       "        text-align: right;\n",
       "    }\n",
       "</style>\n",
       "<table border=\"1\" class=\"dataframe\">\n",
       "  <thead>\n",
       "    <tr style=\"text-align: right;\">\n",
       "      <th></th>\n",
       "      <th>Tacgia</th>\n",
       "      <th>Link</th>\n",
       "      <th>Namsinh</th>\n",
       "      <th>Quote</th>\n",
       "      <th>STT</th>\n",
       "      <th>Tuoi</th>\n",
       "    </tr>\n",
       "  </thead>\n",
       "  <tbody>\n",
       "    <tr>\n",
       "      <th>0</th>\n",
       "      <td>Albert Einstein</td>\n",
       "      <td>http://quotes.toscrape.com//author/Albert-Eins...</td>\n",
       "      <td>1879-03-14</td>\n",
       "      <td>“The world as we have created it is a process ...</td>\n",
       "      <td>0</td>\n",
       "      <td>76</td>\n",
       "    </tr>\n",
       "    <tr>\n",
       "      <th>1</th>\n",
       "      <td>J.K. Rowling</td>\n",
       "      <td>http://quotes.toscrape.com//author/J-K-Rowling</td>\n",
       "      <td>1965-07-31</td>\n",
       "      <td>“It is our choices, Harry, that show what we t...</td>\n",
       "      <td>1</td>\n",
       "      <td>57</td>\n",
       "    </tr>\n",
       "    <tr>\n",
       "      <th>2</th>\n",
       "      <td>Albert Einstein</td>\n",
       "      <td>http://quotes.toscrape.com//author/Albert-Eins...</td>\n",
       "      <td>1879-03-14</td>\n",
       "      <td>“There are only two ways to live your life. On...</td>\n",
       "      <td>2</td>\n",
       "      <td>76</td>\n",
       "    </tr>\n",
       "    <tr>\n",
       "      <th>3</th>\n",
       "      <td>Jane Austen</td>\n",
       "      <td>http://quotes.toscrape.com//author/Jane-Austen</td>\n",
       "      <td>1775-12-16</td>\n",
       "      <td>“The person, be it gentleman or lady, who has ...</td>\n",
       "      <td>3</td>\n",
       "      <td>41</td>\n",
       "    </tr>\n",
       "    <tr>\n",
       "      <th>4</th>\n",
       "      <td>Marilyn Monroe</td>\n",
       "      <td>http://quotes.toscrape.com//author/Marilyn-Monroe</td>\n",
       "      <td>1926-06-01</td>\n",
       "      <td>“Imperfection is beauty, madness is genius and...</td>\n",
       "      <td>4</td>\n",
       "      <td>36</td>\n",
       "    </tr>\n",
       "  </tbody>\n",
       "</table>\n",
       "</div>"
      ],
      "text/plain": [
       "            Tacgia                                               Link   \n",
       "0  Albert Einstein  http://quotes.toscrape.com//author/Albert-Eins...  \\\n",
       "1     J.K. Rowling     http://quotes.toscrape.com//author/J-K-Rowling   \n",
       "2  Albert Einstein  http://quotes.toscrape.com//author/Albert-Eins...   \n",
       "3      Jane Austen     http://quotes.toscrape.com//author/Jane-Austen   \n",
       "4   Marilyn Monroe  http://quotes.toscrape.com//author/Marilyn-Monroe   \n",
       "\n",
       "      Namsinh                                              Quote  STT  Tuoi  \n",
       "0  1879-03-14  “The world as we have created it is a process ...    0    76  \n",
       "1  1965-07-31  “It is our choices, Harry, that show what we t...    1    57  \n",
       "2  1879-03-14  “There are only two ways to live your life. On...    2    76  \n",
       "3  1775-12-16  “The person, be it gentleman or lady, who has ...    3    41  \n",
       "4  1926-06-01  “Imperfection is beauty, madness is genius and...    4    36  "
      ]
     },
     "execution_count": 26,
     "metadata": {},
     "output_type": "execute_result"
    }
   ],
   "source": [
    "meta.head()"
   ]
  },
  {
   "cell_type": "code",
   "execution_count": 27,
   "metadata": {},
   "outputs": [
    {
     "data": {
      "text/html": [
       "<div>\n",
       "<style scoped>\n",
       "    .dataframe tbody tr th:only-of-type {\n",
       "        vertical-align: middle;\n",
       "    }\n",
       "\n",
       "    .dataframe tbody tr th {\n",
       "        vertical-align: top;\n",
       "    }\n",
       "\n",
       "    .dataframe thead th {\n",
       "        text-align: right;\n",
       "    }\n",
       "</style>\n",
       "<table border=\"1\" class=\"dataframe\">\n",
       "  <thead>\n",
       "    <tr style=\"text-align: right;\">\n",
       "      <th></th>\n",
       "      <th>Author</th>\n",
       "      <th>Quantily</th>\n",
       "    </tr>\n",
       "  </thead>\n",
       "  <tbody>\n",
       "    <tr>\n",
       "      <th>0</th>\n",
       "      <td>Albert Einstein</td>\n",
       "      <td>10</td>\n",
       "    </tr>\n",
       "    <tr>\n",
       "      <th>26</th>\n",
       "      <td>J.K. Rowling</td>\n",
       "      <td>9</td>\n",
       "    </tr>\n",
       "    <tr>\n",
       "      <th>37</th>\n",
       "      <td>Marilyn Monroe</td>\n",
       "      <td>7</td>\n",
       "    </tr>\n",
       "    <tr>\n",
       "      <th>38</th>\n",
       "      <td>Mark Twain</td>\n",
       "      <td>6</td>\n",
       "    </tr>\n",
       "    <tr>\n",
       "      <th>11</th>\n",
       "      <td>Dr. Seuss</td>\n",
       "      <td>6</td>\n",
       "    </tr>\n",
       "  </tbody>\n",
       "</table>\n",
       "</div>"
      ],
      "text/plain": [
       "             Author  Quantily\n",
       "0   Albert Einstein        10\n",
       "26     J.K. Rowling         9\n",
       "37   Marilyn Monroe         7\n",
       "38       Mark Twain         6\n",
       "11        Dr. Seuss         6"
      ]
     },
     "execution_count": 27,
     "metadata": {},
     "output_type": "execute_result"
    }
   ],
   "source": [
    "most_author = meta.groupby(['Tacgia']).size()\n",
    "most_author = pd.DataFrame({'Author': most_author.index, 'Quantily': most_author.values}).sort_values(by='Quantily' , ascending=False)\n",
    "\n",
    "most_author.head(5)"
   ]
  },
  {
   "cell_type": "code",
   "execution_count": 28,
   "metadata": {},
   "outputs": [
    {
     "data": {
      "application/vnd.plotly.v1+json": {
       "config": {
        "plotlyServerURL": "https://plot.ly"
       },
       "data": [
        {
         "alignmentgroup": "True",
         "hovertemplate": "Author=%{x}<br>Quantily=%{y}<extra></extra>",
         "legendgroup": "Albert Einstein",
         "marker": {
          "color": "#636efa",
          "pattern": {
           "shape": ""
          }
         },
         "name": "Albert Einstein",
         "offsetgroup": "Albert Einstein",
         "orientation": "v",
         "showlegend": true,
         "textposition": "auto",
         "texttemplate": "%{y:.s}",
         "type": "bar",
         "x": [
          "Albert Einstein"
         ],
         "xaxis": "x",
         "y": [
          10
         ],
         "yaxis": "y"
        },
        {
         "alignmentgroup": "True",
         "hovertemplate": "Author=%{x}<br>Quantily=%{y}<extra></extra>",
         "legendgroup": "J.K. Rowling",
         "marker": {
          "color": "#EF553B",
          "pattern": {
           "shape": ""
          }
         },
         "name": "J.K. Rowling",
         "offsetgroup": "J.K. Rowling",
         "orientation": "v",
         "showlegend": true,
         "textposition": "auto",
         "texttemplate": "%{y:.s}",
         "type": "bar",
         "x": [
          "J.K. Rowling"
         ],
         "xaxis": "x",
         "y": [
          9
         ],
         "yaxis": "y"
        },
        {
         "alignmentgroup": "True",
         "hovertemplate": "Author=%{x}<br>Quantily=%{y}<extra></extra>",
         "legendgroup": "Marilyn Monroe",
         "marker": {
          "color": "#00cc96",
          "pattern": {
           "shape": ""
          }
         },
         "name": "Marilyn Monroe",
         "offsetgroup": "Marilyn Monroe",
         "orientation": "v",
         "showlegend": true,
         "textposition": "auto",
         "texttemplate": "%{y:.s}",
         "type": "bar",
         "x": [
          "Marilyn Monroe"
         ],
         "xaxis": "x",
         "y": [
          7
         ],
         "yaxis": "y"
        },
        {
         "alignmentgroup": "True",
         "hovertemplate": "Author=%{x}<br>Quantily=%{y}<extra></extra>",
         "legendgroup": "Mark Twain",
         "marker": {
          "color": "#ab63fa",
          "pattern": {
           "shape": ""
          }
         },
         "name": "Mark Twain",
         "offsetgroup": "Mark Twain",
         "orientation": "v",
         "showlegend": true,
         "textposition": "auto",
         "texttemplate": "%{y:.s}",
         "type": "bar",
         "x": [
          "Mark Twain"
         ],
         "xaxis": "x",
         "y": [
          6
         ],
         "yaxis": "y"
        },
        {
         "alignmentgroup": "True",
         "hovertemplate": "Author=%{x}<br>Quantily=%{y}<extra></extra>",
         "legendgroup": "Dr. Seuss",
         "marker": {
          "color": "#FFA15A",
          "pattern": {
           "shape": ""
          }
         },
         "name": "Dr. Seuss",
         "offsetgroup": "Dr. Seuss",
         "orientation": "v",
         "showlegend": true,
         "textposition": "auto",
         "texttemplate": "%{y:.s}",
         "type": "bar",
         "x": [
          "Dr. Seuss"
         ],
         "xaxis": "x",
         "y": [
          6
         ],
         "yaxis": "y"
        },
        {
         "alignmentgroup": "True",
         "hovertemplate": "Author=%{x}<br>Quantily=%{y}<extra></extra>",
         "legendgroup": "C.S. Lewis",
         "marker": {
          "color": "#19d3f3",
          "pattern": {
           "shape": ""
          }
         },
         "name": "C.S. Lewis",
         "offsetgroup": "C.S. Lewis",
         "orientation": "v",
         "showlegend": true,
         "textposition": "auto",
         "texttemplate": "%{y:.s}",
         "type": "bar",
         "x": [
          "C.S. Lewis"
         ],
         "xaxis": "x",
         "y": [
          5
         ],
         "yaxis": "y"
        },
        {
         "alignmentgroup": "True",
         "hovertemplate": "Author=%{x}<br>Quantily=%{y}<extra></extra>",
         "legendgroup": "Jane Austen",
         "marker": {
          "color": "#FF6692",
          "pattern": {
           "shape": ""
          }
         },
         "name": "Jane Austen",
         "offsetgroup": "Jane Austen",
         "orientation": "v",
         "showlegend": true,
         "textposition": "auto",
         "texttemplate": "%{y:.s}",
         "type": "bar",
         "x": [
          "Jane Austen"
         ],
         "xaxis": "x",
         "y": [
          5
         ],
         "yaxis": "y"
        },
        {
         "alignmentgroup": "True",
         "hovertemplate": "Author=%{x}<br>Quantily=%{y}<extra></extra>",
         "legendgroup": "Bob Marley",
         "marker": {
          "color": "#B6E880",
          "pattern": {
           "shape": ""
          }
         },
         "name": "Bob Marley",
         "offsetgroup": "Bob Marley",
         "orientation": "v",
         "showlegend": true,
         "textposition": "auto",
         "texttemplate": "%{y:.s}",
         "type": "bar",
         "x": [
          "Bob Marley"
         ],
         "xaxis": "x",
         "y": [
          3
         ],
         "yaxis": "y"
        },
        {
         "alignmentgroup": "True",
         "hovertemplate": "Author=%{x}<br>Quantily=%{y}<extra></extra>",
         "legendgroup": "George R.R. Martin",
         "marker": {
          "color": "#FF97FF",
          "pattern": {
           "shape": ""
          }
         },
         "name": "George R.R. Martin",
         "offsetgroup": "George R.R. Martin",
         "orientation": "v",
         "showlegend": true,
         "textposition": "auto",
         "texttemplate": "%{y:.s}",
         "type": "bar",
         "x": [
          "George R.R. Martin"
         ],
         "xaxis": "x",
         "y": [
          2
         ],
         "yaxis": "y"
        },
        {
         "alignmentgroup": "True",
         "hovertemplate": "Author=%{x}<br>Quantily=%{y}<extra></extra>",
         "legendgroup": "Suzanne Collins",
         "marker": {
          "color": "#FECB52",
          "pattern": {
           "shape": ""
          }
         },
         "name": "Suzanne Collins",
         "offsetgroup": "Suzanne Collins",
         "orientation": "v",
         "showlegend": true,
         "textposition": "auto",
         "texttemplate": "%{y:.s}",
         "type": "bar",
         "x": [
          "Suzanne Collins"
         ],
         "xaxis": "x",
         "y": [
          2
         ],
         "yaxis": "y"
        }
       ],
       "layout": {
        "barmode": "relative",
        "legend": {
         "title": {
          "text": "Author"
         },
         "tracegroupgap": 0
        },
        "template": {
         "data": {
          "bar": [
           {
            "error_x": {
             "color": "#2a3f5f"
            },
            "error_y": {
             "color": "#2a3f5f"
            },
            "marker": {
             "line": {
              "color": "#E5ECF6",
              "width": 0.5
             },
             "pattern": {
              "fillmode": "overlay",
              "size": 10,
              "solidity": 0.2
             }
            },
            "type": "bar"
           }
          ],
          "barpolar": [
           {
            "marker": {
             "line": {
              "color": "#E5ECF6",
              "width": 0.5
             },
             "pattern": {
              "fillmode": "overlay",
              "size": 10,
              "solidity": 0.2
             }
            },
            "type": "barpolar"
           }
          ],
          "carpet": [
           {
            "aaxis": {
             "endlinecolor": "#2a3f5f",
             "gridcolor": "white",
             "linecolor": "white",
             "minorgridcolor": "white",
             "startlinecolor": "#2a3f5f"
            },
            "baxis": {
             "endlinecolor": "#2a3f5f",
             "gridcolor": "white",
             "linecolor": "white",
             "minorgridcolor": "white",
             "startlinecolor": "#2a3f5f"
            },
            "type": "carpet"
           }
          ],
          "choropleth": [
           {
            "colorbar": {
             "outlinewidth": 0,
             "ticks": ""
            },
            "type": "choropleth"
           }
          ],
          "contour": [
           {
            "colorbar": {
             "outlinewidth": 0,
             "ticks": ""
            },
            "colorscale": [
             [
              0,
              "#0d0887"
             ],
             [
              0.1111111111111111,
              "#46039f"
             ],
             [
              0.2222222222222222,
              "#7201a8"
             ],
             [
              0.3333333333333333,
              "#9c179e"
             ],
             [
              0.4444444444444444,
              "#bd3786"
             ],
             [
              0.5555555555555556,
              "#d8576b"
             ],
             [
              0.6666666666666666,
              "#ed7953"
             ],
             [
              0.7777777777777778,
              "#fb9f3a"
             ],
             [
              0.8888888888888888,
              "#fdca26"
             ],
             [
              1,
              "#f0f921"
             ]
            ],
            "type": "contour"
           }
          ],
          "contourcarpet": [
           {
            "colorbar": {
             "outlinewidth": 0,
             "ticks": ""
            },
            "type": "contourcarpet"
           }
          ],
          "heatmap": [
           {
            "colorbar": {
             "outlinewidth": 0,
             "ticks": ""
            },
            "colorscale": [
             [
              0,
              "#0d0887"
             ],
             [
              0.1111111111111111,
              "#46039f"
             ],
             [
              0.2222222222222222,
              "#7201a8"
             ],
             [
              0.3333333333333333,
              "#9c179e"
             ],
             [
              0.4444444444444444,
              "#bd3786"
             ],
             [
              0.5555555555555556,
              "#d8576b"
             ],
             [
              0.6666666666666666,
              "#ed7953"
             ],
             [
              0.7777777777777778,
              "#fb9f3a"
             ],
             [
              0.8888888888888888,
              "#fdca26"
             ],
             [
              1,
              "#f0f921"
             ]
            ],
            "type": "heatmap"
           }
          ],
          "heatmapgl": [
           {
            "colorbar": {
             "outlinewidth": 0,
             "ticks": ""
            },
            "colorscale": [
             [
              0,
              "#0d0887"
             ],
             [
              0.1111111111111111,
              "#46039f"
             ],
             [
              0.2222222222222222,
              "#7201a8"
             ],
             [
              0.3333333333333333,
              "#9c179e"
             ],
             [
              0.4444444444444444,
              "#bd3786"
             ],
             [
              0.5555555555555556,
              "#d8576b"
             ],
             [
              0.6666666666666666,
              "#ed7953"
             ],
             [
              0.7777777777777778,
              "#fb9f3a"
             ],
             [
              0.8888888888888888,
              "#fdca26"
             ],
             [
              1,
              "#f0f921"
             ]
            ],
            "type": "heatmapgl"
           }
          ],
          "histogram": [
           {
            "marker": {
             "pattern": {
              "fillmode": "overlay",
              "size": 10,
              "solidity": 0.2
             }
            },
            "type": "histogram"
           }
          ],
          "histogram2d": [
           {
            "colorbar": {
             "outlinewidth": 0,
             "ticks": ""
            },
            "colorscale": [
             [
              0,
              "#0d0887"
             ],
             [
              0.1111111111111111,
              "#46039f"
             ],
             [
              0.2222222222222222,
              "#7201a8"
             ],
             [
              0.3333333333333333,
              "#9c179e"
             ],
             [
              0.4444444444444444,
              "#bd3786"
             ],
             [
              0.5555555555555556,
              "#d8576b"
             ],
             [
              0.6666666666666666,
              "#ed7953"
             ],
             [
              0.7777777777777778,
              "#fb9f3a"
             ],
             [
              0.8888888888888888,
              "#fdca26"
             ],
             [
              1,
              "#f0f921"
             ]
            ],
            "type": "histogram2d"
           }
          ],
          "histogram2dcontour": [
           {
            "colorbar": {
             "outlinewidth": 0,
             "ticks": ""
            },
            "colorscale": [
             [
              0,
              "#0d0887"
             ],
             [
              0.1111111111111111,
              "#46039f"
             ],
             [
              0.2222222222222222,
              "#7201a8"
             ],
             [
              0.3333333333333333,
              "#9c179e"
             ],
             [
              0.4444444444444444,
              "#bd3786"
             ],
             [
              0.5555555555555556,
              "#d8576b"
             ],
             [
              0.6666666666666666,
              "#ed7953"
             ],
             [
              0.7777777777777778,
              "#fb9f3a"
             ],
             [
              0.8888888888888888,
              "#fdca26"
             ],
             [
              1,
              "#f0f921"
             ]
            ],
            "type": "histogram2dcontour"
           }
          ],
          "mesh3d": [
           {
            "colorbar": {
             "outlinewidth": 0,
             "ticks": ""
            },
            "type": "mesh3d"
           }
          ],
          "parcoords": [
           {
            "line": {
             "colorbar": {
              "outlinewidth": 0,
              "ticks": ""
             }
            },
            "type": "parcoords"
           }
          ],
          "pie": [
           {
            "automargin": true,
            "type": "pie"
           }
          ],
          "scatter": [
           {
            "fillpattern": {
             "fillmode": "overlay",
             "size": 10,
             "solidity": 0.2
            },
            "type": "scatter"
           }
          ],
          "scatter3d": [
           {
            "line": {
             "colorbar": {
              "outlinewidth": 0,
              "ticks": ""
             }
            },
            "marker": {
             "colorbar": {
              "outlinewidth": 0,
              "ticks": ""
             }
            },
            "type": "scatter3d"
           }
          ],
          "scattercarpet": [
           {
            "marker": {
             "colorbar": {
              "outlinewidth": 0,
              "ticks": ""
             }
            },
            "type": "scattercarpet"
           }
          ],
          "scattergeo": [
           {
            "marker": {
             "colorbar": {
              "outlinewidth": 0,
              "ticks": ""
             }
            },
            "type": "scattergeo"
           }
          ],
          "scattergl": [
           {
            "marker": {
             "colorbar": {
              "outlinewidth": 0,
              "ticks": ""
             }
            },
            "type": "scattergl"
           }
          ],
          "scattermapbox": [
           {
            "marker": {
             "colorbar": {
              "outlinewidth": 0,
              "ticks": ""
             }
            },
            "type": "scattermapbox"
           }
          ],
          "scatterpolar": [
           {
            "marker": {
             "colorbar": {
              "outlinewidth": 0,
              "ticks": ""
             }
            },
            "type": "scatterpolar"
           }
          ],
          "scatterpolargl": [
           {
            "marker": {
             "colorbar": {
              "outlinewidth": 0,
              "ticks": ""
             }
            },
            "type": "scatterpolargl"
           }
          ],
          "scatterternary": [
           {
            "marker": {
             "colorbar": {
              "outlinewidth": 0,
              "ticks": ""
             }
            },
            "type": "scatterternary"
           }
          ],
          "surface": [
           {
            "colorbar": {
             "outlinewidth": 0,
             "ticks": ""
            },
            "colorscale": [
             [
              0,
              "#0d0887"
             ],
             [
              0.1111111111111111,
              "#46039f"
             ],
             [
              0.2222222222222222,
              "#7201a8"
             ],
             [
              0.3333333333333333,
              "#9c179e"
             ],
             [
              0.4444444444444444,
              "#bd3786"
             ],
             [
              0.5555555555555556,
              "#d8576b"
             ],
             [
              0.6666666666666666,
              "#ed7953"
             ],
             [
              0.7777777777777778,
              "#fb9f3a"
             ],
             [
              0.8888888888888888,
              "#fdca26"
             ],
             [
              1,
              "#f0f921"
             ]
            ],
            "type": "surface"
           }
          ],
          "table": [
           {
            "cells": {
             "fill": {
              "color": "#EBF0F8"
             },
             "line": {
              "color": "white"
             }
            },
            "header": {
             "fill": {
              "color": "#C8D4E3"
             },
             "line": {
              "color": "white"
             }
            },
            "type": "table"
           }
          ]
         },
         "layout": {
          "annotationdefaults": {
           "arrowcolor": "#2a3f5f",
           "arrowhead": 0,
           "arrowwidth": 1
          },
          "autotypenumbers": "strict",
          "coloraxis": {
           "colorbar": {
            "outlinewidth": 0,
            "ticks": ""
           }
          },
          "colorscale": {
           "diverging": [
            [
             0,
             "#8e0152"
            ],
            [
             0.1,
             "#c51b7d"
            ],
            [
             0.2,
             "#de77ae"
            ],
            [
             0.3,
             "#f1b6da"
            ],
            [
             0.4,
             "#fde0ef"
            ],
            [
             0.5,
             "#f7f7f7"
            ],
            [
             0.6,
             "#e6f5d0"
            ],
            [
             0.7,
             "#b8e186"
            ],
            [
             0.8,
             "#7fbc41"
            ],
            [
             0.9,
             "#4d9221"
            ],
            [
             1,
             "#276419"
            ]
           ],
           "sequential": [
            [
             0,
             "#0d0887"
            ],
            [
             0.1111111111111111,
             "#46039f"
            ],
            [
             0.2222222222222222,
             "#7201a8"
            ],
            [
             0.3333333333333333,
             "#9c179e"
            ],
            [
             0.4444444444444444,
             "#bd3786"
            ],
            [
             0.5555555555555556,
             "#d8576b"
            ],
            [
             0.6666666666666666,
             "#ed7953"
            ],
            [
             0.7777777777777778,
             "#fb9f3a"
            ],
            [
             0.8888888888888888,
             "#fdca26"
            ],
            [
             1,
             "#f0f921"
            ]
           ],
           "sequentialminus": [
            [
             0,
             "#0d0887"
            ],
            [
             0.1111111111111111,
             "#46039f"
            ],
            [
             0.2222222222222222,
             "#7201a8"
            ],
            [
             0.3333333333333333,
             "#9c179e"
            ],
            [
             0.4444444444444444,
             "#bd3786"
            ],
            [
             0.5555555555555556,
             "#d8576b"
            ],
            [
             0.6666666666666666,
             "#ed7953"
            ],
            [
             0.7777777777777778,
             "#fb9f3a"
            ],
            [
             0.8888888888888888,
             "#fdca26"
            ],
            [
             1,
             "#f0f921"
            ]
           ]
          },
          "colorway": [
           "#636efa",
           "#EF553B",
           "#00cc96",
           "#ab63fa",
           "#FFA15A",
           "#19d3f3",
           "#FF6692",
           "#B6E880",
           "#FF97FF",
           "#FECB52"
          ],
          "font": {
           "color": "#2a3f5f"
          },
          "geo": {
           "bgcolor": "white",
           "lakecolor": "white",
           "landcolor": "#E5ECF6",
           "showlakes": true,
           "showland": true,
           "subunitcolor": "white"
          },
          "hoverlabel": {
           "align": "left"
          },
          "hovermode": "closest",
          "mapbox": {
           "style": "light"
          },
          "paper_bgcolor": "white",
          "plot_bgcolor": "#E5ECF6",
          "polar": {
           "angularaxis": {
            "gridcolor": "white",
            "linecolor": "white",
            "ticks": ""
           },
           "bgcolor": "#E5ECF6",
           "radialaxis": {
            "gridcolor": "white",
            "linecolor": "white",
            "ticks": ""
           }
          },
          "scene": {
           "xaxis": {
            "backgroundcolor": "#E5ECF6",
            "gridcolor": "white",
            "gridwidth": 2,
            "linecolor": "white",
            "showbackground": true,
            "ticks": "",
            "zerolinecolor": "white"
           },
           "yaxis": {
            "backgroundcolor": "#E5ECF6",
            "gridcolor": "white",
            "gridwidth": 2,
            "linecolor": "white",
            "showbackground": true,
            "ticks": "",
            "zerolinecolor": "white"
           },
           "zaxis": {
            "backgroundcolor": "#E5ECF6",
            "gridcolor": "white",
            "gridwidth": 2,
            "linecolor": "white",
            "showbackground": true,
            "ticks": "",
            "zerolinecolor": "white"
           }
          },
          "shapedefaults": {
           "line": {
            "color": "#2a3f5f"
           }
          },
          "ternary": {
           "aaxis": {
            "gridcolor": "white",
            "linecolor": "white",
            "ticks": ""
           },
           "baxis": {
            "gridcolor": "white",
            "linecolor": "white",
            "ticks": ""
           },
           "bgcolor": "#E5ECF6",
           "caxis": {
            "gridcolor": "white",
            "linecolor": "white",
            "ticks": ""
           }
          },
          "title": {
           "x": 0.05
          },
          "xaxis": {
           "automargin": true,
           "gridcolor": "white",
           "linecolor": "white",
           "ticks": "",
           "title": {
            "standoff": 15
           },
           "zerolinecolor": "white",
           "zerolinewidth": 2
          },
          "yaxis": {
           "automargin": true,
           "gridcolor": "white",
           "linecolor": "white",
           "ticks": "",
           "title": {
            "standoff": 15
           },
           "zerolinecolor": "white",
           "zerolinewidth": 2
          }
         }
        },
        "title": {
         "text": "Top 10 author with the most quotes"
        },
        "xaxis": {
         "anchor": "y",
         "categoryarray": [
          "Albert Einstein",
          "J.K. Rowling",
          "Marilyn Monroe",
          "Mark Twain",
          "Dr. Seuss",
          "C.S. Lewis",
          "Jane Austen",
          "Bob Marley",
          "George R.R. Martin",
          "Suzanne Collins"
         ],
         "categoryorder": "array",
         "domain": [
          0,
          1
         ],
         "title": {
          "text": "Author"
         }
        },
        "yaxis": {
         "anchor": "x",
         "domain": [
          0,
          1
         ],
         "title": {
          "text": "Quantily"
         }
        }
       }
      }
     },
     "metadata": {},
     "output_type": "display_data"
    }
   ],
   "source": [
    "px.bar(\n",
    "    most_author[:10],\n",
    "    x= 'Author',\n",
    "    y= 'Quantily',\n",
    "    text_auto='.s',\n",
    "    color='Author',\n",
    "    title = 'Top 10 author with the most quotes'\n",
    ")"
   ]
  },
  {
   "cell_type": "code",
   "execution_count": 29,
   "metadata": {},
   "outputs": [
    {
     "data": {
      "application/vnd.plotly.v1+json": {
       "config": {
        "plotlyServerURL": "https://plot.ly"
       },
       "data": [
        {
         "alignmentgroup": "True",
         "hovertemplate": "Author=%{x}<br>Quantily=%{y}<extra></extra>",
         "legendgroup": "Friedrich Nietzsche",
         "marker": {
          "color": "#636efa",
          "pattern": {
           "shape": ""
          }
         },
         "name": "Friedrich Nietzsche",
         "offsetgroup": "Friedrich Nietzsche",
         "orientation": "v",
         "showlegend": true,
         "textposition": "auto",
         "texttemplate": "%{y:.s}",
         "type": "bar",
         "x": [
          "Friedrich Nietzsche"
         ],
         "xaxis": "x",
         "y": [
          1
         ],
         "yaxis": "y"
        },
        {
         "alignmentgroup": "True",
         "hovertemplate": "Author=%{x}<br>Quantily=%{y}<extra></extra>",
         "legendgroup": "Garrison Keillor",
         "marker": {
          "color": "#EF553B",
          "pattern": {
           "shape": ""
          }
         },
         "name": "Garrison Keillor",
         "offsetgroup": "Garrison Keillor",
         "orientation": "v",
         "showlegend": true,
         "textposition": "auto",
         "texttemplate": "%{y:.s}",
         "type": "bar",
         "x": [
          "Garrison Keillor"
         ],
         "xaxis": "x",
         "y": [
          1
         ],
         "yaxis": "y"
        },
        {
         "alignmentgroup": "True",
         "hovertemplate": "Author=%{x}<br>Quantily=%{y}<extra></extra>",
         "legendgroup": "George Bernard Shaw",
         "marker": {
          "color": "#00cc96",
          "pattern": {
           "shape": ""
          }
         },
         "name": "George Bernard Shaw",
         "offsetgroup": "George Bernard Shaw",
         "orientation": "v",
         "showlegend": true,
         "textposition": "auto",
         "texttemplate": "%{y:.s}",
         "type": "bar",
         "x": [
          "George Bernard Shaw"
         ],
         "xaxis": "x",
         "y": [
          1
         ],
         "yaxis": "y"
        },
        {
         "alignmentgroup": "True",
         "hovertemplate": "Author=%{x}<br>Quantily=%{y}<extra></extra>",
         "legendgroup": "George Carlin",
         "marker": {
          "color": "#ab63fa",
          "pattern": {
           "shape": ""
          }
         },
         "name": "George Carlin",
         "offsetgroup": "George Carlin",
         "orientation": "v",
         "showlegend": true,
         "textposition": "auto",
         "texttemplate": "%{y:.s}",
         "type": "bar",
         "x": [
          "George Carlin"
         ],
         "xaxis": "x",
         "y": [
          1
         ],
         "yaxis": "y"
        },
        {
         "alignmentgroup": "True",
         "hovertemplate": "Author=%{x}<br>Quantily=%{y}<extra></extra>",
         "legendgroup": "George Eliot",
         "marker": {
          "color": "#FFA15A",
          "pattern": {
           "shape": ""
          }
         },
         "name": "George Eliot",
         "offsetgroup": "George Eliot",
         "orientation": "v",
         "showlegend": true,
         "textposition": "auto",
         "texttemplate": "%{y:.s}",
         "type": "bar",
         "x": [
          "George Eliot"
         ],
         "xaxis": "x",
         "y": [
          1
         ],
         "yaxis": "y"
        },
        {
         "alignmentgroup": "True",
         "hovertemplate": "Author=%{x}<br>Quantily=%{y}<extra></extra>",
         "legendgroup": "Harper Lee",
         "marker": {
          "color": "#19d3f3",
          "pattern": {
           "shape": ""
          }
         },
         "name": "Harper Lee",
         "offsetgroup": "Harper Lee",
         "orientation": "v",
         "showlegend": true,
         "textposition": "auto",
         "texttemplate": "%{y:.s}",
         "type": "bar",
         "x": [
          "Harper Lee"
         ],
         "xaxis": "x",
         "y": [
          1
         ],
         "yaxis": "y"
        },
        {
         "alignmentgroup": "True",
         "hovertemplate": "Author=%{x}<br>Quantily=%{y}<extra></extra>",
         "legendgroup": "Haruki Murakami",
         "marker": {
          "color": "#FF6692",
          "pattern": {
           "shape": ""
          }
         },
         "name": "Haruki Murakami",
         "offsetgroup": "Haruki Murakami",
         "orientation": "v",
         "showlegend": true,
         "textposition": "auto",
         "texttemplate": "%{y:.s}",
         "type": "bar",
         "x": [
          "Haruki Murakami"
         ],
         "xaxis": "x",
         "y": [
          1
         ],
         "yaxis": "y"
        },
        {
         "alignmentgroup": "True",
         "hovertemplate": "Author=%{x}<br>Quantily=%{y}<extra></extra>",
         "legendgroup": "Helen Keller",
         "marker": {
          "color": "#B6E880",
          "pattern": {
           "shape": ""
          }
         },
         "name": "Helen Keller",
         "offsetgroup": "Helen Keller",
         "orientation": "v",
         "showlegend": true,
         "textposition": "auto",
         "texttemplate": "%{y:.s}",
         "type": "bar",
         "x": [
          "Helen Keller"
         ],
         "xaxis": "x",
         "y": [
          1
         ],
         "yaxis": "y"
        },
        {
         "alignmentgroup": "True",
         "hovertemplate": "Author=%{x}<br>Quantily=%{y}<extra></extra>",
         "legendgroup": "Alexandre Dumas fils",
         "marker": {
          "color": "#FF97FF",
          "pattern": {
           "shape": ""
          }
         },
         "name": "Alexandre Dumas fils",
         "offsetgroup": "Alexandre Dumas fils",
         "orientation": "v",
         "showlegend": true,
         "textposition": "auto",
         "texttemplate": "%{y:.s}",
         "type": "bar",
         "x": [
          "Alexandre Dumas fils"
         ],
         "xaxis": "x",
         "y": [
          1
         ],
         "yaxis": "y"
        },
        {
         "alignmentgroup": "True",
         "hovertemplate": "Author=%{x}<br>Quantily=%{y}<extra></extra>",
         "legendgroup": "William Nicholson",
         "marker": {
          "color": "#FECB52",
          "pattern": {
           "shape": ""
          }
         },
         "name": "William Nicholson",
         "offsetgroup": "William Nicholson",
         "orientation": "v",
         "showlegend": true,
         "textposition": "auto",
         "texttemplate": "%{y:.s}",
         "type": "bar",
         "x": [
          "William Nicholson"
         ],
         "xaxis": "x",
         "y": [
          1
         ],
         "yaxis": "y"
        }
       ],
       "layout": {
        "barmode": "relative",
        "legend": {
         "title": {
          "text": "Author"
         },
         "tracegroupgap": 0
        },
        "template": {
         "data": {
          "bar": [
           {
            "error_x": {
             "color": "#2a3f5f"
            },
            "error_y": {
             "color": "#2a3f5f"
            },
            "marker": {
             "line": {
              "color": "#E5ECF6",
              "width": 0.5
             },
             "pattern": {
              "fillmode": "overlay",
              "size": 10,
              "solidity": 0.2
             }
            },
            "type": "bar"
           }
          ],
          "barpolar": [
           {
            "marker": {
             "line": {
              "color": "#E5ECF6",
              "width": 0.5
             },
             "pattern": {
              "fillmode": "overlay",
              "size": 10,
              "solidity": 0.2
             }
            },
            "type": "barpolar"
           }
          ],
          "carpet": [
           {
            "aaxis": {
             "endlinecolor": "#2a3f5f",
             "gridcolor": "white",
             "linecolor": "white",
             "minorgridcolor": "white",
             "startlinecolor": "#2a3f5f"
            },
            "baxis": {
             "endlinecolor": "#2a3f5f",
             "gridcolor": "white",
             "linecolor": "white",
             "minorgridcolor": "white",
             "startlinecolor": "#2a3f5f"
            },
            "type": "carpet"
           }
          ],
          "choropleth": [
           {
            "colorbar": {
             "outlinewidth": 0,
             "ticks": ""
            },
            "type": "choropleth"
           }
          ],
          "contour": [
           {
            "colorbar": {
             "outlinewidth": 0,
             "ticks": ""
            },
            "colorscale": [
             [
              0,
              "#0d0887"
             ],
             [
              0.1111111111111111,
              "#46039f"
             ],
             [
              0.2222222222222222,
              "#7201a8"
             ],
             [
              0.3333333333333333,
              "#9c179e"
             ],
             [
              0.4444444444444444,
              "#bd3786"
             ],
             [
              0.5555555555555556,
              "#d8576b"
             ],
             [
              0.6666666666666666,
              "#ed7953"
             ],
             [
              0.7777777777777778,
              "#fb9f3a"
             ],
             [
              0.8888888888888888,
              "#fdca26"
             ],
             [
              1,
              "#f0f921"
             ]
            ],
            "type": "contour"
           }
          ],
          "contourcarpet": [
           {
            "colorbar": {
             "outlinewidth": 0,
             "ticks": ""
            },
            "type": "contourcarpet"
           }
          ],
          "heatmap": [
           {
            "colorbar": {
             "outlinewidth": 0,
             "ticks": ""
            },
            "colorscale": [
             [
              0,
              "#0d0887"
             ],
             [
              0.1111111111111111,
              "#46039f"
             ],
             [
              0.2222222222222222,
              "#7201a8"
             ],
             [
              0.3333333333333333,
              "#9c179e"
             ],
             [
              0.4444444444444444,
              "#bd3786"
             ],
             [
              0.5555555555555556,
              "#d8576b"
             ],
             [
              0.6666666666666666,
              "#ed7953"
             ],
             [
              0.7777777777777778,
              "#fb9f3a"
             ],
             [
              0.8888888888888888,
              "#fdca26"
             ],
             [
              1,
              "#f0f921"
             ]
            ],
            "type": "heatmap"
           }
          ],
          "heatmapgl": [
           {
            "colorbar": {
             "outlinewidth": 0,
             "ticks": ""
            },
            "colorscale": [
             [
              0,
              "#0d0887"
             ],
             [
              0.1111111111111111,
              "#46039f"
             ],
             [
              0.2222222222222222,
              "#7201a8"
             ],
             [
              0.3333333333333333,
              "#9c179e"
             ],
             [
              0.4444444444444444,
              "#bd3786"
             ],
             [
              0.5555555555555556,
              "#d8576b"
             ],
             [
              0.6666666666666666,
              "#ed7953"
             ],
             [
              0.7777777777777778,
              "#fb9f3a"
             ],
             [
              0.8888888888888888,
              "#fdca26"
             ],
             [
              1,
              "#f0f921"
             ]
            ],
            "type": "heatmapgl"
           }
          ],
          "histogram": [
           {
            "marker": {
             "pattern": {
              "fillmode": "overlay",
              "size": 10,
              "solidity": 0.2
             }
            },
            "type": "histogram"
           }
          ],
          "histogram2d": [
           {
            "colorbar": {
             "outlinewidth": 0,
             "ticks": ""
            },
            "colorscale": [
             [
              0,
              "#0d0887"
             ],
             [
              0.1111111111111111,
              "#46039f"
             ],
             [
              0.2222222222222222,
              "#7201a8"
             ],
             [
              0.3333333333333333,
              "#9c179e"
             ],
             [
              0.4444444444444444,
              "#bd3786"
             ],
             [
              0.5555555555555556,
              "#d8576b"
             ],
             [
              0.6666666666666666,
              "#ed7953"
             ],
             [
              0.7777777777777778,
              "#fb9f3a"
             ],
             [
              0.8888888888888888,
              "#fdca26"
             ],
             [
              1,
              "#f0f921"
             ]
            ],
            "type": "histogram2d"
           }
          ],
          "histogram2dcontour": [
           {
            "colorbar": {
             "outlinewidth": 0,
             "ticks": ""
            },
            "colorscale": [
             [
              0,
              "#0d0887"
             ],
             [
              0.1111111111111111,
              "#46039f"
             ],
             [
              0.2222222222222222,
              "#7201a8"
             ],
             [
              0.3333333333333333,
              "#9c179e"
             ],
             [
              0.4444444444444444,
              "#bd3786"
             ],
             [
              0.5555555555555556,
              "#d8576b"
             ],
             [
              0.6666666666666666,
              "#ed7953"
             ],
             [
              0.7777777777777778,
              "#fb9f3a"
             ],
             [
              0.8888888888888888,
              "#fdca26"
             ],
             [
              1,
              "#f0f921"
             ]
            ],
            "type": "histogram2dcontour"
           }
          ],
          "mesh3d": [
           {
            "colorbar": {
             "outlinewidth": 0,
             "ticks": ""
            },
            "type": "mesh3d"
           }
          ],
          "parcoords": [
           {
            "line": {
             "colorbar": {
              "outlinewidth": 0,
              "ticks": ""
             }
            },
            "type": "parcoords"
           }
          ],
          "pie": [
           {
            "automargin": true,
            "type": "pie"
           }
          ],
          "scatter": [
           {
            "fillpattern": {
             "fillmode": "overlay",
             "size": 10,
             "solidity": 0.2
            },
            "type": "scatter"
           }
          ],
          "scatter3d": [
           {
            "line": {
             "colorbar": {
              "outlinewidth": 0,
              "ticks": ""
             }
            },
            "marker": {
             "colorbar": {
              "outlinewidth": 0,
              "ticks": ""
             }
            },
            "type": "scatter3d"
           }
          ],
          "scattercarpet": [
           {
            "marker": {
             "colorbar": {
              "outlinewidth": 0,
              "ticks": ""
             }
            },
            "type": "scattercarpet"
           }
          ],
          "scattergeo": [
           {
            "marker": {
             "colorbar": {
              "outlinewidth": 0,
              "ticks": ""
             }
            },
            "type": "scattergeo"
           }
          ],
          "scattergl": [
           {
            "marker": {
             "colorbar": {
              "outlinewidth": 0,
              "ticks": ""
             }
            },
            "type": "scattergl"
           }
          ],
          "scattermapbox": [
           {
            "marker": {
             "colorbar": {
              "outlinewidth": 0,
              "ticks": ""
             }
            },
            "type": "scattermapbox"
           }
          ],
          "scatterpolar": [
           {
            "marker": {
             "colorbar": {
              "outlinewidth": 0,
              "ticks": ""
             }
            },
            "type": "scatterpolar"
           }
          ],
          "scatterpolargl": [
           {
            "marker": {
             "colorbar": {
              "outlinewidth": 0,
              "ticks": ""
             }
            },
            "type": "scatterpolargl"
           }
          ],
          "scatterternary": [
           {
            "marker": {
             "colorbar": {
              "outlinewidth": 0,
              "ticks": ""
             }
            },
            "type": "scatterternary"
           }
          ],
          "surface": [
           {
            "colorbar": {
             "outlinewidth": 0,
             "ticks": ""
            },
            "colorscale": [
             [
              0,
              "#0d0887"
             ],
             [
              0.1111111111111111,
              "#46039f"
             ],
             [
              0.2222222222222222,
              "#7201a8"
             ],
             [
              0.3333333333333333,
              "#9c179e"
             ],
             [
              0.4444444444444444,
              "#bd3786"
             ],
             [
              0.5555555555555556,
              "#d8576b"
             ],
             [
              0.6666666666666666,
              "#ed7953"
             ],
             [
              0.7777777777777778,
              "#fb9f3a"
             ],
             [
              0.8888888888888888,
              "#fdca26"
             ],
             [
              1,
              "#f0f921"
             ]
            ],
            "type": "surface"
           }
          ],
          "table": [
           {
            "cells": {
             "fill": {
              "color": "#EBF0F8"
             },
             "line": {
              "color": "white"
             }
            },
            "header": {
             "fill": {
              "color": "#C8D4E3"
             },
             "line": {
              "color": "white"
             }
            },
            "type": "table"
           }
          ]
         },
         "layout": {
          "annotationdefaults": {
           "arrowcolor": "#2a3f5f",
           "arrowhead": 0,
           "arrowwidth": 1
          },
          "autotypenumbers": "strict",
          "coloraxis": {
           "colorbar": {
            "outlinewidth": 0,
            "ticks": ""
           }
          },
          "colorscale": {
           "diverging": [
            [
             0,
             "#8e0152"
            ],
            [
             0.1,
             "#c51b7d"
            ],
            [
             0.2,
             "#de77ae"
            ],
            [
             0.3,
             "#f1b6da"
            ],
            [
             0.4,
             "#fde0ef"
            ],
            [
             0.5,
             "#f7f7f7"
            ],
            [
             0.6,
             "#e6f5d0"
            ],
            [
             0.7,
             "#b8e186"
            ],
            [
             0.8,
             "#7fbc41"
            ],
            [
             0.9,
             "#4d9221"
            ],
            [
             1,
             "#276419"
            ]
           ],
           "sequential": [
            [
             0,
             "#0d0887"
            ],
            [
             0.1111111111111111,
             "#46039f"
            ],
            [
             0.2222222222222222,
             "#7201a8"
            ],
            [
             0.3333333333333333,
             "#9c179e"
            ],
            [
             0.4444444444444444,
             "#bd3786"
            ],
            [
             0.5555555555555556,
             "#d8576b"
            ],
            [
             0.6666666666666666,
             "#ed7953"
            ],
            [
             0.7777777777777778,
             "#fb9f3a"
            ],
            [
             0.8888888888888888,
             "#fdca26"
            ],
            [
             1,
             "#f0f921"
            ]
           ],
           "sequentialminus": [
            [
             0,
             "#0d0887"
            ],
            [
             0.1111111111111111,
             "#46039f"
            ],
            [
             0.2222222222222222,
             "#7201a8"
            ],
            [
             0.3333333333333333,
             "#9c179e"
            ],
            [
             0.4444444444444444,
             "#bd3786"
            ],
            [
             0.5555555555555556,
             "#d8576b"
            ],
            [
             0.6666666666666666,
             "#ed7953"
            ],
            [
             0.7777777777777778,
             "#fb9f3a"
            ],
            [
             0.8888888888888888,
             "#fdca26"
            ],
            [
             1,
             "#f0f921"
            ]
           ]
          },
          "colorway": [
           "#636efa",
           "#EF553B",
           "#00cc96",
           "#ab63fa",
           "#FFA15A",
           "#19d3f3",
           "#FF6692",
           "#B6E880",
           "#FF97FF",
           "#FECB52"
          ],
          "font": {
           "color": "#2a3f5f"
          },
          "geo": {
           "bgcolor": "white",
           "lakecolor": "white",
           "landcolor": "#E5ECF6",
           "showlakes": true,
           "showland": true,
           "subunitcolor": "white"
          },
          "hoverlabel": {
           "align": "left"
          },
          "hovermode": "closest",
          "mapbox": {
           "style": "light"
          },
          "paper_bgcolor": "white",
          "plot_bgcolor": "#E5ECF6",
          "polar": {
           "angularaxis": {
            "gridcolor": "white",
            "linecolor": "white",
            "ticks": ""
           },
           "bgcolor": "#E5ECF6",
           "radialaxis": {
            "gridcolor": "white",
            "linecolor": "white",
            "ticks": ""
           }
          },
          "scene": {
           "xaxis": {
            "backgroundcolor": "#E5ECF6",
            "gridcolor": "white",
            "gridwidth": 2,
            "linecolor": "white",
            "showbackground": true,
            "ticks": "",
            "zerolinecolor": "white"
           },
           "yaxis": {
            "backgroundcolor": "#E5ECF6",
            "gridcolor": "white",
            "gridwidth": 2,
            "linecolor": "white",
            "showbackground": true,
            "ticks": "",
            "zerolinecolor": "white"
           },
           "zaxis": {
            "backgroundcolor": "#E5ECF6",
            "gridcolor": "white",
            "gridwidth": 2,
            "linecolor": "white",
            "showbackground": true,
            "ticks": "",
            "zerolinecolor": "white"
           }
          },
          "shapedefaults": {
           "line": {
            "color": "#2a3f5f"
           }
          },
          "ternary": {
           "aaxis": {
            "gridcolor": "white",
            "linecolor": "white",
            "ticks": ""
           },
           "baxis": {
            "gridcolor": "white",
            "linecolor": "white",
            "ticks": ""
           },
           "bgcolor": "#E5ECF6",
           "caxis": {
            "gridcolor": "white",
            "linecolor": "white",
            "ticks": ""
           }
          },
          "title": {
           "x": 0.05
          },
          "xaxis": {
           "automargin": true,
           "gridcolor": "white",
           "linecolor": "white",
           "ticks": "",
           "title": {
            "standoff": 15
           },
           "zerolinecolor": "white",
           "zerolinewidth": 2
          },
          "yaxis": {
           "automargin": true,
           "gridcolor": "white",
           "linecolor": "white",
           "ticks": "",
           "title": {
            "standoff": 15
           },
           "zerolinecolor": "white",
           "zerolinewidth": 2
          }
         }
        },
        "title": {
         "text": "Top 10 author with the fewest quotes"
        },
        "xaxis": {
         "anchor": "y",
         "categoryarray": [
          "Friedrich Nietzsche",
          "Garrison Keillor",
          "George Bernard Shaw",
          "George Carlin",
          "George Eliot",
          "Harper Lee",
          "Haruki Murakami",
          "Helen Keller",
          "Alexandre Dumas fils",
          "William Nicholson"
         ],
         "categoryorder": "array",
         "domain": [
          0,
          1
         ],
         "title": {
          "text": "Author"
         }
        },
        "yaxis": {
         "anchor": "x",
         "domain": [
          0,
          1
         ],
         "title": {
          "text": "Quantily"
         }
        }
       }
      }
     },
     "metadata": {},
     "output_type": "display_data"
    }
   ],
   "source": [
    "px.bar(\n",
    "    most_author.tail(10),\n",
    "    x= 'Author',\n",
    "    y= 'Quantily',\n",
    "    text_auto='.s',\n",
    "    color='Author',\n",
    "    title = 'Top 10 author with the fewest quotes'\n",
    ")"
   ]
  },
  {
   "attachments": {},
   "cell_type": "markdown",
   "metadata": {},
   "source": [
    "+ Note:\n",
    "    + ở đây chúng ta thấy là Albert Einstein đang là người có nhiều câu nói nhất \n",
    "    + hầu hết người nói tiếng có ít câu nói thường là 1"
   ]
  },
  {
   "attachments": {},
   "cell_type": "markdown",
   "metadata": {},
   "source": [
    "> ### Đặt ra câu hỏi vậy người có nhiều câu nói nhất có phải là người có từ trong câu nhiều nhất và ít nhất"
   ]
  },
  {
   "cell_type": "code",
   "execution_count": 30,
   "metadata": {},
   "outputs": [],
   "source": [
    "meta['quantity_quotes'] = meta.apply(lambda row: len(row.Quote.split(' ')), axis=1)"
   ]
  },
  {
   "cell_type": "code",
   "execution_count": 31,
   "metadata": {},
   "outputs": [],
   "source": [
    "quote = {}\n",
    "\n",
    "for i in meta.Tacgia.unique():\n",
    "    quote[i] = 0\n",
    "for i in range(len(meta)):\n",
    "    quote[meta.Tacgia[i]] = max(quote[meta.Tacgia[i]], meta.quantity_quotes[i])"
   ]
  },
  {
   "cell_type": "code",
   "execution_count": 32,
   "metadata": {},
   "outputs": [
    {
     "data": {
      "text/plain": [
       "dict_keys(['Albert Einstein', 'J.K. Rowling', 'Jane Austen', 'Marilyn Monroe', 'André Gide', 'Thomas A. Edison', 'Eleanor Roosevelt', 'Steve Martin', 'Bob Marley', 'Dr. Seuss', 'Douglas Adams', 'Elie Wiesel', 'Friedrich Nietzsche', 'Mark Twain', 'Allen Saunders', 'Pablo Neruda', 'Ralph Waldo Emerson', 'Mother Teresa', 'Garrison Keillor', 'Jim Henson', 'Charles M. Schulz', 'William Nicholson', 'Jorge Luis Borges', 'George Eliot', 'George R.R. Martin', 'C.S. Lewis', 'Martin Luther King Jr.', 'James Baldwin', 'Haruki Murakami', 'Alexandre Dumas fils', 'Stephenie Meyer', 'Ernest Hemingway', 'Helen Keller', 'George Bernard Shaw', 'Charles Bukowski', 'Suzanne Collins', 'J.R.R. Tolkien', 'Alfred Tennyson', 'Terry Pratchett', 'J.D. Salinger', 'George Carlin', 'John Lennon', 'W.C. Fields', 'Ayn Rand', 'Jimi Hendrix', 'J.M. Barrie', 'E.E. Cummings', 'Khaled Hosseini', 'Harper Lee', \"Madeleine L'Engle\"])"
      ]
     },
     "execution_count": 32,
     "metadata": {},
     "output_type": "execute_result"
    }
   ],
   "source": [
    "quote.keys()"
   ]
  },
  {
   "cell_type": "code",
   "execution_count": 33,
   "metadata": {},
   "outputs": [
    {
     "data": {
      "text/plain": [
       "dict_values([31, 46, 59, 201, 19, 12, 19, 9, 138, 41, 22, 37, 16, 22, 12, 66, 52, 17, 24, 27, 14, 7, 12, 12, 19, 92, 9, 27, 20, 11, 7, 16, 31, 10, 44, 17, 7, 18, 24, 47, 16, 25, 11, 16, 25, 8, 12, 13, 27, 27])"
      ]
     },
     "execution_count": 33,
     "metadata": {},
     "output_type": "execute_result"
    }
   ],
   "source": [
    "quote.values()"
   ]
  },
  {
   "cell_type": "code",
   "execution_count": 34,
   "metadata": {},
   "outputs": [
    {
     "data": {
      "text/html": [
       "<div>\n",
       "<style scoped>\n",
       "    .dataframe tbody tr th:only-of-type {\n",
       "        vertical-align: middle;\n",
       "    }\n",
       "\n",
       "    .dataframe tbody tr th {\n",
       "        vertical-align: top;\n",
       "    }\n",
       "\n",
       "    .dataframe thead th {\n",
       "        text-align: right;\n",
       "    }\n",
       "</style>\n",
       "<table border=\"1\" class=\"dataframe\">\n",
       "  <thead>\n",
       "    <tr style=\"text-align: right;\">\n",
       "      <th></th>\n",
       "      <th>Author</th>\n",
       "      <th>Quantity quote</th>\n",
       "    </tr>\n",
       "  </thead>\n",
       "  <tbody>\n",
       "    <tr>\n",
       "      <th>30</th>\n",
       "      <td>Stephenie Meyer</td>\n",
       "      <td>7</td>\n",
       "    </tr>\n",
       "    <tr>\n",
       "      <th>36</th>\n",
       "      <td>J.R.R. Tolkien</td>\n",
       "      <td>7</td>\n",
       "    </tr>\n",
       "    <tr>\n",
       "      <th>21</th>\n",
       "      <td>William Nicholson</td>\n",
       "      <td>7</td>\n",
       "    </tr>\n",
       "    <tr>\n",
       "      <th>45</th>\n",
       "      <td>J.M. Barrie</td>\n",
       "      <td>8</td>\n",
       "    </tr>\n",
       "    <tr>\n",
       "      <th>7</th>\n",
       "      <td>Steve Martin</td>\n",
       "      <td>9</td>\n",
       "    </tr>\n",
       "  </tbody>\n",
       "</table>\n",
       "</div>"
      ],
      "text/plain": [
       "               Author  Quantity quote\n",
       "30    Stephenie Meyer               7\n",
       "36     J.R.R. Tolkien               7\n",
       "21  William Nicholson               7\n",
       "45        J.M. Barrie               8\n",
       "7        Steve Martin               9"
      ]
     },
     "execution_count": 34,
     "metadata": {},
     "output_type": "execute_result"
    }
   ],
   "source": [
    "quotes = pd.DataFrame({'Author': quote.keys(), 'Quantity quote': quote.values()})\n",
    "quotes = quotes.sort_values('Quantity quote')\n",
    "quotes.head(5)"
   ]
  },
  {
   "cell_type": "code",
   "execution_count": 35,
   "metadata": {},
   "outputs": [
    {
     "data": {
      "application/vnd.plotly.v1+json": {
       "config": {
        "plotlyServerURL": "https://plot.ly"
       },
       "data": [
        {
         "alignmentgroup": "True",
         "hovertemplate": "Author=%{x}<br>Quantity quote=%{y}<extra></extra>",
         "legendgroup": "Dr. Seuss",
         "marker": {
          "color": "#636efa",
          "pattern": {
           "shape": ""
          }
         },
         "name": "Dr. Seuss",
         "offsetgroup": "Dr. Seuss",
         "orientation": "v",
         "showlegend": true,
         "textposition": "auto",
         "texttemplate": "%{y:.s}",
         "type": "bar",
         "x": [
          "Dr. Seuss"
         ],
         "xaxis": "x",
         "y": [
          41
         ],
         "yaxis": "y"
        },
        {
         "alignmentgroup": "True",
         "hovertemplate": "Author=%{x}<br>Quantity quote=%{y}<extra></extra>",
         "legendgroup": "Charles Bukowski",
         "marker": {
          "color": "#EF553B",
          "pattern": {
           "shape": ""
          }
         },
         "name": "Charles Bukowski",
         "offsetgroup": "Charles Bukowski",
         "orientation": "v",
         "showlegend": true,
         "textposition": "auto",
         "texttemplate": "%{y:.s}",
         "type": "bar",
         "x": [
          "Charles Bukowski"
         ],
         "xaxis": "x",
         "y": [
          44
         ],
         "yaxis": "y"
        },
        {
         "alignmentgroup": "True",
         "hovertemplate": "Author=%{x}<br>Quantity quote=%{y}<extra></extra>",
         "legendgroup": "J.K. Rowling",
         "marker": {
          "color": "#00cc96",
          "pattern": {
           "shape": ""
          }
         },
         "name": "J.K. Rowling",
         "offsetgroup": "J.K. Rowling",
         "orientation": "v",
         "showlegend": true,
         "textposition": "auto",
         "texttemplate": "%{y:.s}",
         "type": "bar",
         "x": [
          "J.K. Rowling"
         ],
         "xaxis": "x",
         "y": [
          46
         ],
         "yaxis": "y"
        },
        {
         "alignmentgroup": "True",
         "hovertemplate": "Author=%{x}<br>Quantity quote=%{y}<extra></extra>",
         "legendgroup": "J.D. Salinger",
         "marker": {
          "color": "#ab63fa",
          "pattern": {
           "shape": ""
          }
         },
         "name": "J.D. Salinger",
         "offsetgroup": "J.D. Salinger",
         "orientation": "v",
         "showlegend": true,
         "textposition": "auto",
         "texttemplate": "%{y:.s}",
         "type": "bar",
         "x": [
          "J.D. Salinger"
         ],
         "xaxis": "x",
         "y": [
          47
         ],
         "yaxis": "y"
        },
        {
         "alignmentgroup": "True",
         "hovertemplate": "Author=%{x}<br>Quantity quote=%{y}<extra></extra>",
         "legendgroup": "Ralph Waldo Emerson",
         "marker": {
          "color": "#FFA15A",
          "pattern": {
           "shape": ""
          }
         },
         "name": "Ralph Waldo Emerson",
         "offsetgroup": "Ralph Waldo Emerson",
         "orientation": "v",
         "showlegend": true,
         "textposition": "auto",
         "texttemplate": "%{y:.s}",
         "type": "bar",
         "x": [
          "Ralph Waldo Emerson"
         ],
         "xaxis": "x",
         "y": [
          52
         ],
         "yaxis": "y"
        },
        {
         "alignmentgroup": "True",
         "hovertemplate": "Author=%{x}<br>Quantity quote=%{y}<extra></extra>",
         "legendgroup": "Jane Austen",
         "marker": {
          "color": "#19d3f3",
          "pattern": {
           "shape": ""
          }
         },
         "name": "Jane Austen",
         "offsetgroup": "Jane Austen",
         "orientation": "v",
         "showlegend": true,
         "textposition": "auto",
         "texttemplate": "%{y:.s}",
         "type": "bar",
         "x": [
          "Jane Austen"
         ],
         "xaxis": "x",
         "y": [
          59
         ],
         "yaxis": "y"
        },
        {
         "alignmentgroup": "True",
         "hovertemplate": "Author=%{x}<br>Quantity quote=%{y}<extra></extra>",
         "legendgroup": "Pablo Neruda",
         "marker": {
          "color": "#FF6692",
          "pattern": {
           "shape": ""
          }
         },
         "name": "Pablo Neruda",
         "offsetgroup": "Pablo Neruda",
         "orientation": "v",
         "showlegend": true,
         "textposition": "auto",
         "texttemplate": "%{y:.s}",
         "type": "bar",
         "x": [
          "Pablo Neruda"
         ],
         "xaxis": "x",
         "y": [
          66
         ],
         "yaxis": "y"
        },
        {
         "alignmentgroup": "True",
         "hovertemplate": "Author=%{x}<br>Quantity quote=%{y}<extra></extra>",
         "legendgroup": "C.S. Lewis",
         "marker": {
          "color": "#B6E880",
          "pattern": {
           "shape": ""
          }
         },
         "name": "C.S. Lewis",
         "offsetgroup": "C.S. Lewis",
         "orientation": "v",
         "showlegend": true,
         "textposition": "auto",
         "texttemplate": "%{y:.s}",
         "type": "bar",
         "x": [
          "C.S. Lewis"
         ],
         "xaxis": "x",
         "y": [
          92
         ],
         "yaxis": "y"
        },
        {
         "alignmentgroup": "True",
         "hovertemplate": "Author=%{x}<br>Quantity quote=%{y}<extra></extra>",
         "legendgroup": "Bob Marley",
         "marker": {
          "color": "#FF97FF",
          "pattern": {
           "shape": ""
          }
         },
         "name": "Bob Marley",
         "offsetgroup": "Bob Marley",
         "orientation": "v",
         "showlegend": true,
         "textposition": "auto",
         "texttemplate": "%{y:.s}",
         "type": "bar",
         "x": [
          "Bob Marley"
         ],
         "xaxis": "x",
         "y": [
          138
         ],
         "yaxis": "y"
        },
        {
         "alignmentgroup": "True",
         "hovertemplate": "Author=%{x}<br>Quantity quote=%{y}<extra></extra>",
         "legendgroup": "Marilyn Monroe",
         "marker": {
          "color": "#FECB52",
          "pattern": {
           "shape": ""
          }
         },
         "name": "Marilyn Monroe",
         "offsetgroup": "Marilyn Monroe",
         "orientation": "v",
         "showlegend": true,
         "textposition": "auto",
         "texttemplate": "%{y:.s}",
         "type": "bar",
         "x": [
          "Marilyn Monroe"
         ],
         "xaxis": "x",
         "y": [
          201
         ],
         "yaxis": "y"
        }
       ],
       "layout": {
        "barmode": "relative",
        "legend": {
         "title": {
          "text": "Author"
         },
         "tracegroupgap": 0
        },
        "template": {
         "data": {
          "bar": [
           {
            "error_x": {
             "color": "#2a3f5f"
            },
            "error_y": {
             "color": "#2a3f5f"
            },
            "marker": {
             "line": {
              "color": "#E5ECF6",
              "width": 0.5
             },
             "pattern": {
              "fillmode": "overlay",
              "size": 10,
              "solidity": 0.2
             }
            },
            "type": "bar"
           }
          ],
          "barpolar": [
           {
            "marker": {
             "line": {
              "color": "#E5ECF6",
              "width": 0.5
             },
             "pattern": {
              "fillmode": "overlay",
              "size": 10,
              "solidity": 0.2
             }
            },
            "type": "barpolar"
           }
          ],
          "carpet": [
           {
            "aaxis": {
             "endlinecolor": "#2a3f5f",
             "gridcolor": "white",
             "linecolor": "white",
             "minorgridcolor": "white",
             "startlinecolor": "#2a3f5f"
            },
            "baxis": {
             "endlinecolor": "#2a3f5f",
             "gridcolor": "white",
             "linecolor": "white",
             "minorgridcolor": "white",
             "startlinecolor": "#2a3f5f"
            },
            "type": "carpet"
           }
          ],
          "choropleth": [
           {
            "colorbar": {
             "outlinewidth": 0,
             "ticks": ""
            },
            "type": "choropleth"
           }
          ],
          "contour": [
           {
            "colorbar": {
             "outlinewidth": 0,
             "ticks": ""
            },
            "colorscale": [
             [
              0,
              "#0d0887"
             ],
             [
              0.1111111111111111,
              "#46039f"
             ],
             [
              0.2222222222222222,
              "#7201a8"
             ],
             [
              0.3333333333333333,
              "#9c179e"
             ],
             [
              0.4444444444444444,
              "#bd3786"
             ],
             [
              0.5555555555555556,
              "#d8576b"
             ],
             [
              0.6666666666666666,
              "#ed7953"
             ],
             [
              0.7777777777777778,
              "#fb9f3a"
             ],
             [
              0.8888888888888888,
              "#fdca26"
             ],
             [
              1,
              "#f0f921"
             ]
            ],
            "type": "contour"
           }
          ],
          "contourcarpet": [
           {
            "colorbar": {
             "outlinewidth": 0,
             "ticks": ""
            },
            "type": "contourcarpet"
           }
          ],
          "heatmap": [
           {
            "colorbar": {
             "outlinewidth": 0,
             "ticks": ""
            },
            "colorscale": [
             [
              0,
              "#0d0887"
             ],
             [
              0.1111111111111111,
              "#46039f"
             ],
             [
              0.2222222222222222,
              "#7201a8"
             ],
             [
              0.3333333333333333,
              "#9c179e"
             ],
             [
              0.4444444444444444,
              "#bd3786"
             ],
             [
              0.5555555555555556,
              "#d8576b"
             ],
             [
              0.6666666666666666,
              "#ed7953"
             ],
             [
              0.7777777777777778,
              "#fb9f3a"
             ],
             [
              0.8888888888888888,
              "#fdca26"
             ],
             [
              1,
              "#f0f921"
             ]
            ],
            "type": "heatmap"
           }
          ],
          "heatmapgl": [
           {
            "colorbar": {
             "outlinewidth": 0,
             "ticks": ""
            },
            "colorscale": [
             [
              0,
              "#0d0887"
             ],
             [
              0.1111111111111111,
              "#46039f"
             ],
             [
              0.2222222222222222,
              "#7201a8"
             ],
             [
              0.3333333333333333,
              "#9c179e"
             ],
             [
              0.4444444444444444,
              "#bd3786"
             ],
             [
              0.5555555555555556,
              "#d8576b"
             ],
             [
              0.6666666666666666,
              "#ed7953"
             ],
             [
              0.7777777777777778,
              "#fb9f3a"
             ],
             [
              0.8888888888888888,
              "#fdca26"
             ],
             [
              1,
              "#f0f921"
             ]
            ],
            "type": "heatmapgl"
           }
          ],
          "histogram": [
           {
            "marker": {
             "pattern": {
              "fillmode": "overlay",
              "size": 10,
              "solidity": 0.2
             }
            },
            "type": "histogram"
           }
          ],
          "histogram2d": [
           {
            "colorbar": {
             "outlinewidth": 0,
             "ticks": ""
            },
            "colorscale": [
             [
              0,
              "#0d0887"
             ],
             [
              0.1111111111111111,
              "#46039f"
             ],
             [
              0.2222222222222222,
              "#7201a8"
             ],
             [
              0.3333333333333333,
              "#9c179e"
             ],
             [
              0.4444444444444444,
              "#bd3786"
             ],
             [
              0.5555555555555556,
              "#d8576b"
             ],
             [
              0.6666666666666666,
              "#ed7953"
             ],
             [
              0.7777777777777778,
              "#fb9f3a"
             ],
             [
              0.8888888888888888,
              "#fdca26"
             ],
             [
              1,
              "#f0f921"
             ]
            ],
            "type": "histogram2d"
           }
          ],
          "histogram2dcontour": [
           {
            "colorbar": {
             "outlinewidth": 0,
             "ticks": ""
            },
            "colorscale": [
             [
              0,
              "#0d0887"
             ],
             [
              0.1111111111111111,
              "#46039f"
             ],
             [
              0.2222222222222222,
              "#7201a8"
             ],
             [
              0.3333333333333333,
              "#9c179e"
             ],
             [
              0.4444444444444444,
              "#bd3786"
             ],
             [
              0.5555555555555556,
              "#d8576b"
             ],
             [
              0.6666666666666666,
              "#ed7953"
             ],
             [
              0.7777777777777778,
              "#fb9f3a"
             ],
             [
              0.8888888888888888,
              "#fdca26"
             ],
             [
              1,
              "#f0f921"
             ]
            ],
            "type": "histogram2dcontour"
           }
          ],
          "mesh3d": [
           {
            "colorbar": {
             "outlinewidth": 0,
             "ticks": ""
            },
            "type": "mesh3d"
           }
          ],
          "parcoords": [
           {
            "line": {
             "colorbar": {
              "outlinewidth": 0,
              "ticks": ""
             }
            },
            "type": "parcoords"
           }
          ],
          "pie": [
           {
            "automargin": true,
            "type": "pie"
           }
          ],
          "scatter": [
           {
            "fillpattern": {
             "fillmode": "overlay",
             "size": 10,
             "solidity": 0.2
            },
            "type": "scatter"
           }
          ],
          "scatter3d": [
           {
            "line": {
             "colorbar": {
              "outlinewidth": 0,
              "ticks": ""
             }
            },
            "marker": {
             "colorbar": {
              "outlinewidth": 0,
              "ticks": ""
             }
            },
            "type": "scatter3d"
           }
          ],
          "scattercarpet": [
           {
            "marker": {
             "colorbar": {
              "outlinewidth": 0,
              "ticks": ""
             }
            },
            "type": "scattercarpet"
           }
          ],
          "scattergeo": [
           {
            "marker": {
             "colorbar": {
              "outlinewidth": 0,
              "ticks": ""
             }
            },
            "type": "scattergeo"
           }
          ],
          "scattergl": [
           {
            "marker": {
             "colorbar": {
              "outlinewidth": 0,
              "ticks": ""
             }
            },
            "type": "scattergl"
           }
          ],
          "scattermapbox": [
           {
            "marker": {
             "colorbar": {
              "outlinewidth": 0,
              "ticks": ""
             }
            },
            "type": "scattermapbox"
           }
          ],
          "scatterpolar": [
           {
            "marker": {
             "colorbar": {
              "outlinewidth": 0,
              "ticks": ""
             }
            },
            "type": "scatterpolar"
           }
          ],
          "scatterpolargl": [
           {
            "marker": {
             "colorbar": {
              "outlinewidth": 0,
              "ticks": ""
             }
            },
            "type": "scatterpolargl"
           }
          ],
          "scatterternary": [
           {
            "marker": {
             "colorbar": {
              "outlinewidth": 0,
              "ticks": ""
             }
            },
            "type": "scatterternary"
           }
          ],
          "surface": [
           {
            "colorbar": {
             "outlinewidth": 0,
             "ticks": ""
            },
            "colorscale": [
             [
              0,
              "#0d0887"
             ],
             [
              0.1111111111111111,
              "#46039f"
             ],
             [
              0.2222222222222222,
              "#7201a8"
             ],
             [
              0.3333333333333333,
              "#9c179e"
             ],
             [
              0.4444444444444444,
              "#bd3786"
             ],
             [
              0.5555555555555556,
              "#d8576b"
             ],
             [
              0.6666666666666666,
              "#ed7953"
             ],
             [
              0.7777777777777778,
              "#fb9f3a"
             ],
             [
              0.8888888888888888,
              "#fdca26"
             ],
             [
              1,
              "#f0f921"
             ]
            ],
            "type": "surface"
           }
          ],
          "table": [
           {
            "cells": {
             "fill": {
              "color": "#EBF0F8"
             },
             "line": {
              "color": "white"
             }
            },
            "header": {
             "fill": {
              "color": "#C8D4E3"
             },
             "line": {
              "color": "white"
             }
            },
            "type": "table"
           }
          ]
         },
         "layout": {
          "annotationdefaults": {
           "arrowcolor": "#2a3f5f",
           "arrowhead": 0,
           "arrowwidth": 1
          },
          "autotypenumbers": "strict",
          "coloraxis": {
           "colorbar": {
            "outlinewidth": 0,
            "ticks": ""
           }
          },
          "colorscale": {
           "diverging": [
            [
             0,
             "#8e0152"
            ],
            [
             0.1,
             "#c51b7d"
            ],
            [
             0.2,
             "#de77ae"
            ],
            [
             0.3,
             "#f1b6da"
            ],
            [
             0.4,
             "#fde0ef"
            ],
            [
             0.5,
             "#f7f7f7"
            ],
            [
             0.6,
             "#e6f5d0"
            ],
            [
             0.7,
             "#b8e186"
            ],
            [
             0.8,
             "#7fbc41"
            ],
            [
             0.9,
             "#4d9221"
            ],
            [
             1,
             "#276419"
            ]
           ],
           "sequential": [
            [
             0,
             "#0d0887"
            ],
            [
             0.1111111111111111,
             "#46039f"
            ],
            [
             0.2222222222222222,
             "#7201a8"
            ],
            [
             0.3333333333333333,
             "#9c179e"
            ],
            [
             0.4444444444444444,
             "#bd3786"
            ],
            [
             0.5555555555555556,
             "#d8576b"
            ],
            [
             0.6666666666666666,
             "#ed7953"
            ],
            [
             0.7777777777777778,
             "#fb9f3a"
            ],
            [
             0.8888888888888888,
             "#fdca26"
            ],
            [
             1,
             "#f0f921"
            ]
           ],
           "sequentialminus": [
            [
             0,
             "#0d0887"
            ],
            [
             0.1111111111111111,
             "#46039f"
            ],
            [
             0.2222222222222222,
             "#7201a8"
            ],
            [
             0.3333333333333333,
             "#9c179e"
            ],
            [
             0.4444444444444444,
             "#bd3786"
            ],
            [
             0.5555555555555556,
             "#d8576b"
            ],
            [
             0.6666666666666666,
             "#ed7953"
            ],
            [
             0.7777777777777778,
             "#fb9f3a"
            ],
            [
             0.8888888888888888,
             "#fdca26"
            ],
            [
             1,
             "#f0f921"
            ]
           ]
          },
          "colorway": [
           "#636efa",
           "#EF553B",
           "#00cc96",
           "#ab63fa",
           "#FFA15A",
           "#19d3f3",
           "#FF6692",
           "#B6E880",
           "#FF97FF",
           "#FECB52"
          ],
          "font": {
           "color": "#2a3f5f"
          },
          "geo": {
           "bgcolor": "white",
           "lakecolor": "white",
           "landcolor": "#E5ECF6",
           "showlakes": true,
           "showland": true,
           "subunitcolor": "white"
          },
          "hoverlabel": {
           "align": "left"
          },
          "hovermode": "closest",
          "mapbox": {
           "style": "light"
          },
          "paper_bgcolor": "white",
          "plot_bgcolor": "#E5ECF6",
          "polar": {
           "angularaxis": {
            "gridcolor": "white",
            "linecolor": "white",
            "ticks": ""
           },
           "bgcolor": "#E5ECF6",
           "radialaxis": {
            "gridcolor": "white",
            "linecolor": "white",
            "ticks": ""
           }
          },
          "scene": {
           "xaxis": {
            "backgroundcolor": "#E5ECF6",
            "gridcolor": "white",
            "gridwidth": 2,
            "linecolor": "white",
            "showbackground": true,
            "ticks": "",
            "zerolinecolor": "white"
           },
           "yaxis": {
            "backgroundcolor": "#E5ECF6",
            "gridcolor": "white",
            "gridwidth": 2,
            "linecolor": "white",
            "showbackground": true,
            "ticks": "",
            "zerolinecolor": "white"
           },
           "zaxis": {
            "backgroundcolor": "#E5ECF6",
            "gridcolor": "white",
            "gridwidth": 2,
            "linecolor": "white",
            "showbackground": true,
            "ticks": "",
            "zerolinecolor": "white"
           }
          },
          "shapedefaults": {
           "line": {
            "color": "#2a3f5f"
           }
          },
          "ternary": {
           "aaxis": {
            "gridcolor": "white",
            "linecolor": "white",
            "ticks": ""
           },
           "baxis": {
            "gridcolor": "white",
            "linecolor": "white",
            "ticks": ""
           },
           "bgcolor": "#E5ECF6",
           "caxis": {
            "gridcolor": "white",
            "linecolor": "white",
            "ticks": ""
           }
          },
          "title": {
           "x": 0.05
          },
          "xaxis": {
           "automargin": true,
           "gridcolor": "white",
           "linecolor": "white",
           "ticks": "",
           "title": {
            "standoff": 15
           },
           "zerolinecolor": "white",
           "zerolinewidth": 2
          },
          "yaxis": {
           "automargin": true,
           "gridcolor": "white",
           "linecolor": "white",
           "ticks": "",
           "title": {
            "standoff": 15
           },
           "zerolinecolor": "white",
           "zerolinewidth": 2
          }
         }
        },
        "title": {
         "text": "Top 10 tác giả có số lượng từ trong câu nhiều nhất"
        },
        "xaxis": {
         "anchor": "y",
         "categoryarray": [
          "Dr. Seuss",
          "Charles Bukowski",
          "J.K. Rowling",
          "J.D. Salinger",
          "Ralph Waldo Emerson",
          "Jane Austen",
          "Pablo Neruda",
          "C.S. Lewis",
          "Bob Marley",
          "Marilyn Monroe"
         ],
         "categoryorder": "array",
         "domain": [
          0,
          1
         ],
         "title": {
          "text": "Author"
         }
        },
        "yaxis": {
         "anchor": "x",
         "domain": [
          0,
          1
         ],
         "title": {
          "text": "Quantity quote"
         }
        }
       }
      }
     },
     "metadata": {},
     "output_type": "display_data"
    }
   ],
   "source": [
    "px.bar(\n",
    "    quotes.tail(10),\n",
    "    x= 'Author',\n",
    "    y= 'Quantity quote',\n",
    "    text_auto='.s',\n",
    "    color='Author',\n",
    "    title = 'Top 10 tác giả có số lượng từ trong câu nhiều nhất'\n",
    ")"
   ]
  },
  {
   "cell_type": "code",
   "execution_count": 36,
   "metadata": {},
   "outputs": [
    {
     "data": {
      "application/vnd.plotly.v1+json": {
       "config": {
        "plotlyServerURL": "https://plot.ly"
       },
       "data": [
        {
         "alignmentgroup": "True",
         "hovertemplate": "Author=%{x}<br>Quantity quote=%{y}<extra></extra>",
         "legendgroup": "Stephenie Meyer",
         "marker": {
          "color": "#636efa",
          "pattern": {
           "shape": ""
          }
         },
         "name": "Stephenie Meyer",
         "offsetgroup": "Stephenie Meyer",
         "orientation": "v",
         "showlegend": true,
         "textposition": "auto",
         "texttemplate": "%{y:.s}",
         "type": "bar",
         "x": [
          "Stephenie Meyer"
         ],
         "xaxis": "x",
         "y": [
          7
         ],
         "yaxis": "y"
        },
        {
         "alignmentgroup": "True",
         "hovertemplate": "Author=%{x}<br>Quantity quote=%{y}<extra></extra>",
         "legendgroup": "J.R.R. Tolkien",
         "marker": {
          "color": "#EF553B",
          "pattern": {
           "shape": ""
          }
         },
         "name": "J.R.R. Tolkien",
         "offsetgroup": "J.R.R. Tolkien",
         "orientation": "v",
         "showlegend": true,
         "textposition": "auto",
         "texttemplate": "%{y:.s}",
         "type": "bar",
         "x": [
          "J.R.R. Tolkien"
         ],
         "xaxis": "x",
         "y": [
          7
         ],
         "yaxis": "y"
        },
        {
         "alignmentgroup": "True",
         "hovertemplate": "Author=%{x}<br>Quantity quote=%{y}<extra></extra>",
         "legendgroup": "William Nicholson",
         "marker": {
          "color": "#00cc96",
          "pattern": {
           "shape": ""
          }
         },
         "name": "William Nicholson",
         "offsetgroup": "William Nicholson",
         "orientation": "v",
         "showlegend": true,
         "textposition": "auto",
         "texttemplate": "%{y:.s}",
         "type": "bar",
         "x": [
          "William Nicholson"
         ],
         "xaxis": "x",
         "y": [
          7
         ],
         "yaxis": "y"
        },
        {
         "alignmentgroup": "True",
         "hovertemplate": "Author=%{x}<br>Quantity quote=%{y}<extra></extra>",
         "legendgroup": "J.M. Barrie",
         "marker": {
          "color": "#ab63fa",
          "pattern": {
           "shape": ""
          }
         },
         "name": "J.M. Barrie",
         "offsetgroup": "J.M. Barrie",
         "orientation": "v",
         "showlegend": true,
         "textposition": "auto",
         "texttemplate": "%{y:.s}",
         "type": "bar",
         "x": [
          "J.M. Barrie"
         ],
         "xaxis": "x",
         "y": [
          8
         ],
         "yaxis": "y"
        },
        {
         "alignmentgroup": "True",
         "hovertemplate": "Author=%{x}<br>Quantity quote=%{y}<extra></extra>",
         "legendgroup": "Steve Martin",
         "marker": {
          "color": "#FFA15A",
          "pattern": {
           "shape": ""
          }
         },
         "name": "Steve Martin",
         "offsetgroup": "Steve Martin",
         "orientation": "v",
         "showlegend": true,
         "textposition": "auto",
         "texttemplate": "%{y:.s}",
         "type": "bar",
         "x": [
          "Steve Martin"
         ],
         "xaxis": "x",
         "y": [
          9
         ],
         "yaxis": "y"
        },
        {
         "alignmentgroup": "True",
         "hovertemplate": "Author=%{x}<br>Quantity quote=%{y}<extra></extra>",
         "legendgroup": "Martin Luther King Jr.",
         "marker": {
          "color": "#19d3f3",
          "pattern": {
           "shape": ""
          }
         },
         "name": "Martin Luther King Jr.",
         "offsetgroup": "Martin Luther King Jr.",
         "orientation": "v",
         "showlegend": true,
         "textposition": "auto",
         "texttemplate": "%{y:.s}",
         "type": "bar",
         "x": [
          "Martin Luther King Jr."
         ],
         "xaxis": "x",
         "y": [
          9
         ],
         "yaxis": "y"
        },
        {
         "alignmentgroup": "True",
         "hovertemplate": "Author=%{x}<br>Quantity quote=%{y}<extra></extra>",
         "legendgroup": "George Bernard Shaw",
         "marker": {
          "color": "#FF6692",
          "pattern": {
           "shape": ""
          }
         },
         "name": "George Bernard Shaw",
         "offsetgroup": "George Bernard Shaw",
         "orientation": "v",
         "showlegend": true,
         "textposition": "auto",
         "texttemplate": "%{y:.s}",
         "type": "bar",
         "x": [
          "George Bernard Shaw"
         ],
         "xaxis": "x",
         "y": [
          10
         ],
         "yaxis": "y"
        },
        {
         "alignmentgroup": "True",
         "hovertemplate": "Author=%{x}<br>Quantity quote=%{y}<extra></extra>",
         "legendgroup": "Alexandre Dumas fils",
         "marker": {
          "color": "#B6E880",
          "pattern": {
           "shape": ""
          }
         },
         "name": "Alexandre Dumas fils",
         "offsetgroup": "Alexandre Dumas fils",
         "orientation": "v",
         "showlegend": true,
         "textposition": "auto",
         "texttemplate": "%{y:.s}",
         "type": "bar",
         "x": [
          "Alexandre Dumas fils"
         ],
         "xaxis": "x",
         "y": [
          11
         ],
         "yaxis": "y"
        },
        {
         "alignmentgroup": "True",
         "hovertemplate": "Author=%{x}<br>Quantity quote=%{y}<extra></extra>",
         "legendgroup": "W.C. Fields",
         "marker": {
          "color": "#FF97FF",
          "pattern": {
           "shape": ""
          }
         },
         "name": "W.C. Fields",
         "offsetgroup": "W.C. Fields",
         "orientation": "v",
         "showlegend": true,
         "textposition": "auto",
         "texttemplate": "%{y:.s}",
         "type": "bar",
         "x": [
          "W.C. Fields"
         ],
         "xaxis": "x",
         "y": [
          11
         ],
         "yaxis": "y"
        },
        {
         "alignmentgroup": "True",
         "hovertemplate": "Author=%{x}<br>Quantity quote=%{y}<extra></extra>",
         "legendgroup": "E.E. Cummings",
         "marker": {
          "color": "#FECB52",
          "pattern": {
           "shape": ""
          }
         },
         "name": "E.E. Cummings",
         "offsetgroup": "E.E. Cummings",
         "orientation": "v",
         "showlegend": true,
         "textposition": "auto",
         "texttemplate": "%{y:.s}",
         "type": "bar",
         "x": [
          "E.E. Cummings"
         ],
         "xaxis": "x",
         "y": [
          12
         ],
         "yaxis": "y"
        }
       ],
       "layout": {
        "barmode": "relative",
        "legend": {
         "title": {
          "text": "Author"
         },
         "tracegroupgap": 0
        },
        "template": {
         "data": {
          "bar": [
           {
            "error_x": {
             "color": "#2a3f5f"
            },
            "error_y": {
             "color": "#2a3f5f"
            },
            "marker": {
             "line": {
              "color": "#E5ECF6",
              "width": 0.5
             },
             "pattern": {
              "fillmode": "overlay",
              "size": 10,
              "solidity": 0.2
             }
            },
            "type": "bar"
           }
          ],
          "barpolar": [
           {
            "marker": {
             "line": {
              "color": "#E5ECF6",
              "width": 0.5
             },
             "pattern": {
              "fillmode": "overlay",
              "size": 10,
              "solidity": 0.2
             }
            },
            "type": "barpolar"
           }
          ],
          "carpet": [
           {
            "aaxis": {
             "endlinecolor": "#2a3f5f",
             "gridcolor": "white",
             "linecolor": "white",
             "minorgridcolor": "white",
             "startlinecolor": "#2a3f5f"
            },
            "baxis": {
             "endlinecolor": "#2a3f5f",
             "gridcolor": "white",
             "linecolor": "white",
             "minorgridcolor": "white",
             "startlinecolor": "#2a3f5f"
            },
            "type": "carpet"
           }
          ],
          "choropleth": [
           {
            "colorbar": {
             "outlinewidth": 0,
             "ticks": ""
            },
            "type": "choropleth"
           }
          ],
          "contour": [
           {
            "colorbar": {
             "outlinewidth": 0,
             "ticks": ""
            },
            "colorscale": [
             [
              0,
              "#0d0887"
             ],
             [
              0.1111111111111111,
              "#46039f"
             ],
             [
              0.2222222222222222,
              "#7201a8"
             ],
             [
              0.3333333333333333,
              "#9c179e"
             ],
             [
              0.4444444444444444,
              "#bd3786"
             ],
             [
              0.5555555555555556,
              "#d8576b"
             ],
             [
              0.6666666666666666,
              "#ed7953"
             ],
             [
              0.7777777777777778,
              "#fb9f3a"
             ],
             [
              0.8888888888888888,
              "#fdca26"
             ],
             [
              1,
              "#f0f921"
             ]
            ],
            "type": "contour"
           }
          ],
          "contourcarpet": [
           {
            "colorbar": {
             "outlinewidth": 0,
             "ticks": ""
            },
            "type": "contourcarpet"
           }
          ],
          "heatmap": [
           {
            "colorbar": {
             "outlinewidth": 0,
             "ticks": ""
            },
            "colorscale": [
             [
              0,
              "#0d0887"
             ],
             [
              0.1111111111111111,
              "#46039f"
             ],
             [
              0.2222222222222222,
              "#7201a8"
             ],
             [
              0.3333333333333333,
              "#9c179e"
             ],
             [
              0.4444444444444444,
              "#bd3786"
             ],
             [
              0.5555555555555556,
              "#d8576b"
             ],
             [
              0.6666666666666666,
              "#ed7953"
             ],
             [
              0.7777777777777778,
              "#fb9f3a"
             ],
             [
              0.8888888888888888,
              "#fdca26"
             ],
             [
              1,
              "#f0f921"
             ]
            ],
            "type": "heatmap"
           }
          ],
          "heatmapgl": [
           {
            "colorbar": {
             "outlinewidth": 0,
             "ticks": ""
            },
            "colorscale": [
             [
              0,
              "#0d0887"
             ],
             [
              0.1111111111111111,
              "#46039f"
             ],
             [
              0.2222222222222222,
              "#7201a8"
             ],
             [
              0.3333333333333333,
              "#9c179e"
             ],
             [
              0.4444444444444444,
              "#bd3786"
             ],
             [
              0.5555555555555556,
              "#d8576b"
             ],
             [
              0.6666666666666666,
              "#ed7953"
             ],
             [
              0.7777777777777778,
              "#fb9f3a"
             ],
             [
              0.8888888888888888,
              "#fdca26"
             ],
             [
              1,
              "#f0f921"
             ]
            ],
            "type": "heatmapgl"
           }
          ],
          "histogram": [
           {
            "marker": {
             "pattern": {
              "fillmode": "overlay",
              "size": 10,
              "solidity": 0.2
             }
            },
            "type": "histogram"
           }
          ],
          "histogram2d": [
           {
            "colorbar": {
             "outlinewidth": 0,
             "ticks": ""
            },
            "colorscale": [
             [
              0,
              "#0d0887"
             ],
             [
              0.1111111111111111,
              "#46039f"
             ],
             [
              0.2222222222222222,
              "#7201a8"
             ],
             [
              0.3333333333333333,
              "#9c179e"
             ],
             [
              0.4444444444444444,
              "#bd3786"
             ],
             [
              0.5555555555555556,
              "#d8576b"
             ],
             [
              0.6666666666666666,
              "#ed7953"
             ],
             [
              0.7777777777777778,
              "#fb9f3a"
             ],
             [
              0.8888888888888888,
              "#fdca26"
             ],
             [
              1,
              "#f0f921"
             ]
            ],
            "type": "histogram2d"
           }
          ],
          "histogram2dcontour": [
           {
            "colorbar": {
             "outlinewidth": 0,
             "ticks": ""
            },
            "colorscale": [
             [
              0,
              "#0d0887"
             ],
             [
              0.1111111111111111,
              "#46039f"
             ],
             [
              0.2222222222222222,
              "#7201a8"
             ],
             [
              0.3333333333333333,
              "#9c179e"
             ],
             [
              0.4444444444444444,
              "#bd3786"
             ],
             [
              0.5555555555555556,
              "#d8576b"
             ],
             [
              0.6666666666666666,
              "#ed7953"
             ],
             [
              0.7777777777777778,
              "#fb9f3a"
             ],
             [
              0.8888888888888888,
              "#fdca26"
             ],
             [
              1,
              "#f0f921"
             ]
            ],
            "type": "histogram2dcontour"
           }
          ],
          "mesh3d": [
           {
            "colorbar": {
             "outlinewidth": 0,
             "ticks": ""
            },
            "type": "mesh3d"
           }
          ],
          "parcoords": [
           {
            "line": {
             "colorbar": {
              "outlinewidth": 0,
              "ticks": ""
             }
            },
            "type": "parcoords"
           }
          ],
          "pie": [
           {
            "automargin": true,
            "type": "pie"
           }
          ],
          "scatter": [
           {
            "fillpattern": {
             "fillmode": "overlay",
             "size": 10,
             "solidity": 0.2
            },
            "type": "scatter"
           }
          ],
          "scatter3d": [
           {
            "line": {
             "colorbar": {
              "outlinewidth": 0,
              "ticks": ""
             }
            },
            "marker": {
             "colorbar": {
              "outlinewidth": 0,
              "ticks": ""
             }
            },
            "type": "scatter3d"
           }
          ],
          "scattercarpet": [
           {
            "marker": {
             "colorbar": {
              "outlinewidth": 0,
              "ticks": ""
             }
            },
            "type": "scattercarpet"
           }
          ],
          "scattergeo": [
           {
            "marker": {
             "colorbar": {
              "outlinewidth": 0,
              "ticks": ""
             }
            },
            "type": "scattergeo"
           }
          ],
          "scattergl": [
           {
            "marker": {
             "colorbar": {
              "outlinewidth": 0,
              "ticks": ""
             }
            },
            "type": "scattergl"
           }
          ],
          "scattermapbox": [
           {
            "marker": {
             "colorbar": {
              "outlinewidth": 0,
              "ticks": ""
             }
            },
            "type": "scattermapbox"
           }
          ],
          "scatterpolar": [
           {
            "marker": {
             "colorbar": {
              "outlinewidth": 0,
              "ticks": ""
             }
            },
            "type": "scatterpolar"
           }
          ],
          "scatterpolargl": [
           {
            "marker": {
             "colorbar": {
              "outlinewidth": 0,
              "ticks": ""
             }
            },
            "type": "scatterpolargl"
           }
          ],
          "scatterternary": [
           {
            "marker": {
             "colorbar": {
              "outlinewidth": 0,
              "ticks": ""
             }
            },
            "type": "scatterternary"
           }
          ],
          "surface": [
           {
            "colorbar": {
             "outlinewidth": 0,
             "ticks": ""
            },
            "colorscale": [
             [
              0,
              "#0d0887"
             ],
             [
              0.1111111111111111,
              "#46039f"
             ],
             [
              0.2222222222222222,
              "#7201a8"
             ],
             [
              0.3333333333333333,
              "#9c179e"
             ],
             [
              0.4444444444444444,
              "#bd3786"
             ],
             [
              0.5555555555555556,
              "#d8576b"
             ],
             [
              0.6666666666666666,
              "#ed7953"
             ],
             [
              0.7777777777777778,
              "#fb9f3a"
             ],
             [
              0.8888888888888888,
              "#fdca26"
             ],
             [
              1,
              "#f0f921"
             ]
            ],
            "type": "surface"
           }
          ],
          "table": [
           {
            "cells": {
             "fill": {
              "color": "#EBF0F8"
             },
             "line": {
              "color": "white"
             }
            },
            "header": {
             "fill": {
              "color": "#C8D4E3"
             },
             "line": {
              "color": "white"
             }
            },
            "type": "table"
           }
          ]
         },
         "layout": {
          "annotationdefaults": {
           "arrowcolor": "#2a3f5f",
           "arrowhead": 0,
           "arrowwidth": 1
          },
          "autotypenumbers": "strict",
          "coloraxis": {
           "colorbar": {
            "outlinewidth": 0,
            "ticks": ""
           }
          },
          "colorscale": {
           "diverging": [
            [
             0,
             "#8e0152"
            ],
            [
             0.1,
             "#c51b7d"
            ],
            [
             0.2,
             "#de77ae"
            ],
            [
             0.3,
             "#f1b6da"
            ],
            [
             0.4,
             "#fde0ef"
            ],
            [
             0.5,
             "#f7f7f7"
            ],
            [
             0.6,
             "#e6f5d0"
            ],
            [
             0.7,
             "#b8e186"
            ],
            [
             0.8,
             "#7fbc41"
            ],
            [
             0.9,
             "#4d9221"
            ],
            [
             1,
             "#276419"
            ]
           ],
           "sequential": [
            [
             0,
             "#0d0887"
            ],
            [
             0.1111111111111111,
             "#46039f"
            ],
            [
             0.2222222222222222,
             "#7201a8"
            ],
            [
             0.3333333333333333,
             "#9c179e"
            ],
            [
             0.4444444444444444,
             "#bd3786"
            ],
            [
             0.5555555555555556,
             "#d8576b"
            ],
            [
             0.6666666666666666,
             "#ed7953"
            ],
            [
             0.7777777777777778,
             "#fb9f3a"
            ],
            [
             0.8888888888888888,
             "#fdca26"
            ],
            [
             1,
             "#f0f921"
            ]
           ],
           "sequentialminus": [
            [
             0,
             "#0d0887"
            ],
            [
             0.1111111111111111,
             "#46039f"
            ],
            [
             0.2222222222222222,
             "#7201a8"
            ],
            [
             0.3333333333333333,
             "#9c179e"
            ],
            [
             0.4444444444444444,
             "#bd3786"
            ],
            [
             0.5555555555555556,
             "#d8576b"
            ],
            [
             0.6666666666666666,
             "#ed7953"
            ],
            [
             0.7777777777777778,
             "#fb9f3a"
            ],
            [
             0.8888888888888888,
             "#fdca26"
            ],
            [
             1,
             "#f0f921"
            ]
           ]
          },
          "colorway": [
           "#636efa",
           "#EF553B",
           "#00cc96",
           "#ab63fa",
           "#FFA15A",
           "#19d3f3",
           "#FF6692",
           "#B6E880",
           "#FF97FF",
           "#FECB52"
          ],
          "font": {
           "color": "#2a3f5f"
          },
          "geo": {
           "bgcolor": "white",
           "lakecolor": "white",
           "landcolor": "#E5ECF6",
           "showlakes": true,
           "showland": true,
           "subunitcolor": "white"
          },
          "hoverlabel": {
           "align": "left"
          },
          "hovermode": "closest",
          "mapbox": {
           "style": "light"
          },
          "paper_bgcolor": "white",
          "plot_bgcolor": "#E5ECF6",
          "polar": {
           "angularaxis": {
            "gridcolor": "white",
            "linecolor": "white",
            "ticks": ""
           },
           "bgcolor": "#E5ECF6",
           "radialaxis": {
            "gridcolor": "white",
            "linecolor": "white",
            "ticks": ""
           }
          },
          "scene": {
           "xaxis": {
            "backgroundcolor": "#E5ECF6",
            "gridcolor": "white",
            "gridwidth": 2,
            "linecolor": "white",
            "showbackground": true,
            "ticks": "",
            "zerolinecolor": "white"
           },
           "yaxis": {
            "backgroundcolor": "#E5ECF6",
            "gridcolor": "white",
            "gridwidth": 2,
            "linecolor": "white",
            "showbackground": true,
            "ticks": "",
            "zerolinecolor": "white"
           },
           "zaxis": {
            "backgroundcolor": "#E5ECF6",
            "gridcolor": "white",
            "gridwidth": 2,
            "linecolor": "white",
            "showbackground": true,
            "ticks": "",
            "zerolinecolor": "white"
           }
          },
          "shapedefaults": {
           "line": {
            "color": "#2a3f5f"
           }
          },
          "ternary": {
           "aaxis": {
            "gridcolor": "white",
            "linecolor": "white",
            "ticks": ""
           },
           "baxis": {
            "gridcolor": "white",
            "linecolor": "white",
            "ticks": ""
           },
           "bgcolor": "#E5ECF6",
           "caxis": {
            "gridcolor": "white",
            "linecolor": "white",
            "ticks": ""
           }
          },
          "title": {
           "x": 0.05
          },
          "xaxis": {
           "automargin": true,
           "gridcolor": "white",
           "linecolor": "white",
           "ticks": "",
           "title": {
            "standoff": 15
           },
           "zerolinecolor": "white",
           "zerolinewidth": 2
          },
          "yaxis": {
           "automargin": true,
           "gridcolor": "white",
           "linecolor": "white",
           "ticks": "",
           "title": {
            "standoff": 15
           },
           "zerolinecolor": "white",
           "zerolinewidth": 2
          }
         }
        },
        "title": {
         "text": "Top 10 tác giả có số lượng từ trong câu ít nhất"
        },
        "xaxis": {
         "anchor": "y",
         "categoryarray": [
          "Stephenie Meyer",
          "J.R.R. Tolkien",
          "William Nicholson",
          "J.M. Barrie",
          "Steve Martin",
          "Martin Luther King Jr.",
          "George Bernard Shaw",
          "Alexandre Dumas fils",
          "W.C. Fields",
          "E.E. Cummings"
         ],
         "categoryorder": "array",
         "domain": [
          0,
          1
         ],
         "title": {
          "text": "Author"
         }
        },
        "yaxis": {
         "anchor": "x",
         "domain": [
          0,
          1
         ],
         "title": {
          "text": "Quantity quote"
         }
        }
       }
      }
     },
     "metadata": {},
     "output_type": "display_data"
    }
   ],
   "source": [
    "px.bar(\n",
    "    quotes.head(10),\n",
    "    x= 'Author',\n",
    "    y= 'Quantity quote',\n",
    "    text_auto='.s',\n",
    "    color='Author',\n",
    "    title = 'Top 10 tác giả có số lượng từ trong câu ít nhất'\n",
    ")"
   ]
  },
  {
   "attachments": {},
   "cell_type": "markdown",
   "metadata": {},
   "source": [
    "> ### Thống kê về các từ được sử dụng trong các câu nói,\n"
   ]
  },
  {
   "cell_type": "code",
   "execution_count": 37,
   "metadata": {},
   "outputs": [
    {
     "data": {
      "text/html": [
       "<div>\n",
       "<style scoped>\n",
       "    .dataframe tbody tr th:only-of-type {\n",
       "        vertical-align: middle;\n",
       "    }\n",
       "\n",
       "    .dataframe tbody tr th {\n",
       "        vertical-align: top;\n",
       "    }\n",
       "\n",
       "    .dataframe thead th {\n",
       "        text-align: right;\n",
       "    }\n",
       "</style>\n",
       "<table border=\"1\" class=\"dataframe\">\n",
       "  <thead>\n",
       "    <tr style=\"text-align: right;\">\n",
       "      <th></th>\n",
       "      <th>Tacgia</th>\n",
       "      <th>Link</th>\n",
       "      <th>Namsinh</th>\n",
       "      <th>Quote</th>\n",
       "      <th>STT</th>\n",
       "      <th>Tuoi</th>\n",
       "      <th>quantity_quotes</th>\n",
       "    </tr>\n",
       "  </thead>\n",
       "  <tbody>\n",
       "    <tr>\n",
       "      <th>0</th>\n",
       "      <td>Albert Einstein</td>\n",
       "      <td>http://quotes.toscrape.com//author/Albert-Eins...</td>\n",
       "      <td>1879-03-14</td>\n",
       "      <td>“The world as we have created it is a process ...</td>\n",
       "      <td>0</td>\n",
       "      <td>76</td>\n",
       "      <td>21</td>\n",
       "    </tr>\n",
       "    <tr>\n",
       "      <th>1</th>\n",
       "      <td>J.K. Rowling</td>\n",
       "      <td>http://quotes.toscrape.com//author/J-K-Rowling</td>\n",
       "      <td>1965-07-31</td>\n",
       "      <td>“It is our choices, Harry, that show what we t...</td>\n",
       "      <td>1</td>\n",
       "      <td>57</td>\n",
       "      <td>16</td>\n",
       "    </tr>\n",
       "    <tr>\n",
       "      <th>2</th>\n",
       "      <td>Albert Einstein</td>\n",
       "      <td>http://quotes.toscrape.com//author/Albert-Eins...</td>\n",
       "      <td>1879-03-14</td>\n",
       "      <td>“There are only two ways to live your life. On...</td>\n",
       "      <td>2</td>\n",
       "      <td>76</td>\n",
       "      <td>26</td>\n",
       "    </tr>\n",
       "    <tr>\n",
       "      <th>3</th>\n",
       "      <td>Jane Austen</td>\n",
       "      <td>http://quotes.toscrape.com//author/Jane-Austen</td>\n",
       "      <td>1775-12-16</td>\n",
       "      <td>“The person, be it gentleman or lady, who has ...</td>\n",
       "      <td>3</td>\n",
       "      <td>41</td>\n",
       "      <td>19</td>\n",
       "    </tr>\n",
       "    <tr>\n",
       "      <th>4</th>\n",
       "      <td>Marilyn Monroe</td>\n",
       "      <td>http://quotes.toscrape.com//author/Marilyn-Monroe</td>\n",
       "      <td>1926-06-01</td>\n",
       "      <td>“Imperfection is beauty, madness is genius and...</td>\n",
       "      <td>4</td>\n",
       "      <td>36</td>\n",
       "      <td>16</td>\n",
       "    </tr>\n",
       "    <tr>\n",
       "      <th>...</th>\n",
       "      <td>...</td>\n",
       "      <td>...</td>\n",
       "      <td>...</td>\n",
       "      <td>...</td>\n",
       "      <td>...</td>\n",
       "      <td>...</td>\n",
       "      <td>...</td>\n",
       "    </tr>\n",
       "    <tr>\n",
       "      <th>95</th>\n",
       "      <td>Harper Lee</td>\n",
       "      <td>http://quotes.toscrape.com//author/Harper-Lee</td>\n",
       "      <td>1926-04-28</td>\n",
       "      <td>“You never really understand a person until yo...</td>\n",
       "      <td>95</td>\n",
       "      <td>89</td>\n",
       "      <td>27</td>\n",
       "    </tr>\n",
       "    <tr>\n",
       "      <th>96</th>\n",
       "      <td>Madeleine L'Engle</td>\n",
       "      <td>http://quotes.toscrape.com//author/Madeleine-L...</td>\n",
       "      <td>1918-11-29</td>\n",
       "      <td>“You have to write the book that wants to be w...</td>\n",
       "      <td>96</td>\n",
       "      <td>88</td>\n",
       "      <td>27</td>\n",
       "    </tr>\n",
       "    <tr>\n",
       "      <th>97</th>\n",
       "      <td>Mark Twain</td>\n",
       "      <td>http://quotes.toscrape.com//author/Mark-Twain</td>\n",
       "      <td>1835-11-30</td>\n",
       "      <td>“Never tell the truth to people who are not wo...</td>\n",
       "      <td>97</td>\n",
       "      <td>74</td>\n",
       "      <td>12</td>\n",
       "    </tr>\n",
       "    <tr>\n",
       "      <th>98</th>\n",
       "      <td>Dr. Seuss</td>\n",
       "      <td>http://quotes.toscrape.com//author/Dr-Seuss</td>\n",
       "      <td>1904-03-02</td>\n",
       "      <td>“A person's a person, no matter how small.”</td>\n",
       "      <td>98</td>\n",
       "      <td>87</td>\n",
       "      <td>8</td>\n",
       "    </tr>\n",
       "    <tr>\n",
       "      <th>99</th>\n",
       "      <td>George R.R. Martin</td>\n",
       "      <td>http://quotes.toscrape.com//author/George-R-R-...</td>\n",
       "      <td>1948-09-20</td>\n",
       "      <td>“... a mind needs books as a sword needs a whe...</td>\n",
       "      <td>99</td>\n",
       "      <td>74</td>\n",
       "      <td>18</td>\n",
       "    </tr>\n",
       "  </tbody>\n",
       "</table>\n",
       "<p>100 rows × 7 columns</p>\n",
       "</div>"
      ],
      "text/plain": [
       "                Tacgia                                               Link   \n",
       "0      Albert Einstein  http://quotes.toscrape.com//author/Albert-Eins...  \\\n",
       "1         J.K. Rowling     http://quotes.toscrape.com//author/J-K-Rowling   \n",
       "2      Albert Einstein  http://quotes.toscrape.com//author/Albert-Eins...   \n",
       "3          Jane Austen     http://quotes.toscrape.com//author/Jane-Austen   \n",
       "4       Marilyn Monroe  http://quotes.toscrape.com//author/Marilyn-Monroe   \n",
       "..                 ...                                                ...   \n",
       "95          Harper Lee      http://quotes.toscrape.com//author/Harper-Lee   \n",
       "96   Madeleine L'Engle  http://quotes.toscrape.com//author/Madeleine-L...   \n",
       "97          Mark Twain      http://quotes.toscrape.com//author/Mark-Twain   \n",
       "98           Dr. Seuss        http://quotes.toscrape.com//author/Dr-Seuss   \n",
       "99  George R.R. Martin  http://quotes.toscrape.com//author/George-R-R-...   \n",
       "\n",
       "       Namsinh                                              Quote  STT  Tuoi   \n",
       "0   1879-03-14  “The world as we have created it is a process ...    0    76  \\\n",
       "1   1965-07-31  “It is our choices, Harry, that show what we t...    1    57   \n",
       "2   1879-03-14  “There are only two ways to live your life. On...    2    76   \n",
       "3   1775-12-16  “The person, be it gentleman or lady, who has ...    3    41   \n",
       "4   1926-06-01  “Imperfection is beauty, madness is genius and...    4    36   \n",
       "..         ...                                                ...  ...   ...   \n",
       "95  1926-04-28  “You never really understand a person until yo...   95    89   \n",
       "96  1918-11-29  “You have to write the book that wants to be w...   96    88   \n",
       "97  1835-11-30  “Never tell the truth to people who are not wo...   97    74   \n",
       "98  1904-03-02        “A person's a person, no matter how small.”   98    87   \n",
       "99  1948-09-20  “... a mind needs books as a sword needs a whe...   99    74   \n",
       "\n",
       "    quantity_quotes  \n",
       "0                21  \n",
       "1                16  \n",
       "2                26  \n",
       "3                19  \n",
       "4                16  \n",
       "..              ...  \n",
       "95               27  \n",
       "96               27  \n",
       "97               12  \n",
       "98                8  \n",
       "99               18  \n",
       "\n",
       "[100 rows x 7 columns]"
      ]
     },
     "execution_count": 37,
     "metadata": {},
     "output_type": "execute_result"
    }
   ],
   "source": [
    "meta"
   ]
  },
  {
   "cell_type": "code",
   "execution_count": 38,
   "metadata": {},
   "outputs": [
    {
     "data": {
      "image/png": "[encoded data removed]",
      "text/plain": [
       "<Figure size 640x480 with 1 Axes>"
      ]
     },
     "metadata": {},
     "output_type": "display_data"
    }
   ],
   "source": [
    "import matplotlib.pyplot as plt\n",
    "from collections import Counter\n",
    "\n",
    "# Danh sách các câu nói\n",
    "sentences = list(meta.Quote)\n",
    "# Tạo một danh sách các từ từ tất cả các câu nói\n",
    "words = []\n",
    "for sentence in sentences:\n",
    "    words += sentence.lower().split()\n",
    "\n",
    "# Đếm số lần xuất hiện của từng từ\n",
    "word_count = Counter(words)\n",
    "\n",
    "# Lấy 100 từ xuất hiện nhiều nhất\n",
    "top_words = word_count.most_common(10)\n",
    "\n",
    "# Tách riêng các từ và tần suất xuất hiện\n",
    "words, counts = zip(*top_words)\n",
    "\n",
    "# Tạo biểu đồ cột cho 100 từ có tần suất cao nhất\n",
    "plt.bar(words, counts)\n",
    "\n",
    "# Điều chỉnh trục x để cho phép hiển thị tên từng từ\n",
    "plt.xticks(rotation=90)\n",
    "\n",
    "# Thêm tiêu đề và nhãn cho trục\n",
    "plt.title(\"Top 100 Most Frequently Used Words\")\n",
    "plt.xlabel(\"Words\")\n",
    "plt.ylabel(\"Frequency\")\n",
    "\n",
    "# Hiển thị biểu đồ\n",
    "plt.show()\n"
   ]
  },
  {
   "attachments": {},
   "cell_type": "markdown",
   "metadata": {},
   "source": [
    "> ### Vậy những người nổi tiếng có tuổi tập trung ở những khoảng nào ?"
   ]
  },
  {
   "cell_type": "code",
   "execution_count": 39,
   "metadata": {},
   "outputs": [],
   "source": [
    "import matplotlib.pyplot as plt\n"
   ]
  },
  {
   "cell_type": "code",
   "execution_count": 40,
   "metadata": {},
   "outputs": [
    {
     "data": {
      "text/plain": [
       "{'whiskers': [<matplotlib.lines.Line2D at 0x23e421b5990>,\n",
       "  <matplotlib.lines.Line2D at 0x23e421b5c30>],\n",
       " 'caps': [<matplotlib.lines.Line2D at 0x23e421b5ed0>,\n",
       "  <matplotlib.lines.Line2D at 0x23e421b6170>],\n",
       " 'boxes': [<matplotlib.lines.Line2D at 0x23e421b56f0>],\n",
       " 'medians': [<matplotlib.lines.Line2D at 0x23e421b6410>],\n",
       " 'fliers': [<matplotlib.lines.Line2D at 0x23e421b66b0>],\n",
       " 'means': []}"
      ]
     },
     "execution_count": 40,
     "metadata": {},
     "output_type": "execute_result"
    },
    {
     "data": {
      "image/png": "[encoded data removed]",
      "text/plain": [
       "<Figure size 640x480 with 1 Axes>"
      ]
     },
     "metadata": {},
     "output_type": "display_data"
    }
   ],
   "source": [
    "plt.boxplot(meta.Tuoi)"
   ]
  },
  {
   "cell_type": "markdown",
   "metadata": {},
   "source": [
    "+ Note:\n",
    "    + Vậy độ tuổi của người nổi tiếng thường tập trung vào khoảng 55 đến 80 tuổi là chủ yếu"
   ]
  },
  {
   "attachments": {},
   "cell_type": "markdown",
   "metadata": {},
   "source": [
    "> ### Mối quan hệ giữa số lượng câu nói với tuổi của tác giả"
   ]
  },
  {
   "cell_type": "code",
   "execution_count": 41,
   "metadata": {},
   "outputs": [
    {
     "data": {
      "text/html": [
       "<div>\n",
       "<style scoped>\n",
       "    .dataframe tbody tr th:only-of-type {\n",
       "        vertical-align: middle;\n",
       "    }\n",
       "\n",
       "    .dataframe tbody tr th {\n",
       "        vertical-align: top;\n",
       "    }\n",
       "\n",
       "    .dataframe thead th {\n",
       "        text-align: right;\n",
       "    }\n",
       "</style>\n",
       "<table border=\"1\" class=\"dataframe\">\n",
       "  <thead>\n",
       "    <tr style=\"text-align: right;\">\n",
       "      <th></th>\n",
       "      <th>Tacgia</th>\n",
       "      <th>Link</th>\n",
       "      <th>Namsinh</th>\n",
       "      <th>Quote</th>\n",
       "      <th>STT</th>\n",
       "      <th>Tuoi</th>\n",
       "      <th>quantity_quotes</th>\n",
       "    </tr>\n",
       "  </thead>\n",
       "  <tbody>\n",
       "    <tr>\n",
       "      <th>0</th>\n",
       "      <td>Albert Einstein</td>\n",
       "      <td>http://quotes.toscrape.com//author/Albert-Eins...</td>\n",
       "      <td>1879-03-14</td>\n",
       "      <td>“The world as we have created it is a process ...</td>\n",
       "      <td>0</td>\n",
       "      <td>76</td>\n",
       "      <td>21</td>\n",
       "    </tr>\n",
       "    <tr>\n",
       "      <th>1</th>\n",
       "      <td>J.K. Rowling</td>\n",
       "      <td>http://quotes.toscrape.com//author/J-K-Rowling</td>\n",
       "      <td>1965-07-31</td>\n",
       "      <td>“It is our choices, Harry, that show what we t...</td>\n",
       "      <td>1</td>\n",
       "      <td>57</td>\n",
       "      <td>16</td>\n",
       "    </tr>\n",
       "    <tr>\n",
       "      <th>2</th>\n",
       "      <td>Albert Einstein</td>\n",
       "      <td>http://quotes.toscrape.com//author/Albert-Eins...</td>\n",
       "      <td>1879-03-14</td>\n",
       "      <td>“There are only two ways to live your life. On...</td>\n",
       "      <td>2</td>\n",
       "      <td>76</td>\n",
       "      <td>26</td>\n",
       "    </tr>\n",
       "    <tr>\n",
       "      <th>3</th>\n",
       "      <td>Jane Austen</td>\n",
       "      <td>http://quotes.toscrape.com//author/Jane-Austen</td>\n",
       "      <td>1775-12-16</td>\n",
       "      <td>“The person, be it gentleman or lady, who has ...</td>\n",
       "      <td>3</td>\n",
       "      <td>41</td>\n",
       "      <td>19</td>\n",
       "    </tr>\n",
       "    <tr>\n",
       "      <th>4</th>\n",
       "      <td>Marilyn Monroe</td>\n",
       "      <td>http://quotes.toscrape.com//author/Marilyn-Monroe</td>\n",
       "      <td>1926-06-01</td>\n",
       "      <td>“Imperfection is beauty, madness is genius and...</td>\n",
       "      <td>4</td>\n",
       "      <td>36</td>\n",
       "      <td>16</td>\n",
       "    </tr>\n",
       "  </tbody>\n",
       "</table>\n",
       "</div>"
      ],
      "text/plain": [
       "            Tacgia                                               Link   \n",
       "0  Albert Einstein  http://quotes.toscrape.com//author/Albert-Eins...  \\\n",
       "1     J.K. Rowling     http://quotes.toscrape.com//author/J-K-Rowling   \n",
       "2  Albert Einstein  http://quotes.toscrape.com//author/Albert-Eins...   \n",
       "3      Jane Austen     http://quotes.toscrape.com//author/Jane-Austen   \n",
       "4   Marilyn Monroe  http://quotes.toscrape.com//author/Marilyn-Monroe   \n",
       "\n",
       "      Namsinh                                              Quote  STT  Tuoi   \n",
       "0  1879-03-14  “The world as we have created it is a process ...    0    76  \\\n",
       "1  1965-07-31  “It is our choices, Harry, that show what we t...    1    57   \n",
       "2  1879-03-14  “There are only two ways to live your life. On...    2    76   \n",
       "3  1775-12-16  “The person, be it gentleman or lady, who has ...    3    41   \n",
       "4  1926-06-01  “Imperfection is beauty, madness is genius and...    4    36   \n",
       "\n",
       "   quantity_quotes  \n",
       "0               21  \n",
       "1               16  \n",
       "2               26  \n",
       "3               19  \n",
       "4               16  "
      ]
     },
     "execution_count": 41,
     "metadata": {},
     "output_type": "execute_result"
    }
   ],
   "source": [
    "meta.head(5)"
   ]
  },
  {
   "cell_type": "code",
   "execution_count": 42,
   "metadata": {},
   "outputs": [],
   "source": [
    "ages = {}\n",
    "for i in range(len(meta)):\n",
    "    ages[meta.Tacgia[i]] = meta.Tuoi[i]"
   ]
  },
  {
   "cell_type": "code",
   "execution_count": 43,
   "metadata": {},
   "outputs": [],
   "source": [
    "most_author['age'] = most_author.apply(lambda row: int(ages[row.Author]), axis=1)"
   ]
  },
  {
   "cell_type": "code",
   "execution_count": 44,
   "metadata": {},
   "outputs": [
    {
     "data": {
      "text/html": [
       "<div>\n",
       "<style scoped>\n",
       "    .dataframe tbody tr th:only-of-type {\n",
       "        vertical-align: middle;\n",
       "    }\n",
       "\n",
       "    .dataframe tbody tr th {\n",
       "        vertical-align: top;\n",
       "    }\n",
       "\n",
       "    .dataframe thead th {\n",
       "        text-align: right;\n",
       "    }\n",
       "</style>\n",
       "<table border=\"1\" class=\"dataframe\">\n",
       "  <thead>\n",
       "    <tr style=\"text-align: right;\">\n",
       "      <th></th>\n",
       "      <th>Author</th>\n",
       "      <th>Quantily</th>\n",
       "      <th>age</th>\n",
       "    </tr>\n",
       "  </thead>\n",
       "  <tbody>\n",
       "    <tr>\n",
       "      <th>0</th>\n",
       "      <td>Albert Einstein</td>\n",
       "      <td>10</td>\n",
       "      <td>76</td>\n",
       "    </tr>\n",
       "    <tr>\n",
       "      <th>26</th>\n",
       "      <td>J.K. Rowling</td>\n",
       "      <td>9</td>\n",
       "      <td>57</td>\n",
       "    </tr>\n",
       "    <tr>\n",
       "      <th>37</th>\n",
       "      <td>Marilyn Monroe</td>\n",
       "      <td>7</td>\n",
       "      <td>36</td>\n",
       "    </tr>\n",
       "    <tr>\n",
       "      <th>38</th>\n",
       "      <td>Mark Twain</td>\n",
       "      <td>6</td>\n",
       "      <td>74</td>\n",
       "    </tr>\n",
       "    <tr>\n",
       "      <th>11</th>\n",
       "      <td>Dr. Seuss</td>\n",
       "      <td>6</td>\n",
       "      <td>87</td>\n",
       "    </tr>\n",
       "  </tbody>\n",
       "</table>\n",
       "</div>"
      ],
      "text/plain": [
       "             Author  Quantily  age\n",
       "0   Albert Einstein        10   76\n",
       "26     J.K. Rowling         9   57\n",
       "37   Marilyn Monroe         7   36\n",
       "38       Mark Twain         6   74\n",
       "11        Dr. Seuss         6   87"
      ]
     },
     "execution_count": 44,
     "metadata": {},
     "output_type": "execute_result"
    }
   ],
   "source": [
    "most_author.head(5)"
   ]
  },
  {
   "cell_type": "code",
   "execution_count": 45,
   "metadata": {},
   "outputs": [
    {
     "data": {
      "text/plain": [
       "-0.1705322647453309"
      ]
     },
     "execution_count": 45,
     "metadata": {},
     "output_type": "execute_result"
    }
   ],
   "source": [
    "most_author.age.corr(most_author.Quantily)"
   ]
  },
  {
   "cell_type": "code",
   "execution_count": 46,
   "metadata": {},
   "outputs": [
    {
     "data": {
      "text/plain": [
       "<matplotlib.legend.Legend at 0x23e421f7af0>"
      ]
     },
     "execution_count": 46,
     "metadata": {},
     "output_type": "execute_result"
    },
    {
     "data": {
      "image/png": "[encoded data removed]",
      "text/plain": [
       "<Figure size 640x480 with 1 Axes>"
      ]
     },
     "metadata": {},
     "output_type": "display_data"
    }
   ],
   "source": [
    "plt.plot(most_author.Author, most_author.age, label='Age author')\n",
    "plt.plot(most_author.Author, most_author.Quantily, label='Quantily quote')\n",
    "plt.legend()"
   ]
  },
  {
   "attachments": {},
   "cell_type": "markdown",
   "metadata": {},
   "source": [
    "+ Note:\n",
    "    + Việc có nhiều câu nói không phụ thuộc nhiều vào độ tuổi khoảng từ 25 trở lên"
   ]
  },
  {
   "attachments": {},
   "cell_type": "markdown",
   "metadata": {},
   "source": [
    "# 3.2.3. Trích xuất đặc trưng- Feature Extraction (5 điểm):\n"
   ]
  },
  {
   "cell_type": "code",
   "execution_count": 47,
   "metadata": {},
   "outputs": [],
   "source": [
    "# Để phục vụ cho việc phân tích và dự đoán thì các dữ liệu không phải dạng số chúng em sẽ mã hóa hoặc biến đổi về dạng int"
   ]
  },
  {
   "attachments": {},
   "cell_type": "markdown",
   "metadata": {},
   "source": [
    "> Mã hóa tên tác giả"
   ]
  },
  {
   "cell_type": "code",
   "execution_count": 48,
   "metadata": {},
   "outputs": [],
   "source": [
    "from sklearn.preprocessing import LabelEncoder\n",
    "encoder = LabelEncoder()\n",
    "meta['Tacgia'] = encoder.fit_transform(meta.Tacgia)\n"
   ]
  },
  {
   "cell_type": "code",
   "execution_count": 49,
   "metadata": {},
   "outputs": [],
   "source": [
    "# Tiền xử lý dữ liệu\n",
    "meta['Quote'] = meta['Quote'].str.replace('[^\\w\\s]','') # Loại bỏ dấu câu và các ký tự đặc biệt\n",
    "meta['Quote'] = meta['Quote'].str.lower() # Chuyển đổi sang dạng viết thường\n",
    "stopwords = ['a', 'an', 'the'] # Loại bỏ stopwords\n",
    "meta['Quote'] = meta['Quote'].apply(lambda x: (' '.join([word for word in x.split() if word not in (stopwords)])).replace('“', '').replace('”', ''))\n"
   ]
  },
  {
   "cell_type": "code",
   "execution_count": 50,
   "metadata": {},
   "outputs": [
    {
     "data": {
      "text/plain": [
       "'world as we have created it is process of our thinking. it cannot be changed without changing our thinking.'"
      ]
     },
     "execution_count": 50,
     "metadata": {},
     "output_type": "execute_result"
    }
   ],
   "source": [
    "' '.join([word for word in meta['Quote'][0].split() if word not in (stopwords)])"
   ]
  },
  {
   "cell_type": "code",
   "execution_count": 51,
   "metadata": {},
   "outputs": [],
   "source": [
    "meta['Quote'] = meta['Quote'].apply(lambda x: ' '.join([word for word in x.split() if word not in (stopwords)]))"
   ]
  },
  {
   "cell_type": "code",
   "execution_count": 52,
   "metadata": {},
   "outputs": [
    {
     "data": {
      "text/plain": [
       "'world as we have created it is process of our thinking. it cannot be changed without changing our thinking.'"
      ]
     },
     "execution_count": 52,
     "metadata": {},
     "output_type": "execute_result"
    }
   ],
   "source": [
    "meta['Quote'][0]"
   ]
  },
  {
   "cell_type": "code",
   "execution_count": 53,
   "metadata": {},
   "outputs": [
    {
     "data": {
      "text/plain": [
       "{'world': 645,\n",
       " 'as': 42,\n",
       " 'we': 621,\n",
       " 'have': 260,\n",
       " 'created': 132,\n",
       " 'it': 305,\n",
       " 'is': 303,\n",
       " 'process': 463,\n",
       " 'of': 416,\n",
       " 'our': 434,\n",
       " 'thinking': 562,\n",
       " 'cannot': 92,\n",
       " 'be': 55,\n",
       " 'changed': 104,\n",
       " 'without': 640,\n",
       " 'changing': 105,\n",
       " 'choices': 112,\n",
       " 'harry': 256,\n",
       " 'that': 553,\n",
       " 'show': 500,\n",
       " 'what': 624,\n",
       " 'truly': 585,\n",
       " 'are': 38,\n",
       " 'far': 202,\n",
       " 'more': 389,\n",
       " 'than': 552,\n",
       " 'abilities': 2,\n",
       " 'there': 556,\n",
       " 'only': 424,\n",
       " 'two': 592,\n",
       " 'ways': 620,\n",
       " 'to': 573,\n",
       " 'live': 341,\n",
       " 'your': 658,\n",
       " 'life': 336,\n",
       " 'one': 422,\n",
       " 'though': 566,\n",
       " 'nothing': 412,\n",
       " 'miracle': 382,\n",
       " 'other': 433,\n",
       " 'everything': 187,\n",
       " 'person': 444,\n",
       " 'gentleman': 229,\n",
       " 'or': 430,\n",
       " 'lady': 323,\n",
       " 'who': 631,\n",
       " 'has': 257,\n",
       " 'not': 411,\n",
       " 'pleasure': 451,\n",
       " 'in': 289,\n",
       " 'good': 240,\n",
       " 'novel': 414,\n",
       " 'must': 396,\n",
       " 'intolerably': 301,\n",
       " 'stupid': 534,\n",
       " 'imperfection': 286,\n",
       " 'beauty': 57,\n",
       " 'madness': 365,\n",
       " 'genius': 228,\n",
       " 'and': 26,\n",
       " 'better': 70,\n",
       " 'absolutely': 5,\n",
       " 'ridiculous': 479,\n",
       " 'boring': 79,\n",
       " 'try': 588,\n",
       " 'become': 59,\n",
       " 'man': 369,\n",
       " 'success': 536,\n",
       " 'rather': 468,\n",
       " 'value': 605,\n",
       " 'hated': 259,\n",
       " 'for': 215,\n",
       " 'you': 656,\n",
       " 'loved': 354,\n",
       " 'failed': 196,\n",
       " 've': 606,\n",
       " 'just': 311,\n",
       " 'found': 219,\n",
       " '10': 1,\n",
       " '000': 0,\n",
       " 'won': 642,\n",
       " 'work': 644,\n",
       " 'woman': 641,\n",
       " 'like': 337,\n",
       " 'tea': 547,\n",
       " 'bag': 51,\n",
       " 'never': 405,\n",
       " 'know': 319,\n",
       " 'how': 278,\n",
       " 'strong': 533,\n",
       " 'until': 600,\n",
       " 'hot': 276,\n",
       " 'water': 618,\n",
       " 'day': 138,\n",
       " 'sunshine': 540,\n",
       " 'night': 408,\n",
       " 'this': 564,\n",
       " 'make': 366,\n",
       " 'no': 409,\n",
       " 'matter': 372,\n",
       " 're': 469,\n",
       " 'going': 237,\n",
       " 'mess': 378,\n",
       " 'up': 601,\n",
       " 'sometimes': 519,\n",
       " 'universal': 598,\n",
       " 'truth': 587,\n",
       " 'but': 88,\n",
       " 'part': 440,\n",
       " 'get': 230,\n",
       " 'decide': 143,\n",
       " 'girls': 232,\n",
       " 'will': 636,\n",
       " 'friends': 222,\n",
       " 'they': 558,\n",
       " 'll': 345,\n",
       " 'act': 9,\n",
       " 'anyway': 36,\n",
       " 'remember': 478,\n",
       " 'some': 515,\n",
       " 'come': 122,\n",
       " 'go': 234,\n",
       " 'ones': 423,\n",
       " 'stay': 529,\n",
       " 'with': 639,\n",
       " 'through': 570,\n",
       " 'true': 583,\n",
       " 'best': 69,\n",
       " 'don': 157,\n",
       " 'let': 332,\n",
       " 'them': 554,\n",
       " 'also': 22,\n",
       " 'sisters': 504,\n",
       " 'lovers': 356,\n",
       " 'well': 622,\n",
       " 'too': 577,\n",
       " 'baby': 49,\n",
       " 'hate': 258,\n",
       " 'say': 486,\n",
       " 'most': 390,\n",
       " 'actually': 10,\n",
       " 'pretty': 458,\n",
       " 'much': 393,\n",
       " 'all': 19,\n",
       " 'break': 86,\n",
       " 'heart': 265,\n",
       " 'can': 91,\n",
       " 'give': 233,\n",
       " 'because': 58,\n",
       " 'if': 282,\n",
       " 'find': 208,\n",
       " 'soulmate': 522,\n",
       " 'half': 247,\n",
       " 'makes': 367,\n",
       " 'whole': 632,\n",
       " 'goes': 236,\n",
       " 'fail': 195,\n",
       " 'once': 421,\n",
       " 'doesn': 156,\n",
       " 'mean': 376,\n",
       " 'gonna': 239,\n",
       " 'at': 44,\n",
       " 'keep': 312,\n",
       " 'trying': 589,\n",
       " 'hold': 273,\n",
       " 'on': 420,\n",
       " 'always': 23,\n",
       " 'believe': 67,\n",
       " 'yourself': 660,\n",
       " 'then': 555,\n",
       " 'sweetie': 542,\n",
       " 'so': 514,\n",
       " 'head': 263,\n",
       " 'high': 268,\n",
       " 'chin': 109,\n",
       " 'importantly': 287,\n",
       " 'smiling': 513,\n",
       " 'beautiful': 56,\n",
       " 'thing': 559,\n",
       " 'smile': 512,\n",
       " 'about': 3,\n",
       " 'takes': 544,\n",
       " 'great': 242,\n",
       " 'deal': 141,\n",
       " 'bravery': 85,\n",
       " 'stand': 525,\n",
       " 'enemies': 178,\n",
       " 'explain': 191,\n",
       " 'six': 507,\n",
       " 'year': 655,\n",
       " 'old': 419,\n",
       " 'understand': 596,\n",
       " 'may': 374,\n",
       " 'her': 266,\n",
       " 'first': 211,\n",
       " 'last': 325,\n",
       " 'she': 497,\n",
       " 'before': 61,\n",
       " 'love': 353,\n",
       " 'again': 15,\n",
       " 'loves': 357,\n",
       " 'now': 415,\n",
       " 'else': 174,\n",
       " 'matters': 373,\n",
       " 'perfect': 443,\n",
       " 'aren': 39,\n",
       " 'either': 173,\n",
       " 'together': 575,\n",
       " 'laugh': 327,\n",
       " 'cause': 97,\n",
       " 'think': 561,\n",
       " 'twice': 591,\n",
       " 'admit': 12,\n",
       " 'being': 65,\n",
       " 'human': 279,\n",
       " 'making': 368,\n",
       " 'mistakes': 387,\n",
       " 'onto': 425,\n",
       " 'every': 185,\n",
       " 'second': 489,\n",
       " 'knows': 321,\n",
       " 'hurt': 280,\n",
       " 'change': 103,\n",
       " 'analyze': 25,\n",
       " 'expect': 190,\n",
       " 'when': 625,\n",
       " 'happy': 255,\n",
       " 'mad': 362,\n",
       " 'miss': 385,\n",
       " 'nonsense': 410,\n",
       " 'wakes': 611,\n",
       " 'brain': 83,\n",
       " 'cells': 102,\n",
       " 'fantasy': 201,\n",
       " 'necessary': 401,\n",
       " 'ingredient': 292,\n",
       " 'living': 344,\n",
       " 'gone': 238,\n",
       " 'where': 627,\n",
       " 'intended': 297,\n",
       " 'ended': 177,\n",
       " 'needed': 403,\n",
       " 'opposite': 429,\n",
       " 'indifference': 291,\n",
       " 'art': 41,\n",
       " 'ugliness': 594,\n",
       " 'faith': 199,\n",
       " 'heresy': 267,\n",
       " 'death': 142,\n",
       " 'lack': 322,\n",
       " 'friendship': 223,\n",
       " 'unhappy': 597,\n",
       " 'marriages': 370,\n",
       " 'books': 78,\n",
       " 'sleepy': 510,\n",
       " 'conscience': 126,\n",
       " 'ideal': 281,\n",
       " 'happens': 253,\n",
       " 'us': 604,\n",
       " 'while': 630,\n",
       " 'plans': 450,\n",
       " 'knowing': 320,\n",
       " 'from': 224,\n",
       " 'simply': 502,\n",
       " 'problems': 462,\n",
       " 'pride': 459,\n",
       " 'way': 619,\n",
       " 'do': 154,\n",
       " 'any': 32,\n",
       " 'loving': 358,\n",
       " 'which': 629,\n",
       " 'intimate': 299,\n",
       " 'hand': 249,\n",
       " 'upon': 602,\n",
       " 'my': 397,\n",
       " 'chest': 107,\n",
       " 'fall': 200,\n",
       " 'asleep': 43,\n",
       " 'eyes': 193,\n",
       " 'close': 118,\n",
       " 'minute': 381,\n",
       " 'angry': 28,\n",
       " 'lose': 351,\n",
       " 'sixty': 508,\n",
       " 'seconds': 490,\n",
       " 'happiness': 254,\n",
       " 'judge': 309,\n",
       " 'people': 442,\n",
       " 'time': 571,\n",
       " 'anyone': 33,\n",
       " 'thinks': 563,\n",
       " 'sitting': 506,\n",
       " 'church': 115,\n",
       " 'christian': 113,\n",
       " 'garage': 226,\n",
       " 'car': 93,\n",
       " 'eye': 192,\n",
       " 'beholder': 64,\n",
       " 'misinformed': 384,\n",
       " 'black': 74,\n",
       " 'today': 574,\n",
       " 'truer': 584,\n",
       " 'alive': 18,\n",
       " 'youer': 657,\n",
       " 'want': 614,\n",
       " 'children': 108,\n",
       " 'intelligent': 296,\n",
       " 'read': 470,\n",
       " 'fairy': 198,\n",
       " 'tales': 545,\n",
       " 'impossible': 288,\n",
       " 'failing': 197,\n",
       " 'something': 518,\n",
       " 'unless': 599,\n",
       " 'cautiously': 99,\n",
       " 'might': 379,\n",
       " 'lived': 342,\n",
       " 'case': 95,\n",
       " 'by': 89,\n",
       " 'default': 145,\n",
       " 'logic': 347,\n",
       " 'imagination': 283,\n",
       " 'everywhere': 188,\n",
       " 'music': 394,\n",
       " 'hits': 271,\n",
       " 'feel': 204,\n",
       " 'pain': 437,\n",
       " 'things': 560,\n",
       " 'learn': 329,\n",
       " 'places': 449,\n",
       " 'course': 130,\n",
       " 'happening': 252,\n",
       " 'inside': 293,\n",
       " 'why': 635,\n",
       " 'earth': 169,\n",
       " 'should': 499,\n",
       " 'real': 475,\n",
       " 'everyone': 186,\n",
       " 'got': 241,\n",
       " 'worth': 646,\n",
       " 'suffering': 537,\n",
       " 'small': 511,\n",
       " 'organized': 432,\n",
       " 'mind': 380,\n",
       " 'next': 407,\n",
       " 'adventure': 13,\n",
       " 'need': 402,\n",
       " 'little': 340,\n",
       " 'chocolate': 110,\n",
       " 'alone': 20,\n",
       " 'fool': 214,\n",
       " 'point': 452,\n",
       " 'imagined': 284,\n",
       " 'paradise': 439,\n",
       " 'kind': 314,\n",
       " 'library': 333,\n",
       " 'late': 326,\n",
       " 'been': 60,\n",
       " 'reader': 471,\n",
       " 'lives': 343,\n",
       " 'thousand': 568,\n",
       " 'he': 262,\n",
       " 'dies': 149,\n",
       " 'said': 485,\n",
       " 'jojen': 308,\n",
       " 'reads': 473,\n",
       " 'cup': 135,\n",
       " 'large': 324,\n",
       " 'enough': 180,\n",
       " 'book': 77,\n",
       " 'long': 348,\n",
       " 'suit': 538,\n",
       " 'me': 375,\n",
       " 'lies': 335,\n",
       " 'eventually': 184,\n",
       " 'trust': 586,\n",
       " 'anything': 34,\n",
       " 'riding': 480,\n",
       " 'bicycle': 72,\n",
       " 'balance': 52,\n",
       " 'moving': 392,\n",
       " 'lover': 355,\n",
       " 'thrill': 569,\n",
       " 'kissing': 317,\n",
       " 'forehead': 216,\n",
       " 'into': 300,\n",
       " 'staring': 526,\n",
       " 'space': 523,\n",
       " 'wise': 637,\n",
       " 'girl': 231,\n",
       " 'kisses': 316,\n",
       " 'listens': 339,\n",
       " 'leaves': 330,\n",
       " 'left': 331,\n",
       " 'darkness': 137,\n",
       " 'see': 491,\n",
       " 'stars': 527,\n",
       " 'someone': 517,\n",
       " 'born': 80,\n",
       " 'grow': 243,\n",
       " 'does': 155,\n",
       " 'begin': 62,\n",
       " 'end': 176,\n",
       " 'seem': 492,\n",
       " 'battle': 54,\n",
       " 'war': 616,\n",
       " 'growing': 244,\n",
       " 'would': 648,\n",
       " 'those': 565,\n",
       " 'really': 476,\n",
       " 'notion': 413,\n",
       " 'halves': 248,\n",
       " 'nature': 399,\n",
       " 'scares': 487,\n",
       " 'am': 24,\n",
       " 'angel': 27,\n",
       " 'sin': 503,\n",
       " 'devil': 147,\n",
       " 'big': 73,\n",
       " 'were': 623,\n",
       " 'physicist': 446,\n",
       " 'probably': 460,\n",
       " 'musician': 395,\n",
       " 'often': 417,\n",
       " 'daydreams': 139,\n",
       " 'terms': 549,\n",
       " 'reading': 472,\n",
       " 'difference': 150,\n",
       " 'between': 71,\n",
       " 'stupidity': 535,\n",
       " 'its': 306,\n",
       " 'limits': 338,\n",
       " 'drug': 166,\n",
       " 'bella': 68,\n",
       " 'friend': 221,\n",
       " 'loyal': 360,\n",
       " 'door': 159,\n",
       " 'closes': 120,\n",
       " 'another': 30,\n",
       " 'opens': 428,\n",
       " 'look': 349,\n",
       " 'closed': 119,\n",
       " 'opened': 427,\n",
       " 'isn': 304,\n",
       " 'finding': 209,\n",
       " 'creating': 133,\n",
       " 'problem': 461,\n",
       " 'drinking': 165,\n",
       " 'thought': 567,\n",
       " 'poured': 454,\n",
       " 'myself': 398,\n",
       " 'drink': 164,\n",
       " 'bad': 50,\n",
       " 'attempt': 45,\n",
       " 'forget': 218,\n",
       " 'order': 431,\n",
       " 'celebrate': 101,\n",
       " 'happen': 250,\n",
       " 'face': 194,\n",
       " 'was': 617,\n",
       " 'hope': 274,\n",
       " 'madly': 364,\n",
       " 'right': 481,\n",
       " 'kiss': 315,\n",
       " 'anytime': 35,\n",
       " 'vulnerable': 610,\n",
       " 'wrung': 654,\n",
       " 'possibly': 453,\n",
       " 'broken': 87,\n",
       " 'sure': 541,\n",
       " 'keeping': 313,\n",
       " 'intact': 295,\n",
       " 'even': 183,\n",
       " 'animal': 29,\n",
       " 'wrap': 649,\n",
       " 'carefully': 94,\n",
       " 'round': 483,\n",
       " 'hobbies': 272,\n",
       " 'luxuries': 361,\n",
       " 'avoid': 47,\n",
       " 'entanglements': 181,\n",
       " 'lock': 346,\n",
       " 'safe': 484,\n",
       " 'casket': 96,\n",
       " 'coffin': 121,\n",
       " 'selfishness': 493,\n",
       " 'dark': 136,\n",
       " 'motionless': 391,\n",
       " 'airless': 17,\n",
       " 'unbreakable': 595,\n",
       " 'impenetrable': 285,\n",
       " 'irredeemable': 302,\n",
       " 'wander': 613,\n",
       " 'lost': 352,\n",
       " 'pity': 447,\n",
       " 'dead': 140,\n",
       " 'above': 4,\n",
       " 'writing': 651,\n",
       " 'sit': 505,\n",
       " 'down': 162,\n",
       " 'typewriter': 593,\n",
       " 'bleed': 75,\n",
       " 'finish': 210,\n",
       " 'each': 168,\n",
       " 'done': 158,\n",
       " 'could': 128,\n",
       " 'blunders': 76,\n",
       " 'absurdities': 6,\n",
       " 'doubt': 160,\n",
       " 'crept': 134,\n",
       " 'soon': 520,\n",
       " 'tomorrow': 576,\n",
       " 'new': 406,\n",
       " 'shall': 496,\n",
       " 'serenely': 495,\n",
       " 'spirit': 524,\n",
       " 'encumbered': 175,\n",
       " 'schooling': 488,\n",
       " 'interfere': 298,\n",
       " 'education': 172,\n",
       " 'heard': 264,\n",
       " 'troubles': 582,\n",
       " 'ahead': 16,\n",
       " 'behind': 63,\n",
       " 'bought': 81,\n",
       " 'bat': 53,\n",
       " 'ready': 474,\n",
       " 'had': 246,\n",
       " 'flower': 212,\n",
       " 'walk': 612,\n",
       " 'garden': 227,\n",
       " 'forever': 217,\n",
       " 'crazy': 131,\n",
       " 'horrible': 275,\n",
       " 'lead': 328,\n",
       " 'trouble': 581,\n",
       " 'having': 261,\n",
       " 'open': 426,\n",
       " 'insist': 294,\n",
       " 'coming': 124,\n",
       " 'along': 21,\n",
       " 'put': 464,\n",
       " 'low': 359,\n",
       " 'oh': 418,\n",
       " 'knocks': 318,\n",
       " 'out': 435,\n",
       " 'wish': 638,\n",
       " 'author': 46,\n",
       " 'wrote': 653,\n",
       " 'terrific': 551,\n",
       " 'yours': 659,\n",
       " 'call': 90,\n",
       " 'him': 269,\n",
       " 'phone': 445,\n",
       " 'whenever': 626,\n",
       " 'felt': 205,\n",
       " 'reason': 477,\n",
       " 'talk': 546,\n",
       " 'whose': 634,\n",
       " 'answers': 31,\n",
       " 'accept': 7,\n",
       " 'dreamer': 163,\n",
       " 'someday': 516,\n",
       " 'join': 307,\n",
       " 'free': 220,\n",
       " 'prejudice': 456,\n",
       " 'equally': 182,\n",
       " 'question': 466,\n",
       " 'stop': 531,\n",
       " 'classic': 116,\n",
       " 'praise': 455,\n",
       " 'made': 363,\n",
       " 'mistake': 386,\n",
       " 'tried': 580,\n",
       " 'very': 607,\n",
       " 'rapid': 467,\n",
       " 'jumps': 310,\n",
       " 'admiration': 11,\n",
       " 'matrimony': 371,\n",
       " 'moment': 388,\n",
       " 'choice': 111,\n",
       " 'easy': 170,\n",
       " 'happened': 251,\n",
       " 'boy': 82,\n",
       " 'brave': 84,\n",
       " 'strayed': 532,\n",
       " 'across': 8,\n",
       " 'path': 441,\n",
       " 'lord': 350,\n",
       " 'voldemort': 609,\n",
       " 'cedric': 100,\n",
       " 'diggory': 152,\n",
       " 'declare': 144,\n",
       " 'after': 14,\n",
       " 'enjoyment': 179,\n",
       " 'sooner': 521,\n",
       " 'tires': 572,\n",
       " 'house': 277,\n",
       " 'own': 436,\n",
       " 'miserable': 383,\n",
       " 'excellent': 189,\n",
       " 'few': 206,\n",
       " 'whom': 633,\n",
       " 'still': 530,\n",
       " 'fewer': 207,\n",
       " 'dissatisfied': 153,\n",
       " 'confirms': 125,\n",
       " 'belief': 66,\n",
       " 'inconsistency': 290,\n",
       " 'characters': 106,\n",
       " 'dependence': 146,\n",
       " 'placed': 448,\n",
       " 'appearance': 37,\n",
       " 'merit': 377,\n",
       " 'sense': 494,\n",
       " 'start': 528,\n",
       " 'necessarily': 400,\n",
       " 'doubting': 161,\n",
       " 'god': 235,\n",
       " 'wondering': 643,\n",
       " 'painful': 438,\n",
       " 'turn': 590,\n",
       " 'fear': 203,\n",
       " 'follows': 213,\n",
       " 'fully': 225,\n",
       " 'prepared': 457,\n",
       " 'die': 148,\n",
       " 'lie': 334,\n",
       " 'travel': 578,\n",
       " 'around': 40,\n",
       " 'putting': 465,\n",
       " 'shoes': 498,\n",
       " 'christianity': 114,\n",
       " 'sun': 539,\n",
       " 'risen': 482,\n",
       " 'dumbledore': 167,\n",
       " 'sighed': 501,\n",
       " 'terrible': 550,\n",
       " 'therefore': 557,\n",
       " 'treated': 579,\n",
       " 'caution': 98,\n",
       " 'awfully': 48,\n",
       " 'courage': 129,\n",
       " 'comforted': 123,\n",
       " 'consider': 127,\n",
       " 'his': 270,\n",
       " 'view': 608,\n",
       " 'climb': 117,\n",
       " 'skin': 509,\n",
       " 'write': 650,\n",
       " 'wants': 615,\n",
       " 'written': 652,\n",
       " 'difficult': 151,\n",
       " 'grown': 245,\n",
       " 'ups': 603,\n",
       " 'tell': 548,\n",
       " 'worthy': 647,\n",
       " 'needs': 404,\n",
       " 'sword': 543,\n",
       " 'whetstone': 628,\n",
       " 'edge': 171}"
      ]
     },
     "execution_count": 53,
     "metadata": {},
     "output_type": "execute_result"
    }
   ],
   "source": [
    "from sklearn.feature_extraction.text import CountVectorizer\n",
    "vectorizer = CountVectorizer()\n",
    "vector = vectorizer.fit_transform(meta.Quote)\n",
    "vectorizer.vocabulary_"
   ]
  },
  {
   "cell_type": "code",
   "execution_count": 58,
   "metadata": {},
   "outputs": [
    {
     "name": "stdout",
     "output_type": "stream",
     "text": [
      "(100, 661)\n"
     ]
    }
   ],
   "source": [
    "print(vector.toarray().shape)"
   ]
  },
  {
   "cell_type": "code",
   "execution_count": 59,
   "metadata": {},
   "outputs": [
    {
     "data": {
      "text/html": [
       "<div>\n",
       "<style scoped>\n",
       "    .dataframe tbody tr th:only-of-type {\n",
       "        vertical-align: middle;\n",
       "    }\n",
       "\n",
       "    .dataframe tbody tr th {\n",
       "        vertical-align: top;\n",
       "    }\n",
       "\n",
       "    .dataframe thead th {\n",
       "        text-align: right;\n",
       "    }\n",
       "</style>\n",
       "<table border=\"1\" class=\"dataframe\">\n",
       "  <thead>\n",
       "    <tr style=\"text-align: right;\">\n",
       "      <th></th>\n",
       "      <th>Tacgia</th>\n",
       "      <th>Link</th>\n",
       "      <th>Namsinh</th>\n",
       "      <th>Quote</th>\n",
       "      <th>STT</th>\n",
       "      <th>Tuoi</th>\n",
       "      <th>quantity_quotes</th>\n",
       "      <th>0</th>\n",
       "      <th>1</th>\n",
       "      <th>2</th>\n",
       "      <th>...</th>\n",
       "      <th>651</th>\n",
       "      <th>652</th>\n",
       "      <th>653</th>\n",
       "      <th>654</th>\n",
       "      <th>655</th>\n",
       "      <th>656</th>\n",
       "      <th>657</th>\n",
       "      <th>658</th>\n",
       "      <th>659</th>\n",
       "      <th>660</th>\n",
       "    </tr>\n",
       "  </thead>\n",
       "  <tbody>\n",
       "    <tr>\n",
       "      <th>0</th>\n",
       "      <td>0</td>\n",
       "      <td>http://quotes.toscrape.com//author/Albert-Eins...</td>\n",
       "      <td>1879-03-14</td>\n",
       "      <td>world as we have created it is process of our ...</td>\n",
       "      <td>0</td>\n",
       "      <td>76</td>\n",
       "      <td>21</td>\n",
       "      <td>0</td>\n",
       "      <td>0</td>\n",
       "      <td>0</td>\n",
       "      <td>...</td>\n",
       "      <td>0</td>\n",
       "      <td>0</td>\n",
       "      <td>0</td>\n",
       "      <td>0</td>\n",
       "      <td>0</td>\n",
       "      <td>0</td>\n",
       "      <td>0</td>\n",
       "      <td>0</td>\n",
       "      <td>0</td>\n",
       "      <td>0</td>\n",
       "    </tr>\n",
       "    <tr>\n",
       "      <th>1</th>\n",
       "      <td>26</td>\n",
       "      <td>http://quotes.toscrape.com//author/J-K-Rowling</td>\n",
       "      <td>1965-07-31</td>\n",
       "      <td>it is our choices, harry, that show what we tr...</td>\n",
       "      <td>1</td>\n",
       "      <td>57</td>\n",
       "      <td>16</td>\n",
       "      <td>0</td>\n",
       "      <td>0</td>\n",
       "      <td>1</td>\n",
       "      <td>...</td>\n",
       "      <td>0</td>\n",
       "      <td>0</td>\n",
       "      <td>0</td>\n",
       "      <td>0</td>\n",
       "      <td>0</td>\n",
       "      <td>0</td>\n",
       "      <td>0</td>\n",
       "      <td>0</td>\n",
       "      <td>0</td>\n",
       "      <td>0</td>\n",
       "    </tr>\n",
       "    <tr>\n",
       "      <th>2</th>\n",
       "      <td>0</td>\n",
       "      <td>http://quotes.toscrape.com//author/Albert-Eins...</td>\n",
       "      <td>1879-03-14</td>\n",
       "      <td>there are only two ways to live your life. one...</td>\n",
       "      <td>2</td>\n",
       "      <td>76</td>\n",
       "      <td>26</td>\n",
       "      <td>0</td>\n",
       "      <td>0</td>\n",
       "      <td>0</td>\n",
       "      <td>...</td>\n",
       "      <td>0</td>\n",
       "      <td>0</td>\n",
       "      <td>0</td>\n",
       "      <td>0</td>\n",
       "      <td>0</td>\n",
       "      <td>0</td>\n",
       "      <td>0</td>\n",
       "      <td>1</td>\n",
       "      <td>0</td>\n",
       "      <td>0</td>\n",
       "    </tr>\n",
       "    <tr>\n",
       "      <th>3</th>\n",
       "      <td>30</td>\n",
       "      <td>http://quotes.toscrape.com//author/Jane-Austen</td>\n",
       "      <td>1775-12-16</td>\n",
       "      <td>person, be it gentleman or lady, who has not p...</td>\n",
       "      <td>3</td>\n",
       "      <td>41</td>\n",
       "      <td>19</td>\n",
       "      <td>0</td>\n",
       "      <td>0</td>\n",
       "      <td>0</td>\n",
       "      <td>...</td>\n",
       "      <td>0</td>\n",
       "      <td>0</td>\n",
       "      <td>0</td>\n",
       "      <td>0</td>\n",
       "      <td>0</td>\n",
       "      <td>0</td>\n",
       "      <td>0</td>\n",
       "      <td>0</td>\n",
       "      <td>0</td>\n",
       "      <td>0</td>\n",
       "    </tr>\n",
       "    <tr>\n",
       "      <th>4</th>\n",
       "      <td>37</td>\n",
       "      <td>http://quotes.toscrape.com//author/Marilyn-Monroe</td>\n",
       "      <td>1926-06-01</td>\n",
       "      <td>imperfection is beauty, madness is genius and ...</td>\n",
       "      <td>4</td>\n",
       "      <td>36</td>\n",
       "      <td>16</td>\n",
       "      <td>0</td>\n",
       "      <td>0</td>\n",
       "      <td>0</td>\n",
       "      <td>...</td>\n",
       "      <td>0</td>\n",
       "      <td>0</td>\n",
       "      <td>0</td>\n",
       "      <td>0</td>\n",
       "      <td>0</td>\n",
       "      <td>0</td>\n",
       "      <td>0</td>\n",
       "      <td>0</td>\n",
       "      <td>0</td>\n",
       "      <td>0</td>\n",
       "    </tr>\n",
       "  </tbody>\n",
       "</table>\n",
       "<p>5 rows × 668 columns</p>\n",
       "</div>"
      ],
      "text/plain": [
       "   Tacgia                                               Link     Namsinh   \n",
       "0       0  http://quotes.toscrape.com//author/Albert-Eins...  1879-03-14  \\\n",
       "1      26     http://quotes.toscrape.com//author/J-K-Rowling  1965-07-31   \n",
       "2       0  http://quotes.toscrape.com//author/Albert-Eins...  1879-03-14   \n",
       "3      30     http://quotes.toscrape.com//author/Jane-Austen  1775-12-16   \n",
       "4      37  http://quotes.toscrape.com//author/Marilyn-Monroe  1926-06-01   \n",
       "\n",
       "                                               Quote  STT  Tuoi   \n",
       "0  world as we have created it is process of our ...    0    76  \\\n",
       "1  it is our choices, harry, that show what we tr...    1    57   \n",
       "2  there are only two ways to live your life. one...    2    76   \n",
       "3  person, be it gentleman or lady, who has not p...    3    41   \n",
       "4  imperfection is beauty, madness is genius and ...    4    36   \n",
       "\n",
       "   quantity_quotes  0  1  2  ...  651  652  653  654  655  656  657  658  659   \n",
       "0               21  0  0  0  ...    0    0    0    0    0    0    0    0    0  \\\n",
       "1               16  0  0  1  ...    0    0    0    0    0    0    0    0    0   \n",
       "2               26  0  0  0  ...    0    0    0    0    0    0    0    1    0   \n",
       "3               19  0  0  0  ...    0    0    0    0    0    0    0    0    0   \n",
       "4               16  0  0  0  ...    0    0    0    0    0    0    0    0    0   \n",
       "\n",
       "   660  \n",
       "0    0  \n",
       "1    0  \n",
       "2    0  \n",
       "3    0  \n",
       "4    0  \n",
       "\n",
       "[5 rows x 668 columns]"
      ]
     },
     "execution_count": 59,
     "metadata": {},
     "output_type": "execute_result"
    }
   ],
   "source": [
    "meta_encod = pd.concat([meta, pd.DataFrame(vector.toarray())], axis=1)\n",
    "meta_encod.head(5)"
   ]
  },
  {
   "cell_type": "code",
   "execution_count": 60,
   "metadata": {},
   "outputs": [],
   "source": [
    "meta_encod.drop(['Quote', 'Link', 'STT', 'Namsinh', 'Tuoi'], axis=1, inplace=True)"
   ]
  },
  {
   "cell_type": "code",
   "execution_count": 61,
   "metadata": {},
   "outputs": [],
   "source": [
    "meta_encod.drop(['quantity_quotes'], axis=1, inplace=True)"
   ]
  },
  {
   "cell_type": "code",
   "execution_count": 62,
   "metadata": {},
   "outputs": [
    {
     "data": {
      "text/html": [
       "<div>\n",
       "<style scoped>\n",
       "    .dataframe tbody tr th:only-of-type {\n",
       "        vertical-align: middle;\n",
       "    }\n",
       "\n",
       "    .dataframe tbody tr th {\n",
       "        vertical-align: top;\n",
       "    }\n",
       "\n",
       "    .dataframe thead th {\n",
       "        text-align: right;\n",
       "    }\n",
       "</style>\n",
       "<table border=\"1\" class=\"dataframe\">\n",
       "  <thead>\n",
       "    <tr style=\"text-align: right;\">\n",
       "      <th></th>\n",
       "      <th>Tacgia</th>\n",
       "      <th>0</th>\n",
       "      <th>1</th>\n",
       "      <th>2</th>\n",
       "      <th>3</th>\n",
       "      <th>4</th>\n",
       "      <th>5</th>\n",
       "      <th>6</th>\n",
       "      <th>7</th>\n",
       "      <th>8</th>\n",
       "      <th>...</th>\n",
       "      <th>651</th>\n",
       "      <th>652</th>\n",
       "      <th>653</th>\n",
       "      <th>654</th>\n",
       "      <th>655</th>\n",
       "      <th>656</th>\n",
       "      <th>657</th>\n",
       "      <th>658</th>\n",
       "      <th>659</th>\n",
       "      <th>660</th>\n",
       "    </tr>\n",
       "  </thead>\n",
       "  <tbody>\n",
       "    <tr>\n",
       "      <th>0</th>\n",
       "      <td>0</td>\n",
       "      <td>0</td>\n",
       "      <td>0</td>\n",
       "      <td>0</td>\n",
       "      <td>0</td>\n",
       "      <td>0</td>\n",
       "      <td>0</td>\n",
       "      <td>0</td>\n",
       "      <td>0</td>\n",
       "      <td>0</td>\n",
       "      <td>...</td>\n",
       "      <td>0</td>\n",
       "      <td>0</td>\n",
       "      <td>0</td>\n",
       "      <td>0</td>\n",
       "      <td>0</td>\n",
       "      <td>0</td>\n",
       "      <td>0</td>\n",
       "      <td>0</td>\n",
       "      <td>0</td>\n",
       "      <td>0</td>\n",
       "    </tr>\n",
       "    <tr>\n",
       "      <th>1</th>\n",
       "      <td>26</td>\n",
       "      <td>0</td>\n",
       "      <td>0</td>\n",
       "      <td>1</td>\n",
       "      <td>0</td>\n",
       "      <td>0</td>\n",
       "      <td>0</td>\n",
       "      <td>0</td>\n",
       "      <td>0</td>\n",
       "      <td>0</td>\n",
       "      <td>...</td>\n",
       "      <td>0</td>\n",
       "      <td>0</td>\n",
       "      <td>0</td>\n",
       "      <td>0</td>\n",
       "      <td>0</td>\n",
       "      <td>0</td>\n",
       "      <td>0</td>\n",
       "      <td>0</td>\n",
       "      <td>0</td>\n",
       "      <td>0</td>\n",
       "    </tr>\n",
       "    <tr>\n",
       "      <th>2</th>\n",
       "      <td>0</td>\n",
       "      <td>0</td>\n",
       "      <td>0</td>\n",
       "      <td>0</td>\n",
       "      <td>0</td>\n",
       "      <td>0</td>\n",
       "      <td>0</td>\n",
       "      <td>0</td>\n",
       "      <td>0</td>\n",
       "      <td>0</td>\n",
       "      <td>...</td>\n",
       "      <td>0</td>\n",
       "      <td>0</td>\n",
       "      <td>0</td>\n",
       "      <td>0</td>\n",
       "      <td>0</td>\n",
       "      <td>0</td>\n",
       "      <td>0</td>\n",
       "      <td>1</td>\n",
       "      <td>0</td>\n",
       "      <td>0</td>\n",
       "    </tr>\n",
       "    <tr>\n",
       "      <th>3</th>\n",
       "      <td>30</td>\n",
       "      <td>0</td>\n",
       "      <td>0</td>\n",
       "      <td>0</td>\n",
       "      <td>0</td>\n",
       "      <td>0</td>\n",
       "      <td>0</td>\n",
       "      <td>0</td>\n",
       "      <td>0</td>\n",
       "      <td>0</td>\n",
       "      <td>...</td>\n",
       "      <td>0</td>\n",
       "      <td>0</td>\n",
       "      <td>0</td>\n",
       "      <td>0</td>\n",
       "      <td>0</td>\n",
       "      <td>0</td>\n",
       "      <td>0</td>\n",
       "      <td>0</td>\n",
       "      <td>0</td>\n",
       "      <td>0</td>\n",
       "    </tr>\n",
       "    <tr>\n",
       "      <th>4</th>\n",
       "      <td>37</td>\n",
       "      <td>0</td>\n",
       "      <td>0</td>\n",
       "      <td>0</td>\n",
       "      <td>0</td>\n",
       "      <td>0</td>\n",
       "      <td>2</td>\n",
       "      <td>0</td>\n",
       "      <td>0</td>\n",
       "      <td>0</td>\n",
       "      <td>...</td>\n",
       "      <td>0</td>\n",
       "      <td>0</td>\n",
       "      <td>0</td>\n",
       "      <td>0</td>\n",
       "      <td>0</td>\n",
       "      <td>0</td>\n",
       "      <td>0</td>\n",
       "      <td>0</td>\n",
       "      <td>0</td>\n",
       "      <td>0</td>\n",
       "    </tr>\n",
       "    <tr>\n",
       "      <th>...</th>\n",
       "      <td>...</td>\n",
       "      <td>...</td>\n",
       "      <td>...</td>\n",
       "      <td>...</td>\n",
       "      <td>...</td>\n",
       "      <td>...</td>\n",
       "      <td>...</td>\n",
       "      <td>...</td>\n",
       "      <td>...</td>\n",
       "      <td>...</td>\n",
       "      <td>...</td>\n",
       "      <td>...</td>\n",
       "      <td>...</td>\n",
       "      <td>...</td>\n",
       "      <td>...</td>\n",
       "      <td>...</td>\n",
       "      <td>...</td>\n",
       "      <td>...</td>\n",
       "      <td>...</td>\n",
       "      <td>...</td>\n",
       "      <td>...</td>\n",
       "    </tr>\n",
       "    <tr>\n",
       "      <th>95</th>\n",
       "      <td>22</td>\n",
       "      <td>0</td>\n",
       "      <td>0</td>\n",
       "      <td>0</td>\n",
       "      <td>0</td>\n",
       "      <td>0</td>\n",
       "      <td>0</td>\n",
       "      <td>0</td>\n",
       "      <td>0</td>\n",
       "      <td>0</td>\n",
       "      <td>...</td>\n",
       "      <td>0</td>\n",
       "      <td>0</td>\n",
       "      <td>0</td>\n",
       "      <td>0</td>\n",
       "      <td>0</td>\n",
       "      <td>3</td>\n",
       "      <td>0</td>\n",
       "      <td>0</td>\n",
       "      <td>0</td>\n",
       "      <td>0</td>\n",
       "    </tr>\n",
       "    <tr>\n",
       "      <th>96</th>\n",
       "      <td>36</td>\n",
       "      <td>0</td>\n",
       "      <td>0</td>\n",
       "      <td>0</td>\n",
       "      <td>0</td>\n",
       "      <td>0</td>\n",
       "      <td>0</td>\n",
       "      <td>0</td>\n",
       "      <td>0</td>\n",
       "      <td>0</td>\n",
       "      <td>...</td>\n",
       "      <td>0</td>\n",
       "      <td>1</td>\n",
       "      <td>0</td>\n",
       "      <td>0</td>\n",
       "      <td>0</td>\n",
       "      <td>2</td>\n",
       "      <td>0</td>\n",
       "      <td>0</td>\n",
       "      <td>0</td>\n",
       "      <td>0</td>\n",
       "    </tr>\n",
       "    <tr>\n",
       "      <th>97</th>\n",
       "      <td>38</td>\n",
       "      <td>0</td>\n",
       "      <td>0</td>\n",
       "      <td>0</td>\n",
       "      <td>0</td>\n",
       "      <td>0</td>\n",
       "      <td>0</td>\n",
       "      <td>0</td>\n",
       "      <td>0</td>\n",
       "      <td>0</td>\n",
       "      <td>...</td>\n",
       "      <td>0</td>\n",
       "      <td>0</td>\n",
       "      <td>0</td>\n",
       "      <td>0</td>\n",
       "      <td>0</td>\n",
       "      <td>0</td>\n",
       "      <td>0</td>\n",
       "      <td>0</td>\n",
       "      <td>0</td>\n",
       "      <td>0</td>\n",
       "    </tr>\n",
       "    <tr>\n",
       "      <th>98</th>\n",
       "      <td>11</td>\n",
       "      <td>0</td>\n",
       "      <td>0</td>\n",
       "      <td>0</td>\n",
       "      <td>0</td>\n",
       "      <td>0</td>\n",
       "      <td>0</td>\n",
       "      <td>0</td>\n",
       "      <td>0</td>\n",
       "      <td>0</td>\n",
       "      <td>...</td>\n",
       "      <td>0</td>\n",
       "      <td>0</td>\n",
       "      <td>0</td>\n",
       "      <td>0</td>\n",
       "      <td>0</td>\n",
       "      <td>0</td>\n",
       "      <td>0</td>\n",
       "      <td>0</td>\n",
       "      <td>0</td>\n",
       "      <td>0</td>\n",
       "    </tr>\n",
       "    <tr>\n",
       "      <th>99</th>\n",
       "      <td>21</td>\n",
       "      <td>0</td>\n",
       "      <td>0</td>\n",
       "      <td>0</td>\n",
       "      <td>0</td>\n",
       "      <td>0</td>\n",
       "      <td>0</td>\n",
       "      <td>0</td>\n",
       "      <td>0</td>\n",
       "      <td>0</td>\n",
       "      <td>...</td>\n",
       "      <td>0</td>\n",
       "      <td>0</td>\n",
       "      <td>0</td>\n",
       "      <td>0</td>\n",
       "      <td>0</td>\n",
       "      <td>0</td>\n",
       "      <td>0</td>\n",
       "      <td>0</td>\n",
       "      <td>0</td>\n",
       "      <td>0</td>\n",
       "    </tr>\n",
       "  </tbody>\n",
       "</table>\n",
       "<p>100 rows × 662 columns</p>\n",
       "</div>"
      ],
      "text/plain": [
       "    Tacgia  0  1  2  3  4  5  6  7  8  ...  651  652  653  654  655  656  657   \n",
       "0        0  0  0  0  0  0  0  0  0  0  ...    0    0    0    0    0    0    0  \\\n",
       "1       26  0  0  1  0  0  0  0  0  0  ...    0    0    0    0    0    0    0   \n",
       "2        0  0  0  0  0  0  0  0  0  0  ...    0    0    0    0    0    0    0   \n",
       "3       30  0  0  0  0  0  0  0  0  0  ...    0    0    0    0    0    0    0   \n",
       "4       37  0  0  0  0  0  2  0  0  0  ...    0    0    0    0    0    0    0   \n",
       "..     ... .. .. .. .. .. .. .. .. ..  ...  ...  ...  ...  ...  ...  ...  ...   \n",
       "95      22  0  0  0  0  0  0  0  0  0  ...    0    0    0    0    0    3    0   \n",
       "96      36  0  0  0  0  0  0  0  0  0  ...    0    1    0    0    0    2    0   \n",
       "97      38  0  0  0  0  0  0  0  0  0  ...    0    0    0    0    0    0    0   \n",
       "98      11  0  0  0  0  0  0  0  0  0  ...    0    0    0    0    0    0    0   \n",
       "99      21  0  0  0  0  0  0  0  0  0  ...    0    0    0    0    0    0    0   \n",
       "\n",
       "    658  659  660  \n",
       "0     0    0    0  \n",
       "1     0    0    0  \n",
       "2     1    0    0  \n",
       "3     0    0    0  \n",
       "4     0    0    0  \n",
       "..  ...  ...  ...  \n",
       "95    0    0    0  \n",
       "96    0    0    0  \n",
       "97    0    0    0  \n",
       "98    0    0    0  \n",
       "99    0    0    0  \n",
       "\n",
       "[100 rows x 662 columns]"
      ]
     },
     "execution_count": 62,
     "metadata": {},
     "output_type": "execute_result"
    }
   ],
   "source": [
    "meta_encod"
   ]
  },
  {
   "cell_type": "markdown",
   "metadata": {},
   "source": [
    "> Hiển thị độ tương quan "
   ]
  },
  {
   "cell_type": "code",
   "execution_count": 63,
   "metadata": {},
   "outputs": [
    {
     "data": {
      "text/plain": [
       "0.16766980399011286"
      ]
     },
     "execution_count": 63,
     "metadata": {},
     "output_type": "execute_result"
    }
   ],
   "source": [
    "meta_encod.corr()['Tacgia'][0]"
   ]
  },
  {
   "cell_type": "code",
   "execution_count": 64,
   "metadata": {},
   "outputs": [
    {
     "data": {
      "text/html": [
       "<div>\n",
       "<style scoped>\n",
       "    .dataframe tbody tr th:only-of-type {\n",
       "        vertical-align: middle;\n",
       "    }\n",
       "\n",
       "    .dataframe tbody tr th {\n",
       "        vertical-align: top;\n",
       "    }\n",
       "\n",
       "    .dataframe thead th {\n",
       "        text-align: right;\n",
       "    }\n",
       "</style>\n",
       "<table border=\"1\" class=\"dataframe\">\n",
       "  <thead>\n",
       "    <tr style=\"text-align: right;\">\n",
       "      <th></th>\n",
       "      <th>Tacgia</th>\n",
       "      <th>0</th>\n",
       "      <th>1</th>\n",
       "      <th>2</th>\n",
       "      <th>3</th>\n",
       "      <th>4</th>\n",
       "      <th>5</th>\n",
       "      <th>6</th>\n",
       "      <th>7</th>\n",
       "      <th>8</th>\n",
       "      <th>...</th>\n",
       "      <th>651</th>\n",
       "      <th>652</th>\n",
       "      <th>653</th>\n",
       "      <th>654</th>\n",
       "      <th>655</th>\n",
       "      <th>656</th>\n",
       "      <th>657</th>\n",
       "      <th>658</th>\n",
       "      <th>659</th>\n",
       "      <th>660</th>\n",
       "    </tr>\n",
       "  </thead>\n",
       "  <tbody>\n",
       "    <tr>\n",
       "      <th>Tacgia</th>\n",
       "      <td>1.000000</td>\n",
       "      <td>0.167670</td>\n",
       "      <td>0.167670</td>\n",
       "      <td>0.024304</td>\n",
       "      <td>-0.071115</td>\n",
       "      <td>0.024304</td>\n",
       "      <td>0.099400</td>\n",
       "      <td>0.133535</td>\n",
       "      <td>-0.023485</td>\n",
       "      <td>0.024304</td>\n",
       "      <td>...</td>\n",
       "      <td>-0.050792</td>\n",
       "      <td>0.092573</td>\n",
       "      <td>0.017477</td>\n",
       "      <td>-0.105408</td>\n",
       "      <td>-0.153197</td>\n",
       "      <td>-0.032832</td>\n",
       "      <td>-0.078100</td>\n",
       "      <td>0.096371</td>\n",
       "      <td>0.017477</td>\n",
       "      <td>-0.005752</td>\n",
       "    </tr>\n",
       "    <tr>\n",
       "      <th>0</th>\n",
       "      <td>0.167670</td>\n",
       "      <td>1.000000</td>\n",
       "      <td>1.000000</td>\n",
       "      <td>-0.010101</td>\n",
       "      <td>-0.019342</td>\n",
       "      <td>-0.010101</td>\n",
       "      <td>-0.010101</td>\n",
       "      <td>-0.010101</td>\n",
       "      <td>-0.010101</td>\n",
       "      <td>-0.010101</td>\n",
       "      <td>...</td>\n",
       "      <td>-0.010101</td>\n",
       "      <td>-0.010101</td>\n",
       "      <td>-0.010101</td>\n",
       "      <td>-0.010101</td>\n",
       "      <td>-0.010101</td>\n",
       "      <td>-0.052492</td>\n",
       "      <td>-0.010101</td>\n",
       "      <td>-0.025392</td>\n",
       "      <td>-0.010101</td>\n",
       "      <td>-0.019342</td>\n",
       "    </tr>\n",
       "    <tr>\n",
       "      <th>1</th>\n",
       "      <td>0.167670</td>\n",
       "      <td>1.000000</td>\n",
       "      <td>1.000000</td>\n",
       "      <td>-0.010101</td>\n",
       "      <td>-0.019342</td>\n",
       "      <td>-0.010101</td>\n",
       "      <td>-0.010101</td>\n",
       "      <td>-0.010101</td>\n",
       "      <td>-0.010101</td>\n",
       "      <td>-0.010101</td>\n",
       "      <td>...</td>\n",
       "      <td>-0.010101</td>\n",
       "      <td>-0.010101</td>\n",
       "      <td>-0.010101</td>\n",
       "      <td>-0.010101</td>\n",
       "      <td>-0.010101</td>\n",
       "      <td>-0.052492</td>\n",
       "      <td>-0.010101</td>\n",
       "      <td>-0.025392</td>\n",
       "      <td>-0.010101</td>\n",
       "      <td>-0.019342</td>\n",
       "    </tr>\n",
       "    <tr>\n",
       "      <th>2</th>\n",
       "      <td>0.024304</td>\n",
       "      <td>-0.010101</td>\n",
       "      <td>-0.010101</td>\n",
       "      <td>1.000000</td>\n",
       "      <td>-0.019342</td>\n",
       "      <td>-0.010101</td>\n",
       "      <td>-0.010101</td>\n",
       "      <td>-0.010101</td>\n",
       "      <td>-0.010101</td>\n",
       "      <td>-0.010101</td>\n",
       "      <td>...</td>\n",
       "      <td>-0.010101</td>\n",
       "      <td>-0.010101</td>\n",
       "      <td>-0.010101</td>\n",
       "      <td>-0.010101</td>\n",
       "      <td>-0.010101</td>\n",
       "      <td>-0.052492</td>\n",
       "      <td>-0.010101</td>\n",
       "      <td>-0.025392</td>\n",
       "      <td>-0.010101</td>\n",
       "      <td>-0.019342</td>\n",
       "    </tr>\n",
       "    <tr>\n",
       "      <th>3</th>\n",
       "      <td>-0.071115</td>\n",
       "      <td>-0.019342</td>\n",
       "      <td>-0.019342</td>\n",
       "      <td>-0.019342</td>\n",
       "      <td>1.000000</td>\n",
       "      <td>-0.019342</td>\n",
       "      <td>-0.019342</td>\n",
       "      <td>-0.019342</td>\n",
       "      <td>-0.019342</td>\n",
       "      <td>-0.019342</td>\n",
       "      <td>...</td>\n",
       "      <td>-0.019342</td>\n",
       "      <td>-0.019342</td>\n",
       "      <td>-0.019342</td>\n",
       "      <td>-0.019342</td>\n",
       "      <td>-0.019342</td>\n",
       "      <td>0.426457</td>\n",
       "      <td>-0.019342</td>\n",
       "      <td>0.275523</td>\n",
       "      <td>-0.019342</td>\n",
       "      <td>0.703704</td>\n",
       "    </tr>\n",
       "    <tr>\n",
       "      <th>...</th>\n",
       "      <td>...</td>\n",
       "      <td>...</td>\n",
       "      <td>...</td>\n",
       "      <td>...</td>\n",
       "      <td>...</td>\n",
       "      <td>...</td>\n",
       "      <td>...</td>\n",
       "      <td>...</td>\n",
       "      <td>...</td>\n",
       "      <td>...</td>\n",
       "      <td>...</td>\n",
       "      <td>...</td>\n",
       "      <td>...</td>\n",
       "      <td>...</td>\n",
       "      <td>...</td>\n",
       "      <td>...</td>\n",
       "      <td>...</td>\n",
       "      <td>...</td>\n",
       "      <td>...</td>\n",
       "      <td>...</td>\n",
       "      <td>...</td>\n",
       "    </tr>\n",
       "    <tr>\n",
       "      <th>656</th>\n",
       "      <td>-0.032832</td>\n",
       "      <td>-0.052492</td>\n",
       "      <td>-0.052492</td>\n",
       "      <td>-0.052492</td>\n",
       "      <td>0.426457</td>\n",
       "      <td>-0.052492</td>\n",
       "      <td>-0.052492</td>\n",
       "      <td>0.151361</td>\n",
       "      <td>-0.052492</td>\n",
       "      <td>-0.001529</td>\n",
       "      <td>...</td>\n",
       "      <td>-0.001529</td>\n",
       "      <td>0.049434</td>\n",
       "      <td>0.151361</td>\n",
       "      <td>0.049434</td>\n",
       "      <td>0.049434</td>\n",
       "      <td>1.000000</td>\n",
       "      <td>0.100398</td>\n",
       "      <td>0.579774</td>\n",
       "      <td>0.151361</td>\n",
       "      <td>0.231282</td>\n",
       "    </tr>\n",
       "    <tr>\n",
       "      <th>657</th>\n",
       "      <td>-0.078100</td>\n",
       "      <td>-0.010101</td>\n",
       "      <td>-0.010101</td>\n",
       "      <td>-0.010101</td>\n",
       "      <td>-0.019342</td>\n",
       "      <td>-0.010101</td>\n",
       "      <td>-0.010101</td>\n",
       "      <td>-0.010101</td>\n",
       "      <td>-0.010101</td>\n",
       "      <td>-0.010101</td>\n",
       "      <td>...</td>\n",
       "      <td>-0.010101</td>\n",
       "      <td>-0.010101</td>\n",
       "      <td>-0.010101</td>\n",
       "      <td>-0.010101</td>\n",
       "      <td>-0.010101</td>\n",
       "      <td>0.100398</td>\n",
       "      <td>1.000000</td>\n",
       "      <td>-0.025392</td>\n",
       "      <td>-0.010101</td>\n",
       "      <td>-0.019342</td>\n",
       "    </tr>\n",
       "    <tr>\n",
       "      <th>658</th>\n",
       "      <td>0.096371</td>\n",
       "      <td>-0.025392</td>\n",
       "      <td>-0.025392</td>\n",
       "      <td>-0.025392</td>\n",
       "      <td>0.275523</td>\n",
       "      <td>-0.025392</td>\n",
       "      <td>-0.025392</td>\n",
       "      <td>0.115674</td>\n",
       "      <td>-0.025392</td>\n",
       "      <td>-0.025392</td>\n",
       "      <td>...</td>\n",
       "      <td>-0.025392</td>\n",
       "      <td>-0.025392</td>\n",
       "      <td>-0.025392</td>\n",
       "      <td>0.256740</td>\n",
       "      <td>-0.025392</td>\n",
       "      <td>0.579774</td>\n",
       "      <td>-0.025392</td>\n",
       "      <td>1.000000</td>\n",
       "      <td>-0.025392</td>\n",
       "      <td>0.275523</td>\n",
       "    </tr>\n",
       "    <tr>\n",
       "      <th>659</th>\n",
       "      <td>0.017477</td>\n",
       "      <td>-0.010101</td>\n",
       "      <td>-0.010101</td>\n",
       "      <td>-0.010101</td>\n",
       "      <td>-0.019342</td>\n",
       "      <td>-0.010101</td>\n",
       "      <td>-0.010101</td>\n",
       "      <td>-0.010101</td>\n",
       "      <td>-0.010101</td>\n",
       "      <td>-0.010101</td>\n",
       "      <td>...</td>\n",
       "      <td>-0.010101</td>\n",
       "      <td>-0.010101</td>\n",
       "      <td>1.000000</td>\n",
       "      <td>-0.010101</td>\n",
       "      <td>-0.010101</td>\n",
       "      <td>0.151361</td>\n",
       "      <td>-0.010101</td>\n",
       "      <td>-0.025392</td>\n",
       "      <td>1.000000</td>\n",
       "      <td>-0.019342</td>\n",
       "    </tr>\n",
       "    <tr>\n",
       "      <th>660</th>\n",
       "      <td>-0.005752</td>\n",
       "      <td>-0.019342</td>\n",
       "      <td>-0.019342</td>\n",
       "      <td>-0.019342</td>\n",
       "      <td>0.703704</td>\n",
       "      <td>-0.019342</td>\n",
       "      <td>-0.019342</td>\n",
       "      <td>-0.019342</td>\n",
       "      <td>-0.019342</td>\n",
       "      <td>-0.019342</td>\n",
       "      <td>...</td>\n",
       "      <td>-0.019342</td>\n",
       "      <td>-0.019342</td>\n",
       "      <td>-0.019342</td>\n",
       "      <td>-0.019342</td>\n",
       "      <td>0.367497</td>\n",
       "      <td>0.231282</td>\n",
       "      <td>-0.019342</td>\n",
       "      <td>0.275523</td>\n",
       "      <td>-0.019342</td>\n",
       "      <td>1.000000</td>\n",
       "    </tr>\n",
       "  </tbody>\n",
       "</table>\n",
       "<p>662 rows × 662 columns</p>\n",
       "</div>"
      ],
      "text/plain": [
       "          Tacgia         0         1         2         3         4         5   \n",
       "Tacgia  1.000000  0.167670  0.167670  0.024304 -0.071115  0.024304  0.099400  \\\n",
       "0       0.167670  1.000000  1.000000 -0.010101 -0.019342 -0.010101 -0.010101   \n",
       "1       0.167670  1.000000  1.000000 -0.010101 -0.019342 -0.010101 -0.010101   \n",
       "2       0.024304 -0.010101 -0.010101  1.000000 -0.019342 -0.010101 -0.010101   \n",
       "3      -0.071115 -0.019342 -0.019342 -0.019342  1.000000 -0.019342 -0.019342   \n",
       "...          ...       ...       ...       ...       ...       ...       ...   \n",
       "656    -0.032832 -0.052492 -0.052492 -0.052492  0.426457 -0.052492 -0.052492   \n",
       "657    -0.078100 -0.010101 -0.010101 -0.010101 -0.019342 -0.010101 -0.010101   \n",
       "658     0.096371 -0.025392 -0.025392 -0.025392  0.275523 -0.025392 -0.025392   \n",
       "659     0.017477 -0.010101 -0.010101 -0.010101 -0.019342 -0.010101 -0.010101   \n",
       "660    -0.005752 -0.019342 -0.019342 -0.019342  0.703704 -0.019342 -0.019342   \n",
       "\n",
       "               6         7         8  ...       651       652       653   \n",
       "Tacgia  0.133535 -0.023485  0.024304  ... -0.050792  0.092573  0.017477  \\\n",
       "0      -0.010101 -0.010101 -0.010101  ... -0.010101 -0.010101 -0.010101   \n",
       "1      -0.010101 -0.010101 -0.010101  ... -0.010101 -0.010101 -0.010101   \n",
       "2      -0.010101 -0.010101 -0.010101  ... -0.010101 -0.010101 -0.010101   \n",
       "3      -0.019342 -0.019342 -0.019342  ... -0.019342 -0.019342 -0.019342   \n",
       "...          ...       ...       ...  ...       ...       ...       ...   \n",
       "656     0.151361 -0.052492 -0.001529  ... -0.001529  0.049434  0.151361   \n",
       "657    -0.010101 -0.010101 -0.010101  ... -0.010101 -0.010101 -0.010101   \n",
       "658     0.115674 -0.025392 -0.025392  ... -0.025392 -0.025392 -0.025392   \n",
       "659    -0.010101 -0.010101 -0.010101  ... -0.010101 -0.010101  1.000000   \n",
       "660    -0.019342 -0.019342 -0.019342  ... -0.019342 -0.019342 -0.019342   \n",
       "\n",
       "             654       655       656       657       658       659       660  \n",
       "Tacgia -0.105408 -0.153197 -0.032832 -0.078100  0.096371  0.017477 -0.005752  \n",
       "0      -0.010101 -0.010101 -0.052492 -0.010101 -0.025392 -0.010101 -0.019342  \n",
       "1      -0.010101 -0.010101 -0.052492 -0.010101 -0.025392 -0.010101 -0.019342  \n",
       "2      -0.010101 -0.010101 -0.052492 -0.010101 -0.025392 -0.010101 -0.019342  \n",
       "3      -0.019342 -0.019342  0.426457 -0.019342  0.275523 -0.019342  0.703704  \n",
       "...          ...       ...       ...       ...       ...       ...       ...  \n",
       "656     0.049434  0.049434  1.000000  0.100398  0.579774  0.151361  0.231282  \n",
       "657    -0.010101 -0.010101  0.100398  1.000000 -0.025392 -0.010101 -0.019342  \n",
       "658     0.256740 -0.025392  0.579774 -0.025392  1.000000 -0.025392  0.275523  \n",
       "659    -0.010101 -0.010101  0.151361 -0.010101 -0.025392  1.000000 -0.019342  \n",
       "660    -0.019342  0.367497  0.231282 -0.019342  0.275523 -0.019342  1.000000  \n",
       "\n",
       "[662 rows x 662 columns]"
      ]
     },
     "execution_count": 64,
     "metadata": {},
     "output_type": "execute_result"
    }
   ],
   "source": [
    "meta_encod.corr()"
   ]
  },
  {
   "cell_type": "code",
   "execution_count": 65,
   "metadata": {},
   "outputs": [
    {
     "data": {
      "text/plain": [
       "Text(0.5, 1.0, 'Correlation Heatmap')"
      ]
     },
     "execution_count": 65,
     "metadata": {},
     "output_type": "execute_result"
    },
    {
     "data": {
      "image/png": "[encoded data removed]",
      "text/plain": [
       "<Figure size 1000x1000 with 2 Axes>"
      ]
     },
     "metadata": {},
     "output_type": "display_data"
    }
   ],
   "source": [
    "plt.figure(figsize=(10, 10))\n",
    "heatmap = sns.heatmap(meta_encod[meta_encod.columns[:100]].corr(), linewidths=0.5, vmax=1.0, vmin=0, \n",
    "                      square=True, cmap=\"Blues\", linecolor='white')\n",
    "heatmap.set_title('Correlation Heatmap', fontdict={'fontsize': 12}, pad=12)\n"
   ]
  },
  {
   "attachments": {},
   "cell_type": "markdown",
   "metadata": {},
   "source": [
    "> Chọn features và target"
   ]
  },
  {
   "cell_type": "code",
   "execution_count": 66,
   "metadata": {},
   "outputs": [],
   "source": [
    "features = meta_encod.columns.drop('Tacgia')\n",
    "target = 'Tacgia'"
   ]
  },
  {
   "cell_type": "code",
   "execution_count": 67,
   "metadata": {},
   "outputs": [
    {
     "data": {
      "text/plain": [
       "Index([  0,   1,   2,   3,   4,   5,   6,   7,   8,   9,\n",
       "       ...\n",
       "       651, 652, 653, 654, 655, 656, 657, 658, 659, 660],\n",
       "      dtype='object', length=661)"
      ]
     },
     "execution_count": 67,
     "metadata": {},
     "output_type": "execute_result"
    }
   ],
   "source": [
    "features"
   ]
  },
  {
   "attachments": {},
   "cell_type": "markdown",
   "metadata": {},
   "source": [
    "# 3.2.4. Suy luận (15 điểm): \n"
   ]
  },
  {
   "cell_type": "code",
   "execution_count": 86,
   "metadata": {},
   "outputs": [],
   "source": [
    "from sklearn.ensemble import RandomForestClassifier\n",
    "from sklearn.model_selection import train_test_split\n",
    "from sklearn.tree import DecisionTreeClassifier\n",
    "from sklearn.metrics import accuracy_score\n",
    "from sklearn.metrics import f1_score\n",
    "from sklearn.neighbors import KNeighborsClassifier\n",
    "\n",
    "from sklearn import svm"
   ]
  },
  {
   "attachments": {},
   "cell_type": "markdown",
   "metadata": {},
   "source": [
    "Split theo cach 1: Lấy 50 dòng của đủ 50 tác giả + với 30 dòng còn lại random"
   ]
  },
  {
   "cell_type": "code",
   "execution_count": 87,
   "metadata": {},
   "outputs": [
    {
     "data": {
      "text/plain": [
       "50"
      ]
     },
     "execution_count": 87,
     "metadata": {},
     "output_type": "execute_result"
    }
   ],
   "source": [
    "id_author = meta_encod.Tacgia.unique()\n",
    "len(id_author)"
   ]
  },
  {
   "cell_type": "code",
   "execution_count": 88,
   "metadata": {},
   "outputs": [
    {
     "data": {
      "text/html": [
       "<div>\n",
       "<style scoped>\n",
       "    .dataframe tbody tr th:only-of-type {\n",
       "        vertical-align: middle;\n",
       "    }\n",
       "\n",
       "    .dataframe tbody tr th {\n",
       "        vertical-align: top;\n",
       "    }\n",
       "\n",
       "    .dataframe thead th {\n",
       "        text-align: right;\n",
       "    }\n",
       "</style>\n",
       "<table border=\"1\" class=\"dataframe\">\n",
       "  <thead>\n",
       "    <tr style=\"text-align: right;\">\n",
       "      <th></th>\n",
       "      <th>0</th>\n",
       "      <th>1</th>\n",
       "      <th>2</th>\n",
       "      <th>3</th>\n",
       "      <th>4</th>\n",
       "      <th>5</th>\n",
       "      <th>6</th>\n",
       "      <th>7</th>\n",
       "      <th>8</th>\n",
       "      <th>9</th>\n",
       "      <th>...</th>\n",
       "      <th>651</th>\n",
       "      <th>652</th>\n",
       "      <th>653</th>\n",
       "      <th>654</th>\n",
       "      <th>655</th>\n",
       "      <th>656</th>\n",
       "      <th>657</th>\n",
       "      <th>658</th>\n",
       "      <th>659</th>\n",
       "      <th>660</th>\n",
       "    </tr>\n",
       "  </thead>\n",
       "  <tbody>\n",
       "  </tbody>\n",
       "</table>\n",
       "<p>0 rows × 661 columns</p>\n",
       "</div>"
      ],
      "text/plain": [
       "Empty DataFrame\n",
       "Columns: [0, 1, 2, 3, 4, 5, 6, 7, 8, 9, 10, 11, 12, 13, 14, 15, 16, 17, 18, 19, 20, 21, 22, 23, 24, 25, 26, 27, 28, 29, 30, 31, 32, 33, 34, 35, 36, 37, 38, 39, 40, 41, 42, 43, 44, 45, 46, 47, 48, 49, 50, 51, 52, 53, 54, 55, 56, 57, 58, 59, 60, 61, 62, 63, 64, 65, 66, 67, 68, 69, 70, 71, 72, 73, 74, 75, 76, 77, 78, 79, 80, 81, 82, 83, 84, 85, 86, 87, 88, 89, 90, 91, 92, 93, 94, 95, 96, 97, 98, 99, ...]\n",
       "Index: []\n",
       "\n",
       "[0 rows x 661 columns]"
      ]
     },
     "execution_count": 88,
     "metadata": {},
     "output_type": "execute_result"
    }
   ],
   "source": [
    "X_train = pd.DataFrame(columns=features)\n",
    "X_train"
   ]
  },
  {
   "cell_type": "code",
   "execution_count": 89,
   "metadata": {},
   "outputs": [],
   "source": [
    "y_train = []"
   ]
  },
  {
   "cell_type": "code",
   "execution_count": 90,
   "metadata": {},
   "outputs": [],
   "source": [
    "id_used = []"
   ]
  },
  {
   "cell_type": "code",
   "execution_count": 91,
   "metadata": {},
   "outputs": [],
   "source": [
    "id = 0\n",
    "for i in id_author:\n",
    "    d = meta_encod[meta_encod.Tacgia == i].sample(n=1, random_state=42).index[0]\n",
    "    X_train.loc[id] = meta_encod.loc[d][1:].values\n",
    "    y_train.append(meta_encod.loc[d][0])\n",
    "    # print(meta_encod.loc[d][1:])\n",
    "    # print(len(d[features].values))\n",
    "    id_used.append(d)\n",
    "    id+=1\n",
    "    "
   ]
  },
  {
   "cell_type": "code",
   "execution_count": 92,
   "metadata": {},
   "outputs": [],
   "source": [
    "remain_data = meta_encod[~meta_encod.index.isin(id_used)]"
   ]
  },
  {
   "cell_type": "code",
   "execution_count": 93,
   "metadata": {},
   "outputs": [],
   "source": [
    "train = remain_data.sample(n=30, random_state=42)\n",
    "X_train = pd.concat([X_train, train[features]])\n",
    "y_train.extend(list(train.Tacgia.values))\n"
   ]
  },
  {
   "cell_type": "code",
   "execution_count": 94,
   "metadata": {},
   "outputs": [],
   "source": [
    "id_used.extend(list(train.index))"
   ]
  },
  {
   "cell_type": "code",
   "execution_count": 95,
   "metadata": {},
   "outputs": [
    {
     "data": {
      "text/plain": [
       "20"
      ]
     },
     "execution_count": 95,
     "metadata": {},
     "output_type": "execute_result"
    }
   ],
   "source": [
    "remain_data = meta_encod[~meta_encod.index.isin(id_used)]\n",
    "len(remain_data)"
   ]
  },
  {
   "cell_type": "code",
   "execution_count": 96,
   "metadata": {},
   "outputs": [],
   "source": [
    "X_test = remain_data[features]\n",
    "y_test = list(remain_data.Tacgia.values)"
   ]
  },
  {
   "cell_type": "markdown",
   "metadata": {},
   "source": [
    "Split theo cách thuần túy"
   ]
  },
  {
   "cell_type": "code",
   "execution_count": 97,
   "metadata": {},
   "outputs": [],
   "source": [
    "# X_train, X_test, y_train, y_test = train_test_split(meta_encod[features], meta_encod[target], test_size = 0.2, random_state = 42)"
   ]
  },
  {
   "cell_type": "code",
   "execution_count": 98,
   "metadata": {},
   "outputs": [],
   "source": [
    "class Mode:\n",
    "    def __init__(self, model, name_model):\n",
    "        self.model = model\n",
    "        self.name_model = name_model\n",
    "        self.X_train, self.X_test, self.y_train, self.y_test = X_train, X_test, y_train, y_test\n",
    "\n",
    "    def process_model(self):\n",
    "        self.model.fit(self.X_train, self.y_train)\n",
    "        y_pred_en = self.model.predict(self.X_test)\n",
    "    \n",
    "        print(f'Model {self.name_model} accuracy score = {accuracy_score(self.y_test, y_pred_en)}')"
   ]
  },
  {
   "cell_type": "code",
   "execution_count": 99,
   "metadata": {},
   "outputs": [],
   "source": [
    "Modes = [\n",
    "    (DecisionTreeClassifier(criterion='entropy', max_depth=3, random_state=0), 'Decision-Tree'),\n",
    "    (RandomForestClassifier(n_estimators=50, random_state=42), 'Random Forest'),\n",
    "    (svm.SVC(kernel='linear'), 'SVM'),\n",
    "    (KNeighborsClassifier(n_neighbors=50), 'KNN')\n",
    "]"
   ]
  },
  {
   "cell_type": "code",
   "execution_count": 100,
   "metadata": {},
   "outputs": [
    {
     "name": "stdout",
     "output_type": "stream",
     "text": [
      "Model Decision-Tree accuracy score = 0.2\n",
      "Model Random Forest accuracy score = 0.2\n",
      "Model SVM accuracy score = 0.1\n",
      "Model KNN accuracy score = 0.2\n"
     ]
    }
   ],
   "source": [
    "for mode in Modes:\n",
    "    m =Mode(mode[0], mode[1])\n",
    "    m.process_model()\n"
   ]
  },
  {
   "attachments": {},
   "cell_type": "markdown",
   "metadata": {},
   "source": [
    "### - Hãy đề xuất cách tính độ tương đồng phong cách nói giữa các tác giả và tìm ra các tác giả có phong cách nói tương đồng nhau nhất? (5 điểm)"
   ]
  },
  {
   "cell_type": "markdown",
   "metadata": {},
   "source": [
    "+ Đối với câu hỏi này thì để đánh giá được phong cách thì chính là đánh giá về mức độ trùng nhau giữa các câu chữ của 2 tác giả"
   ]
  },
  {
   "cell_type": "code",
   "execution_count": 101,
   "metadata": {},
   "outputs": [],
   "source": [
    "from sklearn.metrics.pairwise import cosine_similarity"
   ]
  },
  {
   "cell_type": "code",
   "execution_count": 102,
   "metadata": {},
   "outputs": [],
   "source": [
    "similarity_matrix = cosine_similarity(vector)"
   ]
  },
  {
   "cell_type": "code",
   "execution_count": 103,
   "metadata": {},
   "outputs": [
    {
     "data": {
      "text/html": [
       "<div>\n",
       "<style scoped>\n",
       "    .dataframe tbody tr th:only-of-type {\n",
       "        vertical-align: middle;\n",
       "    }\n",
       "\n",
       "    .dataframe tbody tr th {\n",
       "        vertical-align: top;\n",
       "    }\n",
       "\n",
       "    .dataframe thead th {\n",
       "        text-align: right;\n",
       "    }\n",
       "</style>\n",
       "<table border=\"1\" class=\"dataframe\">\n",
       "  <thead>\n",
       "    <tr style=\"text-align: right;\">\n",
       "      <th></th>\n",
       "      <th>Tacgia</th>\n",
       "      <th>Link</th>\n",
       "      <th>Namsinh</th>\n",
       "      <th>Quote</th>\n",
       "      <th>STT</th>\n",
       "      <th>Tuoi</th>\n",
       "      <th>quantity_quotes</th>\n",
       "    </tr>\n",
       "  </thead>\n",
       "  <tbody>\n",
       "    <tr>\n",
       "      <th>0</th>\n",
       "      <td>Albert Einstein</td>\n",
       "      <td>http://quotes.toscrape.com//author/Albert-Eins...</td>\n",
       "      <td>1879-03-14</td>\n",
       "      <td>world as we have created it is process of our ...</td>\n",
       "      <td>0</td>\n",
       "      <td>76</td>\n",
       "      <td>21</td>\n",
       "    </tr>\n",
       "    <tr>\n",
       "      <th>1</th>\n",
       "      <td>J.K. Rowling</td>\n",
       "      <td>http://quotes.toscrape.com//author/J-K-Rowling</td>\n",
       "      <td>1965-07-31</td>\n",
       "      <td>it is our choices, harry, that show what we tr...</td>\n",
       "      <td>1</td>\n",
       "      <td>57</td>\n",
       "      <td>16</td>\n",
       "    </tr>\n",
       "    <tr>\n",
       "      <th>2</th>\n",
       "      <td>Albert Einstein</td>\n",
       "      <td>http://quotes.toscrape.com//author/Albert-Eins...</td>\n",
       "      <td>1879-03-14</td>\n",
       "      <td>there are only two ways to live your life. one...</td>\n",
       "      <td>2</td>\n",
       "      <td>76</td>\n",
       "      <td>26</td>\n",
       "    </tr>\n",
       "    <tr>\n",
       "      <th>3</th>\n",
       "      <td>Jane Austen</td>\n",
       "      <td>http://quotes.toscrape.com//author/Jane-Austen</td>\n",
       "      <td>1775-12-16</td>\n",
       "      <td>person, be it gentleman or lady, who has not p...</td>\n",
       "      <td>3</td>\n",
       "      <td>41</td>\n",
       "      <td>19</td>\n",
       "    </tr>\n",
       "    <tr>\n",
       "      <th>4</th>\n",
       "      <td>Marilyn Monroe</td>\n",
       "      <td>http://quotes.toscrape.com//author/Marilyn-Monroe</td>\n",
       "      <td>1926-06-01</td>\n",
       "      <td>imperfection is beauty, madness is genius and ...</td>\n",
       "      <td>4</td>\n",
       "      <td>36</td>\n",
       "      <td>16</td>\n",
       "    </tr>\n",
       "    <tr>\n",
       "      <th>...</th>\n",
       "      <td>...</td>\n",
       "      <td>...</td>\n",
       "      <td>...</td>\n",
       "      <td>...</td>\n",
       "      <td>...</td>\n",
       "      <td>...</td>\n",
       "      <td>...</td>\n",
       "    </tr>\n",
       "    <tr>\n",
       "      <th>95</th>\n",
       "      <td>Harper Lee</td>\n",
       "      <td>http://quotes.toscrape.com//author/Harper-Lee</td>\n",
       "      <td>1926-04-28</td>\n",
       "      <td>you never really understand person until you c...</td>\n",
       "      <td>95</td>\n",
       "      <td>89</td>\n",
       "      <td>27</td>\n",
       "    </tr>\n",
       "    <tr>\n",
       "      <th>96</th>\n",
       "      <td>Madeleine L'Engle</td>\n",
       "      <td>http://quotes.toscrape.com//author/Madeleine-L...</td>\n",
       "      <td>1918-11-29</td>\n",
       "      <td>you have to write book that wants to be writte...</td>\n",
       "      <td>96</td>\n",
       "      <td>88</td>\n",
       "      <td>27</td>\n",
       "    </tr>\n",
       "    <tr>\n",
       "      <th>97</th>\n",
       "      <td>Mark Twain</td>\n",
       "      <td>http://quotes.toscrape.com//author/Mark-Twain</td>\n",
       "      <td>1835-11-30</td>\n",
       "      <td>never tell truth to people who are not worthy ...</td>\n",
       "      <td>97</td>\n",
       "      <td>74</td>\n",
       "      <td>12</td>\n",
       "    </tr>\n",
       "    <tr>\n",
       "      <th>98</th>\n",
       "      <td>Dr. Seuss</td>\n",
       "      <td>http://quotes.toscrape.com//author/Dr-Seuss</td>\n",
       "      <td>1904-03-02</td>\n",
       "      <td>person's person, no matter how small.</td>\n",
       "      <td>98</td>\n",
       "      <td>87</td>\n",
       "      <td>8</td>\n",
       "    </tr>\n",
       "    <tr>\n",
       "      <th>99</th>\n",
       "      <td>George R.R. Martin</td>\n",
       "      <td>http://quotes.toscrape.com//author/George-R-R-...</td>\n",
       "      <td>1948-09-20</td>\n",
       "      <td>... mind needs books as sword needs whetstone,...</td>\n",
       "      <td>99</td>\n",
       "      <td>74</td>\n",
       "      <td>18</td>\n",
       "    </tr>\n",
       "  </tbody>\n",
       "</table>\n",
       "<p>100 rows × 7 columns</p>\n",
       "</div>"
      ],
      "text/plain": [
       "                Tacgia                                               Link   \n",
       "0      Albert Einstein  http://quotes.toscrape.com//author/Albert-Eins...  \\\n",
       "1         J.K. Rowling     http://quotes.toscrape.com//author/J-K-Rowling   \n",
       "2      Albert Einstein  http://quotes.toscrape.com//author/Albert-Eins...   \n",
       "3          Jane Austen     http://quotes.toscrape.com//author/Jane-Austen   \n",
       "4       Marilyn Monroe  http://quotes.toscrape.com//author/Marilyn-Monroe   \n",
       "..                 ...                                                ...   \n",
       "95          Harper Lee      http://quotes.toscrape.com//author/Harper-Lee   \n",
       "96   Madeleine L'Engle  http://quotes.toscrape.com//author/Madeleine-L...   \n",
       "97          Mark Twain      http://quotes.toscrape.com//author/Mark-Twain   \n",
       "98           Dr. Seuss        http://quotes.toscrape.com//author/Dr-Seuss   \n",
       "99  George R.R. Martin  http://quotes.toscrape.com//author/George-R-R-...   \n",
       "\n",
       "       Namsinh                                              Quote  STT  Tuoi   \n",
       "0   1879-03-14  world as we have created it is process of our ...    0    76  \\\n",
       "1   1965-07-31  it is our choices, harry, that show what we tr...    1    57   \n",
       "2   1879-03-14  there are only two ways to live your life. one...    2    76   \n",
       "3   1775-12-16  person, be it gentleman or lady, who has not p...    3    41   \n",
       "4   1926-06-01  imperfection is beauty, madness is genius and ...    4    36   \n",
       "..         ...                                                ...  ...   ...   \n",
       "95  1926-04-28  you never really understand person until you c...   95    89   \n",
       "96  1918-11-29  you have to write book that wants to be writte...   96    88   \n",
       "97  1835-11-30  never tell truth to people who are not worthy ...   97    74   \n",
       "98  1904-03-02              person's person, no matter how small.   98    87   \n",
       "99  1948-09-20  ... mind needs books as sword needs whetstone,...   99    74   \n",
       "\n",
       "    quantity_quotes  \n",
       "0                21  \n",
       "1                16  \n",
       "2                26  \n",
       "3                19  \n",
       "4                16  \n",
       "..              ...  \n",
       "95               27  \n",
       "96               27  \n",
       "97               12  \n",
       "98                8  \n",
       "99               18  \n",
       "\n",
       "[100 rows x 7 columns]"
      ]
     },
     "execution_count": 103,
     "metadata": {},
     "output_type": "execute_result"
    }
   ],
   "source": [
    "\n",
    "\n",
    "# Chuyển đổi các giá trị đã mã hóa trở lại giá trị gốc\n",
    "meta['Tacgia'] = encoder.inverse_transform(meta['Tacgia'])\n",
    "meta"
   ]
  },
  {
   "cell_type": "code",
   "execution_count": 104,
   "metadata": {},
   "outputs": [
    {
     "name": "stdout",
     "output_type": "stream",
     "text": [
      "The most similar authors with similarity score of 0.5184758473652127\n",
      "('Albert Einstein', 'J.K. Rowling')\n",
      "('Jane Austen', 'C.S. Lewis')\n",
      "('Eleanor Roosevelt', 'Helen Keller')\n",
      "('Eleanor Roosevelt', 'J.D. Salinger')\n"
     ]
    }
   ],
   "source": [
    "# Tìm tác giả có phong cách nói tương đồng nhau nhất\n",
    "authors = meta['Tacgia'].unique()\n",
    "max_similarity = 0\n",
    "most_similar_authors = []\n",
    "\n",
    "for i, author1 in enumerate(authors):\n",
    "    for j, author2 in enumerate(authors):\n",
    "        if i >= j:\n",
    "            continue\n",
    "        similarity = similarity_matrix[i][j]\n",
    "        if similarity >= max_similarity:\n",
    "            max_similarity = similarity\n",
    "            most_similar_authors.append((author1, author2))\n",
    "     \n",
    "\n",
    "print(f\"The most similar authors with similarity score of {max_similarity}\")\n",
    "for i in most_similar_authors:\n",
    "    print(i)"
   ]
  }
 ],
 "metadata": {
  "kernelspec": {
   "display_name": "Python 3",
   "language": "python",
   "name": "python3"
  },
  "language_info": {
   "codemirror_mode": {
    "name": "ipython",
    "version": 3
   },
   "file_extension": ".py",
   "mimetype": "text/x-python",
   "name": "python",
   "nbconvert_exporter": "python",
   "pygments_lexer": "ipython3",
   "version": "3.10.4"
  },
  "orig_nbformat": 4
 },
 "nbformat": 4,
 "nbformat_minor": 2
}
