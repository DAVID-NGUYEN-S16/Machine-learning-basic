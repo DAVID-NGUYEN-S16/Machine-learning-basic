{
 "cells": [
  {
   "cell_type": "code",
   "execution_count": 42,
   "metadata": {},
   "outputs": [],
   "source": [
    "from selenium.webdriver.common.by import By"
   ]
  },
  {
   "cell_type": "code",
   "execution_count": 43,
   "metadata": {},
   "outputs": [],
   "source": [
    "from selenium import webdriver\n",
    "\n",
    "# Khởi tạo trình duyệt\n",
    "driver = webdriver.Chrome()\n",
    "\n",
    "# Mở trang web\n",
    "driver.get('https://pickwatch.com/login')\n",
    "\n",
    "# Tìm phần tử ô input tên đăng nhập và nhập tên đăng nhập\n",
    "username_input = driver.find_element(By.XPATH, \"//input[@placeholder= 'Email / Username']\")\n",
    "username_input.send_keys(\"davidnguyen\")\n",
    "\n",
    "# Tìm phần tử ô input mật khẩu và nhập mật khẩu\n",
    "password_input = driver.find_element(By.XPATH,\"//input[@id='password']\")\n",
    "password_input.send_keys(\"14056969\")\n",
    "\n",
    "# Tìm phần tử nút \"Đăng nhập\" và click vào nó\n",
    "login_button = driver.find_element(By.XPATH,\"//button[@id='signin']\")\n",
    "login_button.click()\n",
    "driver.implicitly_wait(10)\n",
    "# Đóng trình duyệt\n",
    "# driver.quit()"
   ]
  },
  {
   "cell_type": "code",
   "execution_count": 44,
   "metadata": {},
   "outputs": [],
   "source": [
    "from selenium import webdriver\n",
    "from selenium.webdriver.common.by import By\n",
    "from selenium.webdriver.support.ui import WebDriverWait\n",
    "from selenium.webdriver.support import expected_conditions as EC"
   ]
  },
  {
   "cell_type": "code",
   "execution_count": 45,
   "metadata": {},
   "outputs": [],
   "source": [
    "driver.get('https://nflpickwatch.com/nfl/picks/')"
   ]
  },
  {
   "cell_type": "code",
   "execution_count": 46,
   "metadata": {},
   "outputs": [
    {
     "name": "stdout",
     "output_type": "stream",
     "text": [
      "29\n"
     ]
    }
   ],
   "source": [
    "# Kiểm tra số lượng trang tối đa\n",
    "input_element = driver.find_element(By.XPATH, \"//*[@id='__BVID__922']\")\n",
    "max_value = int(input_element.get_attribute(\"max\"))\n",
    "print(max_value)"
   ]
  },
  {
   "cell_type": "code",
   "execution_count": 47,
   "metadata": {},
   "outputs": [],
   "source": [
    "driver.get('https://nflpickwatch.com/nfl/picks/')\n",
    "\n",
    "# Tìm phần tử chứa số trang cuối cùng\n",
    "# last_page = int(driver.find_element_by_xpath(\"//div[@class='pagination']/a[last()-1]\").text)\n",
    "\n",
    "# Khởi tạo biến đếm số trang hiện tại\n",
    "current_page = 1\n",
    "\n",
    "# Thực hiện vòng lặp để next page\n",
    "for i in range(max_value):\n",
    "    # next_button = driver.find_element(By.XPATH,\"//*[@id='__layout']/div/div[2]/div/div[1]/div[1]/div[2]/div[1]/div[1]/div[6]/div[1]/button[3]\")\n",
    "    # next_button.click()\n",
    "    next_button = driver.find_element(By.XPATH,\"//*[@id='__layout']/div/div[2]/div/div[1]/div[1]/div[2]/div[1]/div[1]/div[6]/div[1]/button[3]\")\n",
    "    driver.execute_script(\"arguments[0].scrollIntoView();\", next_button)\n",
    "    next_button.click()\n"
   ]
  },
  {
   "cell_type": "code",
   "execution_count": null,
   "metadata": {},
   "outputs": [],
   "source": []
  }
 ],
 "metadata": {
  "kernelspec": {
   "display_name": "Python 3",
   "language": "python",
   "name": "python3"
  },
  "language_info": {
   "codemirror_mode": {
    "name": "ipython",
    "version": 3
   },
   "file_extension": ".py",
   "mimetype": "text/x-python",
   "name": "python",
   "nbconvert_exporter": "python",
   "pygments_lexer": "ipython3",
   "version": "3.10.4"
  },
  "orig_nbformat": 4
 },
 "nbformat": 4,
 "nbformat_minor": 2
}
