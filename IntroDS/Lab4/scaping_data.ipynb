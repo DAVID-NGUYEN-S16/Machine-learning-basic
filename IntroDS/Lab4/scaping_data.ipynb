{
 "cells": [
  {
   "cell_type": "code",
   "execution_count": 1,
   "metadata": {},
   "outputs": [],
   "source": [
    "from selenium import webdriver\n",
    "from selenium.webdriver.chrome.service import Service\n",
    "from webdriver_manager.chrome import ChromeDriverManager\n",
    "from selenium.webdriver.common.by import By\n",
    "import time\n",
    "browser = webdriver.Chrome(service=Service(ChromeDriverManager().install()))\n",
    "browser = webdriver.Chrome()\n",
    "\n",
    "browser.get('http://quotes.toscrape.com/')\n",
    "time.sleep(1)\n"
   ]
  },
  {
   "cell_type": "code",
   "execution_count": null,
   "metadata": {},
   "outputs": [],
   "source": [
    "tagia = browser.find_elements(By.XPATH, '//small')\n",
    "## Lấy tên tác giả\n",
    "for i in tagia:\n",
    "    print(i.text)"
   ]
  },
  {
   "cell_type": "code",
   "execution_count": 4,
   "metadata": {},
   "outputs": [
    {
     "name": "stdout",
     "output_type": "stream",
     "text": [
      "http://quotes.toscrape.com/author/Albert-Einstein\n",
      "http://quotes.toscrape.com/author/J-K-Rowling\n",
      "http://quotes.toscrape.com/author/Albert-Einstein\n",
      "http://quotes.toscrape.com/author/Jane-Austen\n",
      "http://quotes.toscrape.com/author/Marilyn-Monroe\n",
      "http://quotes.toscrape.com/author/Albert-Einstein\n",
      "http://quotes.toscrape.com/author/Andre-Gide\n",
      "http://quotes.toscrape.com/author/Thomas-A-Edison\n",
      "http://quotes.toscrape.com/author/Eleanor-Roosevelt\n",
      "http://quotes.toscrape.com/author/Steve-Martin\n"
     ]
    }
   ],
   "source": [
    "## Lấy link tác giả \n",
    "link_tg = browser.find_elements(By.XPATH, \"//div[@class='quote']//span//a[@href]\")\n",
    "for path in link_tg:\n",
    "    print(path.get_attribute('href'))"
   ]
  },
  {
   "cell_type": "code",
   "execution_count": null,
   "metadata": {},
   "outputs": [],
   "source": []
  }
 ],
 "metadata": {
  "kernelspec": {
   "display_name": "Python 3",
   "language": "python",
   "name": "python3"
  },
  "language_info": {
   "codemirror_mode": {
    "name": "ipython",
    "version": 3
   },
   "file_extension": ".py",
   "mimetype": "text/x-python",
   "name": "python",
   "nbconvert_exporter": "python",
   "pygments_lexer": "ipython3",
   "version": "3.10.4"
  },
  "orig_nbformat": 4
 },
 "nbformat": 4,
 "nbformat_minor": 2
}
