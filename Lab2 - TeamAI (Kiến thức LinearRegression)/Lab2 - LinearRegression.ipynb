{
 "cells": [
  {
   "attachments": {},
   "cell_type": "markdown",
   "id": "870e59e9",
   "metadata": {},
   "source": [
    "### Problem 1\n",
    "Từ dữ liệu về chiều cao, cân nặng trong file **Data_hight_weight_of_female.xlsx** bạn hãy dùng Linear Regression để dự đoán cân nặng dựa vào chiều cao, và trực quan hóa"
   ]
  },
  {
   "cell_type": "code",
   "execution_count": 1,
   "id": "867cb828",
   "metadata": {},
   "outputs": [],
   "source": [
    "import numpy as np\n",
    "import pandas as pd\n",
    "import matplotlib as plt"
   ]
  },
  {
   "cell_type": "code",
   "execution_count": 146,
   "id": "b334c0c5",
   "metadata": {},
   "outputs": [],
   "source": [
    "meta = pd.read_excel(r'D:\\Lab2 - TeamAI (Kiến thức LinearRegression)\\Data_height_weight_of_female.xlsx')\n",
    "meta['Chiều cao'] = meta['Chiều cao'].apply(lambda x: float(x.replace('cm', '')))\n",
    "meta['Cân nặng'] = meta['Cân nặng'].apply(lambda x: float(x.replace('kg', '')))"
   ]
  },
  {
   "attachments": {},
   "cell_type": "markdown",
   "id": "160c53c4",
   "metadata": {},
   "source": [
    "$y = wx + b $\n",
    "\n",
    "Cost Function \n",
    "$J(y) = \\frac{1}{2m} * \\sum (\\hat{y} - y )^2$\n",
    "\n",
    "Gradient descent\n",
    "\n",
    "$w = w - \\alpha \\frac{\\partial J}{\\partial w}$\n",
    "\n",
    "$b = b - \\alpha \\frac{\\partial J}{\\partial b}$\n",
    "\n",
    "$\\frac{\\partial J}{\\partial w} = \\frac{1}{m} *\\sum (wx + b - y ) * x$ \n",
    "\n",
    "$\\frac{\\partial J}{\\partial b} = \\frac{1}{m} *\\sum (wx + b - y )$ "
   ]
  },
  {
   "cell_type": "code",
   "execution_count": 506,
   "id": "5a3953d2",
   "metadata": {},
   "outputs": [],
   "source": [
    "import matplotlib.pyplot as plt"
   ]
  },
  {
   "cell_type": "code",
   "execution_count": 234,
   "id": "c677c23b",
   "metadata": {},
   "outputs": [],
   "source": [
    "import numpy as np\n",
    "import matplotlib.pyplot as plt\n",
    "\n",
    "def cost_function(x, y, w, b):\n",
    "    m = len(x)\n",
    "    cost = 0\n",
    "\n",
    "    for i in range(m):\n",
    "        f_wb = w * x[i] + b\n",
    "        cost = cost + (f_wb - y[i])**2\n",
    "    total_cost = 1 / (2 * m) * cost\n",
    "    return total_cost\n",
    "\n",
    "def derivative(x, y, w, b):\n",
    "    dw = 0\n",
    "    db = 0\n",
    "    m = len(x)\n",
    "    for i in range(len(x)):\n",
    "        \n",
    "        y_hat = w * x[i] + b\n",
    "        dw += (y_hat - y[i]) * x[i]\n",
    "        db += (y_hat - y[i])\n",
    "    return dw / m, db / m\n",
    "\n",
    "def GD(x, y, w, b, alpha, num_iterations):\n",
    "    cost = np.zeros(num_iterations)\n",
    "    w_values = np.zeros(num_iterations)\n",
    "    b_values = np.zeros(num_iterations)\n",
    "    m = len(x)\n",
    "    \n",
    "    for i in range(num_iterations):\n",
    "        dw, db = derivative(x, y, w, b)\n",
    "        w -= alpha * dw\n",
    "        b -= alpha * db\n",
    "        cost[i] = cost_function(x, y, w, b)\n",
    "        w_values[i] = w\n",
    "        b_values[i] = b\n",
    "        print(f'iter {i}: Cost = {cost[i]}')\n",
    "    id = np.argmin(cost)\n",
    "    plt.plot(w_values, cost,  label='w vs cost')\n",
    "    return w_values[id], b_values[id]"
   ]
  },
  {
   "cell_type": "code",
   "execution_count": 249,
   "id": "a88e18f8",
   "metadata": {},
   "outputs": [
    {
     "name": "stdout",
     "output_type": "stream",
     "text": [
      "iter 0: Cost = 527.0627599180045\n",
      "iter 1: Cost = 397.4980795457381\n",
      "iter 2: Cost = 302.8096622179573\n",
      "iter 3: Cost = 233.609484926426\n",
      "iter 4: Cost = 183.03660091233888\n",
      "iter 5: Cost = 146.0768990698893\n",
      "iter 6: Cost = 119.0659711089086\n",
      "iter 7: Cost = 99.3257973697392\n",
      "iter 8: Cost = 84.8992298684202\n",
      "iter 9: Cost = 74.35594742814189\n",
      "iter 10: Cost = 66.65064397823552\n",
      "iter 11: Cost = 61.01938985095089\n",
      "iter 12: Cost = 56.903890635067704\n",
      "iter 13: Cost = 53.89613409757781\n",
      "iter 14: Cost = 51.697937095432415\n",
      "iter 15: Cost = 50.09138168498825\n",
      "iter 16: Cost = 48.917209265386\n",
      "iter 17: Cost = 48.0590306053235\n",
      "iter 18: Cost = 47.43178622864017\n",
      "iter 19: Cost = 46.973313043409576\n",
      "iter 20: Cost = 46.63818107319292\n",
      "iter 21: Cost = 46.393189222368\n",
      "iter 22: Cost = 46.21407349528859\n",
      "iter 23: Cost = 46.08310129989161\n",
      "iter 24: Cost = 45.98731331876438\n",
      "iter 25: Cost = 45.91723863489697\n",
      "iter 26: Cost = 45.86595572100872\n",
      "iter 27: Cost = 45.82840619258993\n",
      "iter 28: Cost = 45.80089328550015\n",
      "iter 29: Cost = 45.78071533380545\n",
      "iter 30: Cost = 45.76589790837246\n",
      "iter 31: Cost = 45.75499805862983\n",
      "iter 32: Cost = 45.746961248703904\n",
      "iter 33: Cost = 45.74101680361029\n",
      "iter 34: Cost = 45.736601499331385\n",
      "iter 35: Cost = 45.733303720983656\n",
      "iter 36: Cost = 45.73082265253797\n",
      "iter 37: Cost = 45.72893845188727\n",
      "iter 38: Cost = 45.72749045421533\n",
      "iter 39: Cost = 45.72636124260162\n",
      "iter 40: Cost = 45.72546500651514\n",
      "iter 41: Cost = 45.72473903397866\n",
      "iter 42: Cost = 45.72413749387992\n",
      "iter 43: Cost = 45.72362689196551\n",
      "iter 44: Cost = 45.723182749994486\n",
      "iter 45: Cost = 45.722787178800175\n",
      "iter 46: Cost = 45.72242710463753\n",
      "iter 47: Cost = 45.72209297296353\n",
      "iter 48: Cost = 45.72177780113551\n",
      "iter 49: Cost = 45.72147648610453\n",
      "iter 50: Cost = 45.721185298464945\n",
      "iter 51: Cost = 45.72090151269575\n",
      "iter 52: Cost = 45.720623136934\n",
      "iter 53: Cost = 45.72034871548824\n",
      "iter 54: Cost = 45.72007718451127\n",
      "iter 55: Cost = 45.719807766523196\n",
      "iter 56: Cost = 45.71953989332687\n",
      "iter 57: Cost = 45.719273149672944\n",
      "iter 58: Cost = 45.7190072320892\n",
      "iter 59: Cost = 45.71874191879236\n",
      "iter 60: Cost = 45.71847704769899\n",
      "iter 61: Cost = 45.71821250035536\n",
      "iter 62: Cost = 45.717948190193276\n",
      "iter 63: Cost = 45.717684053946954\n",
      "iter 64: Cost = 45.717420045380635\n",
      "iter 65: Cost = 45.71715613070428\n",
      "iter 66: Cost = 45.716892285223494\n",
      "iter 67: Cost = 45.71662849089115\n",
      "iter 68: Cost = 45.716364734518\n",
      "iter 69: Cost = 45.71610100646517\n",
      "iter 70: Cost = 45.71583729968835\n",
      "iter 71: Cost = 45.71557360903939\n",
      "iter 72: Cost = 45.715309930755936\n",
      "iter 73: Cost = 45.71504626208837\n",
      "iter 74: Cost = 45.71478260102727\n",
      "iter 75: Cost = 45.714518946104036\n",
      "iter 76: Cost = 45.71425529624541\n",
      "iter 77: Cost = 45.713991650667076\n",
      "iter 78: Cost = 45.71372800879573\n",
      "iter 79: Cost = 45.71346437021247\n",
      "iter 80: Cost = 45.71320073461114\n",
      "iter 81: Cost = 45.71293710176798\n",
      "iter 82: Cost = 45.71267347151945\n",
      "iter 83: Cost = 45.71240984374603\n",
      "iter 84: Cost = 45.71214621836037\n",
      "iter 85: Cost = 45.711882595298626\n",
      "iter 86: Cost = 45.711618974514145\n",
      "iter 87: Cost = 45.711355355972835\n",
      "iter 88: Cost = 45.711091739649724\n",
      "iter 89: Cost = 45.71082812552661\n",
      "iter 90: Cost = 45.710564513590214\n",
      "iter 91: Cost = 45.71030090383069\n",
      "iter 92: Cost = 45.71003729624102\n",
      "iter 93: Cost = 45.709773690815915\n",
      "iter 94: Cost = 45.70951008755164\n",
      "iter 95: Cost = 45.709246486445345\n",
      "iter 96: Cost = 45.70898288749499\n",
      "iter 97: Cost = 45.70871929069911\n",
      "iter 98: Cost = 45.70845569605654\n",
      "iter 99: Cost = 45.70819210356654\n",
      "iter 100: Cost = 45.70792851322848\n",
      "iter 101: Cost = 45.70766492504192\n",
      "iter 102: Cost = 45.707401339006566\n",
      "iter 103: Cost = 45.7071377551221\n",
      "iter 104: Cost = 45.70687417338844\n",
      "iter 105: Cost = 45.70661059380537\n",
      "iter 106: Cost = 45.70634701637281\n",
      "iter 107: Cost = 45.70608344109068\n",
      "iter 108: Cost = 45.705819867958915\n",
      "iter 109: Cost = 45.705556296977456\n",
      "iter 110: Cost = 45.70529272814628\n",
      "iter 111: Cost = 45.70502916146531\n",
      "iter 112: Cost = 45.70476559693455\n",
      "iter 113: Cost = 45.70450203455399\n",
      "iter 114: Cost = 45.70423847432357\n",
      "iter 115: Cost = 45.703974916243276\n",
      "iter 116: Cost = 45.70371136031308\n",
      "iter 117: Cost = 45.70344780653299\n",
      "iter 118: Cost = 45.70318425490293\n",
      "iter 119: Cost = 45.70292070542294\n"
     ]
    },
    {
     "data": {
      "image/png": "[encoded data removed]",
      "text/plain": [
       "<Figure size 640x480 with 1 Axes>"
      ]
     },
     "metadata": {},
     "output_type": "display_data"
    }
   ],
   "source": [
    "w, b = GD(list(meta['Chiều cao']), list(meta['Cân nặng']), 0, 0, 0.0001, 120)"
   ]
  },
  {
   "cell_type": "code",
   "execution_count": 250,
   "id": "0a7694c3",
   "metadata": {},
   "outputs": [
    {
     "data": {
      "text/plain": [
       "array([[43.3050532 ],\n",
       "       [43.35835172],\n",
       "       [43.41165025],\n",
       "       [43.41165025],\n",
       "       [43.46494878],\n",
       "       [43.46494878],\n",
       "       [43.49159804]])"
      ]
     },
     "execution_count": 250,
     "metadata": {},
     "output_type": "execute_result"
    }
   ],
   "source": [
    "from sklearn import datasets, linear_model\n",
    "\n",
    "regr = linear_model.LinearRegression(fit_intercept=False) \n",
    "regr.fit(np.array(meta['Chiều cao']).reshape(-1, 1), np.array(meta['Cân nặng']).reshape(-1, 1))\n",
    "\n",
    "regr.predict(np.array(test['Chiều cao']).reshape(-1, 1))"
   ]
  },
  {
   "cell_type": "code",
   "execution_count": 251,
   "id": "5623c1cf",
   "metadata": {},
   "outputs": [
    {
     "name": "stdout",
     "output_type": "stream",
     "text": [
      "43.30791262074635\n",
      "43.361236290376674\n",
      "43.414559960007\n",
      "43.414559960007\n",
      "43.46788362963732\n",
      "43.46788362963732\n",
      "43.49454546445248\n"
     ]
    }
   ],
   "source": [
    "for x in test['Chiều cao']:\n",
    "    print(w*x + b)"
   ]
  },
  {
   "attachments": {},
   "cell_type": "markdown",
   "id": "7563c29d",
   "metadata": {},
   "source": [
    "### Problem 2\n",
    "Từ dữ liệu file **Data_GPA_harvard.xlsx** bạn hãy dùng Linear Regression để dự đoán Điểm GPA của một sinh viên dựa vào chỉ số IQ và thời gian học trong một ngày của sinh viên đó"
   ]
  },
  {
   "cell_type": "code",
   "execution_count": 399,
   "id": "af684538",
   "metadata": {},
   "outputs": [],
   "source": [
    "# Code ở đây"
   ]
  },
  {
   "cell_type": "code",
   "execution_count": 491,
   "id": "ab2bf060",
   "metadata": {},
   "outputs": [
    {
     "data": {
      "text/html": [
       "<div>\n",
       "<style scoped>\n",
       "    .dataframe tbody tr th:only-of-type {\n",
       "        vertical-align: middle;\n",
       "    }\n",
       "\n",
       "    .dataframe tbody tr th {\n",
       "        vertical-align: top;\n",
       "    }\n",
       "\n",
       "    .dataframe thead th {\n",
       "        text-align: right;\n",
       "    }\n",
       "</style>\n",
       "<table border=\"1\" class=\"dataframe\">\n",
       "  <thead>\n",
       "    <tr style=\"text-align: right;\">\n",
       "      <th></th>\n",
       "      <th>IQ</th>\n",
       "      <th>hours per day</th>\n",
       "      <th>GPA</th>\n",
       "    </tr>\n",
       "  </thead>\n",
       "  <tbody>\n",
       "    <tr>\n",
       "      <th>0</th>\n",
       "      <td>97</td>\n",
       "      <td>16</td>\n",
       "      <td>3.08</td>\n",
       "    </tr>\n",
       "    <tr>\n",
       "      <th>1</th>\n",
       "      <td>115</td>\n",
       "      <td>14</td>\n",
       "      <td>3.27</td>\n",
       "    </tr>\n",
       "    <tr>\n",
       "      <th>2</th>\n",
       "      <td>100</td>\n",
       "      <td>4</td>\n",
       "      <td>2.22</td>\n",
       "    </tr>\n",
       "    <tr>\n",
       "      <th>3</th>\n",
       "      <td>91</td>\n",
       "      <td>8</td>\n",
       "      <td>2.35</td>\n",
       "    </tr>\n",
       "    <tr>\n",
       "      <th>4</th>\n",
       "      <td>135</td>\n",
       "      <td>13</td>\n",
       "      <td>3.58</td>\n",
       "    </tr>\n",
       "  </tbody>\n",
       "</table>\n",
       "</div>"
      ],
      "text/plain": [
       "    IQ  hours per day   GPA\n",
       "0   97             16  3.08\n",
       "1  115             14  3.27\n",
       "2  100              4  2.22\n",
       "3   91              8  2.35\n",
       "4  135             13  3.58"
      ]
     },
     "execution_count": 491,
     "metadata": {},
     "output_type": "execute_result"
    }
   ],
   "source": [
    "data = pd.read_excel(r'D:\\Lab2 - TeamAI (Kiến thức LinearRegression)\\Data_GPA_harvard.xlsx')\n",
    "data.head(5)"
   ]
  },
  {
   "cell_type": "code",
   "execution_count": 492,
   "id": "c657be84",
   "metadata": {},
   "outputs": [
    {
     "data": {
      "text/html": [
       "<div>\n",
       "<style scoped>\n",
       "    .dataframe tbody tr th:only-of-type {\n",
       "        vertical-align: middle;\n",
       "    }\n",
       "\n",
       "    .dataframe tbody tr th {\n",
       "        vertical-align: top;\n",
       "    }\n",
       "\n",
       "    .dataframe thead th {\n",
       "        text-align: right;\n",
       "    }\n",
       "</style>\n",
       "<table border=\"1\" class=\"dataframe\">\n",
       "  <thead>\n",
       "    <tr style=\"text-align: right;\">\n",
       "      <th></th>\n",
       "      <th>IQ</th>\n",
       "      <th>hours per day</th>\n",
       "      <th>GPA</th>\n",
       "    </tr>\n",
       "  </thead>\n",
       "  <tbody>\n",
       "    <tr>\n",
       "      <th>count</th>\n",
       "      <td>50.000000</td>\n",
       "      <td>50.000000</td>\n",
       "      <td>50.000000</td>\n",
       "    </tr>\n",
       "    <tr>\n",
       "      <th>mean</th>\n",
       "      <td>116.080000</td>\n",
       "      <td>8.120000</td>\n",
       "      <td>2.843400</td>\n",
       "    </tr>\n",
       "    <tr>\n",
       "      <th>std</th>\n",
       "      <td>18.623926</td>\n",
       "      <td>4.662661</td>\n",
       "      <td>0.527716</td>\n",
       "    </tr>\n",
       "    <tr>\n",
       "      <th>min</th>\n",
       "      <td>86.000000</td>\n",
       "      <td>1.000000</td>\n",
       "      <td>1.880000</td>\n",
       "    </tr>\n",
       "    <tr>\n",
       "      <th>25%</th>\n",
       "      <td>100.000000</td>\n",
       "      <td>4.000000</td>\n",
       "      <td>2.355000</td>\n",
       "    </tr>\n",
       "    <tr>\n",
       "      <th>50%</th>\n",
       "      <td>115.000000</td>\n",
       "      <td>8.000000</td>\n",
       "      <td>2.940000</td>\n",
       "    </tr>\n",
       "    <tr>\n",
       "      <th>75%</th>\n",
       "      <td>131.500000</td>\n",
       "      <td>12.000000</td>\n",
       "      <td>3.230000</td>\n",
       "    </tr>\n",
       "    <tr>\n",
       "      <th>max</th>\n",
       "      <td>144.000000</td>\n",
       "      <td>16.000000</td>\n",
       "      <td>3.830000</td>\n",
       "    </tr>\n",
       "  </tbody>\n",
       "</table>\n",
       "</div>"
      ],
      "text/plain": [
       "               IQ  hours per day        GPA\n",
       "count   50.000000      50.000000  50.000000\n",
       "mean   116.080000       8.120000   2.843400\n",
       "std     18.623926       4.662661   0.527716\n",
       "min     86.000000       1.000000   1.880000\n",
       "25%    100.000000       4.000000   2.355000\n",
       "50%    115.000000       8.000000   2.940000\n",
       "75%    131.500000      12.000000   3.230000\n",
       "max    144.000000      16.000000   3.830000"
      ]
     },
     "execution_count": 492,
     "metadata": {},
     "output_type": "execute_result"
    }
   ],
   "source": [
    "data.describe()"
   ]
  },
  {
   "cell_type": "code",
   "execution_count": 493,
   "id": "d00a31f8",
   "metadata": {},
   "outputs": [
    {
     "data": {
      "text/plain": [
       "IQ                 int64\n",
       "hours per day      int64\n",
       "GPA              float64\n",
       "dtype: object"
      ]
     },
     "execution_count": 493,
     "metadata": {},
     "output_type": "execute_result"
    }
   ],
   "source": [
    "data.dtypes"
   ]
  },
  {
   "attachments": {},
   "cell_type": "markdown",
   "id": "a1d4554f",
   "metadata": {},
   "source": [
    "$Y = w*X + b$"
   ]
  },
  {
   "cell_type": "code",
   "execution_count": 494,
   "id": "9621d931",
   "metadata": {},
   "outputs": [],
   "source": [
    "import numpy as np\n",
    "import matplotlib.pyplot as plt\n",
    "\n",
    "def cost_function(x, y, w, b):\n",
    "    m = len(x)\n",
    "    cost = 0\n",
    "\n",
    "    for i in range(m):\n",
    "        f_wb = w @ x[i] + b\n",
    "        cost = cost + (f_wb - y[i])**2\n",
    "    total_cost = 1 / (2 * m) * cost\n",
    "\n",
    "    return total_cost[0]"
   ]
  },
  {
   "cell_type": "code",
   "execution_count": 495,
   "id": "dbc8d785",
   "metadata": {},
   "outputs": [],
   "source": [
    "def derivative(x, y, w, b):\n",
    "    dw = 0\n",
    "    db = 0\n",
    "    m = len(x)\n",
    "    for i in range(len(x)):\n",
    "        y_hat =x[i].reshape(1, -1) @ w.T + b\n",
    "        dw += (y_hat - y[i]) @ x[i].reshape(1, -1)\n",
    "        db += (y_hat - y[i])\n",
    "    return dw.reshape(1, -1) / m, db.reshape(1, -1) / m\n",
    "\n",
    "def GD(x, y, w, b, alpha, num_iterations):\n",
    "    cost = np.zeros(num_iterations)\n",
    "    w_values = []\n",
    "    b_values = []\n",
    "    m = len(x)\n",
    "    \n",
    "    for i in range(num_iterations):\n",
    "        dw, db = derivative(x, y, w, b)\n",
    "        w -= alpha * dw\n",
    "        b -= alpha * db[0][0]\n",
    "        \n",
    "        cost[i] = cost_function(x, y, w, b)\n",
    "        w_values.extend(w)\n",
    "        b_values.append(b)\n",
    "        print(f'iter {i}: Cost = {cost[i]}')\n",
    "    id = np.argmin(cost)\n",
    "    plt.plot(w_values, cost,  label='w vs cost')\n",
    "    return w_values[id], b_values[id]"
   ]
  },
  {
   "cell_type": "code",
   "execution_count": 502,
   "id": "fe3b0c88",
   "metadata": {},
   "outputs": [
    {
     "name": "stdout",
     "output_type": "stream",
     "text": [
      "iter 0: Cost = 0.6809470977025894\n",
      "iter 1: Cost = 0.1538526215585991\n",
      "iter 2: Cost = 0.07423838704544142\n",
      "iter 3: Cost = 0.06202545070552252\n",
      "iter 4: Cost = 0.05996558658161254\n",
      "iter 5: Cost = 0.05943595257124709\n",
      "iter 6: Cost = 0.059137755467511655\n",
      "iter 7: Cost = 0.05887536441846094\n",
      "iter 8: Cost = 0.05861930902653278\n",
      "iter 9: Cost = 0.05836514631929579\n",
      "iter 10: Cost = 0.058112203020948584\n",
      "iter 11: Cost = 0.05786037367227346\n",
      "iter 12: Cost = 0.057609638357227065\n",
      "iter 13: Cost = 0.057359990061915216\n",
      "iter 14: Cost = 0.05711142373318623\n",
      "iter 15: Cost = 0.05686393463053987\n",
      "iter 16: Cost = 0.056617518077813615\n",
      "iter 17: Cost = 0.05637216942570637\n",
      "iter 18: Cost = 0.056127884046059284\n",
      "iter 19: Cost = 0.05588465733092044\n",
      "iter 20: Cost = 0.05564248469233005\n",
      "iter 21: Cost = 0.05540136156221452\n",
      "iter 22: Cost = 0.055161283392297616\n",
      "iter 23: Cost = 0.0549222456540141\n",
      "iter 24: Cost = 0.05468424383842428\n",
      "iter 25: Cost = 0.05444727345612899\n",
      "iter 26: Cost = 0.05421133003718483\n",
      "iter 27: Cost = 0.05397640913101988\n",
      "iter 28: Cost = 0.05374250630634981\n",
      "iter 29: Cost = 0.05350961715109412\n",
      "iter 30: Cost = 0.053277737272293124\n",
      "iter 31: Cost = 0.053046862296024955\n",
      "iter 32: Cost = 0.05281698786732324\n",
      "iter 33: Cost = 0.05258810965009458\n",
      "iter 34: Cost = 0.052360223327037096\n",
      "iter 35: Cost = 0.05213332459955894\n",
      "iter 36: Cost = 0.05190740918769711\n",
      "iter 37: Cost = 0.051682472830036776\n",
      "iter 38: Cost = 0.05145851128363085\n",
      "iter 39: Cost = 0.05123552032392002\n",
      "iter 40: Cost = 0.051013495744653144\n",
      "iter 41: Cost = 0.05079243335780755\n",
      "iter 42: Cost = 0.05057232899351047\n",
      "iter 43: Cost = 0.05035317849996017\n",
      "iter 44: Cost = 0.050134977743347575\n",
      "iter 45: Cost = 0.04991772260777861\n",
      "iter 46: Cost = 0.04970140899519598\n",
      "iter 47: Cost = 0.049486032825302506\n",
      "iter 48: Cost = 0.049271590035483835\n",
      "iter 49: Cost = 0.04905807658073174\n",
      "iter 50: Cost = 0.04884548843356801\n",
      "iter 51: Cost = 0.04863382158396837\n",
      "iter 52: Cost = 0.04842307203928682\n",
      "iter 53: Cost = 0.04821323582418053\n",
      "iter 54: Cost = 0.04800430898053455\n",
      "iter 55: Cost = 0.047796287567387345\n",
      "iter 56: Cost = 0.04758916766085636\n",
      "iter 57: Cost = 0.04738294535406408\n",
      "iter 58: Cost = 0.04717761675706434\n",
      "iter 59: Cost = 0.04697317799676887\n",
      "iter 60: Cost = 0.04676962521687434\n",
      "iter 61: Cost = 0.046566954577789386\n",
      "iter 62: Cost = 0.046365162256562606\n",
      "iter 63: Cost = 0.04616424444681003\n",
      "iter 64: Cost = 0.045964197358643544\n",
      "iter 65: Cost = 0.04576501721859936\n",
      "iter 66: Cost = 0.04556670026956682\n",
      "iter 67: Cost = 0.045369242770717515\n",
      "iter 68: Cost = 0.04517264099743468\n",
      "iter 69: Cost = 0.04497689124124322\n",
      "iter 70: Cost = 0.044781989809739214\n",
      "iter 71: Cost = 0.044587933026520886\n",
      "iter 72: Cost = 0.044394717231118735\n",
      "iter 73: Cost = 0.044202338778926833\n",
      "iter 74: Cost = 0.04401079404113396\n",
      "iter 75: Cost = 0.043820079404655064\n",
      "iter 76: Cost = 0.04363019127206326\n",
      "iter 77: Cost = 0.04344112606152188\n",
      "iter 78: Cost = 0.043252880206716936\n",
      "iter 79: Cost = 0.04306545015678985\n",
      "iter 80: Cost = 0.04287883237627045\n",
      "iter 81: Cost = 0.0426930233450104\n",
      "iter 82: Cost = 0.04250801955811657\n",
      "iter 83: Cost = 0.04232381752588509\n",
      "iter 84: Cost = 0.042140413773735584\n",
      "iter 85: Cost = 0.0419578048421454\n",
      "iter 86: Cost = 0.041775987286584604\n",
      "iter 87: Cost = 0.04159495767745081\n",
      "iter 88: Cost = 0.04141471260000463\n",
      "iter 89: Cost = 0.041235248654305154\n",
      "iter 90: Cost = 0.04105656245514584\n",
      "iter 91: Cost = 0.04087865063199091\n",
      "iter 92: Cost = 0.04070150982891112\n",
      "iter 93: Cost = 0.04052513670452127\n",
      "iter 94: Cost = 0.040349527931916616\n",
      "iter 95: Cost = 0.04017468019861032\n",
      "iter 96: Cost = 0.04000059020647091\n",
      "iter 97: Cost = 0.03982725467166022\n",
      "iter 98: Cost = 0.03965467032457109\n",
      "iter 99: Cost = 0.03948283390976613\n"
     ]
    },
    {
     "data": {
      "image/png": "[encoded data removed]",
      "text/plain": [
       "<Figure size 640x480 with 1 Axes>"
      ]
     },
     "metadata": {},
     "output_type": "display_data"
    }
   ],
   "source": [
    "import random\n",
    "random.uniform(-1, 1)\n",
    "w = np.array([0. for i in range(data.shape[1]-1)]).reshape(1, -1)\n",
    "b = 0\n",
    "w, b = GD(np.array(data[data.columns.difference(['GPA'])]), np.array(data[['GPA']]), w, b, 0.0001, 100)"
   ]
  },
  {
   "cell_type": "code",
   "execution_count": 503,
   "id": "60dc710a",
   "metadata": {},
   "outputs": [
    {
     "data": {
      "text/html": [
       "<div>\n",
       "<style scoped>\n",
       "    .dataframe tbody tr th:only-of-type {\n",
       "        vertical-align: middle;\n",
       "    }\n",
       "\n",
       "    .dataframe tbody tr th {\n",
       "        vertical-align: top;\n",
       "    }\n",
       "\n",
       "    .dataframe thead th {\n",
       "        text-align: right;\n",
       "    }\n",
       "</style>\n",
       "<table border=\"1\" class=\"dataframe\">\n",
       "  <thead>\n",
       "    <tr style=\"text-align: right;\">\n",
       "      <th></th>\n",
       "      <th>IQ</th>\n",
       "      <th>hours per day</th>\n",
       "      <th>GPA</th>\n",
       "    </tr>\n",
       "  </thead>\n",
       "  <tbody>\n",
       "    <tr>\n",
       "      <th>45</th>\n",
       "      <td>106</td>\n",
       "      <td>3</td>\n",
       "      <td>2.26</td>\n",
       "    </tr>\n",
       "    <tr>\n",
       "      <th>46</th>\n",
       "      <td>100</td>\n",
       "      <td>5</td>\n",
       "      <td>2.30</td>\n",
       "    </tr>\n",
       "    <tr>\n",
       "      <th>47</th>\n",
       "      <td>138</td>\n",
       "      <td>12</td>\n",
       "      <td>3.56</td>\n",
       "    </tr>\n",
       "    <tr>\n",
       "      <th>48</th>\n",
       "      <td>142</td>\n",
       "      <td>5</td>\n",
       "      <td>3.10</td>\n",
       "    </tr>\n",
       "    <tr>\n",
       "      <th>49</th>\n",
       "      <td>95</td>\n",
       "      <td>6</td>\n",
       "      <td>2.28</td>\n",
       "    </tr>\n",
       "  </tbody>\n",
       "</table>\n",
       "</div>"
      ],
      "text/plain": [
       "     IQ  hours per day   GPA\n",
       "45  106              3  2.26\n",
       "46  100              5  2.30\n",
       "47  138             12  3.56\n",
       "48  142              5  3.10\n",
       "49   95              6  2.28"
      ]
     },
     "execution_count": 503,
     "metadata": {},
     "output_type": "execute_result"
    }
   ],
   "source": [
    "test = data[-5:]\n",
    "test"
   ]
  },
  {
   "cell_type": "code",
   "execution_count": 504,
   "id": "66b7a1cf",
   "metadata": {},
   "outputs": [
    {
     "data": {
      "text/plain": [
       "array([[106,   3],\n",
       "       [100,   5],\n",
       "       [138,  12],\n",
       "       [142,   5],\n",
       "       [ 95,   6]], dtype=int64)"
      ]
     },
     "execution_count": 504,
     "metadata": {},
     "output_type": "execute_result"
    }
   ],
   "source": [
    "x = np.array(test[test.columns.difference(['GPA'])])\n",
    "x"
   ]
  },
  {
   "cell_type": "code",
   "execution_count": 505,
   "id": "f65f7fb9",
   "metadata": {},
   "outputs": [
    {
     "name": "stdout",
     "output_type": "stream",
     "text": [
      "[2.51812824]\n",
      "[2.41091837]\n",
      "[3.40995229]\n",
      "[3.38921116]\n",
      "[2.31072807]\n"
     ]
    }
   ],
   "source": [
    "for i in range(len(x)):\n",
    "    print(x[i].reshape(1, -1) @ w.T + b)"
   ]
  },
  {
   "cell_type": "code",
   "execution_count": null,
   "id": "38522d29",
   "metadata": {},
   "outputs": [],
   "source": []
  }
 ],
 "metadata": {
  "kernelspec": {
   "display_name": "Python 3 (ipykernel)",
   "language": "python",
   "name": "python3"
  },
  "language_info": {
   "codemirror_mode": {
    "name": "ipython",
    "version": 3
   },
   "file_extension": ".py",
   "mimetype": "text/x-python",
   "name": "python",
   "nbconvert_exporter": "python",
   "pygments_lexer": "ipython3",
   "version": "3.10.4"
  }
 },
 "nbformat": 4,
 "nbformat_minor": 5
}
