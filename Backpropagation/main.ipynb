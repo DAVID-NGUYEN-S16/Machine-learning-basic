{
 "cells": [
  {
   "cell_type": "code",
   "execution_count": 1,
   "metadata": {},
   "outputs": [],
   "source": [
    "from __future__ import division, print_function, unicode_literals\n",
    "import math\n",
    "import numpy as np\n",
    "import matplotlib.pyplot as plt\n",
    "from scipy import sparse\n",
    "\n"
   ]
  },
  {
   "cell_type": "code",
   "execution_count": null,
   "metadata": {},
   "outputs": [],
   "source": []
  },
  {
   "cell_type": "code",
   "execution_count": 2,
   "metadata": {},
   "outputs": [
    {
     "data": {
      "text/plain": [
       "array([[0, 1, 0],\n",
       "       [1, 0, 0],\n",
       "       [0, 0, 1],\n",
       "       [0, 0, 1],\n",
       "       [1, 0, 0]])"
      ]
     },
     "execution_count": 2,
     "metadata": {},
     "output_type": "execute_result"
    }
   ],
   "source": [
    "y_pred = [1, 0, 2, 2, 0]\n",
    "sparse.coo_matrix((np.ones_like(y_pred), (y_pred, np.arange(len(y_pred)))), shape= (3, len(y_pred))).toarray().T"
   ]
  },
  {
   "attachments": {},
   "cell_type": "markdown",
   "metadata": {},
   "source": [
    "## Intital data"
   ]
  },
  {
   "cell_type": "code",
   "execution_count": 3,
   "metadata": {},
   "outputs": [
    {
     "data": {
      "image/png": "[encoded data removed]",
      "text/plain": [
       "<Figure size 640x480 with 1 Axes>"
      ]
     },
     "metadata": {},
     "output_type": "display_data"
    }
   ],
   "source": [
    "N = 100 # number of points per class\n",
    "d0 = 2 # dimensionality\n",
    "C = 3 # number of classes\n",
    "X = np.zeros((d0, N*C)) # data matrix\n",
    "y = np.zeros(N*C, dtype='uint8')\n",
    "for j in range(C):\n",
    "    ix = range(N*j,N*(j+1))\n",
    "    r = np.linspace(0.0,1,N) # radius\n",
    "    t = np.linspace(j*4,(j+1)*4,N) + np.random.randn(N)*0.2 # theta\n",
    "    X[:,ix] = np.c_[r*np.sin(t), r*np.cos(t)].T\n",
    "    y[ix] = j\n",
    "# lets visualize the data:\n",
    "# plt.scatter(X[:N, 0], X[:N, 1], c=y[:N], s=40, cmap=plt.cm.Spectral)\n",
    "\n",
    "plt.plot(X[0, :N], X[1, :N], 'bs', markersize = 7);\n",
    "plt.plot(X[0, N:2*N], X[1, N:2*N], 'ro', markersize = 7);\n",
    "plt.plot(X[0, 2*N:], X[1, 2*N:], 'g^', markersize = 7);\n",
    "# plt.axis('off')\n",
    "plt.xlim([-1.5, 1.5])\n",
    "plt.ylim([-1.5, 1.5])\n",
    "cur_axes = plt.gca()\n",
    "cur_axes.axes.get_xaxis().set_ticks([])\n",
    "cur_axes.axes.get_yaxis().set_ticks([])\n",
    "\n",
    "plt.savefig('EX.png', bbox_inches='tight', dpi = 600)\n",
    "plt.show()"
   ]
  },
  {
   "cell_type": "code",
   "execution_count": 4,
   "metadata": {},
   "outputs": [],
   "source": [
    "def softmax(Z):\n",
    "    e_Z = np.exp(Z - np.max(Z, axis=0, keepdims=True))\n",
    "    '''\n",
    "    np.max(Z, axis=0, keepdims=False)\n",
    "    là mấy giá trị lớn nhất của mỗi cột và keepdims là có muốn giữ số chiều hay không \n",
    "    ---------------------\n",
    "    keepdims = False    |\n",
    "    array([7, 8, 9])    |\n",
    "    --------------------|\n",
    "    keepdims = True     | \n",
    "    array([[7, 8, 9]])  |\n",
    "    ---------------------\n",
    "    \n",
    "    Dòng code này là dùng để nén các giá trị dữ liệu lại\n",
    "    \n",
    "    '''\n",
    "    A = e_Z / e_Z.sum(axis = 0)\n",
    "    \n",
    "    return A\n"
   ]
  },
  {
   "cell_type": "code",
   "execution_count": 5,
   "metadata": {},
   "outputs": [],
   "source": [
    "from scipy import sparse"
   ]
  },
  {
   "cell_type": "code",
   "execution_count": 6,
   "metadata": {},
   "outputs": [],
   "source": [
    "# One-hot coding\n",
    "\n",
    "def convert_labels(y, C = C):\n",
    "    Y = sparse.coo_matrix((np.ones_like(y), (y, np.arange(len(y)))), shape= (C, len(y))).toarray()\n",
    "    return Y"
   ]
  },
  {
   "cell_type": "code",
   "execution_count": 7,
   "metadata": {},
   "outputs": [],
   "source": [
    "def cost(Y, Yhat):\n",
    "    return -np.sum(Y*np.log(Yhat))/Y.shape[1]\n"
   ]
  },
  {
   "cell_type": "code",
   "execution_count": 8,
   "metadata": {},
   "outputs": [],
   "source": [
    "d1 =h = 100 # size of hidden layer\n",
    "d0 = 2\n",
    "d2 = C = 3\n",
    "# Khởi tạo thông số random \n",
    "W1 = 0.01*np.random.randn(d0, d1)\n",
    "b1 = np.zeros((d1, 1))\n",
    "W2 = 0.01*np.random.randn(d1, d2)\n",
    "b2 = np.zeros((d2, 1))"
   ]
  },
  {
   "cell_type": "code",
   "execution_count": 9,
   "metadata": {},
   "outputs": [
    {
     "data": {
      "text/plain": [
       "(2, 100)"
      ]
     },
     "execution_count": 9,
     "metadata": {},
     "output_type": "execute_result"
    }
   ],
   "source": [
    "W1.shape"
   ]
  },
  {
   "cell_type": "code",
   "execution_count": 10,
   "metadata": {},
   "outputs": [
    {
     "data": {
      "text/plain": [
       "array([[ 0.00000000e+00, -1.01294107e-03, -2.21812522e-03,\n",
       "         5.62062166e-03,  1.46733541e-02,  3.69857856e-03,\n",
       "         9.87378878e-04,  3.36026296e-02,  5.04632188e-02,\n",
       "         2.42520687e-02,  5.21231098e-02,  5.03602863e-02,\n",
       "         8.81704766e-02,  8.94509525e-02,  9.34577553e-02,\n",
       "         9.23566898e-02,  6.15652270e-02,  1.14514220e-01,\n",
       "         1.62258819e-01,  1.36413675e-01,  1.83537255e-01,\n",
       "         1.75173914e-01,  1.82066698e-01,  1.80754968e-01,\n",
       "         2.36312144e-01,  2.43870924e-01,  2.05802894e-01,\n",
       "         2.30084703e-01,  2.60082985e-01,  2.84300789e-01,\n",
       "         3.02228101e-01,  2.76746411e-01,  2.74339907e-01,\n",
       "         3.08684754e-01,  3.34805652e-01,  3.48211479e-01,\n",
       "         3.60880962e-01,  3.70356441e-01,  3.76284654e-01,\n",
       "         3.71307096e-01,  4.01223340e-01,  3.90319489e-01,\n",
       "         4.24132205e-01,  4.08341561e-01,  4.34413195e-01,\n",
       "         4.08301564e-01,  4.45551546e-01,  3.84300462e-01,\n",
       "         4.73410178e-01,  4.17682332e-01,  4.84324798e-01,\n",
       "         4.72622231e-01,  4.48752441e-01,  3.33000757e-01,\n",
       "         4.67734639e-01,  4.89990371e-01,  4.57201239e-01,\n",
       "         3.60742310e-01,  5.44382866e-01,  2.57275908e-01,\n",
       "         3.98306928e-01,  4.05275457e-01,  2.03233392e-01,\n",
       "         4.58612192e-01,  2.46578848e-01,  2.35215170e-01,\n",
       "         3.31911010e-01, -9.72202008e-02,  1.10390954e-01,\n",
       "         1.54396818e-01,  3.71237889e-01,  4.61716610e-01,\n",
       "         1.08779797e-01, -3.09053437e-02,  2.33590492e-01,\n",
       "        -1.65944901e-01,  2.46051870e-02,  1.04088291e-03,\n",
       "        -1.22666766e-01,  7.52040947e-02, -4.15613890e-03,\n",
       "        -2.61424726e-01, -1.96808989e-01, -2.43346050e-02,\n",
       "        -5.14976522e-01, -3.83027916e-02, -3.40569622e-01,\n",
       "        -2.87671982e-01, -2.31642371e-01, -5.06994911e-01,\n",
       "        -5.03942762e-01, -3.29101537e-01, -5.95525048e-01,\n",
       "        -7.17358979e-01, -7.57074153e-01, -4.96890075e-01,\n",
       "        -7.29849153e-01, -6.48810556e-01, -8.84743237e-01,\n",
       "        -8.30125803e-01, -0.00000000e+00, -7.37870603e-03,\n",
       "        -1.01858615e-02, -2.93048646e-02, -3.23453124e-02,\n",
       "        -4.39101754e-02, -4.83793089e-02, -6.46846185e-02,\n",
       "        -7.41887068e-02, -8.08068560e-02, -9.90643923e-02,\n",
       "        -1.09895640e-01, -1.20145082e-01, -1.26522573e-01,\n",
       "        -1.40486050e-01, -1.48002127e-01, -1.60711773e-01,\n",
       "        -1.70363316e-01, -1.75360716e-01, -1.91752398e-01,\n",
       "        -1.90195202e-01, -1.85824975e-01, -2.19513919e-01,\n",
       "        -2.31578143e-01, -2.20254956e-01, -2.52267307e-01,\n",
       "        -2.50908596e-01, -2.72726063e-01, -2.60996381e-01,\n",
       "        -2.64649733e-01, -2.69706176e-01, -2.43017893e-01,\n",
       "        -2.94060282e-01, -3.09578063e-01, -3.13104019e-01,\n",
       "        -3.21138024e-01, -2.34172312e-01, -2.89975615e-01,\n",
       "        -2.91278634e-01, -2.55095762e-01, -2.60570015e-01,\n",
       "        -2.26909209e-01, -1.26154933e-01, -3.45535165e-01,\n",
       "        -1.55158709e-01,  2.44544306e-02, -2.21700196e-01,\n",
       "        -8.78926561e-02, -2.82094281e-01, -2.67208798e-01,\n",
       "        -9.25985352e-02, -1.05961121e-01, -4.61901463e-03,\n",
       "        -1.72489305e-01, -7.00442301e-02,  8.70694488e-02,\n",
       "         4.15444365e-02, -7.54862363e-02, -1.52447593e-01,\n",
       "         3.02637817e-01,  1.58470899e-02,  3.70582896e-02,\n",
       "        -8.85898454e-02,  2.81851316e-01,  2.95278458e-01,\n",
       "         2.28251097e-01,  1.70001715e-01,  3.16382228e-01,\n",
       "         3.26359886e-01,  4.27359136e-01,  2.62096531e-01,\n",
       "         4.20949623e-01,  4.73734633e-01,  3.53638924e-01,\n",
       "         4.41027635e-01,  6.62993727e-01,  3.92037811e-01,\n",
       "         5.28240891e-01,  6.88951872e-01,  6.35969278e-01,\n",
       "         6.53982755e-01,  7.05414754e-01,  5.50133252e-01,\n",
       "         7.42784712e-01,  7.69103143e-01,  6.03079428e-01,\n",
       "         8.54909477e-01,  7.84585191e-01,  8.60791430e-01,\n",
       "         8.29849410e-01,  9.08686086e-01,  8.46924048e-01,\n",
       "         8.85195389e-01,  9.27387427e-01,  9.40438034e-01,\n",
       "         9.24331965e-01,  9.64285530e-01,  9.72034002e-01,\n",
       "         9.80713092e-01,  9.90830659e-01,  0.00000000e+00,\n",
       "         9.64525645e-03,  2.00801905e-02,  2.85333781e-02,\n",
       "         3.58055717e-02,  4.53879730e-02,  5.39102098e-02,\n",
       "         6.25980098e-02,  7.37055190e-02,  9.05787081e-02,\n",
       "         7.23082097e-02,  8.91258526e-02,  8.91674706e-02,\n",
       "         8.40092655e-02,  9.64244904e-02,  1.04291090e-01,\n",
       "         1.28237100e-01,  1.44633218e-01,  1.21672062e-01,\n",
       "         1.34918058e-01,  1.30973880e-01,  1.28855360e-01,\n",
       "         1.13724702e-01,  1.05722700e-01,  7.76988853e-02,\n",
       "         4.47917392e-02,  1.40800479e-01,  9.71861346e-02,\n",
       "        -1.76803139e-02,  6.68503473e-02,  1.38641247e-01,\n",
       "         8.70563512e-02,  3.41968567e-02,  8.42168656e-02,\n",
       "         1.36773079e-01,  6.41413667e-02, -1.30156798e-01,\n",
       "        -3.70143701e-02,  1.03388337e-01,  3.67726869e-03,\n",
       "         3.72279975e-02, -1.04771435e-01, -1.67751255e-01,\n",
       "        -1.61905097e-01, -1.48321892e-01, -2.20405051e-01,\n",
       "        -1.87248027e-01, -2.78456410e-01, -2.71780957e-01,\n",
       "        -3.58830337e-01, -3.74731036e-01, -2.83945146e-01,\n",
       "        -3.38111503e-01, -1.68087754e-01, -3.74876560e-01,\n",
       "        -3.51822875e-01, -4.90180536e-01, -5.08695618e-01,\n",
       "        -4.22056030e-01, -4.64983602e-01, -5.50767627e-01,\n",
       "        -3.83804733e-01, -5.34540422e-01, -6.35896784e-01,\n",
       "        -5.42762065e-01, -6.56179497e-01, -6.12222834e-01,\n",
       "        -6.35612998e-01, -6.86690952e-01, -6.94679115e-01,\n",
       "        -7.03921577e-01, -7.16215806e-01, -5.43991814e-01,\n",
       "        -7.30917369e-01, -7.36763559e-01, -7.56941982e-01,\n",
       "        -7.67673617e-01, -7.34806159e-01, -7.86341800e-01,\n",
       "        -7.94235652e-01, -7.72956514e-01, -6.83774765e-01,\n",
       "        -6.72556335e-01, -7.40821552e-01, -7.61222990e-01,\n",
       "        -8.09350183e-01, -7.92751490e-01, -7.44433930e-01,\n",
       "        -6.21563400e-01, -7.67778909e-01, -7.39158371e-01,\n",
       "        -6.34636460e-01, -6.74050103e-01, -8.41614897e-01,\n",
       "        -5.13150088e-01, -6.49281864e-01, -5.44228596e-01,\n",
       "        -4.46877715e-01, -8.65025446e-01, -5.27213904e-01],\n",
       "       [ 0.00000000e+00,  1.00500923e-02,  2.00798790e-02,\n",
       "         2.97772104e-02,  3.76454401e-02,  5.03694416e-02,\n",
       "         6.05980170e-02,  6.22121623e-02,  6.31142573e-02,\n",
       "         8.76144964e-02,  8.65229561e-02,  9.90430239e-02,\n",
       "         8.31765916e-02,  9.61335818e-02,  1.06130144e-01,\n",
       "         1.20112793e-01,  1.49430608e-01,  1.27958120e-01,\n",
       "         8.20361313e-02,  1.34997353e-01,  8.44170473e-02,\n",
       "         1.19622358e-01,  1.27414417e-01,  1.45951108e-01,\n",
       "         5.40932882e-02,  6.55436919e-02,  1.63149388e-01,\n",
       "         1.46428121e-01,  1.11124607e-01,  7.05735941e-02,\n",
       "         2.20349622e-02,  1.46501343e-01,  1.70929080e-01,\n",
       "         1.25796797e-01,  7.65004795e-02,  6.11229235e-02,\n",
       "         4.46803800e-02, -5.01570630e-02,  7.57744290e-02,\n",
       "        -1.31602760e-01,  4.76285541e-02, -1.38433403e-01,\n",
       "        -9.66992377e-03, -1.48024958e-01, -9.38937722e-02,\n",
       "        -1.99753355e-01, -1.31833823e-01, -2.78744183e-01,\n",
       "        -1.04694109e-01, -2.65549377e-01, -1.43197425e-01,\n",
       "        -2.04961729e-01, -2.72967878e-01, -4.19182423e-01,\n",
       "        -2.80615339e-01, -2.61823245e-01, -3.33068128e-01,\n",
       "        -4.48733520e-01, -2.16512305e-01, -5.37565761e-01,\n",
       "        -4.56794319e-01, -4.64119533e-01, -5.92369028e-01,\n",
       "        -4.41172909e-01, -5.97591341e-01, -6.12986366e-01,\n",
       "        -5.78169115e-01, -6.69748252e-01, -6.77939843e-01,\n",
       "        -6.79653133e-01, -6.01773558e-01, -5.48774129e-01,\n",
       "        -7.19091493e-01, -7.36725789e-01, -7.10038013e-01,\n",
       "        -7.39177461e-01, -7.67282350e-01, -7.77777081e-01,\n",
       "        -7.78271064e-01, -7.94428160e-01, -8.08070120e-01,\n",
       "        -7.75292590e-01, -8.04561163e-01, -8.38030601e-01,\n",
       "        -6.74333538e-01, -8.57731061e-01, -7.99142796e-01,\n",
       "        -8.30369175e-01, -8.58175547e-01, -7.42387364e-01,\n",
       "        -7.56629350e-01, -8.58257515e-01, -7.13396990e-01,\n",
       "        -6.06512216e-01, -5.73043966e-01, -8.20929144e-01,\n",
       "        -6.38460983e-01, -7.34199526e-01, -4.43992584e-01,\n",
       "        -5.57576140e-01, -0.00000000e+00, -6.89819559e-03,\n",
       "        -1.74461986e-02, -7.71353087e-03, -2.42129561e-02,\n",
       "        -2.49530885e-02, -3.65039320e-02, -2.85550342e-02,\n",
       "        -3.20309491e-02, -4.16499080e-02, -1.97303494e-02,\n",
       "        -1.63898530e-02, -1.60479747e-02, -3.51450841e-02,\n",
       "         1.61749551e-02,  3.24378088e-02, -1.70736510e-02,\n",
       "         2.15203979e-02, -4.80257265e-02, -7.99963078e-03,\n",
       "         6.81024753e-02,  1.02296077e-01,  3.45883736e-02,\n",
       "         1.85916040e-02,  1.01278170e-01,  1.14109226e-02,\n",
       "         7.75720964e-02, -8.12324357e-04,  1.08962042e-01,\n",
       "         1.25571054e-01,  1.38151884e-01,  1.97467777e-01,\n",
       "         1.34192718e-01,  1.23582095e-01,  1.41113507e-01,\n",
       "         1.47843213e-01,  2.78199090e-01,  2.35783305e-01,\n",
       "         2.49977323e-01,  3.00190603e-01,  3.08791055e-01,\n",
       "         3.46446708e-01,  4.05051314e-01,  2.63172317e-01,\n",
       "         4.16481259e-01,  4.53887157e-01,  4.08344659e-01,\n",
       "         4.66540508e-01,  3.94335986e-01,  4.16622684e-01,\n",
       "         4.96489198e-01,  5.04136216e-01,  5.25232215e-01,\n",
       "         5.06804546e-01,  5.40938506e-01,  5.48690155e-01,\n",
       "         5.64128895e-01,  5.70787714e-01,  5.65676599e-01,\n",
       "         5.13398667e-01,  6.05853388e-01,  6.15046194e-01,\n",
       "         6.19965093e-01,  5.70542298e-01,  5.75088838e-01,\n",
       "         6.15613432e-01,  6.44626916e-01,  5.98261460e-01,\n",
       "         6.04382179e-01,  5.50573271e-01,  6.56699622e-01,\n",
       "         5.80634728e-01,  5.51816199e-01,  6.47039056e-01,\n",
       "         6.03500723e-01,  3.66551970e-01,  6.60025738e-01,\n",
       "         5.70876373e-01,  3.82228077e-01,  4.81990493e-01,\n",
       "         4.74658981e-01,  4.14501522e-01,  6.19197746e-01,\n",
       "         3.88790859e-01,  3.58339076e-01,  6.11117730e-01,\n",
       "         1.54099520e-01,  3.95846199e-01,  2.21724086e-01,\n",
       "         3.45735152e-01, -2.71270723e-02,  3.57258228e-01,\n",
       "         2.82868294e-01,  1.49711504e-01,  1.30831810e-01,\n",
       "        -2.57749538e-01,  1.02301661e-01, -1.23101501e-01,\n",
       "         1.34543082e-01, -1.35109603e-01, -0.00000000e+00,\n",
       "        -2.99990551e-03, -2.21530325e-03, -1.02039198e-02,\n",
       "        -1.87202434e-02, -2.21515695e-02, -2.76908625e-02,\n",
       "        -3.28782453e-02, -3.31276682e-02, -7.74341383e-03,\n",
       "        -7.05305842e-02, -6.63495397e-02, -8.21068847e-02,\n",
       "        -1.00923643e-01, -1.03442143e-01, -1.09910007e-01,\n",
       "        -9.83617303e-02, -9.25635959e-02, -1.35106479e-01,\n",
       "        -1.36492102e-01, -1.53811589e-01, -1.68498382e-01,\n",
       "        -1.90917281e-01, -2.06873863e-01, -2.29635356e-01,\n",
       "        -2.48521032e-01, -2.21692984e-01, -2.54823509e-01,\n",
       "        -2.82275121e-01, -2.85199232e-01, -2.69454948e-01,\n",
       "        -3.00786321e-01, -3.21418279e-01, -3.22519194e-01,\n",
       "        -3.15024242e-01, -3.47668134e-01, -3.39544714e-01,\n",
       "        -3.71899934e-01, -3.69652210e-01, -3.93922231e-01,\n",
       "        -4.02321668e-01, -4.00669511e-01, -3.89668001e-01,\n",
       "        -4.03039649e-01, -4.18964772e-01, -3.97533877e-01,\n",
       "        -4.25246415e-01, -3.84509028e-01, -4.01513592e-01,\n",
       "        -3.40904373e-01, -3.38603992e-01, -4.29832802e-01,\n",
       "        -4.01958737e-01, -5.08281334e-01, -3.96217397e-01,\n",
       "        -4.29956556e-01, -2.82294868e-01, -2.69676760e-01,\n",
       "        -4.06323751e-01, -3.72770828e-01, -2.52911999e-01,\n",
       "        -4.82026000e-01, -3.26299578e-01, -2.43712559e-02,\n",
       "        -3.51177846e-01, -2.25150891e-02, -2.63870509e-01,\n",
       "        -2.32401819e-01, -1.56246242e-02, -5.64595981e-02,\n",
       "        -6.66588222e-02, -3.70160942e-02, -4.82699209e-01,\n",
       "        -9.73644092e-02, -1.26087095e-01, -3.09816684e-02,\n",
       "        -2.19926092e-03,  2.54947406e-01, -4.91889959e-02,\n",
       "         7.72106638e-02,  2.35654025e-01,  4.49303415e-01,\n",
       "         4.83446399e-01,  3.92518647e-01,  3.74788071e-01,\n",
       "         2.86569289e-01,  3.55192837e-01,  4.66997066e-01,\n",
       "         6.35438743e-01,  4.67651992e-01,  5.29236416e-01,\n",
       "         6.64943869e-01,  6.39720101e-01,  4.17307248e-01,\n",
       "         7.98885252e-01,  7.06581536e-01,  8.02575509e-01,\n",
       "         8.71954350e-01,  4.81280572e-01,  8.49732605e-01]])"
      ]
     },
     "execution_count": 10,
     "metadata": {},
     "output_type": "execute_result"
    }
   ],
   "source": [
    "X"
   ]
  },
  {
   "cell_type": "code",
   "execution_count": 11,
   "metadata": {},
   "outputs": [
    {
     "data": {
      "text/plain": [
       "(2, 300)"
      ]
     },
     "execution_count": 11,
     "metadata": {},
     "output_type": "execute_result"
    }
   ],
   "source": [
    "X.shape"
   ]
  },
  {
   "cell_type": "code",
   "execution_count": 12,
   "metadata": {},
   "outputs": [
    {
     "name": "stdout",
     "output_type": "stream",
     "text": [
      "iter 0, loss: 1.098448\n",
      "iter 1000, loss: 0.138707\n",
      "iter 2000, loss: 0.051328\n",
      "iter 3000, loss: 0.036728\n",
      "iter 4000, loss: 0.030677\n",
      "iter 5000, loss: 0.027261\n",
      "iter 6000, loss: 0.024955\n",
      "iter 7000, loss: 0.022969\n",
      "iter 8000, loss: 0.021505\n",
      "iter 9000, loss: 0.020393\n"
     ]
    }
   ],
   "source": [
    "\n",
    "Y = convert_labels(y, C)\n",
    "N = X.shape[1]\n",
    "eta = 1\n",
    "for i in range(10000):\n",
    "    ## Feedforward\n",
    "    Z1 = np.dot(W1.T, X) + b1\n",
    "    A1 = np.maximum(Z1, 0)\n",
    "    Z2 = np.dot(W2.T, A1) + b2\n",
    "    Yhat = softmax(Z2)\n",
    "    if i %1000 == 0:\n",
    "        # compute the loss: average cross-entropy loss\n",
    "        loss = cost(Y, Yhat)\n",
    "        print(\"iter %d, loss: %f\" %(i, loss))\n",
    "    # backpropagation\n",
    "    E2 = (Yhat - Y)/N\n",
    "    dw2 = A1@E2.T\n",
    "    db2 = np.sum(E2, axis=1, keepdims=True)\n",
    "    E1 = W2@E2\n",
    "    E1[Z1 <= 0] = 0\n",
    "    dw1 = X@E1.T\n",
    "    db1 = np.sum(E1, axis=1, keepdims=True)\n",
    "    \n",
    "    # Gradient Descent update\n",
    "    W1 += -eta*dw1\n",
    "    W2 += -eta*dw2\n",
    "    b1 += -eta*db1\n",
    "    b2 += -eta*db2"
   ]
  },
  {
   "cell_type": "code",
   "execution_count": 15,
   "metadata": {},
   "outputs": [
    {
     "name": "stdout",
     "output_type": "stream",
     "text": [
      "(3, 300)\n",
      "training accuracy: 99.33 %\n"
     ]
    }
   ],
   "source": [
    "Z1 = np.dot(W1.T, X) + b1\n",
    "A1 = np.maximum(Z1, 0)\n",
    "Z2 = np.dot(W2.T, A1) + b2\n",
    "predicted_class = np.argmax(Z2, axis=0)\n",
    "print(Z2.shape)\n",
    "print('training accuracy: %.2f %%' % (100*np.mean(predicted_class == y)))"
   ]
  },
  {
   "cell_type": "code",
   "execution_count": null,
   "metadata": {},
   "outputs": [],
   "source": [
    "import numpy as np\n",
    "import random\n",
    "\n",
    "class MutilayerPerceptron:\n",
    "    classifical_flower = {\n",
    "        1: ['Iris-setosa', np.array([1,0,0])],\n",
    "        2: ['Iris-versicolor', np.array([0,1,0])],\n",
    "        3: ['Iris-virginica', np.array([0,0,1])]\n",
    "    }\n",
    "    \n",
    "    def __init__(self, params=None):\n",
    "        self.output = None\n",
    "        self.output_layer1 = None\n",
    "        self.output_layer2 = None\n",
    "        if params is None:\n",
    "            self.inputLayer = 4\n",
    "            self.hiddenLayer = 5\n",
    "            self.outputLayer = 3\n",
    "            self.learningRate = 0.0001\n",
    "            self.max_epochs = 600\n",
    "            self.BiasHiddenValue = -1\n",
    "            self.BiasOutputValue = -1\n",
    "        else:\n",
    "            self.inputLayer = params['InputLayer']\n",
    "            self.hiddenLayer = params['HiddenLayer']\n",
    "            self.outputLayer = params['OutputLayer']\n",
    "            self.learningRate = params['LearningRate']\n",
    "            self.max_epochs = params['max_epochs']\n",
    "            self.BiasHiddenValue = params['BiasHiddenValue']\n",
    "            self.BiasOutputValue = params['BiasOutputValue']\n",
    "        \n",
    "        # Initialize weights and biases\n",
    "        self.weight_hidden = np.array([[random.uniform(-1, 1) for x in range(self.hiddenLayer)] for i in range(self.inputLayer)])\n",
    "        self.weight_output = np.array([[random.uniform(-1, 1) for x in range(self.outputLayer)] for i in range(self.hiddenLayer)])\n",
    "\n",
    "        self.BIAS_hidden = np.array([self.BiasHiddenValue for i in range(self.hiddenLayer)])\n",
    "        self.BIAS_output = np.array([self.BiasOutputValue for i in range(self.outputLayer)])\n",
    "        self.classes_number = 3\n",
    "    \n",
    "    def softmax(self, Z):\n",
    "        e_Z = np.exp(Z - np.max(Z, axis=0, keepdims=True))\n",
    "        return e_Z / e_Z.sum(axis=0)\n",
    "    \n",
    "    def cost(self, Y, Y_hat):\n",
    "        return -np.sum(Y * np.log(Y_hat)) / len(Y)\n",
    "    \n",
    "    def predict(self, X, y=None):\n",
    "        self.output_layer1 = X @ self.weight_hidden + self.BIAS_hidden\n",
    "        A1 = np.maximum(0, self.output_layer1)\n",
    "        self.output_layer2 = A1 @ self.weight_output + self.BIAS_output\n",
    "        y_hat = self.softmax(self.output_layer2)\n",
    "        y_hat = np.argmax(y_hat.T, axis=0) + 1\n",
    "        acc = np.mean(y_hat == y) * 100\n",
    "        return acc\n",
    "    \n",
    "    def fit(self, X, y, xval, yval):\n",
    "        count_epoch = 1\n",
    "        parame = []\n",
    "        while count_epoch <= self.max_epochs:\n",
    "            total_loss = 0\n",
    "            for idx, inputs in enumerate(X):\n",
    "                # Stage 1: Forward Propagation\n",
    "                self.output_layer1 = inputs @ self.weight_hidden + self.BIAS_hidden\n",
    "                A1 = np.maximum(0, self.output_layer1)\n",
    "                self.output_layer2 = A1 @ self.weight_output + self.BIAS_output\n",
    "                y_hat = self.softmax(self.output_layer2)\n",
    "                # print('++++++++++++')\n",
    "                # print(self.classifical_flower[int(y[idx])])\n",
    "                self.output = self.classifical_flower[int(y[idx])][1]\n",
    "                # print('++++++++++++')\n",
    "                # Calculation Loss\n",
    "                total_loss += self.cost(self.output, y_hat)\n",
    "                \n",
    "                # Stage 2: Backprop\n",
    "                # Stage 2: Backpropagation\n",
    "                E_layer2 = (1/len(inputs)) * (y_hat - self.output)\n",
    "                dw2 = A1.reshape(-1, 1) @ E_layer2.reshape(1, -1)\n",
    "                db2 = np.sum(E_layer2, axis=0)\n",
    "                \n",
    "                E_layer1 = self.weight_output @ E_layer2\n",
    "                E_layer1[self.output_layer1 <= 0] = 0 \n",
    "                dw1 = inputs.reshape(-1, 1) @ E_layer1.reshape(1, -1)\n",
    "                db1 = np.sum(E_layer1, axis=0)\n",
    "                \n",
    "                # Update gradient descent\n",
    "                self.weight_hidden -= self.learningRate * dw1\n",
    "                self.BIAS_hidden = self.BIAS_hidden.astype(np.float64)\n",
    "                self.BIAS_hidden -= self.learningRate * db1\n",
    "                self.weight_output -= self.learningRate * dw2\n",
    "                self.BIAS_output = self.BIAS_output.astype(np.float64)\n",
    "                self.BIAS_output -= self.learningRate * db2\n",
    "                \n",
    "            print(f'Epoch {count_epoch}: Loss {total_loss / X.shape[1]}: Train ACC = {self.predict(X, y)}: Val ACC = {self.predict(xval, yval)}\\n')\n",
    "            parame.append([self.weight_hidden, self.BIAS_hidden, self.weight_output, self.BIAS_output])\n",
    "            count_epoch += 1\n",
    "        # Return parameters\n",
    "        # return parame"
   ]
  },
  {
   "cell_type": "code",
   "execution_count": null,
   "metadata": {},
   "outputs": [],
   "source": []
  }
 ],
 "metadata": {
  "kernelspec": {
   "display_name": "Python 3",
   "language": "python",
   "name": "python3"
  },
  "language_info": {
   "codemirror_mode": {
    "name": "ipython",
    "version": 3
   },
   "file_extension": ".py",
   "mimetype": "text/x-python",
   "name": "python",
   "nbconvert_exporter": "python",
   "pygments_lexer": "ipython3",
   "version": "3.10.4"
  },
  "orig_nbformat": 4
 },
 "nbformat": 4,
 "nbformat_minor": 2
}
